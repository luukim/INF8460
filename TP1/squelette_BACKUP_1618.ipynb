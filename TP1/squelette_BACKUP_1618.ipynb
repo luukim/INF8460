{
 "cells": [
  {
   "cell_type": "markdown",
   "metadata": {},
   "source": [
    "## École Polytechnique de Montréal\n",
    "## Département Génie Informatique et Génie Logiciel\n",
    "\n",
    "## INF8460 – Traitement automatique de la langue naturelle - TP1"
   ]
  },
  {
   "cell_type": "markdown",
   "metadata": {},
   "source": [
    "## Objectifs d'apprentissage: \n",
    "\n",
    "•\tSavoir accéder à un corpus, le nettoyer et effectuer divers pré-traitements sur les données\n",
    "•\tSavoir effectuer une classification automatique des textes pour l’analyse de sentiments\n",
    "•\tEvaluer l’impact des pré-traitements sur les résultats obtenus\n"
   ]
  },
  {
   "cell_type": "markdown",
   "metadata": {},
   "source": [
    "## Équipe et contributions \n",
    "Veuillez indiquer la contribution effective de chaque membre de l'équipe en pourcentage et en indiquant les modules ou questions sur lesquelles chaque membre a travaillé\n"
   ]
  },
  {
   "cell_type": "markdown",
   "metadata": {},
   "source": [
    "Nom Étudiant 1: Luu Thien-Kim (1834378) 33.33%\n",
    "\n",
    "Nom Étudiant 2: Mellouk Souhaila (1835144) 33.33%\n",
    "\n",
    "Nom Étudiant 3: Younes Mourad (1832387) 33.33%\n",
    "\n",
    "Nous avons tous travaillé ensemble sur chaque question"
   ]
  },
  {
   "cell_type": "markdown",
   "metadata": {
    "heading_collapsed": true
   },
   "source": [
    "## Librairies externes"
   ]
  },
  {
   "cell_type": "code",
   "execution_count": 1,
   "metadata": {
    "hidden": true
   },
   "outputs": [],
   "source": [
    "import os\n",
    "import pandas as pd\n",
    "from typing import List, Literal, Tuple"
   ]
  },
  {
   "cell_type": "markdown",
   "metadata": {
    "heading_collapsed": true
   },
   "source": [
    "## Valeurs globales"
   ]
  },
  {
   "cell_type": "code",
   "execution_count": 2,
   "metadata": {
    "hidden": true
   },
   "outputs": [],
   "source": [
    "data_path = \"data\"\n",
    "output_path = \"output\""
   ]
  },
  {
   "cell_type": "markdown",
   "metadata": {
    "heading_collapsed": true
   },
   "source": [
    "## Données"
   ]
  },
  {
   "cell_type": "code",
   "execution_count": 3,
   "metadata": {
    "hidden": true
   },
   "outputs": [],
   "source": [
    "def read_data(path: str) -> Tuple[List[str], List[bool], List[Literal[\"M\", \"W\"]]]:\n",
    "    data = pd.read_csv(path)\n",
    "    inputs = data[\"response_text\"].tolist()\n",
    "    labels = (data[\"sentiment\"] == \"Positive\").tolist()\n",
    "    gender = data[\"op_gender\"].tolist()\n",
    "    return inputs, labels, gender"
   ]
  },
  {
   "cell_type": "code",
   "execution_count": 4,
   "metadata": {
    "hidden": true
   },
   "outputs": [],
   "source": [
    "train_data = read_data(os.path.join(data_path, \"train.csv\"))\n",
    "test_data = read_data(os.path.join(data_path, \"test.csv\"))\n",
    "\n",
    "train_data = ([text.lower() for text in train_data[0]], train_data[1], train_data[2])\n",
    "test_data = ([text.lower() for text in test_data[0]], test_data[1], test_data[2])"
   ]
  },
  {
   "cell_type": "code",
   "execution_count": 5,
   "metadata": {},
   "outputs": [],
   "source": [
    "def getSentiment(data):\n",
    "    sentimentList = []\n",
    "    for sentiment in data:\n",
    "        if sentiment:\n",
    "            sentimentList.append(\"Positive\")\n",
    "        else:\n",
    "            sentimentList.append(\"Negative\")\n",
    "    return sentimentList"
   ]
  },
  {
   "cell_type": "markdown",
   "metadata": {},
   "source": [
    "## 1. Pré-traitement et Exploration des données"
   ]
  },
  {
   "cell_type": "markdown",
   "metadata": {
    "heading_collapsed": true
   },
   "source": [
    "### Lecture et prétraitement"
   ]
  },
  {
   "cell_type": "markdown",
   "metadata": {
    "hidden": true
   },
   "source": [
    "Dans cette section, vous devez compléter la fonction preprocess_corpus qui doit être appelée sur les fichiers train.csv et test.csv. La fonction preprocess_corpus appellera les différentes fonctions créées ci-dessous. Les différents fichiers de sortie doivent se retrouver dans le répertoire output.  Chacune des sous-questions suivantes devraient être une ou plusieurs fonctions."
   ]
  },
  {
   "cell_type": "code",
   "execution_count": 6,
   "metadata": {},
   "outputs": [],
   "source": [
    "train_path = os.path.join(data_path, \"train.csv\")\n",
    "test_path = os.path.join(data_path, \"test.csv\")\n",
    "\n",
    "train_phrases_path = os.path.join(output_path, \"train_phrases.csv\")\n",
    "test_phrases_path = os.path.join(output_path, \"test_phrases.csv\")"
   ]
  },
  {
   "cell_type": "code",
   "execution_count": 7,
   "metadata": {},
   "outputs": [],
   "source": [
    "def lowerCases(data):\n",
    "    return ([text.lower() for text in data[0]], data[1], data[2])"
   ]
  },
  {
   "cell_type": "markdown",
   "metadata": {
    "heading_collapsed": true,
    "hidden": true
   },
   "source": [
    "#### 1) Segmentez chaque corpus en phrases, et stockez-les dans un fichier `nomcorpus`_phrases.csv (une phrase par ligne)"
   ]
  },
  {
   "cell_type": "code",
   "execution_count": 8,
   "metadata": {
    "hidden": true
   },
   "outputs": [
    {
     "name": "stderr",
     "output_type": "stream",
     "text": [
      "[nltk_data] Downloading package punkt to\n",
      "[nltk_data]     /Users/mouradyounes/nltk_data...\n",
      "[nltk_data]   Package punkt is already up-to-date!\n",
      "[nltk_data] Downloading package wordnet to\n",
      "[nltk_data]     /Users/mouradyounes/nltk_data...\n",
      "[nltk_data]   Package wordnet is already up-to-date!\n"
     ]
    }
   ],
   "source": [
    "import nltk\n",
    "nltk.download(\"punkt\") \n",
    "nltk.download(\"wordnet\")\n",
    "import csv\n",
    "\n",
    "def segmentSentences(path) :\n",
    "    data = lowerCases(read_data(path))\n",
    "    corpus = data[0]\n",
    "    sentiment = getSentiment(data[1])\n",
    "    if not os.path.isdir(output_path) :\n",
    "        try:\n",
    "            os.mkdir(output_path)\n",
    "        except OSError:\n",
    "            print (\"Creation of the directory %s failed\" % path)\n",
    "        else:\n",
    "            print (\"Successfully created the directory %s \" % path)\n",
    "    newFilePath = output_path + '/' + os.path.splitext(os.path.basename(path))[0] + \"_phrases.csv\"\n",
    "    file = open(newFilePath, \"w\")\n",
    "    with open(newFilePath, \"w\") as f: \n",
    "        f.write(\"response_text\" + ',' + \"sentiment\" + ',' + \"op_gender\" +'\\n')\n",
    "        for i in range(len(corpus)) :\n",
    "            sentences = nltk.sent_tokenize(corpus[i])\n",
    "            for sentence in sentences:\n",
    "                sentence = sentence.replace('\"', '\"\"').replace('\"', '\"\"')\n",
    "                f.write('\"'+ sentence +'\"' + ',' + '\"' +sentiment[i]+ '\"'+ ',' + '\"'+data[2][i] + '\"\\n')\n",
    "                \n",
    "    return newFilePath\n"
   ]
  },
  {
   "cell_type": "code",
   "execution_count": 9,
   "metadata": {},
   "outputs": [
    {
     "data": {
      "text/plain": [
       "'output/test_phrases.csv'"
      ]
     },
     "execution_count": 9,
     "metadata": {},
     "output_type": "execute_result"
    }
   ],
   "source": [
    "segmentSentences(train_path)\n",
    "segmentSentences(test_path)"
   ]
  },
  {
   "cell_type": "markdown",
   "metadata": {
    "hidden": true
   },
   "source": [
    "#### 2) Normalisez chaque corpus au moyen d’expressions régulières en annotant les négations avec _Neg L’annotation de la négation doit ajouter un suffixe _NEG à chaque mot qui apparait entre une négation et un signe de ponctuation qui identifie une clause. Exemple : \n",
    "No one enjoys it.  no one_NEG enjoys_NEG it_NEG .\n",
    "\n",
    "I don’t think I will enjoy it, but I might.  i don’t think_NEG i_NEG will_NEG enjoy_NEG it_NEG, but i might."
   ]
  },
  {
   "cell_type": "code",
   "execution_count": 10,
   "metadata": {},
   "outputs": [],
   "source": [
    "def getPath(path) :\n",
    "    if \"train\" in path :\n",
    "        path = train_path\n",
    "    elif \"test\" in path :\n",
    "        path = test_path\n",
    "        \n",
    "    return path"
   ]
  },
  {
   "cell_type": "code",
   "execution_count": 11,
   "metadata": {
    "hidden": true
   },
   "outputs": [],
   "source": [
    "import re\n",
    "\n",
    "def normalize(path) :\n",
    "    with open(path, \"r\") as f :\n",
    "        data = list(f)\n",
    "    \n",
    "    newFilePath = output_path + '/' + os.path.splitext(os.path.basename(getPath(path)))[0] + \"_negation.csv\"\n",
    "    file = open(newFilePath, \"w\")\n",
    "    with open(newFilePath, \"w\") as f:\n",
    "        for sentence in data:\n",
    "            match = re.sub(\"(?i)(?<=not |n't | no )(.*?[,.(?!;]+)\", lambda m: m.group(1).replace(\" \", \"_NEG \")\n",
    "                           .replace(\".\", \"_NEG.\").replace(\",\", \"_NEG,\").replace(\"?\", \"_NEG?\").replace(\"!\", \"_NEG!\")\n",
    "                           .replace(\"(\", \"_NEG(\").replace(\";\", \"_NEG;\"), sentence)\n",
    "            second_match = re.sub(\"(?<=No |NO )(.*?[,.(?!;]+)\", lambda m: m.group(1).replace(\" \", \"_NEG \")\n",
    "                           .replace(\".\", \"_NEG.\").replace(\",\", \"_NEG,\").replace(\"?\", \"_NEG?\").replace(\"!\", \"_NEG!\")\n",
    "                           .replace(\"(\", \"_NEG(\").replace(\";\", \"_NEG;\"), match)\n",
    "            f.write(match)     \n",
    "    return newFilePath\n",
    "            "
   ]
  },
  {
   "cell_type": "code",
   "execution_count": 12,
   "metadata": {},
   "outputs": [
    {
     "data": {
      "text/plain": [
       "'output/test_negation.csv'"
      ]
     },
     "execution_count": 12,
     "metadata": {},
     "output_type": "execute_result"
    }
   ],
   "source": [
    "normalize(train_phrases_path)\n",
    "normalize(test_phrases_path)"
   ]
  },
  {
   "cell_type": "markdown",
   "metadata": {
    "hidden": true
   },
   "source": [
    "#### 3) Segmentez chaque phrase en mots (tokenisation) et stockez-les dans un fichier `nomcorpus`_mots.csv. (Une phrase par ligne, chaque token séparé par un espace, il n’est pas nécessaire de stocker la phrase non segmentée ici) ;"
   ]
  },
  {
   "cell_type": "code",
   "execution_count": 13,
   "metadata": {
    "hidden": true
   },
   "outputs": [],
   "source": [
    "def tokenize(path) :\n",
    "    sentences = []\n",
    "    \n",
    "    data = read_data(path)\n",
    "    corpus = data[0]        \n",
    "    \n",
    "    sentiment = getSentiment(data[1])\n",
    "    newFilePath = output_path + '/' + os.path.splitext(os.path.basename(getPath(path)))[0] + \"_mots.csv\"\n",
    "    file = open(newFilePath, \"w\")\n",
    "    with open(newFilePath, \"w\") as f: \n",
    "        f.write(\"response_text\" + ',' + \"sentiment\" + ',' + \"op_gender\" +'\\n')\n",
    "        for i in range(len(corpus)) :\n",
    "            listTokens = nltk.word_tokenize(corpus[i])\n",
    "            tokens = ' '.join(listTokens)\n",
    "            f.write('\"' + tokens + '\"' + ',' + '\"' + sentiment[i]+ '\"'+ ',' + '\"' + data[2][i] + '\"\\n')\n",
    "                \n",
    "    return newFilePath"
   ]
  },
  {
   "cell_type": "code",
   "execution_count": 14,
   "metadata": {},
   "outputs": [],
   "source": [
    "tokenize(train_phrases_path)\n",
    "tokenize(test_phrases_path)\n",
    "\n",
    "train_mots_path = os.path.join(output_path, \"train_mots.csv\")\n",
    "test_mots_path = os.path.join(output_path, \"test_mots.csv\")"
   ]
  },
  {
   "cell_type": "markdown",
   "metadata": {
    "hidden": true
   },
   "source": [
    "#### 4) Lemmatisez les mots et stockez les lemmes dans un fichier `nomcorpus`_lemmes.csv (une phrase par ligne, les lemmes séparés par un espace) ;"
   ]
  },
  {
   "cell_type": "code",
   "execution_count": 15,
   "metadata": {
    "hidden": true
   },
   "outputs": [],
   "source": [
    "def lemmatize(path) :\n",
    "    with open(path, \"r\") as f :\n",
    "        data = list(f)\n",
    "        \n",
    "    newFilePath = output_path + '/' + os.path.splitext(os.path.basename(getPath(path)))[0] + \"_lemmes.csv\"\n",
    "    lemmzer = nltk.WordNetLemmatizer()\n",
    "    \n",
    "    file = open(newFilePath, \"w\")\n",
    "    with open(newFilePath, \"w\") as f: \n",
    "        for sentences in data :\n",
    "            lemmes = [lemmzer.lemmatize(token) for token in sentences.split()]\n",
    "            sentences = ' '.join(lemmes)\n",
    "            f.write(sentences+'\\n')\n",
    "                \n",
    "    return newFilePath"
   ]
  },
  {
   "cell_type": "code",
   "execution_count": 16,
   "metadata": {
    "scrolled": false
   },
   "outputs": [
    {
     "data": {
      "text/plain": [
       "'output/test_lemmes.csv'"
      ]
     },
     "execution_count": 16,
     "metadata": {},
     "output_type": "execute_result"
    }
   ],
   "source": [
    "lemmatize(train_mots_path)\n",
    "lemmatize(test_mots_path)"
   ]
  },
  {
   "cell_type": "markdown",
   "metadata": {
    "hidden": true
   },
   "source": [
    "#### 5) Retrouvez la racine des mots (stemming) en utilisant nltk.PorterStemmer(). Stockez-les dans un fichier `nomcorpus`_stems.csv (une phrase par ligne, les racines séparées par une espace) ;"
   ]
  },
  {
   "cell_type": "code",
   "execution_count": 17,
   "metadata": {
    "hidden": true
   },
   "outputs": [],
   "source": [
    "def stemmize(path) :    \n",
    "\n",
    "    data = read_data(path)\n",
    "    corpus = data[0]        \n",
    "    sentiment = getSentiment(data[1])\n",
    "        \n",
    "    path = getPath(path)\n",
    "    newFilePath = output_path + '/' + os.path.splitext(os.path.basename(path))[0] + \"_stems.csv\"\n",
    "    \n",
    "    stemmer = nltk.PorterStemmer()\n",
    "    \n",
    "    file = open(newFilePath, \"w\")\n",
    "    with open(newFilePath, \"w\") as f:\n",
    "        f.write(\"response_text\" + ',' + \"sentiment\" + ',' + \"op_gender\" +'\\n')\n",
    "        for i in range(len(corpus)) :\n",
    "            stems = [stemmer.stem(token) for token in corpus[i].split()]\n",
    "            sentences = ' '.join(stems)\n",
    "            f.write('\"' + sentences + '\"' + ',' + '\"' + sentiment[i]+ '\"'+ ',' + '\"' + data[2][i] + '\"\\n')\n",
    "                \n",
    "    return newFilePath\n",
    "    "
   ]
  },
  {
   "cell_type": "code",
   "execution_count": 18,
   "metadata": {},
   "outputs": [
    {
     "data": {
      "text/plain": [
       "'output/test_stems.csv'"
      ]
     },
     "execution_count": 18,
     "metadata": {},
     "output_type": "execute_result"
    }
   ],
   "source": [
    "stemmize(train_mots_path)\n",
    "stemmize(test_mots_path)"
   ]
  },
  {
   "cell_type": "markdown",
   "metadata": {
    "heading_collapsed": true,
    "hidden": true
   },
   "source": [
    "#### 6) Ecrivez une fonction qui supprime les mots outils (stopwords) du corpus. Vous devez utiliser la liste de stopwords de NLTK ;"
   ]
  },
  {
   "cell_type": "code",
   "execution_count": 19,
   "metadata": {
    "hidden": true
   },
   "outputs": [
    {
     "name": "stderr",
     "output_type": "stream",
     "text": [
      "[nltk_data] Downloading package stopwords to\n",
      "[nltk_data]     /Users/mouradyounes/nltk_data...\n",
      "[nltk_data]   Package stopwords is already up-to-date!\n"
     ]
    }
   ],
   "source": [
    "nltk.download(\"stopwords\")\n",
    "from nltk.corpus import stopwords\n",
    "stopwords.words(\"english\")\n",
    "\n",
    "def deleteStopWords(path) :\n",
    "\n",
    "    data = read_data(path)\n",
    "    corpus = data[0]        \n",
    "    sentiment = getSentiment(data[1])\n",
    "        \n",
    "    path = getPath(path)\n",
    "    newFilePath = output_path + '/' + os.path.splitext(os.path.basename(path))[0] + \"_stopWords.csv\"\n",
    "    stopwords_english = set(stopwords.words(\"english\"))\n",
    "    \n",
    "    file = open(newFilePath, \"w\")\n",
    "    with open(newFilePath, \"w\") as f: \n",
    "        f.write(\"response_text\" + ',' + \"sentiment\" + ',' + \"op_gender\" +'\\n')\n",
    "        for i in range(len(corpus)) :\n",
    "                newSentence = [token for token in nltk.word_tokenize(corpus[i]) if token not in stopwords_english]\n",
    "                sentences = ' '.join(newSentence)\n",
    "                if sentences == \"\" :\n",
    "                    sentences = \" \"\n",
    "                f.write('\"' + sentences + '\"' + ',' + '\"' + sentiment[i]+ '\"'+ ',' + '\"' + data[2][i] + '\"\\n')\n",
    "                \n",
    "    return newFilePath\n",
    "    "
   ]
  },
  {
   "cell_type": "code",
   "execution_count": 20,
   "metadata": {},
   "outputs": [
    {
     "data": {
      "text/plain": [
       "'output/test_stopWords.csv'"
      ]
     },
     "execution_count": 20,
     "metadata": {},
     "output_type": "execute_result"
    }
   ],
   "source": [
    "deleteStopWords(train_mots_path)\n",
    "deleteStopWords(test_mots_path)"
   ]
  },
  {
   "cell_type": "markdown",
   "metadata": {
    "hidden": true
   },
   "source": [
    "\n",
    "#### 7) Écrivez une fonction preprocess_corpus(corpus) qui prend un corpus brut stocké dans un fichier.csv, effectue les étapes précédentes, puis stocke le résultat de ces différentes opérations dans un fichier corpus _norm.csv"
   ]
  },
  {
   "cell_type": "code",
   "execution_count": 21,
   "metadata": {
    "hidden": true
   },
   "outputs": [],
   "source": [
    "from shutil import copyfile\n",
    "\n",
    "def preprocess_corpus(input_file: str, output_file: str) :\n",
    "    data = read_data(input_file)\n",
    "    results = deleteStopWords(stemmize(lemmatize(tokenize(normalize(segmentSentences(input_file))))))\n",
    "    copyfile(results, output_file)"
   ]
  },
  {
   "cell_type": "code",
   "execution_count": 22,
   "metadata": {
    "hidden": true
   },
   "outputs": [],
   "source": [
    "preprocess_corpus(\n",
    "   os.path.join(data_path, \"train.csv\"), os.path.join(output_path, \"train_norm.csv\")\n",
    ")\n",
    "preprocess_corpus(\n",
    "   os.path.join(data_path, \"test.csv\"), os.path.join(output_path, \"test_norm.csv\")\n",
    ")"
   ]
  },
  {
   "cell_type": "markdown",
   "metadata": {
    "heading_collapsed": true
   },
   "source": [
    "### Exploration des données"
   ]
  },
  {
   "cell_type": "markdown",
   "metadata": {
    "heading_collapsed": true,
    "hidden": true
   },
   "source": [
    "#### 1)"
   ]
  },
  {
   "cell_type": "markdown",
   "metadata": {
    "hidden": true
   },
   "source": [
    "Complétez les fonctions retournant les informations suivantes (une fonction par information, chaque fonction prenant en argument un corpus composé d'une liste de phrases segmentées en tokens(tokenization)) ou une liste de genres et une liste de sentiments:"
   ]
  },
  {
   "cell_type": "code",
<<<<<<< HEAD
   "execution_count": 71,
=======
   "execution_count": 23,
>>>>>>> 99182b5b5e146978021f80bf5b06cc862cc977f9
   "metadata": {},
   "outputs": [],
   "source": [
    "corpus = [[\"I\", \"do\", \"not\", \"agree_NEG\", \"with_NEG\", \"this_NEG!\", \"I\", \"prefer\", \"the\", \"other\", \"option\"],\n",
    "           [\"I\", \"really\", \"like\", \"that\", \"new\", \"mbp16\", \"Mourad\", \"made\", \"a\", \"good\", \"choice\"],\n",
    "           [\"I\", \"don't\", \"think_NEG\", \"that_NEG.\", \"I\", \"prefer\", \"the\", \"mbp13\"]]"
   ]
  },
  {
   "cell_type": "code",
<<<<<<< HEAD
   "execution_count": 72,
=======
   "execution_count": 24,
>>>>>>> 99182b5b5e146978021f80bf5b06cc862cc977f9
   "metadata": {},
   "outputs": [],
   "source": [
    "#Return if the corpus is tokenized or not\n",
    "def isTokenized(corpus) :\n",
    "    for sentences in corpus :\n",
    "        for sentence in corpus :\n",
    "            for l in sentence :\n",
    "                if ' ' in l :\n",
    "                    return 0\n",
    "    return 1"
   ]
  },
  {
   "cell_type": "code",
<<<<<<< HEAD
   "execution_count": 73,
=======
   "execution_count": 25,
>>>>>>> 99182b5b5e146978021f80bf5b06cc862cc977f9
   "metadata": {},
   "outputs": [],
   "source": [
    "#Return the corpus as a list of documents, that are not tokenizated, but segmented in sentences\n",
    "def getListOfSentences(corpus):\n",
    "    listOfDocs = []\n",
    "    listOfTokens = []\n",
    "    if isTokenized(corpus) :\n",
    "        for sentences in corpus :\n",
    "            for token in sentences :\n",
    "                listOfTokens.append(token)\n",
    "            s = ' '.join(listOfTokens)\n",
    "            s = nltk.sent_tokenize(s)\n",
    "            listOfDocs.append(s)\n",
    "            listOfTokens = []\n",
    "    return listOfDocs"
   ]
  },
  {
   "cell_type": "code",
<<<<<<< HEAD
   "execution_count": 74,
=======
   "execution_count": 26,
>>>>>>> 99182b5b5e146978021f80bf5b06cc862cc977f9
   "metadata": {},
   "outputs": [
    {
     "data": {
      "text/plain": [
       "[['I do not agree_NEG with_NEG this_NEG!', 'I prefer the other option'],\n",
       " ['I really like that new mbp16 Mourad made a good choice'],\n",
       " [\"I don't think_NEG that_NEG.\", 'I prefer the mbp13']]"
      ]
     },
<<<<<<< HEAD
     "execution_count": 74,
=======
     "execution_count": 26,
>>>>>>> 99182b5b5e146978021f80bf5b06cc862cc977f9
     "metadata": {},
     "output_type": "execute_result"
    }
   ],
   "source": [
    "getListOfSentences(corpus)"
   ]
  },
  {
   "cell_type": "markdown",
   "metadata": {
    "hidden": true
   },
   "source": [
    "##### a. Le nombre total de tokens (mots non distincts)"
   ]
  },
  {
   "cell_type": "code",
<<<<<<< HEAD
   "execution_count": 75,
=======
   "execution_count": 27,
>>>>>>> 99182b5b5e146978021f80bf5b06cc862cc977f9
   "metadata": {
    "hidden": true
   },
   "outputs": [],
   "source": [
    "def getNumberOfTokens(corpus):\n",
    "    corpus = getListOfSentences(corpus)\n",
    "    count = 0\n",
    "    for sentences in corpus :\n",
    "        for sentence in sentences :\n",
    "            count = count + len(nltk.word_tokenize(sentence))\n",
    "    return count"
   ]
  },
  {
   "cell_type": "code",
<<<<<<< HEAD
   "execution_count": 76,
=======
   "execution_count": 28,
>>>>>>> 99182b5b5e146978021f80bf5b06cc862cc977f9
   "metadata": {},
   "outputs": [
    {
     "data": {
      "text/plain": [
       "33"
      ]
     },
<<<<<<< HEAD
     "execution_count": 76,
=======
     "execution_count": 28,
>>>>>>> 99182b5b5e146978021f80bf5b06cc862cc977f9
     "metadata": {},
     "output_type": "execute_result"
    }
   ],
   "source": [
    "getNumberOfTokens(corpus)"
   ]
  },
  {
   "cell_type": "markdown",
   "metadata": {
    "hidden": true
   },
   "source": [
    "##### b. Le nombre total de types"
   ]
  },
  {
   "cell_type": "code",
<<<<<<< HEAD
   "execution_count": 77,
=======
   "execution_count": 29,
>>>>>>> 99182b5b5e146978021f80bf5b06cc862cc977f9
   "metadata": {
    "hidden": true
   },
   "outputs": [],
   "source": [
    "def getNumberOfTypes(corpus):\n",
    "    corpus = getListOfSentences(corpus)\n",
    "    listOfTokens = []\n",
    "    for sentences in corpus :\n",
    "        for sentence in sentences :\n",
    "            tokenList = nltk.word_tokenize(sentence)\n",
    "            for token in tokenList :\n",
    "                listOfTokens.append(token)\n",
    "    listOfTypes = list(dict.fromkeys(listOfTokens))  \n",
    "    return len(listOfTypes)"
   ]
  },
  {
   "cell_type": "code",
<<<<<<< HEAD
   "execution_count": 78,
=======
   "execution_count": 30,
>>>>>>> 99182b5b5e146978021f80bf5b06cc862cc977f9
   "metadata": {},
   "outputs": [
    {
     "data": {
      "text/plain": [
       "26"
      ]
     },
<<<<<<< HEAD
     "execution_count": 78,
=======
     "execution_count": 30,
>>>>>>> 99182b5b5e146978021f80bf5b06cc862cc977f9
     "metadata": {},
     "output_type": "execute_result"
    }
   ],
   "source": [
    "getNumberOfTypes(corpus)"
   ]
  },
  {
   "cell_type": "markdown",
   "metadata": {
    "hidden": true
   },
   "source": [
    "##### c. Le nombre total de phrases avec négation"
   ]
  },
  {
   "cell_type": "code",
<<<<<<< HEAD
   "execution_count": 79,
=======
   "execution_count": 31,
>>>>>>> 99182b5b5e146978021f80bf5b06cc862cc977f9
   "metadata": {
    "hidden": true
   },
   "outputs": [],
   "source": [
    "def getNumberOfNeg(corpus) :\n",
    "    corpus = getListOfSentences(corpus)\n",
    "    numberOfNegativeSentences = 0;\n",
    "    for sentences in corpus:\n",
    "        for sentence in sentences:\n",
    "            if \"_NEG\" in sentence:\n",
    "                numberOfNegativeSentences = numberOfNegativeSentences + 1\n",
    "    return numberOfNegativeSentences"
   ]
  },
  {
   "cell_type": "code",
<<<<<<< HEAD
   "execution_count": 80,
=======
   "execution_count": 32,
>>>>>>> 99182b5b5e146978021f80bf5b06cc862cc977f9
   "metadata": {},
   "outputs": [
    {
     "data": {
      "text/plain": [
       "2"
      ]
     },
<<<<<<< HEAD
     "execution_count": 80,
=======
     "execution_count": 32,
>>>>>>> 99182b5b5e146978021f80bf5b06cc862cc977f9
     "metadata": {},
     "output_type": "execute_result"
    }
   ],
   "source": [
    "getNumberOfNeg(corpus)"
   ]
  },
  {
   "cell_type": "markdown",
   "metadata": {
    "hidden": true
   },
   "source": [
    "##### d. Le ratio token/type"
   ]
  },
  {
   "cell_type": "code",
<<<<<<< HEAD
   "execution_count": 81,
=======
   "execution_count": 33,
>>>>>>> 99182b5b5e146978021f80bf5b06cc862cc977f9
   "metadata": {
    "hidden": true
   },
   "outputs": [],
   "source": [
    "def getRatioTokenType(corpus):\n",
    "    return float(getNumberOfTokens(corpus)/getNumberOfTypes(corpus))"
   ]
  },
  {
   "cell_type": "code",
<<<<<<< HEAD
   "execution_count": 82,
=======
   "execution_count": 34,
>>>>>>> 99182b5b5e146978021f80bf5b06cc862cc977f9
   "metadata": {},
   "outputs": [
    {
     "data": {
      "text/plain": [
       "1.2692307692307692"
      ]
     },
<<<<<<< HEAD
     "execution_count": 82,
=======
     "execution_count": 34,
>>>>>>> 99182b5b5e146978021f80bf5b06cc862cc977f9
     "metadata": {},
     "output_type": "execute_result"
    }
   ],
   "source": [
    "getRatioTokenType(corpus)"
   ]
  },
  {
   "cell_type": "markdown",
   "metadata": {
    "hidden": true
   },
   "source": [
    "##### e. Le nombre total de lemmes distincts"
   ]
  },
  {
   "cell_type": "code",
<<<<<<< HEAD
   "execution_count": 83,
=======
   "execution_count": 35,
>>>>>>> 99182b5b5e146978021f80bf5b06cc862cc977f9
   "metadata": {
    "hidden": true
   },
   "outputs": [],
   "source": [
    "import nltk\n",
    "def getLemmesNumber(corpus):\n",
    "    corpus = getListOfSentences(corpus)\n",
    "    lemmzer = nltk.WordNetLemmatizer()\n",
    "    lemmesList = []\n",
    "    for sentences in corpus :\n",
    "        for sentence in sentences :\n",
    "            lemmes = [lemmzer.lemmatize(token) for token in sentence.split()]\n",
    "            for lemme in lemmes :  \n",
    "                lemmesList.append(lemme)\n",
    "    \n",
    "    lemmesList = list(dict.fromkeys(lemmesList))   \n",
    "    return len(lemmesList)"
   ]
  },
  {
   "cell_type": "code",
<<<<<<< HEAD
   "execution_count": 84,
=======
   "execution_count": 36,
>>>>>>> 99182b5b5e146978021f80bf5b06cc862cc977f9
   "metadata": {},
   "outputs": [
    {
     "data": {
      "text/plain": [
       "24"
      ]
     },
<<<<<<< HEAD
     "execution_count": 84,
=======
     "execution_count": 36,
>>>>>>> 99182b5b5e146978021f80bf5b06cc862cc977f9
     "metadata": {},
     "output_type": "execute_result"
    }
   ],
   "source": [
    "getLemmesNumber(corpus)"
   ]
  },
  {
   "cell_type": "markdown",
   "metadata": {
    "hidden": true
   },
   "source": [
    "##### f. Le nombre total de racines (stems) distinctes"
   ]
  },
  {
   "cell_type": "code",
<<<<<<< HEAD
   "execution_count": 85,
=======
   "execution_count": 37,
>>>>>>> 99182b5b5e146978021f80bf5b06cc862cc977f9
   "metadata": {
    "hidden": true
   },
   "outputs": [],
   "source": [
    "import nltk\n",
    "def getStemsNumber(corpus):\n",
    "    corpus = getListOfSentences(corpus)\n",
    "    stemmer = nltk.PorterStemmer()\n",
    "    stemsList = []\n",
    "    for sentences in corpus :\n",
    "        for sentence in sentences :\n",
    "            stems = [stemmer.stem(token) for token in sentence.split()]\n",
    "            for stem in stems :\n",
    "                stemsList.append(stem)\n",
    "    stemsList = list(dict.fromkeys(stemsList))     \n",
    "    return len(stemsList)"
   ]
  },
  {
   "cell_type": "code",
<<<<<<< HEAD
   "execution_count": 86,
=======
   "execution_count": 38,
>>>>>>> 99182b5b5e146978021f80bf5b06cc862cc977f9
   "metadata": {},
   "outputs": [
    {
     "data": {
      "text/plain": [
       "24"
      ]
     },
<<<<<<< HEAD
     "execution_count": 86,
=======
     "execution_count": 38,
>>>>>>> 99182b5b5e146978021f80bf5b06cc862cc977f9
     "metadata": {},
     "output_type": "execute_result"
    }
   ],
   "source": [
    "getStemsNumber(corpus)"
   ]
  },
  {
   "cell_type": "markdown",
   "metadata": {
    "hidden": true
   },
   "source": [
    "##### g. Le nombre total de documents (par classe)"
   ]
  },
  {
   "cell_type": "code",
<<<<<<< HEAD
   "execution_count": 87,
=======
   "execution_count": 39,
>>>>>>> 99182b5b5e146978021f80bf5b06cc862cc977f9
   "metadata": {
    "hidden": true
   },
   "outputs": [],
   "source": [
    "def getNumberOfDocPerClass(sentiments):\n",
    "    countPositive = 0\n",
    "    countNegative = 0\n",
    "    for sentiment in sentiments : \n",
    "        if sentiment : #positif\n",
    "            countPositive = countPositive + 1\n",
    "        else : #negatif\n",
    "            countNegative = countNegative + 1\n",
    "    return countPositive, countNegative\n",
    "        \n",
    "        "
   ]
  },
  {
   "cell_type": "code",
<<<<<<< HEAD
   "execution_count": 88,
=======
   "execution_count": 40,
>>>>>>> 99182b5b5e146978021f80bf5b06cc862cc977f9
   "metadata": {},
   "outputs": [
    {
     "data": {
      "text/plain": [
       "(6, 5)"
      ]
     },
<<<<<<< HEAD
     "execution_count": 88,
=======
     "execution_count": 40,
>>>>>>> 99182b5b5e146978021f80bf5b06cc862cc977f9
     "metadata": {},
     "output_type": "execute_result"
    }
   ],
   "source": [
    "semtiments = [0,\n",
    "          0,\n",
    "          0,\n",
    "          0,\n",
    "          0, #5 negatif\n",
    "          1,\n",
    "          1,\n",
    "          1,\n",
    "          1,\n",
    "          1,\n",
    "          1] #6 positif\n",
    "\n",
    "getNumberOfDocPerClass(semtiments)"
   ]
  },
  {
   "cell_type": "markdown",
   "metadata": {
    "hidden": true
   },
   "source": [
    "##### h. Le nombre total de phrases (par classe)"
   ]
  },
  {
   "cell_type": "code",
<<<<<<< HEAD
   "execution_count": 89,
=======
   "execution_count": 41,
>>>>>>> 99182b5b5e146978021f80bf5b06cc862cc977f9
   "metadata": {
    "hidden": true
   },
   "outputs": [],
   "source": [
    "def getNumberOfSentencesPerClass(corpus, sentiments) :\n",
    "    corpus = getListOfSentences(corpus)\n",
    "    countSentencesPositives = 0\n",
    "    countSentencesNegatives = 0\n",
    "    for i in range(len(corpus)):\n",
    "        if sentiments[i] : #positive\n",
    "            countSentencesPositives = countSentencesPositives + len(corpus[i])\n",
    "        else : #negative\n",
    "            countSentencesNegatives = countSentencesNegatives + len(corpus[i])          \n",
    "    return countSentencesPositives, countSentencesNegatives   "
   ]
  },
  {
   "cell_type": "code",
<<<<<<< HEAD
   "execution_count": 90,
=======
   "execution_count": 42,
>>>>>>> 99182b5b5e146978021f80bf5b06cc862cc977f9
   "metadata": {},
   "outputs": [
    {
     "data": {
      "text/plain": [
       "(3, 2)"
      ]
     },
<<<<<<< HEAD
     "execution_count": 90,
=======
     "execution_count": 42,
>>>>>>> 99182b5b5e146978021f80bf5b06cc862cc977f9
     "metadata": {},
     "output_type": "execute_result"
    }
   ],
   "source": [
    "sentiments = [0,1,1]\n",
    "getNumberOfSentencesPerClass(corpus, sentiments)"
   ]
  },
  {
   "cell_type": "markdown",
   "metadata": {
    "hidden": true
   },
   "source": [
    "##### i. Le nombre total de phrases avec négation (par classe)"
   ]
  },
  {
   "cell_type": "code",
<<<<<<< HEAD
   "execution_count": 91,
=======
   "execution_count": 43,
>>>>>>> 99182b5b5e146978021f80bf5b06cc862cc977f9
   "metadata": {
    "hidden": true
   },
   "outputs": [],
   "source": [
    "def getNumberOfNegativeSentences(corpus, sentiments) :\n",
    "    corpus = getListOfSentences(corpus)\n",
    "    countNegativeSentencesPositives = 0\n",
    "    countNegativeSentencesNegatives = 0\n",
    "    i = 0;\n",
    "    for sentences in corpus:\n",
    "        for sentence in sentences:\n",
    "            if sentiments[i]: #positive\n",
    "                if \"_NEG\" in sentence:\n",
    "                    countNegativeSentencesPositives = countNegativeSentencesPositives + 1\n",
    "            else: #negative\n",
    "                if \"_NEG\" in sentence:\n",
    "                    countNegativeSentencesNegatives = countNegativeSentencesNegatives + 1\n",
    "            i = i + 1\n",
    "    return countNegativeSentencesPositives, countNegativeSentencesNegatives"
   ]
  },
  {
   "cell_type": "code",
<<<<<<< HEAD
   "execution_count": 92,
=======
   "execution_count": 44,
>>>>>>> 99182b5b5e146978021f80bf5b06cc862cc977f9
   "metadata": {},
   "outputs": [
    {
     "data": {
      "text/plain": [
       "(1, 1)"
      ]
     },
<<<<<<< HEAD
     "execution_count": 92,
=======
     "execution_count": 44,
>>>>>>> 99182b5b5e146978021f80bf5b06cc862cc977f9
     "metadata": {},
     "output_type": "execute_result"
    }
   ],
   "source": [
    "sentiments = [0,1,1,1,1]\n",
    "getNumberOfNegativeSentences(corpus, sentiments)"
   ]
  },
  {
   "cell_type": "markdown",
   "metadata": {
    "hidden": true
   },
   "source": [
    "##### j. Le pourcentage de réponses positives par genre de la personne à qui cette réponse est faite (op_gender)"
   ]
  },
  {
   "cell_type": "code",
<<<<<<< HEAD
   "execution_count": 93,
=======
   "execution_count": 45,
>>>>>>> 99182b5b5e146978021f80bf5b06cc862cc977f9
   "metadata": {},
   "outputs": [],
   "source": [
    "genders = [['M', 'M', 'W', 'W', 'M', 'M', 'W', 'W', 'M', 'M', 'W', 'W']]\n",
    "sentiments = [1 , 0, 1, 0, 1 , 0, 1,\n",
    "             0, 0, 1,  0, 0]"
   ]
  },
  {
   "cell_type": "code",
<<<<<<< HEAD
   "execution_count": 94,
=======
   "execution_count": 46,
>>>>>>> 99182b5b5e146978021f80bf5b06cc862cc977f9
   "metadata": {
    "hidden": true
   },
   "outputs": [],
   "source": [
    "def getPourcentageOfPositiveReponsesPerGender(genders, sentiments):\n",
    "    countPosM = countPosW = 0\n",
    "    iterator = 0\n",
    "    totalResponse = len(sentiments)\n",
    "  \n",
    "    for sentiment in sentiments:\n",
    "        if sentiment :\n",
    "            if genders[0][iterator] == 'M':\n",
    "                countPosM = countPosM + 1\n",
    "            elif genders[0][iterator] == 'W':\n",
    "                countPosW = countPosW + 1\n",
    "        iterator = iterator + 1\n",
    "  \n",
    "    pourcentageW = float(countPosW / totalResponse) * 100\n",
    "    pourcentageM = float(countPosM / totalResponse) * 100\n",
    "  \n",
    "    return(pourcentageM,pourcentageW)       "
   ]
  },
  {
   "cell_type": "code",
<<<<<<< HEAD
   "execution_count": 95,
=======
   "execution_count": 47,
>>>>>>> 99182b5b5e146978021f80bf5b06cc862cc977f9
   "metadata": {},
   "outputs": [
    {
     "data": {
      "text/plain": [
       "(25.0, 16.666666666666664)"
      ]
     },
<<<<<<< HEAD
     "execution_count": 95,
=======
     "execution_count": 47,
>>>>>>> 99182b5b5e146978021f80bf5b06cc862cc977f9
     "metadata": {},
     "output_type": "execute_result"
    }
   ],
   "source": [
    "getPourcentageOfPositiveReponsesPerGender(genders, sentiments)"
   ]
  },
  {
   "cell_type": "markdown",
   "metadata": {
    "hidden": true
   },
   "source": [
    "#### 2) Écrivez la fonction explore(corpus, sentiments, genders) qui calcule et affiche toutes ces informations, précédées d'une légende reprenant l’énoncé de chaque question (a,b, ….j)."
   ]
  },
  {
   "cell_type": "code",
<<<<<<< HEAD
   "execution_count": 96,
=======
   "execution_count": 48,
>>>>>>> 99182b5b5e146978021f80bf5b06cc862cc977f9
   "metadata": {
    "hidden": true
   },
   "outputs": [],
   "source": [
    "def explore(\n",
    "    corpus: List[List[str]], sentiments: List[bool], genders: List[Literal[\"M\", \"W\"]]\n",
    ") -> None:\n",
    "    print(\"Le nombre total de tokens (mots non distincts) : \" + getNumberOfTokens(corpus) + \"\\n\")\n",
    "    print(\"Le nombre total de types : \" + getNumberOfTypes(corpus) + \"\\n\")\n",
    "    print(\"Le nombre total de phrases avec négation : \" + getNumberOfNeg(corpus)  + \"\\n\")\n",
    "    print(\"Le ratio token/type : \" + getRatioTokenType(corpus) + \"\\n\")\n",
    "    print(\"Le nombre total de lemmes distincts : \" + getLemmesNumber(corpus) + \"\\n\")\n",
    "    print(\"Le nombre total de racines (stems) distinctes : \" + getStemsNumber(corpus) + \"\\n\")\n",
    "    print(\"Le nombre total de documents (par classe) : \" + getNumberOfDocPerClass(semtiments) + \"\\n\")\n",
    "    print(\"Le nombre total de phrases (par classe) : \" + getNumberOfSentencesPerClass(corpus, sentiments) + \"\\n\")\n",
    "    print(\"Le nombre total de phrases avec négation (par classe) : \" + getNumberOfNegativeSentences(corpus, sentiments)  + \"\\n\")\n",
    "    print(\"Le pourcentage de réponses positives par genre de la personne à qui cette réponse est faite (op_gender) : \" \n",
    "          + getPourcentageOfPositiveReponsesPerGender(sentiments, genders)  + \"\\n\")\n",
    "\n",
    "    "
   ]
  },
  {
   "cell_type": "markdown",
   "metadata": {
    "heading_collapsed": true,
    "hidden": true
   },
   "source": [
    "#### 3) Calculer une table de fréquence (lemme, rang (le mot le plus fréquent a le rang 1 etc.) ; fréquence (le nombre de fois où il a été vu dans le corpus).  Seuls les N mots les plus fréquents du vocabulaire (N est un paramètre) doivent être gardés. Vous devez stocker les 1000 premières lignes de cette table dans un fichier nommé table_freq.csv"
   ]
  },
  {
   "cell_type": "code",
<<<<<<< HEAD
   "execution_count": 97,
=======
   "execution_count": 49,
>>>>>>> 99182b5b5e146978021f80bf5b06cc862cc977f9
   "metadata": {},
   "outputs": [],
   "source": [
    "def calculateFrequences(corpus) :\n",
    "   \n",
    "    corpus = getListOfSentences(corpus)\n",
    "    lemmzer = nltk.WordNetLemmatizer()\n",
    "    lemmesList = []\n",
    "    sorted_dict = {}\n",
    "   \n",
    "    newFilePath = output_path + '/' + \" table_freq.csv\"\n",
    "    file = open(newFilePath, \"w\")\n",
    "    \n",
    "    for sentences in corpus :\n",
    "        for sentence in sentences :\n",
    "            lemmes = [lemmzer.lemmatize(token) for token in sentence.split()]\n",
    "            for lemme in lemmes :\n",
    "                lemmesList.append(lemme)\n",
    "               \n",
    "    for word in lemmesList:\n",
    "        if word not in sorted_dict:\n",
    "            sorted_dict[word] = 0\n",
    "        sorted_dict[word] += 1\n",
    "    words = sorted_dict.items()\n",
    "    sorted_lemme = sorted(words, key= lambda kv: kv[1], reverse=True)\n",
    "    \n",
    "    if(len(sorted_lemme) >= 1000) :\n",
    "        sorted_lemme = (sorted_lemme[:1000])\n",
    "    \n",
    "    with open(newFilePath, \"w\") as f: \n",
    "        f.write(\"word\" + ',' + \"freq\" + '\\n')\n",
    "        for i in range(0, len(sorted_lemme)):\n",
    "            f.write('\"' + sorted_lemme[i][0] + '\"' + ',' + '\"' + str(sorted_lemme[i][1]) + '\"\\n')\n",
    "            \n",
    "    return file"
   ]
  },
  {
   "cell_type": "code",
<<<<<<< HEAD
   "execution_count": 98,
=======
   "execution_count": 50,
>>>>>>> 99182b5b5e146978021f80bf5b06cc862cc977f9
   "metadata": {},
   "outputs": [
    {
     "data": {
      "text/plain": [
       "<_io.TextIOWrapper name='output/ table_freq.csv' mode='w' encoding='UTF-8'>"
      ]
     },
<<<<<<< HEAD
     "execution_count": 98,
=======
     "execution_count": 50,
>>>>>>> 99182b5b5e146978021f80bf5b06cc862cc977f9
     "metadata": {},
     "output_type": "execute_result"
    }
   ],
   "source": [
    "calculateFrequences(corpus)"
   ]
  },
  {
   "cell_type": "markdown",
   "metadata": {
    "heading_collapsed": true
   },
   "source": [
    "## 2. Classification automatique"
   ]
  },
  {
   "cell_type": "markdown",
   "metadata": {
    "heading_collapsed": true,
    "hidden": true
   },
   "source": [
    "### a) Classification  automatique avec un modèle sac de mots (unigrammes), Naive Bayes et la régression logistique"
   ]
  },
  {
   "cell_type": "markdown",
   "metadata": {
    "hidden": true
   },
   "source": [
    "En utilisant la librairie scikitLearn et l’algorithme Multinomial Naive Bayes et Logistic Regression, effectuez la classification des textes avec un modèle sac de mots unigramme pondéré avec TF-IDF.  Vous devez entrainer chaque modèle sur l’ensemble d’entrainement et le construire à partir de votre fichier corpus_train.csv. \n",
    "\n",
    "Construisez et sauvegardez votre modèle sac de mots avec les données d’entrainement en testant les pré-traitements suivants (séparément et en combinaison): tokenisation, lemmatisation, stemming, normalisation des négations, et suppression des mots outils. Vous ne devez garder que la combinaison d’opérations qui vous donne les meilleures performances sur le corpus de test. Indiquez dans un commentaire les pré-traitements qui vous amènent à votre meilleure performance (voir la section 3 – évaluation). Il est possible que la combinaison optimale ne soit pas la même selon que vous utilisiez la régression logistique ou Naive Bayes. On s’attend à avoir deux modèles optimaux, un pour Naive Bayes, et un avec régression logistique."
   ]
  },
  {
   "cell_type": "code",
   "execution_count": 51,
   "metadata": {},
   "outputs": [],
   "source": [
    "from sklearn.feature_extraction.text import TfidfVectorizer, CountVectorizer\n",
    "from sklearn.naive_bayes import MultinomialNB\n",
    "from sklearn.linear_model import LogisticRegression\n",
    "from sklearn.metrics import f1_score\n",
    "from sklearn.metrics import classification_report"
   ]
  },
  {
   "cell_type": "code",
   "execution_count": 52,
   "metadata": {},
   "outputs": [],
   "source": [
    "def getDataSet(train_csv, test_csv):\n",
    "    trainPath = os.path.join(output_path, train_csv)\n",
    "    testPath = os.path.join(output_path, test_csv)\n",
    "    \n",
    "    trainData = read_data(trainPath)\n",
    "    testData = read_data(testPath)\n",
    "    \n",
    "    return trainData,testData"
   ]
  },
  {
<<<<<<< HEAD
=======
   "cell_type": "code",
   "execution_count": 53,
   "metadata": {},
   "outputs": [],
   "source": [
    "training_data, testing_data = getDataSet(\"train_phrases.csv\", \"test_phrases.csv\" )"
   ]
  },
  {
>>>>>>> 99182b5b5e146978021f80bf5b06cc862cc977f9
   "cell_type": "markdown",
   "metadata": {
    "hidden": true
   },
   "source": [
    "### Naive Bayes"
   ]
  },
  {
   "cell_type": "code",
   "execution_count": 54,
   "metadata": {
    "hidden": true
   },
   "outputs": [],
   "source": [
    "def naiveBayes(train_data, test_data):\n",
    "    vectorizer = TfidfVectorizer()    \n",
    "    vectors = vectorizer.fit_transform(train_data[0])\n",
    "    clf = MultinomialNB(alpha=0.5)\n",
    "    clf.fit(vectors, train_data[1])\n",
    "    \n",
    "    vectors_test = vectorizer.transform(test_data[0])\n",
    "    y_pred = clf.predict(vectors_test)\n",
    "    return y_pred"
   ]
  },
  {
   "cell_type": "code",
   "execution_count": 55,
   "metadata": {},
   "outputs": [
    {
     "name": "stdout",
     "output_type": "stream",
     "text": [
      "              precision    recall  f1-score   support\n",
      "\n",
      "       False    0.78191   0.29697   0.43045       495\n",
      "        True    0.81732   0.97434   0.88895      1598\n",
      "\n",
      "    accuracy                        0.81414      2093\n",
      "   macro avg    0.79962   0.63566   0.65970      2093\n",
      "weighted avg    0.80895   0.81414   0.78052      2093\n",
      "\n"
     ]
    }
   ],
   "source": [
    "#Combinaison optimale pour Naive Bayes :\n",
    "train_bayes = deleteStopWords(normalize(train_phrases_path))\n",
    "test_bayes = deleteStopWords(normalize(test_phrases_path))\n",
    "\n",
    "training_data_bayes, testing_data_bayes = getDataSet(os.path.basename(train_bayes), os.path.basename(test_bayes) )\n",
    "y_pred_bayes = naiveBayes(training_data_bayes, testing_data_bayes)\n",
    "print(classification_report(testing_data[1], y_pred_bayes, digits=5))"
   ]
  },
  {
   "cell_type": "markdown",
   "metadata": {
    "hidden": true
   },
   "source": [
    "### Régression Logistique"
   ]
  },
  {
   "cell_type": "code",
   "execution_count": 56,
   "metadata": {
    "hidden": true
   },
   "outputs": [],
   "source": [
    "def logisticsRegression(train_data, test_data, regParamC):\n",
    "    vectorizer = TfidfVectorizer()\n",
    "    vectors = vectorizer.fit_transform(train_data[0])\n",
    "    model = LogisticRegression(C=regParamC)\n",
    "    model.fit(vectors, train_data[1])\n",
    "    \n",
    "    vectors_test = vectorizer.transform(test_data[0])\n",
    "    y_pred = model.predict(vectors_test)\n",
    "    return y_pred"
   ]
  },
  {
   "cell_type": "code",
   "execution_count": 57,
   "metadata": {},
   "outputs": [
    {
     "name": "stdout",
     "output_type": "stream",
     "text": [
      "              precision    recall  f1-score   support\n",
      "\n",
      "       False    0.72764   0.36162   0.48313       495\n",
      "        True    0.82891   0.95807   0.88882      1598\n",
      "\n",
      "    accuracy                        0.81701      2093\n",
      "   macro avg    0.77828   0.65984   0.68598      2093\n",
      "weighted avg    0.80496   0.81701   0.79288      2093\n",
      "\n"
     ]
    }
   ],
   "source": [
    "#Combinaison optimale pour la Regression Logistique :\n",
    "train_logisticsRegression = lemmatize(tokenize(normalize(train_phrases_path)))\n",
    "test_logisticsRegression = lemmatize(tokenize(normalize(test_phrases_path)))\n",
    "\n",
    "training_data_logistics, testing_data_logistics = getDataSet(os.path.basename(train_logisticsRegression), os.path.basename(test_logisticsRegression))\n",
    "y_pred_logisticsRegression = logisticsRegression(training_data, testing_data, 1.0 )\n",
    "print(classification_report(testing_data[1], y_pred_logisticsRegression, digits=5))"
   ]
  },
  {
   "cell_type": "markdown",
   "metadata": {
    "hidden": true
   },
   "source": [
    "###  b) Autre représentation pour l’analyse de sentiments et classification automatique"
   ]
  },
  {
   "cell_type": "markdown",
   "metadata": {
    "hidden": true
   },
   "source": [
    "On vous propose maintenant d’utiliser une nouvelle représentation de chaque document à classifier.\n",
    "Vous devez créer à partir de votre corpus la table suivante :\n",
    "\n",
    "| Vocabulaire | Freq-positive | Freq-négative |\n",
    "|-------------|---------------|---------------|\n",
    "| happy | 10 | 1 |\n",
    "| ... | ... | ... |\n",
    "\n",
    "Où :\n",
    "\n",
    "• Vocabulaire représente tous les types (mots uniques) de votre corpus d’entrainement\n",
    "\n",
    "• Freq-positive : représente la somme des fréquences du mot dans tous les documents de la classe positive\n",
    "\n",
    "• Freq-négative : représente la somme des fréquences du mot dans tous les documents de la classe négative\n",
    "\n",
    "Notez qu’en Python, vous pouvez créer un dictionnaire associant à tout (mot, classe) une fréquence.\n",
    "Ensuite il vous suffit de représenter chaque document par un vecteur à 3 dimensions dont le premier élément représente un biais (initialisé à 1), le deuxième élément représente la somme des fréquences positives (freq-pos) de tous les mots uniques (types) du document et enfin le troisième élément représente la somme des fréquences négative (freq-neg) de tous les mots uniques du document. \n",
    "\n",
    "En utilisant cette représentation ainsi que les pré-traitements suggérés, trouvez le meilleur modèle possible en testant la régression logistique et Naive Bayes. Vous ne devez fournir que le code de votre meilleur modèle dans votre notebook."
   ]
  },
  {
   "cell_type": "code",
<<<<<<< HEAD
   "execution_count": 58,
=======
   "execution_count": 94,
>>>>>>> 99182b5b5e146978021f80bf5b06cc862cc977f9
   "metadata": {
    "hidden": true
   },
   "outputs": [],
   "source": [
    "import pandas as pd\n",
    "\n",
    "def getTableOfFrequencies(corpus) :\n",
    "    dictionnary = {}\n",
    "    listOfTokens = []\n",
    "    data = []\n",
    "\n",
    "    for i in range(len(corpus[0])) :\n",
    "        tokenList = nltk.word_tokenize(corpus[0][i])\n",
    "        for token in tokenList :\n",
    "            if token == \" \" :\n",
    "                token = \"1\"\n",
    "            listOfTokens.append(token)\n",
    "            key = (token, corpus[1][i])\n",
    "            if key in dictionnary : #if the key already exists in dic, increment frequency\n",
    "                dictionnary[key] = dictionnary[key] + 1\n",
    "            else : #if not, create key and initiate frequency to 1\n",
    "                dictionnary.update({key : 1})\n",
    "    listOfTokens = list(dict.fromkeys(listOfTokens)) #list of distinct tokens\n",
    "\n",
    "    for token in listOfTokens :\n",
    "        freq_pos = 0\n",
    "        freq_neg = 0\n",
    "        if (token, True) in dictionnary and (token, False) in dictionnary :\n",
    "            freq_pos = dictionnary[token, True]\n",
    "            freq_neg = dictionnary[token, False]\n",
    "        if (token, True) in dictionnary and (token, False) not in dictionnary :\n",
    "            freq_pos = dictionnary[token, True]\n",
    "        if (token, True) not in dictionnary and (token, False) in dictionnary :\n",
    "            freq_neg = dictionnary[token, False]\n",
    "        data.append([token, freq_pos, freq_neg])    \n",
    "\n",
    "    return pd.DataFrame(data, columns=[\"Vocabulaire\", \"Freq-positive\", \"Freq-négative\"])"
   ]
  },
  {
   "cell_type": "code",
<<<<<<< HEAD
   "execution_count": 59,
=======
   "execution_count": 96,
>>>>>>> 99182b5b5e146978021f80bf5b06cc862cc977f9
   "metadata": {},
   "outputs": [
    {
     "data": {
      "text/html": [
       "<div>\n",
       "<style scoped>\n",
       "    .dataframe tbody tr th:only-of-type {\n",
       "        vertical-align: middle;\n",
       "    }\n",
       "\n",
       "    .dataframe tbody tr th {\n",
       "        vertical-align: top;\n",
       "    }\n",
       "\n",
       "    .dataframe thead th {\n",
       "        text-align: right;\n",
       "    }\n",
       "</style>\n",
       "<table border=\"1\" class=\"dataframe\">\n",
       "  <thead>\n",
       "    <tr style=\"text-align: right;\">\n",
       "      <th></th>\n",
       "      <th>Vocabulaire</th>\n",
       "      <th>Freq-positive</th>\n",
       "      <th>Freq-négative</th>\n",
       "    </tr>\n",
       "  </thead>\n",
       "  <tbody>\n",
       "    <tr>\n",
       "      <th>0</th>\n",
       "      <td>thanks</td>\n",
       "      <td>95</td>\n",
       "      <td>2</td>\n",
       "    </tr>\n",
       "    <tr>\n",
       "      <th>1</th>\n",
       "      <td>back</td>\n",
       "      <td>41</td>\n",
       "      <td>6</td>\n",
       "    </tr>\n",
       "    <tr>\n",
       "      <th>2</th>\n",
       "      <td>!</td>\n",
       "      <td>776</td>\n",
       "      <td>105</td>\n",
       "    </tr>\n",
       "    <tr>\n",
       "      <th>3</th>\n",
       "      <td>yep</td>\n",
       "      <td>1</td>\n",
       "      <td>0</td>\n",
       "    </tr>\n",
       "    <tr>\n",
       "      <th>4</th>\n",
       "      <td>,</td>\n",
       "      <td>355</td>\n",
       "      <td>176</td>\n",
       "    </tr>\n",
       "    <tr>\n",
       "      <th>5</th>\n",
       "      <td>university</td>\n",
       "      <td>1</td>\n",
       "      <td>0</td>\n",
       "    </tr>\n",
       "    <tr>\n",
       "      <th>6</th>\n",
       "      <td>of</td>\n",
       "      <td>155</td>\n",
       "      <td>77</td>\n",
       "    </tr>\n",
       "    <tr>\n",
       "      <th>7</th>\n",
       "      <td>alberta</td>\n",
       "      <td>1</td>\n",
       "      <td>0</td>\n",
       "    </tr>\n",
       "    <tr>\n",
       "      <th>8</th>\n",
       "      <td>.</td>\n",
       "      <td>705</td>\n",
       "      <td>296</td>\n",
       "    </tr>\n",
       "    <tr>\n",
       "      <th>9</th>\n",
       "      <td>you</td>\n",
       "      <td>403</td>\n",
       "      <td>100</td>\n",
       "    </tr>\n",
       "    <tr>\n",
       "      <th>10</th>\n",
       "      <td>live</td>\n",
       "      <td>5</td>\n",
       "      <td>4</td>\n",
       "    </tr>\n",
       "    <tr>\n",
       "      <th>11</th>\n",
       "      <td>around</td>\n",
       "      <td>6</td>\n",
       "      <td>2</td>\n",
       "    </tr>\n",
       "    <tr>\n",
       "      <th>12</th>\n",
       "      <td>here</td>\n",
       "      <td>18</td>\n",
       "      <td>6</td>\n",
       "    </tr>\n",
       "    <tr>\n",
       "      <th>13</th>\n",
       "      <td>?</td>\n",
       "      <td>64</td>\n",
       "      <td>81</td>\n",
       "    </tr>\n",
       "    <tr>\n",
       "      <th>14</th>\n",
       "      <td>please</td>\n",
       "      <td>4</td>\n",
       "      <td>12</td>\n",
       "    </tr>\n",
       "    <tr>\n",
       "      <th>15</th>\n",
       "      <td>do</td>\n",
       "      <td>58</td>\n",
       "      <td>33</td>\n",
       "    </tr>\n",
       "    <tr>\n",
       "      <th>16</th>\n",
       "      <td>n't</td>\n",
       "      <td>33</td>\n",
       "      <td>29</td>\n",
       "    </tr>\n",
       "    <tr>\n",
       "      <th>17</th>\n",
       "      <td>sell_NEG</td>\n",
       "      <td>0</td>\n",
       "      <td>1</td>\n",
       "    </tr>\n",
       "    <tr>\n",
       "      <th>18</th>\n",
       "      <td>my_NEG</td>\n",
       "      <td>7</td>\n",
       "      <td>4</td>\n",
       "    </tr>\n",
       "    <tr>\n",
       "      <th>19</th>\n",
       "      <td>land_NEG</td>\n",
       "      <td>0</td>\n",
       "      <td>1</td>\n",
       "    </tr>\n",
       "    <tr>\n",
       "      <th>20</th>\n",
       "      <td>steve_NEG</td>\n",
       "      <td>0</td>\n",
       "      <td>1</td>\n",
       "    </tr>\n",
       "    <tr>\n",
       "      <th>21</th>\n",
       "      <td>just</td>\n",
       "      <td>48</td>\n",
       "      <td>18</td>\n",
       "    </tr>\n",
       "    <tr>\n",
       "      <th>22</th>\n",
       "      <td>shaking</td>\n",
       "      <td>1</td>\n",
       "      <td>1</td>\n",
       "    </tr>\n",
       "    <tr>\n",
       "      <th>23</th>\n",
       "      <td>my</td>\n",
       "      <td>107</td>\n",
       "      <td>16</td>\n",
       "    </tr>\n",
       "    <tr>\n",
       "      <th>24</th>\n",
       "      <td>head</td>\n",
       "      <td>5</td>\n",
       "      <td>1</td>\n",
       "    </tr>\n",
<<<<<<< HEAD
       "  </tbody>\n",
       "</table>\n",
       "<p>4239 rows × 3 columns</p>\n",
       "</div>"
      ],
      "text/plain": [
       "         Vocabulaire  Freq-positive  Freq-négative\n",
       "0             thanks             95              2\n",
       "1               back             41              6\n",
       "2                  !            776            105\n",
       "3                yep              1              0\n",
       "4                  ,            355            176\n",
       "...              ...            ...            ...\n",
       "4234         tingles              1              0\n",
       "4235         jumping              1              0\n",
       "4236            ship              1              0\n",
       "4237           fiber              1              0\n",
       "4238  mathematicians              1              0\n",
       "\n",
       "[4239 rows x 3 columns]"
      ]
     },
     "execution_count": 59,
     "metadata": {},
     "output_type": "execute_result"
    }
   ],
   "source": [
    "getTableOfFrequencies(testing_data_bayes)"
   ]
  },
  {
   "cell_type": "code",
   "execution_count": 60,
   "metadata": {},
   "outputs": [
    {
     "data": {
      "text/html": [
       "<div>\n",
       "<style scoped>\n",
       "    .dataframe tbody tr th:only-of-type {\n",
       "        vertical-align: middle;\n",
       "    }\n",
       "\n",
       "    .dataframe tbody tr th {\n",
       "        vertical-align: top;\n",
       "    }\n",
       "\n",
       "    .dataframe thead th {\n",
       "        text-align: right;\n",
       "    }\n",
       "</style>\n",
       "<table border=\"1\" class=\"dataframe\">\n",
       "  <thead>\n",
       "    <tr style=\"text-align: right;\">\n",
       "      <th></th>\n",
       "      <th>Vocabulaire</th>\n",
       "      <th>Freq-positive</th>\n",
       "      <th>Freq-négative</th>\n",
=======
       "    <tr>\n",
       "      <th>25</th>\n",
       "      <td>at</td>\n",
       "      <td>33</td>\n",
       "      <td>16</td>\n",
>>>>>>> 99182b5b5e146978021f80bf5b06cc862cc977f9
       "    </tr>\n",
       "    <tr>\n",
       "      <th>26</th>\n",
       "      <td>the</td>\n",
       "      <td>346</td>\n",
       "      <td>185</td>\n",
       "    </tr>\n",
       "    <tr>\n",
       "      <th>27</th>\n",
       "      <td>ignorance</td>\n",
       "      <td>1</td>\n",
       "      <td>1</td>\n",
       "    </tr>\n",
       "    <tr>\n",
       "      <th>28</th>\n",
       "      <td>and</td>\n",
       "      <td>263</td>\n",
       "      <td>86</td>\n",
       "    </tr>\n",
       "    <tr>\n",
       "      <th>29</th>\n",
       "      <td>deliberate</td>\n",
       "      <td>1</td>\n",
       "      <td>1</td>\n",
       "    </tr>\n",
       "    <tr>\n",
       "      <th>30</th>\n",
       "      <td>ignoring</td>\n",
       "      <td>2</td>\n",
       "      <td>1</td>\n",
       "    </tr>\n",
       "    <tr>\n",
       "      <th>31</th>\n",
       "      <td>fact</td>\n",
       "      <td>5</td>\n",
       "      <td>3</td>\n",
       "    </tr>\n",
       "    <tr>\n",
       "      <th>32</th>\n",
       "      <td>about</td>\n",
       "      <td>25</td>\n",
       "      <td>28</td>\n",
       "    </tr>\n",
       "    <tr>\n",
       "      <th>33</th>\n",
       "      <td>fdr</td>\n",
       "      <td>1</td>\n",
       "      <td>1</td>\n",
       "    </tr>\n",
       "    <tr>\n",
       "      <th>34</th>\n",
       "      <td>pearl</td>\n",
       "      <td>1</td>\n",
       "      <td>1</td>\n",
       "    </tr>\n",
       "    <tr>\n",
       "      <th>35</th>\n",
       "      <td>harbor</td>\n",
       "      <td>1</td>\n",
       "      <td>1</td>\n",
       "    </tr>\n",
       "    <tr>\n",
       "      <th>36</th>\n",
       "      <td>wwii</td>\n",
       "      <td>1</td>\n",
       "      <td>1</td>\n",
       "    </tr>\n",
       "    <tr>\n",
       "      <th>37</th>\n",
       "      <td>to</td>\n",
       "      <td>299</td>\n",
       "      <td>116</td>\n",
       "    </tr>\n",
       "    <tr>\n",
       "      <th>38</th>\n",
       "      <td>be</td>\n",
       "      <td>69</td>\n",
       "      <td>38</td>\n",
       "    </tr>\n",
       "    <tr>\n",
       "      <th>39</th>\n",
       "      <td>contemplated</td>\n",
       "      <td>1</td>\n",
       "      <td>0</td>\n",
       "    </tr>\n",
       "    <tr>\n",
       "      <th>40</th>\n",
       "      <td>during</td>\n",
       "      <td>3</td>\n",
       "      <td>0</td>\n",
       "    </tr>\n",
       "    <tr>\n",
       "      <th>41</th>\n",
       "      <td>your</td>\n",
       "      <td>108</td>\n",
       "      <td>21</td>\n",
       "    </tr>\n",
       "    <tr>\n",
       "      <th>42</th>\n",
       "      <td>tri</td>\n",
       "      <td>1</td>\n",
       "      <td>0</td>\n",
       "    </tr>\n",
       "    <tr>\n",
       "      <th>43</th>\n",
       "      <td>perhaps</td>\n",
       "      <td>1</td>\n",
       "      <td>2</td>\n",
       "    </tr>\n",
       "    <tr>\n",
       "      <th>44</th>\n",
       "      <td>pshh</td>\n",
       "      <td>1</td>\n",
       "      <td>0</td>\n",
       "    </tr>\n",
       "    <tr>\n",
       "      <th>45</th>\n",
       "      <td>...</td>\n",
       "      <td>76</td>\n",
       "      <td>27</td>\n",
       "    </tr>\n",
       "    <tr>\n",
       "      <th>46</th>\n",
       "      <td>is</td>\n",
       "      <td>131</td>\n",
       "      <td>81</td>\n",
       "    </tr>\n",
       "    <tr>\n",
       "      <th>47</th>\n",
       "      <td>that</td>\n",
       "      <td>104</td>\n",
       "      <td>69</td>\n",
       "    </tr>\n",
       "    <tr>\n",
       "      <th>48</th>\n",
       "      <td>how</td>\n",
       "      <td>24</td>\n",
       "      <td>10</td>\n",
       "    </tr>\n",
       "    <tr>\n",
       "      <th>49</th>\n",
       "      <td>treat</td>\n",
       "      <td>1</td>\n",
       "      <td>1</td>\n",
       "    </tr>\n",
       "  </tbody>\n",
       "</table>\n",
       "</div>"
      ],
      "text/plain": [
       "     Vocabulaire  Freq-positive  Freq-négative\n",
       "0         thanks             95              2\n",
       "1           back             41              6\n",
       "2              !            776            105\n",
       "3            yep              1              0\n",
       "4              ,            355            176\n",
       "5     university              1              0\n",
       "6             of            155             77\n",
       "7        alberta              1              0\n",
       "8              .            705            296\n",
       "9            you            403            100\n",
       "10          live              5              4\n",
       "11        around              6              2\n",
       "12          here             18              6\n",
       "13             ?             64             81\n",
       "14        please              4             12\n",
       "15            do             58             33\n",
       "16           n't             33             29\n",
       "17      sell_NEG              0              1\n",
       "18        my_NEG              7              4\n",
       "19      land_NEG              0              1\n",
       "20     steve_NEG              0              1\n",
       "21          just             48             18\n",
       "22       shaking              1              1\n",
       "23            my            107             16\n",
       "24          head              5              1\n",
       "25            at             33             16\n",
       "26           the            346            185\n",
       "27     ignorance              1              1\n",
       "28           and            263             86\n",
       "29    deliberate              1              1\n",
       "30      ignoring              2              1\n",
       "31          fact              5              3\n",
       "32         about             25             28\n",
       "33           fdr              1              1\n",
       "34         pearl              1              1\n",
       "35        harbor              1              1\n",
       "36          wwii              1              1\n",
       "37            to            299            116\n",
       "38            be             69             38\n",
       "39  contemplated              1              0\n",
       "40        during              3              0\n",
       "41          your            108             21\n",
       "42           tri              1              0\n",
       "43       perhaps              1              2\n",
       "44          pshh              1              0\n",
       "45           ...             76             27\n",
       "46            is            131             81\n",
       "47          that            104             69\n",
       "48           how             24             10\n",
       "49         treat              1              1"
      ]
     },
<<<<<<< HEAD
     "execution_count": 60,
=======
     "execution_count": 96,
>>>>>>> 99182b5b5e146978021f80bf5b06cc862cc977f9
     "metadata": {},
     "output_type": "execute_result"
    }
   ],
   "source": [
    "getTableOfFrequencies(testing_data_logistics)"
   ]
  },
  {
   "cell_type": "markdown",
   "metadata": {
    "heading_collapsed": true
   },
   "source": [
    "## 3. Évaluation et discussion"
   ]
  },
  {
   "cell_type": "markdown",
   "metadata": {
    "hidden": true
   },
   "source": [
    "#### a) Pour déterminer la performance de vos modèles, vous devez tester vos modèles de classification sur l’ensemble de test et générer vos résultats pour chaque modèle dans une table avec les métriques suivantes : Accuracy et pour chaque classe, la précision, le rappel et le F1 score. On doit voir cette table générée dans votre notebook avec la liste de vos modèles de la section 2 et leurs performances respectives. "
   ]
  },
  {
   "cell_type": "code",
   "execution_count": 61,
   "metadata": {
    "hidden": true
   },
   "outputs": [
    {
     "name": "stdout",
     "output_type": "stream",
     "text": [
      "              precision    recall  f1-score   support\n",
      "\n",
      "       False       0.83      0.25      0.38       495\n",
      "        True       0.81      0.98      0.89      1598\n",
      "\n",
      "    accuracy                           0.81      2093\n",
      "   macro avg       0.82      0.62      0.63      2093\n",
      "weighted avg       0.81      0.81      0.77      2093\n",
      "\n"
     ]
    }
   ],
   "source": [
    "y_pred_bayes = naiveBayes(training_data, testing_data)\n",
    "print(classification_report(testing_data[1], y_pred_bayes))"
   ]
  },
  {
   "cell_type": "code",
   "execution_count": 62,
   "metadata": {},
   "outputs": [
    {
     "name": "stdout",
     "output_type": "stream",
     "text": [
      "              precision    recall  f1-score   support\n",
      "\n",
      "       False       0.73      0.36      0.48       495\n",
      "        True       0.83      0.96      0.89      1598\n",
      "\n",
      "    accuracy                           0.82      2093\n",
      "   macro avg       0.78      0.66      0.69      2093\n",
      "weighted avg       0.80      0.82      0.79      2093\n",
      "\n"
     ]
    }
   ],
   "source": [
    "y_pred_regression = logisticsRegression(training_data, testing_data,1.0)\n",
    "print(classification_report(testing_data[1], y_pred_regression))"
   ]
  },
  {
   "cell_type": "markdown",
   "metadata": {
    "heading_collapsed": true,
    "hidden": true
   },
   "source": [
    "#### b) Générez un graphique qui représente la performance moyenne (mean accuracy – 10 Fold cross-validation) de vos différents modèles par tranches de 500 textes sur l’ensemble d’entrainement."
   ]
  },
  {
   "cell_type": "code",
   "execution_count": 63,
   "metadata": {},
   "outputs": [],
   "source": [
    "from sklearn.model_selection import train_test_split \n",
    "from sklearn.model_selection import cross_val_score\n",
    "from sklearn.model_selection import RepeatedKFold\n",
    "import matplotlib.pyplot as plt "
   ]
  },
  {
   "cell_type": "code",
   "execution_count": 64,
   "metadata": {},
   "outputs": [],
   "source": [
    "def chooseClassification(models):\n",
    "    vec = TfidfVectorizer().fit_transform(train_data[0])\n",
    "    if models == 'LR' :   \n",
    "        model = LogisticRegression(C=1.0)\n",
    "        model.fit(vec, train_data[1])\n",
    "    if models == 'NB' :    \n",
    "        model = MultinomialNB(alpha=0.5)\n",
    "        model.fit(vec, train_data[1])\n",
    "    return model"
   ]
  },
  {
   "cell_type": "code",
   "execution_count": 65,
   "metadata": {},
   "outputs": [],
   "source": [
    "def applyFoldCrossValidation(model, X_train, Y_train):\n",
    "    KFold = RepeatedKFold(n_splits=10)\n",
    "    accuracies = cross_val_score(model, X_train, Y_train,cv=KFold)\n",
    "    return accuracies"
   ]
  },
  {
   "cell_type": "code",
   "execution_count": 66,
   "metadata": {
    "hidden": true
   },
   "outputs": [],
   "source": [
    "X_abs = []\n",
    "Maccuracies_LogisticRegression = []\n",
    "Maccuracies_NaiveBayes = []\n",
    "\n",
    "def findMeanAccuracy():\n",
    "    accuracy_LogisticRegression = []\n",
    "    accuracy_NaiveBayes = []\n",
    "    k = 0\n",
    "    \n",
    "    vec = TfidfVectorizer()\n",
    "\n",
    "    for i in range(0, int(len (train_data[0]) / 500)):\n",
    "        train = train_data[0][0+k : 500 +k]\n",
    "        test = train_data[1][0+k : 500 +k]\n",
    "        \n",
    "        vecTransformation = vec.fit_transform(train)\n",
    "        X_training, X_testing, Y_training, Y_testing = train_test_split(vecTransformation, test)\n",
    "        \n",
    "        accuracy_LogisticRegression = applyFoldCrossValidation(chooseClassification('LR'),X_training,Y_training)\n",
    "        accuracy_NaiveBayes = applyFoldCrossValidation(chooseClassification('NB'),X_training,Y_training)\n",
    "        Maccuracies_LogisticRegression.append(accuracy_LogisticRegression.mean())\n",
    "        Maccuracies_NaiveBayes.append(accuracy_NaiveBayes.mean())\n",
    "        X_abs.append(k)\n",
    "        k = k+ 500"
   ]
  },
  {
   "cell_type": "code",
   "execution_count": 67,
   "metadata": {},
   "outputs": [],
   "source": [
    "findMeanAccuracy()"
   ]
  },
  {
   "cell_type": "code",
   "execution_count": 68,
   "metadata": {},
   "outputs": [],
   "source": [
    "def GenerateMeanAccuranciesGraph():\n",
    "    plt.figure(figsize=(40, 20))\n",
    "    plt.suptitle('Graphique de la performance moyenne', fontsize=40, fontweight='bold')\n",
    "    plt.plot(X_abs, Maccuracies_LogisticRegression)\n",
    "    plt.plot(X_abs, Maccuracies_NaiveBayes)\n",
    "    plt.xticks(X_abs, fontsize=25)\n",
    "    plt.yticks( fontsize=25)\n",
    "    plt.legend([\"Logistic Regression\", \"Naive Bayes\"], fontsize=40)\n",
    "    plt.show()"
   ]
  },
  {
   "cell_type": "code",
   "execution_count": 69,
   "metadata": {},
   "outputs": [
    {
     "data": {
<<<<<<< HEAD
      "image/png": "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\n",
=======
      "image/png": "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\n",
>>>>>>> 99182b5b5e146978021f80bf5b06cc862cc977f9
      "text/plain": [
       "<Figure size 2880x1440 with 1 Axes>"
      ]
     },
     "metadata": {
      "needs_background": "light"
     },
     "output_type": "display_data"
    }
   ],
   "source": [
    "GenerateMeanAccuranciesGraph()"
   ]
  },
  {
   "cell_type": "markdown",
   "metadata": {
    "hidden": true
   },
   "source": [
    "#### c) Que se passe-t-il lorsque le paramètre de régularisation de la régression logisque (C) est augmenté ?"
   ]
  },
  {
   "cell_type": "code",
   "execution_count": 70,
   "metadata": {
    "hidden": true
   },
   "outputs": [
    {
     "name": "stdout",
     "output_type": "stream",
     "text": [
      "For C = 1.0\n",
      "              precision    recall  f1-score   support\n",
      "\n",
      "       False       0.80      0.53      0.64       254\n",
      "        True       0.86      0.95      0.90       751\n",
      "\n",
      "    accuracy                           0.85      1005\n",
      "   macro avg       0.83      0.74      0.77      1005\n",
      "weighted avg       0.84      0.85      0.84      1005\n",
      "\n",
      "\n",
      "For C = 2.0\n",
      "              precision    recall  f1-score   support\n",
      "\n",
      "       False       0.77      0.55      0.64       254\n",
      "        True       0.86      0.95      0.90       751\n",
      "\n",
      "    accuracy                           0.85      1005\n",
      "   macro avg       0.82      0.75      0.77      1005\n",
      "weighted avg       0.84      0.85      0.84      1005\n",
      "\n",
      "\n",
      "For C = 5.0\n",
      "              precision    recall  f1-score   support\n",
      "\n",
      "       False       0.75      0.60      0.67       254\n",
      "        True       0.87      0.93      0.90       751\n",
      "\n",
      "    accuracy                           0.85      1005\n",
      "   macro avg       0.81      0.77      0.78      1005\n",
      "weighted avg       0.84      0.85      0.84      1005\n",
      "\n"
     ]
    }
   ],
   "source": [
    "print(\"For C = 1.0\")\n",
    "y_pred_regression = logisticsRegression(train_data, test_data,1.0)\n",
    "print(classification_report(test_data[1], y_pred_regression) + \"\\n\")\n",
    "\n",
    "print(\"For C = 2.0\")\n",
    "y_pred_regression = logisticsRegression(train_data, test_data,2.0)\n",
    "print(classification_report(test_data[1], y_pred_regression) + \"\\n\")\n",
    "\n",
    "print(\"For C = 5.0\")\n",
    "y_pred_regression = logisticsRegression(train_data, test_data,5.0)\n",
    "print(classification_report(test_data[1], y_pred_regression))\n"
   ]
  },
  {
   "cell_type": "markdown",
   "metadata": {},
   "source": [
    "Plus le paramètre de régulation logistique (C) augmente, plus la vraisemblance baisse.\n",
    "\n",
    "Métrique précision :\n",
    "Pour ce qui en est de la précision du sentiment négatif, elle diminue plus le C augmente \n",
    "contaiement à la précision du sentiment positif qui reste relativement stable soit env 0.86\n",
    "\n",
    "Métrique recall :\n",
    "Pour ce qui en est du rappel du sentiment négatif, il augmente plus le C augmente \n",
    "contaiement au rappel du sentiment positif qui reste relativement stable soit env 0.95\n",
    "\n",
    "Métrique f1:\n",
    "Quant au f1, il reste relativement constant avec une légère variation pour la classe False quand C= 5.0\n",
    "\n",
    "La précision des moyennes micro et macro sont relativement semblables et ne\n",
    "varient pas quand le C augmente : 0.83 et 0.84 pour C=1, 0.82 et 0.84 pour C=2, 0.81 et 0.84 pour C=5\n",
    "Ceci reflète que l'ensemble des données est relativiement balancées entre les 2 classes. "
   ]
  },
  {
   "cell_type": "markdown",
   "metadata": {},
   "source": [
    "## 4. Analyse et discussion"
   ]
  },
  {
   "cell_type": "markdown",
   "metadata": {},
   "source": [
    "#### a) En considérant les deux types de représentations, répondez aux question suivantes en reportant la question dans le notebook et en inscrivant votre réponse:"
   ]
  },
  {
   "cell_type": "markdown",
   "metadata": {},
   "source": [
    "#### b) Quel est l’impact de l’annotation de la négation ?"
   ]
  },
  {
   "cell_type": "markdown",
   "metadata": {},
   "source": [
    "Pour ce qui en est de uniquement appliquer l'annotation de la négation, le modèle de la regression\n",
    "logistique présente un meilleur score pour le sentinement négatif : soit 0.47936 contre 0.38006\n",
    "pour Naive Bayes. Pour le sentiment positif, le score est relativement le même : soit 0.88748 \n",
    "contre 0.88770 pour Naive Bayes.\n",
    "\n",
    "En combinant les étapes de pré-traitement, on a pu remarquer que l'ajout de la négation\n",
    "améliore légèrement notre score pour le sentiment négatif pour les 2 modèles. À titre d'exemple :\n",
    "\n",
    "--------------------|-----------------------------------------|----------------------------------------\n",
    "                    |                 NAIVE BAYES             |           REGRESSION LOGISTIQUE\n",
    "--------------------|--------------------|--------------------|--------------------|--------------------\n",
    "  PRÉ-TRAITEMENT    |        FAUX        |       VRAI         |        FAUX        |        VRAI\n",
    "--------------------|--------------------|--------------------|--------------------|--------------------\n",
    "stopWords           |      0.40964       |   0.88870          |    0.41752         |      0.88603\n",
    "--------------------|--------------------|--------------------|--------------------|--------------------\n",
    "stopWords, NEG.     |      0.43045       |   0.88895          |    0.42136         |      0.88520\n",
    "--------------------|--------------------|--------------------|--------------------|--------------------\n",
    "lemmes, tokenize    |      0.38305       |   0.88926          |    0.47203         |      0.88792           \n",
    "--------------------|--------------------|--------------------|--------------------|--------------------\n",
    "lemmes,tokenize, NEG|      0.39880       |   0.88605          |    0.47989         |      0.88721        \n",
    "--------------------|--------------------|--------------------|--------------------|--------------------\n",
    "tokenize            |      0.37246       |   0.88695          |    0.47425         |     0.88747           \n",
    "--------------------|--------------------|--------------------|--------------------|--------------------\n",
    "tokenize, NEG       |      0.39269       |   0.88694          |    0.47268         |      0.88825        \n",
    "--------------------|--------------------|--------------------|--------------------|--------------------\n",
    "\n",
    "L'ajout du _NEG premet de mieux différencer et d'avoir un meilleur résultat quant au sentiment\n",
    "négatif et positif. En général, le modèle de la Regression logistique donne de meilleur score\n",
    "pour les sentiments."
   ]
  },
  {
   "cell_type": "markdown",
   "metadata": {},
   "source": [
    "#### c) La suppression des stopwords est-elle une bonne idée pour l’analyse de sentiments ?"
   ]
  },
  {
   "cell_type": "markdown",
   "metadata": {},
   "source": [
    "\n",
    "La suppression des stopwords améliore l'analyse de sentiments lorsqu'on\n",
    "utilise Naive Bayes. Cependant, la suppression des stopwords \n",
    "n'est pas une bonne idée pour l'analyse de sentiments lorsqu'on utilise \n",
    "la régression logistique puisque nos scores baissent comme on peut le \n",
    "voir ci-dessous: \n",
    "\n",
    "--------------------|-----------------------------------------|----------------------------------------\n",
    "                    |                 NAIVE BAYES             |           REGRESSION LOGISTIQUE\n",
    "--------------------|--------------------|--------------------|--------------------|--------------------\n",
    "  PRÉ-TRAITEMENT    |        FAUX        |       VRAI         |        FAUX        |        VRAI\n",
    "--------------------|--------------------|--------------------|--------------------|--------------------\n",
    "NEG                 |      0.39697       |   0.88712          |    0.47476         |      0.88850\n",
    "--------------------|--------------------|--------------------|--------------------|--------------------\n",
    "stopWords, NEG      |     0.43045        |   0.88895          |    0.42136         |      0.88520\n",
    "--------------------|--------------------|--------------------|--------------------|--------------------\n",
    "tokenize            |      0.37246       |   0.88695          |    0.47425         |      0.88747          \n",
    "--------------------|--------------------|--------------------|--------------------|--------------------\n",
    "stopWords,Tokenize  |      0.40964       |   0.88870          |    0.41752         |      0.88603        \n",
    "--------------------|--------------------|--------------------|--------------------|--------------------\n",
    "lemmatize           |      0.37677       |   0.88814          |    0.47490         |      0.88779        \n",
    "--------------------|--------------------|--------------------|--------------------|--------------------\n",
    "stopWords,lemmes    |      0.40785       |   0.88876          |    0.42319         |      0.88616       \n",
    "--------------------|--------------------|--------------------|--------------------|--------------------\n",
    "\n",
    "On remarque donc qu'on passe bien de 0.39697 à 0.43045 pour le sentiment négatif lorsqu'on supprime\n",
    "les stopwords suite à la normalisation en utilisant Naive Bayes. Le sentiment positif varie très\n",
    "sensiblement (d'environ 0,001). \n",
    "Lorsqu'on utilise la régression logistique, le score du sentiment négatif baisse considérablement \n",
    "puisqu'il chute par exemple de 0.47476 à 0.42136, suite à la suppression des stopwords après\n",
    "une normalisation. Ceci est également le cas de n'importe quel pré-traitement auquel on ajoute\n",
    "la suppression des stopwords. Toutefois, le sentiment positif reste relativement constant."
   ]
  },
  {
   "cell_type": "markdown",
   "metadata": {},
   "source": [
    "#### d) Le stemming et/ou la lemmatisation sont-ils souhaitables dans le cadre de l’analyse de sentiments ?"
   ]
  },
  {
   "cell_type": "markdown",
   "metadata": {},
   "source": [
    "Le stemming/lemmatisation sont souhaitables dans le cadre d'analyse de sentiments, et \n",
    "augmente les scores lors de l'analyse des sentiments en utilisant Les 2 modèles. Toutefois\n",
    "la variation n'est pas très significative :\n",
    "\n",
    "--------------------|-----------------------------------------|----------------------------------------\n",
    "                    |                 NAIVE BAYES             |           REGRESSION LOGISTIQUE\n",
    "--------------------|--------------------|--------------------|--------------------|--------------------\n",
    "  PRÉ-TRAITEMENT    |        FAUX        |       VRAI         |        FAUX        |        VRAI\n",
    "--------------------|--------------------|--------------------|--------------------|--------------------\n",
    "tokenize            |      0.37246       |   0.88695          |    0.47425         |      0.88747\n",
    "--------------------|--------------------|--------------------|--------------------|--------------------\n",
    "stems,tokenize      |      0.38640       |   0.88782          |    0.48276         |      0.88636\n",
    "--------------------|--------------------|--------------------|--------------------|--------------------\n",
    "stopWords           |      0.40964       |   0.88870          |    0.41752         |     0.88603         \n",
    "--------------------|--------------------|--------------------|--------------------|--------------------\n",
    "stopWords,lemmes    |      0.40785       |   0.88876          |    0.42319         |      0.88616       \n",
    "--------------------|--------------------|--------------------|--------------------|--------------------"
   ]
  },
  {
   "cell_type": "markdown",
   "metadata": {},
   "source": [
    "## 5. Contribution"
   ]
  },
  {
   "cell_type": "markdown",
   "metadata": {},
   "source": [
    "Complétez la section en haut du notebook indiquant la contribution de chaque membre de l’équipe en indiquant ce qui a été effectué par chaque membre et le pourcentage d’effort du membre dans le TP. "
   ]
  },
  {
   "cell_type": "code",
   "execution_count": null,
   "metadata": {},
   "outputs": [],
   "source": []
  },
  {
   "cell_type": "code",
   "execution_count": null,
   "metadata": {},
   "outputs": [],
   "source": []
  }
 ],
 "metadata": {
  "kernelspec": {
   "display_name": "Python 3",
   "language": "python",
   "name": "python3"
  },
  "language_info": {
   "codemirror_mode": {
    "name": "ipython",
    "version": 3
   },
   "file_extension": ".py",
   "mimetype": "text/x-python",
   "name": "python",
   "nbconvert_exporter": "python",
   "pygments_lexer": "ipython3",
   "version": "3.8.3"
  }
 },
 "nbformat": 4,
 "nbformat_minor": 4
}
