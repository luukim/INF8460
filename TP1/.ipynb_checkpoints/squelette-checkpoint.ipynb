{
 "cells": [
  {
   "cell_type": "markdown",
   "metadata": {},
   "source": [
    "## École Polytechnique de Montréal\n",
    "## Département Génie Informatique et Génie Logiciel\n",
    "\n",
    "## INF8460 – Traitement automatique de la langue naturelle - TP1"
   ]
  },
  {
   "cell_type": "markdown",
   "metadata": {},
   "source": [
    "## Objectifs d'apprentissage: \n",
    "\n",
    "•\tSavoir accéder à un corpus, le nettoyer et effectuer divers pré-traitements sur les données\n",
    "•\tSavoir effectuer une classification automatique des textes pour l’analyse de sentiments\n",
    "•\tEvaluer l’impact des pré-traitements sur les résultats obtenus\n"
   ]
  },
  {
   "cell_type": "markdown",
   "metadata": {},
   "source": [
    "## Équipe et contributions \n",
    "Veuillez indiquer la contribution effective de chaque membre de l'équipe en pourcentage et en indiquant les modules ou questions sur lesquelles chaque membre a travaillé\n"
   ]
  },
  {
   "cell_type": "markdown",
   "metadata": {},
   "source": [
    "Nom Étudiant 1: Luu Thien-Kim (1834378) 33.33%\n",
    "\n",
    "Nom Étudiant 2: Mellouk Souhaila (1835144) 33.33%\n",
    "\n",
    "Nom Étudiant 3: Younes Mourad (1832387) 33.33%\n",
    "\n",
    "Nous avons tous travaillé ensemble sur chaque question"
   ]
  },
  {
   "cell_type": "markdown",
   "metadata": {
    "heading_collapsed": true
   },
   "source": [
    "## Librairies externes"
   ]
  },
  {
   "cell_type": "code",
   "execution_count": 186,
   "metadata": {
    "hidden": true
   },
   "outputs": [],
   "source": [
    "import os\n",
    "import pandas as pd\n",
    "from typing import List, Literal, Tuple"
   ]
  },
  {
   "cell_type": "markdown",
   "metadata": {
    "heading_collapsed": true
   },
   "source": [
    "## Valeurs globales"
   ]
  },
  {
   "cell_type": "code",
   "execution_count": 187,
   "metadata": {
    "hidden": true
   },
   "outputs": [],
   "source": [
    "data_path = \"data\"\n",
    "output_path = \"output\""
   ]
  },
  {
   "cell_type": "markdown",
   "metadata": {
    "heading_collapsed": true
   },
   "source": [
    "## Données"
   ]
  },
  {
   "cell_type": "code",
   "execution_count": 188,
   "metadata": {
    "hidden": true
   },
   "outputs": [],
   "source": [
    "def read_data(path: str) -> Tuple[List[str], List[bool], List[Literal[\"M\", \"W\"]]]:\n",
    "    data = pd.read_csv(path)\n",
    "    inputs = data[\"response_text\"].tolist()\n",
    "    labels = (data[\"sentiment\"] == \"Positive\").tolist()\n",
    "    gender = data[\"op_gender\"].tolist()\n",
    "    return inputs, labels, gender"
   ]
  },
  {
   "cell_type": "code",
   "execution_count": 189,
   "metadata": {
    "hidden": true
   },
   "outputs": [],
   "source": [
    "train_data = read_data(os.path.join(data_path, \"train.csv\"))\n",
    "test_data = read_data(os.path.join(data_path, \"test.csv\"))\n",
    "\n",
    "train_data = ([text.lower() for text in train_data[0]], train_data[1], train_data[2])\n",
    "test_data = ([text.lower() for text in test_data[0]], test_data[1], test_data[2])"
   ]
  },
  {
   "cell_type": "markdown",
   "metadata": {},
   "source": [
    "## 1. Pré-traitement et Exploration des données"
   ]
  },
  {
   "cell_type": "markdown",
   "metadata": {
    "heading_collapsed": true
   },
   "source": [
    "### Lecture et prétraitement"
   ]
  },
  {
   "cell_type": "markdown",
   "metadata": {
    "hidden": true
   },
   "source": [
    "Dans cette section, vous devez compléter la fonction preprocess_corpus qui doit être appelée sur les fichiers train.csv et test.csv. La fonction preprocess_corpus appellera les différentes fonctions créées ci-dessous. Les différents fichiers de sortie doivent se retrouver dans le répertoire output.  Chacune des sous-questions suivantes devraient être une ou plusieurs fonctions."
   ]
  },
  {
   "cell_type": "code",
   "execution_count": 190,
   "metadata": {},
   "outputs": [],
   "source": [
    "train_path = os.path.join(data_path, \"train.csv\")\n",
    "test_path = os.path.join(data_path, \"test.csv\")\n",
    "\n",
    "train_phrases_path = os.path.join(output_path, \"train_phrases.csv\")\n",
    "test_phrases_path = os.path.join(output_path, \"test_phrases.csv\")"
   ]
  },
  {
   "cell_type": "markdown",
   "metadata": {
    "heading_collapsed": true,
    "hidden": true
   },
   "source": [
    "#### 1) Segmentez chaque corpus en phrases, et stockez-les dans un fichier `nomcorpus`_phrases.csv (une phrase par ligne)"
   ]
  },
  {
   "cell_type": "code",
   "execution_count": 261,
   "metadata": {
    "hidden": true
   },
   "outputs": [
    {
     "name": "stderr",
     "output_type": "stream",
     "text": [
      "[nltk_data] Downloading package punkt to\n",
      "[nltk_data]     /Users/mouradyounes/nltk_data...\n",
      "[nltk_data]   Package punkt is already up-to-date!\n",
      "[nltk_data] Downloading package wordnet to\n",
      "[nltk_data]     /Users/mouradyounes/nltk_data...\n",
      "[nltk_data]   Package wordnet is already up-to-date!\n"
     ]
    }
   ],
   "source": [
    "import nltk\n",
    "nltk.download(\"punkt\") \n",
    "nltk.download(\"wordnet\")\n",
    "import csv\n",
    "\n",
    "def segmentSentences(path) :\n",
    "    data = read_data(path)[0]\n",
    "    if not os.path.isdir(output_path) :\n",
    "        try:\n",
    "            os.mkdir(output_path)\n",
    "        except OSError:\n",
    "            print (\"Creation of the directory %s failed\" % path)\n",
    "        else:\n",
    "            print (\"Successfully created the directory %s \" % path)\n",
    "    newFilePath = output_path + '/' + os.path.splitext(os.path.basename(path))[0] + \"_phrases.csv\"\n",
    "    file = open(newFilePath, \"w\")\n",
    "    with open(newFilePath, \"w\") as f: \n",
    "        for sentences in data :\n",
    "            sentences = nltk.sent_tokenize(sentences)\n",
    "            for sentence in sentences:\n",
    "                sentence = sentence.replace('\"', '\"\"').replace('\"', '\"\"')\n",
    "                f.write('\"'+sentence+'\"')\n",
    "                f.write(\"\\n\")\n",
    "    return newFilePath\n"
   ]
  },
  {
   "cell_type": "code",
   "execution_count": 262,
   "metadata": {},
   "outputs": [
    {
     "data": {
      "text/plain": [
       "'output/test_phrases.csv'"
      ]
     },
     "execution_count": 262,
     "metadata": {},
     "output_type": "execute_result"
    }
   ],
   "source": [
    "segmentSentences(train_path)\n",
    "segmentSentences(test_path)"
   ]
  },
  {
   "cell_type": "markdown",
   "metadata": {
    "hidden": true
   },
   "source": [
    "#### 2) Normalisez chaque corpus au moyen d’expressions régulières en annotant les négations avec _Neg L’annotation de la négation doit ajouter un suffixe _NEG à chaque mot qui apparait entre une négation et un signe de ponctuation qui identifie une clause. Exemple : \n",
    "No one enjoys it.  no one_NEG enjoys_NEG it_NEG .\n",
    "\n",
    "I don’t think I will enjoy it, but I might.  i don’t think_NEG i_NEG will_NEG enjoy_NEG it_NEG, but i might."
   ]
  },
  {
   "cell_type": "code",
   "execution_count": 193,
   "metadata": {},
   "outputs": [],
   "source": [
    "def getPath(path) :\n",
    "    if \"train\" in path :\n",
    "        path = train_path\n",
    "    elif \"test\" in path :\n",
    "        path = test_path\n",
    "        \n",
    "    return path"
   ]
  },
  {
   "cell_type": "code",
   "execution_count": 194,
   "metadata": {
    "hidden": true
   },
   "outputs": [],
   "source": [
    "import re\n",
    "\n",
    "test = \"I don't like it here. No one enjoys it. I couldn't believe that. It was not expected to be honest, I had my rights.\"\n",
    "\n",
    "def normalize(path) :\n",
    "    with open(path, \"r\") as f :\n",
    "        data = list(f)\n",
    "    \n",
    "    newFilePath = output_path + '/' + os.path.splitext(os.path.basename(getPath(path)))[0] + \"_negation.csv\"\n",
    "    file = open(newFilePath, \"w\")\n",
    "    with open(newFilePath, \"w\") as f:\n",
    "        for sentence in data:\n",
    "            match = re.sub(\"(?i)(?<=not |n't | no )(.*?[,.(?!;]+)\", lambda m: m.group(1).replace(\" \", \"_NEG \")\n",
    "                           .replace(\".\", \"_NEG.\").replace(\",\", \"_NEG,\").replace(\"?\", \"_NEG?\").replace(\"!\", \"_NEG!\")\n",
    "                           .replace(\"(\", \"_NEG(\").replace(\";\", \"_NEG;\"), sentence)\n",
    "            f.write(match)\n",
    "            \n",
    "    return newFilePath\n",
    "            "
   ]
  },
  {
   "cell_type": "code",
   "execution_count": 195,
   "metadata": {},
   "outputs": [
    {
     "data": {
      "text/plain": [
       "'output/test_negation.csv'"
      ]
     },
     "execution_count": 195,
     "metadata": {},
     "output_type": "execute_result"
    }
   ],
   "source": [
    "normalize(train_phrases_path)\n",
    "normalize(test_phrases_path)"
   ]
  },
  {
   "cell_type": "markdown",
   "metadata": {
    "hidden": true
   },
   "source": [
    "#### 3) Segmentez chaque phrase en mots (tokenisation) et stockez-les dans un fichier `nomcorpus`_mots.csv. (Une phrase par ligne, chaque token séparé par un espace, il n’est pas nécessaire de stocker la phrase non segmentée ici) ;"
   ]
  },
  {
   "cell_type": "code",
   "execution_count": 196,
   "metadata": {
    "hidden": true
   },
   "outputs": [],
   "source": [
    "def tokenize(path) :\n",
    "    sentences = []\n",
    "    \n",
    "    with open(path, \"r\") as f :\n",
    "        data = list(f)\n",
    "        \n",
    "    newFilePath = output_path + '/' + os.path.splitext(os.path.basename(getPath(path)))[0] + \"_mots.csv\"\n",
    "    file = open(newFilePath, \"w\")\n",
    "    with open(newFilePath, \"w\") as f: \n",
    "        for sentence in data :\n",
    "            listTokens = nltk.word_tokenize(sentence)\n",
    "            tokens = ' '.join(listTokens)\n",
    "            f.write(tokens)\n",
    "            f.write('\\n')\n",
    "                \n",
    "    return newFilePath"
   ]
  },
  {
   "cell_type": "code",
   "execution_count": 197,
   "metadata": {},
   "outputs": [],
   "source": [
    "tokenize(train_phrases_path)\n",
    "tokenize(test_phrases_path)\n",
    "\n",
    "train_mots_path = os.path.join(output_path, \"train_mots.csv\")\n",
    "test_mots_path = os.path.join(output_path, \"test_mots.csv\")"
   ]
  },
  {
   "cell_type": "markdown",
   "metadata": {
    "hidden": true
   },
   "source": [
    "#### 4) Lemmatisez les mots et stockez les lemmes dans un fichier `nomcorpus`_lemmes.csv (une phrase par ligne, les lemmes séparés par un espace) ;"
   ]
  },
  {
   "cell_type": "code",
   "execution_count": 198,
   "metadata": {
    "hidden": true
   },
   "outputs": [],
   "source": [
    "def lemmatize(path) :\n",
    "    with open(path, \"r\") as f :\n",
    "        data = list(f)\n",
    "        \n",
    "    newFilePath = output_path + '/' + os.path.splitext(os.path.basename(getPath(path)))[0] + \"_lemmes.csv\"\n",
    "    lemmzer = nltk.WordNetLemmatizer()\n",
    "    \n",
    "    file = open(newFilePath, \"w\")\n",
    "#     lemmesList = []\n",
    "    with open(newFilePath, \"w\") as f: \n",
    "        for sentences in data :\n",
    "            lemmes = [lemmzer.lemmatize(token) for token in sentences.split()]\n",
    "            sentences = ' '.join(lemmes)\n",
    "#             lemmesList.append(sentences)\n",
    "            f.write(sentences)\n",
    "            f.write('\\n')\n",
    "                \n",
    "    return newFilePath"
   ]
  },
  {
   "cell_type": "code",
   "execution_count": 199,
   "metadata": {
    "scrolled": false
   },
   "outputs": [
    {
     "data": {
      "text/plain": [
       "'output/test_lemmes.csv'"
      ]
     },
     "execution_count": 199,
     "metadata": {},
     "output_type": "execute_result"
    }
   ],
   "source": [
    "lemmatize(train_mots_path)\n",
    "lemmatize(test_mots_path)"
   ]
  },
  {
   "cell_type": "markdown",
   "metadata": {
    "hidden": true
   },
   "source": [
    "#### 5) Retrouvez la racine des mots (stemming) en utilisant nltk.PorterStemmer(). Stockez-les dans un fichier `nomcorpus`_stems.csv (une phrase par ligne, les racines séparées par une espace) ;"
   ]
  },
  {
   "cell_type": "code",
   "execution_count": 200,
   "metadata": {
    "hidden": true
   },
   "outputs": [],
   "source": [
    "def stemmize(path) :    \n",
    "    with open(path, \"r\") as f :\n",
    "        reader = csv.reader(f)\n",
    "        data = list(reader)\n",
    "        \n",
    "    path = getPath(path)\n",
    "    newFilePath = output_path + '/' + os.path.splitext(os.path.basename(path))[0] + \"_stems.csv\"\n",
    "    \n",
    "    stemmer = nltk.PorterStemmer()\n",
    "    \n",
    "    file = open(newFilePath, \"w\")\n",
    "    with open(newFilePath, \"w\") as f: \n",
    "        for sentences in data :\n",
    "            for sentence in sentences :\n",
    "                stems = [stemmer.stem(token) for token in sentence.split()]\n",
    "                sentences = ' '.join(stems)\n",
    "                f.write(sentences)\n",
    "                f.write('\\n')\n",
    "                \n",
    "    return newFilePath\n",
    "    "
   ]
  },
  {
   "cell_type": "code",
   "execution_count": 201,
   "metadata": {},
   "outputs": [
    {
     "data": {
      "text/plain": [
       "'output/test_stems.csv'"
      ]
     },
     "execution_count": 201,
     "metadata": {},
     "output_type": "execute_result"
    }
   ],
   "source": [
    "stemmize(train_mots_path)\n",
    "stemmize(test_mots_path)"
   ]
  },
  {
   "cell_type": "markdown",
   "metadata": {
    "heading_collapsed": true,
    "hidden": true
   },
   "source": [
    "#### 6) Ecrivez une fonction qui supprime les mots outils (stopwords) du corpus. Vous devez utiliser la liste de stopwords de NLTK ;"
   ]
  },
  {
   "cell_type": "code",
   "execution_count": 202,
   "metadata": {
    "hidden": true
   },
   "outputs": [
    {
     "name": "stderr",
     "output_type": "stream",
     "text": [
      "[nltk_data] Downloading package stopwords to\n",
      "[nltk_data]     /Users/mouradyounes/nltk_data...\n",
      "[nltk_data]   Package stopwords is already up-to-date!\n"
     ]
    }
   ],
   "source": [
    "nltk.download(\"stopwords\")\n",
    "from nltk.corpus import stopwords\n",
    "stopwords.words(\"english\")\n",
    "\n",
    "def deleteStopWords(path) :\n",
    "    with open(path, \"r\") as f :\n",
    "        reader = csv.reader(f)\n",
    "        data = list(reader)\n",
    "        \n",
    "    path = getPath(path)\n",
    "    newFilePath = output_path + '/' + os.path.splitext(os.path.basename(path))[0] + \"_stopWords.csv\"\n",
    "    stopwords_english = set(stopwords.words(\"english\"))\n",
    "    output = []\n",
    "    \n",
    "    file = open(newFilePath, \"w\")\n",
    "    with open(newFilePath, \"w\") as f: \n",
    "        for sentences in data :\n",
    "            for sentence in sentences :\n",
    "                newSentence = [token for token in nltk.word_tokenize(sentence) if token not in stopwords_english]\n",
    "                sentences = ' '.join(newSentence)\n",
    "                output.append(sentences)\n",
    "                f.write(sentences)\n",
    "                f.write('\\n')\n",
    "                \n",
    "    return output\n",
    "                \n",
    "#enlever la création de nouveaux fichiers\n",
    "    "
   ]
  },
  {
   "cell_type": "code",
   "execution_count": 203,
   "metadata": {},
   "outputs": [
    {
     "data": {
      "text/plain": [
       "['Thanks back !',\n",
       " 'Yep',\n",
       " 'University Alberta .',\n",
       " 'You live around ?',\n",
       " \"please n't sell land Steve\",\n",
       " 'shaking head ignorance deliberate ignoring facts FDR',\n",
       " 'Pearl Harbor',\n",
       " 'WWII .',\n",
       " 'To contemplated tri',\n",
       " 'perhaps ?',\n",
       " 'Pshh ... Is treat props .. Just go around deleting ? ! ? !',\n",
       " 'Sureeeeeeeeeeeeeeeeeeee I see .',\n",
       " \": pYeah 's definitely still bugs around .\",\n",
       " \"My workout last night posted today 's date .\",\n",
       " 'lol',\n",
       " 'Thanks !',\n",
       " 'I also love bacon .',\n",
       " ': )',\n",
       " 'Hello Isaac !',\n",
       " 'My copy arrived yesterday France',\n",
       " \"I 'm happy excited read ! ! !\",\n",
       " 'XD',\n",
       " 'We need keep Bob Menendez congress .',\n",
       " \"It 's really excellent lecture\",\n",
       " 'I believe her.so',\n",
       " 'fake till make !',\n",
       " \"I 'm human according questions .\",\n",
       " 'And tone great',\n",
       " 'I lot fun : )',\n",
       " \"You 're awesome ! !\",\n",
       " '!',\n",
       " 'B Mattek awesome',\n",
       " 'I love bad girl risque style .',\n",
       " \"Brit : I 'm glad u r Fox tonight .\",\n",
       " 'You calm people bring common sense .',\n",
       " 'You class act !',\n",
       " '!',\n",
       " 'Good luck .',\n",
       " 'I really hope make .',\n",
       " 'Please reach Mr. Trump !',\n",
       " 'Thanks feedback !',\n",
       " 'Ill sure check phrasing next time : )',\n",
       " 'This talk powerful ..',\n",
       " 'Currently enjoying Ashley Bell .',\n",
       " 'Love writing much Dean .',\n",
       " 'Thank gifts give us',\n",
       " 'carpet bagging troll ... Liz Warren represent Massachusetts',\n",
       " 'I like much .',\n",
       " \"It 's great area explore 's long drive ... good kids .\",\n",
       " 'Monotasking ... god',\n",
       " 'mean actually good something',\n",
       " \"'s world coming .\",\n",
       " \"Dont know 's hype sells nowadays\",\n",
       " 'skill nothing anymore',\n",
       " 'dinosaur .',\n",
       " 'Explain guys continue letting Obama break laws .',\n",
       " 'Lawlessness abounds D.C. Where checks balances ?',\n",
       " 'Arrest .',\n",
       " 'Proper rest important',\n",
       " 'bad call ....',\n",
       " 'OOOOOHHHHH',\n",
       " 'thanks !',\n",
       " 'Paula fans !',\n",
       " 'Like page !',\n",
       " 'We Love You Paula',\n",
       " 'Seems bit disingenuous Seth',\n",
       " 'find different issue !',\n",
       " 'This wonderful .',\n",
       " 'Thank much putting !',\n",
       " 'Megyn',\n",
       " \"great job I bet 're wonderful lady person !\",\n",
       " 'RUN',\n",
       " 'CLAIRE',\n",
       " 'RUN ! ! ! ! !',\n",
       " 'WE NEED YOU ! ! ! ! ! ! ! ! ! ! ! ! ! ! ! !',\n",
       " '!',\n",
       " 'You bully .',\n",
       " 'Still insulting 12 hours later .',\n",
       " 'Seriously',\n",
       " 'wrong ?',\n",
       " 'You need professional help .',\n",
       " 'A little death scare amazing things motivation .',\n",
       " 'Thanks following back .',\n",
       " 'Great PP !',\n",
       " 'Hi !',\n",
       " 'I heard TED story .',\n",
       " 'Your story useful',\n",
       " 'teach success failure syndrome .',\n",
       " 'everything get syndrome .',\n",
       " 'Were happy end ?',\n",
       " 'Then grand old idea : )',\n",
       " 'I never known anyone stand platform lies long without falling pit disgrace .',\n",
       " 'Just ask Sarah Palin',\n",
       " 'Glenn Beck',\n",
       " 'David Vitter .',\n",
       " 'We federal transportation funding potentially great Trans-Hudson Passenger Rail Tunnel',\n",
       " 'governor paid debts .',\n",
       " 'Got ta keep Harper high rotation',\n",
       " \"'s boy !\",\n",
       " 'Dooooo eeeet .',\n",
       " \"I n't seen pup yet luckbox : )\",\n",
       " '..... thank Jill ...',\n",
       " \"Just got phone call daughter one granddaughter sitting Hanabusa booth Maku ' u Farmers market near Pahoa .\",\n",
       " 'Hooray cell phones !',\n",
       " 'Fox noise never report good news .',\n",
       " 'If failing would run breaking news .',\n",
       " 'Yay !',\n",
       " 'boobs proportionate hands',\n",
       " 'everyone gets wi ...',\n",
       " 'Proud lucky Mike Capuano Congressman !',\n",
       " 'Thank great work !',\n",
       " 'Hey',\n",
       " \"daddy knows ... And I guess ai n't saying .\",\n",
       " 'No prob .',\n",
       " 'Always glad help',\n",
       " 'Safe ?',\n",
       " \"Apparently illegal aliens since voted Obama 's amnesty .\",\n",
       " 'Dont forget Chogall high 20s .',\n",
       " 'pleasure !',\n",
       " 'keep good work !',\n",
       " ': )',\n",
       " \"Do n't let crazy anti-health care reformers get Brian .\",\n",
       " \"We 're counting !\",\n",
       " 'Enjoyed presentation Dave .',\n",
       " 'Any suggestions related reading material ?',\n",
       " 'Un fuerte abrazo tu mama Ruben',\n",
       " 'que reciba muchas bendiciones hoy siempre .',\n",
       " 'My friends I also look forward voting US Senate !',\n",
       " 'Thanks .',\n",
       " 'And interesting variety well !',\n",
       " 'Dont worry',\n",
       " 'Ive googled shed load listened couple peoples advice .',\n",
       " 'I think Ill ok .',\n",
       " 'Now Im picturing Chicken assassin',\n",
       " 'poisoning tea ... maybe french accent .',\n",
       " 'Contains graphic artistic nudity strong sexual references .',\n",
       " 'Not suitable young audiences .',\n",
       " 'I actually shot Tofino',\n",
       " 'break surf .',\n",
       " 'Thanks following back !',\n",
       " 'Never heard guy till .',\n",
       " 'He jam !',\n",
       " 'way win big florida .... !',\n",
       " 'lol',\n",
       " 'Rebooting !',\n",
       " 'Week 1 .',\n",
       " 'Kara great !',\n",
       " 'More brainey women !',\n",
       " 'Very nice Congress-man GW Meeks',\n",
       " 'There needs Jackie signs ! ! !',\n",
       " 'Too many loser Joe Bock signs around .',\n",
       " \"He 's racist anti-Jew loser !\",\n",
       " 'http : //freebeacon.com/politics/scholarship-at-palestinian-university-named-after-dem-congressional-candidate/ [ [ SHARE ] ]',\n",
       " 'oh lala ... race !',\n",
       " ': D',\n",
       " 'The inference dynamic processing helps visual integration develop impressed .',\n",
       " 'Some talk twitter Gove might get defence .',\n",
       " 'God help us thats true',\n",
       " \"At least 're back !\",\n",
       " 'situations china complex',\n",
       " 'one fix',\n",
       " 'Heavenly Father',\n",
       " 'Please Heal Our Land .....',\n",
       " 'Ha !',\n",
       " \"I saw LOL 'd I started looking feed learned great exercises lifting bootay !\",\n",
       " 'I also saw men group thought would get kick !',\n",
       " \"Wow looks like I 'm last stage declination ...\",\n",
       " \"I 'm 16 ..\",\n",
       " 'Better pick Arabic ASAP : )',\n",
       " \"The fact kind problem cropping engineering thousands years development makes glad I n't work field !\",\n",
       " \"Imagine 've spent years designing building bridge new\",\n",
       " 'quite unknown issue arises opening day - poor engineers !',\n",
       " 'Good morning Dunia que tengan un excelente dia',\n",
       " 'Keep good work !',\n",
       " 'Thank !',\n",
       " '!',\n",
       " \"Lol I 'll make looks great always\",\n",
       " 'precious family pic .',\n",
       " 'Dont ever give Trust Moogles Exdeath',\n",
       " 'TMR bad .',\n",
       " 'Unless using Orlandu',\n",
       " 'Cecils important .',\n",
       " 'Do options Fryevia ?',\n",
       " 'Loved book !',\n",
       " 'In fact',\n",
       " \"reading cover cover one 'go '\",\n",
       " 'I began reading !',\n",
       " 'I think book',\n",
       " 'message',\n",
       " 'ending .... could change lives .',\n",
       " '@ Dean Koontz .',\n",
       " 'In clip interview ... library shelves ?',\n",
       " 'Thanks well .',\n",
       " 'Look forward seeing feeds !',\n",
       " ': )',\n",
       " 'But lives parents ?',\n",
       " 'Hopefully didnt use credit card .',\n",
       " 'Welcome group !',\n",
       " 'My nose bench 230',\n",
       " 'whats .',\n",
       " 'This talk made feel sorry us humans trying move sexily club bed .',\n",
       " 'So laborious !',\n",
       " \"We discuss 's fair divide pie\",\n",
       " 'anyone accepts position paid multiple times average nothing discuss',\n",
       " 'bring art justification table .',\n",
       " 'Those super-rich necessary .',\n",
       " 'I strange feeling I watching professional preacher New York needs urgent psychiatric treatment ( lot cash ) !',\n",
       " ': ) In case anybody knows `` change',\n",
       " 'whether political',\n",
       " \"social personal `` Mallika 's `` dance `` actually produced\",\n",
       " 'share us .',\n",
       " 'WATCH MORE TALK WHILE nothing IS ACTUALLY BEING DONE ! ! ! ! !',\n",
       " 'NO THANKS ! ! !',\n",
       " '!',\n",
       " 'And stop posting ? ?',\n",
       " '?',\n",
       " 'Senator DeSantis',\n",
       " 'sounds good ! !',\n",
       " 'I hate lose district though .',\n",
       " 'Come show Cali show asian girls ucla done !',\n",
       " \"Looks like obama smelled Putin 's fartski\",\n",
       " 'Hey Mark - still around ?',\n",
       " 'Good .',\n",
       " 'Thanks follow man',\n",
       " 'Yes',\n",
       " 'A trail around ADK park towns linked together',\n",
       " 'The kids youth conservation corp could use work .',\n",
       " 'The trails already .',\n",
       " \"That 's awesome !\",\n",
       " 'We lot common : )',\n",
       " 'I really wish still Dean Koontz gift store still open',\n",
       " 'I need Pico Mundo Grille coffee mugs !',\n",
       " 'thanks follwing back man !',\n",
       " 'My dated talk gotten .',\n",
       " \"If price long-distance n't zero talking India would prohibitively expensive .\",\n",
       " 'Chris Anderson really needs update video talk something geared toward 2011',\n",
       " 'Or * * * * likely ingress portals',\n",
       " 'put bored workers .',\n",
       " 'Edited emphasize',\n",
       " 'That clip makes want re-watch whole series ... You ready The Breakfast tomorrow morning ?',\n",
       " 'I love field hockey .',\n",
       " 'I played football field hockey favorite sport softball girls basketball',\n",
       " 'My pleasure earned Morgan !',\n",
       " '!',\n",
       " 'Thank Lucandebulter !',\n",
       " 'I actually kind like !',\n",
       " \"Go Get 'Em Rand Paul .\",\n",
       " 'I heard Laura Ingraham show today great !',\n",
       " 'Glad see front making case .',\n",
       " 'guess I voted ! HA !',\n",
       " '!',\n",
       " 'Spreading love !',\n",
       " 'Thank much needed inspiration !',\n",
       " 'She good speaker topic .',\n",
       " 'We close age .',\n",
       " 'Thank speaking .',\n",
       " \"I 'm glad\",\n",
       " 'great role model others overcoming shame .',\n",
       " \"I imagine flooded people 's feeds positive comments\",\n",
       " 'would wonderful .',\n",
       " 'Thank much citizen Salisbury .',\n",
       " 'I enjoy listening enlightening words Professor Dawkins .',\n",
       " 'I always expressed atheism openly .',\n",
       " 'We atheists militant grave hindrance religion poses science .',\n",
       " 'We must least even playing field .',\n",
       " 'They want transparency !',\n",
       " 'Plain simple !',\n",
       " 'Oh worries',\n",
       " 'I thought .',\n",
       " 'And PP brings smile face every time I see !',\n",
       " 'Awesome article Eric ! !',\n",
       " 'So happy !',\n",
       " '!',\n",
       " 'fascinating - really enjoyed talk',\n",
       " 'Thank !',\n",
       " 'If need anything',\n",
       " \"I 'm ^^\",\n",
       " 'Sorry old hat ; really suddenly ( ) discovered people need valued ! ?',\n",
       " \"Some 'old guy ' ... Ahh\",\n",
       " 'Maslow ! ! !',\n",
       " 'I wish someone would pay reinvent wheel !',\n",
       " 'Thanks follow back haha : )',\n",
       " 'Never heard speak rights Muslim women',\n",
       " 'It victory uninsured reason .',\n",
       " 'Let us hope present law improved necessary changes .',\n",
       " 'Bitsie may beautiful place planet .',\n",
       " 'The water clear',\n",
       " 'lake rocks like nowhere else .',\n",
       " 'America need another $ 1 trillion + bankrupt America',\n",
       " 'Been inconsistent back track ! Thanks follow',\n",
       " 'Thanks hard work issue .',\n",
       " 'Most volume control T.V .',\n",
       " 'ads .',\n",
       " 'make difference annoyance broadcasting .',\n",
       " 'south mpls taxes going huge surplus ! ! !',\n",
       " '!',\n",
       " 'Easy stop sending money foreign nations start spending citizens foreign aide BS ! !',\n",
       " '!',\n",
       " 'Heroes leaders emerge .',\n",
       " 'Thank',\n",
       " 'Monica taking back narrative uplifting us thoughtful words',\n",
       " 'analysis decree empathy',\n",
       " 'compassion world public shaming click past .',\n",
       " 'luv u much tyra alwayas watch ANTM : ALL STARS',\n",
       " 'Shelley vote .',\n",
       " 'Jim Ballard',\n",
       " 'Your radiating joy .',\n",
       " 'See future cruise Alonzo .',\n",
       " 'Greatful All Americans vote Trump .',\n",
       " \"Awkwafina 's Genius ! ! !\",\n",
       " '!',\n",
       " 'Hi Claire !',\n",
       " 'Saw bus go downtown Columbia yesterday .',\n",
       " 'Was going try stop say hello ( I used Win Horner ... ) thank service .',\n",
       " 'You definitely vote !',\n",
       " 'lol .',\n",
       " 'im protein shake .',\n",
       " 'still got creatine though',\n",
       " 'eating loads tuna lol .',\n",
       " 'http : //twitchy.com/2015/05/10/watch-mark-halperins-ghastly-cuban-authenticity-interrogation-of-ted-cruz-video/',\n",
       " 'Thank much !',\n",
       " 'Actually',\n",
       " 'I situation like I confidence school I shy communicate others .',\n",
       " 'But I hopes I make watching !',\n",
       " 'In contrast',\n",
       " 'simple flat tax would flatten tax brackets',\n",
       " 'allow everyone pay comparable percentage tax',\n",
       " 'still hinder stimulative effect economic activity sales jobs increasing sales taxes would negatively impact .',\n",
       " 'Thanks back !',\n",
       " 'Great lifts !',\n",
       " ': )',\n",
       " 'It changed life : )',\n",
       " 'I feel much better knowing - Im alone .',\n",
       " 'True .',\n",
       " 'ES takes practice though .',\n",
       " 'If youre used timing maximum impact teamfight',\n",
       " 'going get value .',\n",
       " 'Medusa doesnt change part playstyle .',\n",
       " 'Its free value .',\n",
       " 'Great game',\n",
       " 'well played !',\n",
       " 'Early night !',\n",
       " 'I suggest reading theory created Allan Kardec .',\n",
       " 'He initiator research seeks present reasoned faith evolution spirit',\n",
       " 'proving reducing violence decreases proportionally evolution spirit time .',\n",
       " 'I LOVE YOU DAN EBERLE !',\n",
       " 'This wonderful -- thank much beautiful tribute .',\n",
       " 'She true',\n",
       " 'one big connected energy chosen manifest',\n",
       " 'beautiful part artists manifest .',\n",
       " 'We put Markwayne fight corruption .',\n",
       " \"Do n't let us .\",\n",
       " 'No problem !',\n",
       " 'Haha Thank youuuu !',\n",
       " ': D',\n",
       " 'something like `` best',\n",
       " 'rest come ``',\n",
       " 'Awesome ! !',\n",
       " 'What great honour !',\n",
       " \"My pleasure - keep keepin '\",\n",
       " 'brother .',\n",
       " 'Life funny way throwing obstacles - adapt survive .',\n",
       " 'Very inspiring project ... As Pediatric Physical Therapist',\n",
       " 'I wondering children evalutated treated gross fine motor deficits .',\n",
       " 'Children rely visual/perceptual skills develop motorically .',\n",
       " 'We love watching .',\n",
       " 'You earth pleasant listen .',\n",
       " 'You dressed well tonight .',\n",
       " 'Do pay attention others jealous !',\n",
       " 'Good luck',\n",
       " 'hope works : - )',\n",
       " 'lot dopes vote clowns like Udall',\n",
       " 'Not entirely surprising given one State Senators powered solely hot air ?',\n",
       " 'shame',\n",
       " 'I actually havent listened albums full yet .',\n",
       " 'My internet crud watch youtube .',\n",
       " 'I got money buy .',\n",
       " 'Im working .',\n",
       " 'slowly .',\n",
       " 'I listened large majority songs',\n",
       " 'I wouldnt able name album',\n",
       " 'probably .',\n",
       " 'Wow Amy',\n",
       " 'moving !',\n",
       " 'You really inspired !',\n",
       " \"I 'd love translate increase awareness .\",\n",
       " 'Possibilities Dutch French .',\n",
       " 'Love talk !',\n",
       " 'Monday goodness begins !',\n",
       " 'thanks remembering !',\n",
       " 'Hope well !',\n",
       " 'Hey agree Harvey .',\n",
       " 'If tamper DNA make us physically powerful ?',\n",
       " 'Why tamper Psyche make us not-selfish',\n",
       " 'not-greedy',\n",
       " 'non-racist',\n",
       " 'non-terrorist',\n",
       " 'non-war ish',\n",
       " 'non-explotish ? ? ? ? ?',\n",
       " 'Suggestions welcome',\n",
       " 'Editing fucking point',\n",
       " 'thanks !',\n",
       " 'joined group',\n",
       " 'Mrs. Carter spoke thing ( Bunchy Carter Mama ) ... God Bless community ...',\n",
       " 'Goodmorning .',\n",
       " 'And good afternoon Netherlands ....',\n",
       " 'Good morning Chris .',\n",
       " 'Watching Berman & Romans `` Early Start `` waiting # NewDay ... Pre-Cubs game nerves .',\n",
       " 'Beautiful artowrk indeed ... must difficult craft sure .',\n",
       " '< href= `` http : //www.ultimatedefensesystem.com/ `` > Self Defense Moves < /a >',\n",
       " 'Hey man',\n",
       " 'could attend deaf hard hearing meet .',\n",
       " 'Could fun',\n",
       " 'Inmates need stick license plates',\n",
       " 'manufacturing anything detrimental saving lives .',\n",
       " 'Denny Crane shit',\n",
       " \"His talk reminds Edward De Bono 's book - `` Simplicity `` .\",\n",
       " 'Therefore I suggest 4th quadrant referred `` simplicity `` .',\n",
       " 'Thank much',\n",
       " 'Debbie ! !',\n",
       " \"You one amazing lady I 'm excited involved UAW politics !\",\n",
       " '!',\n",
       " \"Best talk I 've ever seen ; ) Even wathing talk makes feel really powerful .\",\n",
       " 'Thank sharing !',\n",
       " 'que hermosa may como sienpre',\n",
       " 'Thanks making effort coming support athletes !',\n",
       " 'Great work clear victory tonight !',\n",
       " 'If stretch',\n",
       " 'track !',\n",
       " ': )',\n",
       " 'I love -- two look like celebrities .',\n",
       " 'People magazine come .',\n",
       " 'make luck around hurr .',\n",
       " 'got shit',\n",
       " 'What ?',\n",
       " 'No mickey Ds Royale cheese ?',\n",
       " 'Honestly',\n",
       " 'class haha !',\n",
       " 'Bon chance mes amis !',\n",
       " 'I connect better Im staring words .',\n",
       " '... And It helps discern Sara ( Tinder ) Im talking ?',\n",
       " 'Edit : Im kidding',\n",
       " 'damn',\n",
       " 'That toxic masculinity strikes',\n",
       " 'evil evil men .',\n",
       " '< link >',\n",
       " 'Great clip Traci ... n rip Sam Kinison .',\n",
       " ': - ( True genius',\n",
       " '..',\n",
       " 'Very exciting .',\n",
       " 'I wish Tennis Channel would show mixed doubles matches',\n",
       " 'Rino ego size ass ..... I glad liberals ripping jackass .',\n",
       " \"I n't want running prez anyway .... gasbag .\",\n",
       " 'Egory Mullins polite .',\n",
       " 'Seriously ... One funniest tv shows EVER ! ! !',\n",
       " '!',\n",
       " \"sad still talking I 'm almost 65 !\",\n",
       " 'Thank showing astonishing animals ! ! !',\n",
       " 'It amazing observe animals',\n",
       " 'It requires special highly developed cells convert appearance skin like enviroment .',\n",
       " 'Just Unbelievable .',\n",
       " 'The words I listen video differences civilization',\n",
       " 'China ability hold differences lot civilization',\n",
       " 'So worry rise China .',\n",
       " 'It benefit world .',\n",
       " 'So Chinatown support jobs ?',\n",
       " 'I think everyone always mood Kimi win',\n",
       " 'You know whats also addictive Television ?',\n",
       " 'Reddit !',\n",
       " \"n't dismiss .\",\n",
       " 'see earlier comment ( April 4 )',\n",
       " 'I always liked .',\n",
       " 'It made could talk whatever wanted',\n",
       " 'opinions know agreed upon .',\n",
       " 'No isnt',\n",
       " 'update goes live time every single',\n",
       " 'clutter .',\n",
       " 'There wasnt one yesterday',\n",
       " 'update',\n",
       " 'post like removed .',\n",
       " 'Its necessary .',\n",
       " 'Also',\n",
       " 'I would like point NOWHERE post made topic say update live .',\n",
       " 'Thanks much Dave !',\n",
       " \"I really appreciate support : ) Guess I 'd better get run ... Hope great weekend !\",\n",
       " 'Im Canadian wings fan hes favourite Canadian player .',\n",
       " 'I',\n",
       " '',\n",
       " 'feel way : P',\n",
       " 'Senator Wicker',\n",
       " 'Thank much voting earmarks ! ! !',\n",
       " 'Keep good work .',\n",
       " 'FYI Mr. Rivera',\n",
       " 'LOVED Eastwood',\n",
       " 'thank much .',\n",
       " 'Lets Mary champion',\n",
       " 'No surprise .... best person us ! ! ! ! ! !',\n",
       " '!',\n",
       " 'Right money sir tell Obama Reid money left spend waste .',\n",
       " 'The acceptable answer `` Yes ``',\n",
       " 'case wondering .',\n",
       " 'Great job Trevin Weech !',\n",
       " 'The CFYMCA',\n",
       " 'Teen board',\n",
       " 'proud team',\n",
       " \"sending nothing well wishes 've completed High School !\",\n",
       " 'Thank support',\n",
       " 'Congresswoman Tsongas !',\n",
       " 'Easy remember passwords always insecure guessed easily people',\n",
       " 'But [ assuming Ireland ] legally pay less per hour 16-18 years olds ... less full adults whove worked 2+ jobs past .',\n",
       " 'I learned tell story pictures .',\n",
       " 'I use create dramatic',\n",
       " 'emotional photos',\n",
       " 'Hehe',\n",
       " 'I know humor anyway : p',\n",
       " 'You welcome .',\n",
       " 'I propping workouts achievements',\n",
       " 'earned every one .',\n",
       " ': - )',\n",
       " '35',\n",
       " '000 people die hunger day .',\n",
       " 'They probably need help penguins .',\n",
       " 'Absolutely vote Tom Cotton Asa Hutchinson I vote person I think would best person job elected',\n",
       " 'An idea worth spreading',\n",
       " 'man worth knowing .',\n",
       " 'Rock',\n",
       " 'friend ; rock .',\n",
       " 'Any one ever watch Zoom ?',\n",
       " 'Boston Mass !',\n",
       " 'Oh two one three foooooooooooooouuuur ! !',\n",
       " '!',\n",
       " 'wan na see least one intimate scene diesel katee',\n",
       " 'LOL great song !',\n",
       " \"I 've finding rock strength training station pandora excellent choice workouts .\",\n",
       " 'Osceola ; home Bartle Scout Reservation ; great memories .',\n",
       " \"Liked response today 's News Miner regarding opponent 's negative campaigning .\",\n",
       " 'thank : ) niceness',\n",
       " 'I went found something else prop !',\n",
       " 'This talk really inspiring me.You teach read books different ways.I hope help later life.I proud !',\n",
       " '!',\n",
       " 'Growing kids need real food',\n",
       " 'junk .',\n",
       " 'Good .',\n",
       " 'giving alcohol hard',\n",
       " '!',\n",
       " 'Joe',\n",
       " 'Joe',\n",
       " \"Joe - n't possible people met reflection hatred ?\",\n",
       " 'Oh please - Bernie us along .',\n",
       " 'Thanks input !',\n",
       " 'I may end haha ... maybe 2000 years drift river found River-Hobbit ring curse becomes disgusting emaciated creature lives cave coughs name verbal tic ...',\n",
       " 'The universe fascinating .',\n",
       " \"It 's cool seeing different ideas spoken ted relate interests .\",\n",
       " 'You check great video technological evolution',\n",
       " \"'s influence society .\",\n",
       " 'Expand minds',\n",
       " 'think beautifully ! ! !',\n",
       " 'vimeo.com/44957378',\n",
       " \"It 's Ascension Day .\",\n",
       " 'I celebrating lifting weights .',\n",
       " ': - )',\n",
       " 'I problem sound cutting .',\n",
       " 'Watched subtitles I kept missing picture I reading .',\n",
       " 'I hope fix glitch .',\n",
       " 'Thank .',\n",
       " \"I 'm trying think papercut relation easily could much worse .\",\n",
       " '( Seriously lucky knee injury ! )',\n",
       " 'Appreciate note back Fito often recovery updates soon : ) xo',\n",
       " 'It really inspiring ! ! !',\n",
       " '> > ) ) )',\n",
       " 'Amazing video !',\n",
       " 'I show communication students week inspiration .',\n",
       " 'Thank Monica coming speaking .',\n",
       " 'We needed hear .',\n",
       " 'This must hear talk .',\n",
       " 'Right back ya !',\n",
       " ': )',\n",
       " \"I 'm finding calves get massive DOMs I train directly calf raises .\",\n",
       " 'They pain train comes goes ...',\n",
       " \"I 'd keep bro .\",\n",
       " 'I usually forget DOMs I warm .',\n",
       " 'Man fuck !',\n",
       " \"You 're welcome love .\",\n",
       " 'Thank serving Rep Amash- best best- Iowa !',\n",
       " '# 4Liberty',\n",
       " 'Good work .',\n",
       " 'You close aunt law trailer .',\n",
       " 'I wanted know .',\n",
       " 'Nice know care',\n",
       " 'Perhaps youth getting smarter waking Obama ?',\n",
       " 'Sairal',\n",
       " 'wan na friends ?',\n",
       " 'We',\n",
       " 'Daniel Webster Speaker ! !',\n",
       " '!',\n",
       " 'Love love !',\n",
       " 'Just finished watching',\n",
       " 'I laughed hard I cried .',\n",
       " \"Every time I think I ca n't laugh cry harder\",\n",
       " 'gets greater !',\n",
       " 'omg This OP shit starter .',\n",
       " 'His previous topics also fabricated .',\n",
       " 'climate control ... truth chemtrails HAARP weather system ... worse volcanoes industry combined ...',\n",
       " 'So happy He * Flemings * dropped sake Party',\n",
       " 'This week',\n",
       " 'Bill',\n",
       " 'voted NO reform Fannie Mae & Freddie Mac',\n",
       " 'received 145 BILLION dollars money .',\n",
       " 'Interestingly',\n",
       " 'Nancy Pelosi voted NO well .',\n",
       " 'Your voting records indicate lust spending taxpayer money .',\n",
       " 'And wasting well .',\n",
       " 'Why governement even involved ?',\n",
       " \"They 're NOT kids .\",\n",
       " \"She 's going pianist - look fingers !\",\n",
       " 'thanks u !',\n",
       " ': D Nice pic : )',\n",
       " \"`` aiding America 's enemies . ``\",\n",
       " 'The damage done .',\n",
       " 'The kid paid comparable criminal .',\n",
       " 'What',\n",
       " 'Liz ?',\n",
       " 'Revenge ?',\n",
       " 'Get Keurig',\n",
       " \"..... 'll love !\",\n",
       " 'lol oh thanks Becky ! !',\n",
       " 'Although',\n",
       " 'I make every day feel like Friday',\n",
       " 'feel much like Wednesday ? !',\n",
       " 'lol ..',\n",
       " 'Thanks healing stay somewhat sane work ... : )',\n",
       " 'Thanks follow !',\n",
       " 'I teach social studies .',\n",
       " 'Mainly AP Psychology',\n",
       " 'also Government US History time .',\n",
       " 'Oh yes !',\n",
       " \"But 's well kept guy secret .\",\n",
       " 'awesome ! !',\n",
       " 'I wish MY district ...',\n",
       " 'amazing ! ! ! ! ! !',\n",
       " 'agree ! ! ! !',\n",
       " '!',\n",
       " 'Thanks following back !',\n",
       " 'Hows view high horse ?',\n",
       " 'The description promises excitement Christmas holiday .',\n",
       " \"Let 's spice !\",\n",
       " 'CUT SPENDING',\n",
       " 'kids grand kids .',\n",
       " 'Great live stream Alicia !',\n",
       " 'shaking head ignorance deliberate ignoring facts FDR',\n",
       " 'Pearl Harbor',\n",
       " 'WWII .',\n",
       " 'Let us away',\n",
       " 'I',\n",
       " 'roof tall building ... And revel joy sunrise ?',\n",
       " 'Nothing change .',\n",
       " 'It WILL happen .',\n",
       " \"I 'm done Metro .\",\n",
       " 'I fan Jaime',\n",
       " 'supports Second amendment NRA',\n",
       " \"I 'm .\",\n",
       " 'Sorry John Kowalski',\n",
       " \"'re wrong .\",\n",
       " 'thanks !',\n",
       " 'appreciate much .',\n",
       " 'good luck goals .',\n",
       " 'type bike ?',\n",
       " 'Congratulations Congressman Webster ! !',\n",
       " 'We happy !',\n",
       " '!',\n",
       " 'No worries',\n",
       " 'thanks props !',\n",
       " 'Latrice Smith perfect',\n",
       " 'If go 14:30 realize something funny : Half million people watched film guy',\n",
       " 'watching film guy',\n",
       " 'watching film guy',\n",
       " 'changing oil .',\n",
       " 'I think somehow surreal .',\n",
       " 'indeed',\n",
       " \"n't understand people would want display/wear another animal 's skin\",\n",
       " 'never .',\n",
       " 'diversity populations decreasing well ... happier note',\n",
       " 'little touch end cute',\n",
       " 'grandparents !',\n",
       " ': )',\n",
       " 'Awww',\n",
       " 'two favorites !',\n",
       " 'Wish I .',\n",
       " 'Great photo .',\n",
       " 'Thank posting .',\n",
       " \"I sure hope 's movies partnership works .\",\n",
       " 'Dr. Verghese true doctor .',\n",
       " 'He knows takes heal patient .',\n",
       " 'The ritual talks priceless healing patients .',\n",
       " 'His book',\n",
       " '`` Cutting Stone ``',\n",
       " 'moving talk .',\n",
       " 'He amazing human .',\n",
       " 'Thanks lot : D Will : D !',\n",
       " 'Still .. beautiful creature .',\n",
       " 'I agree I think SGK lose lot supporters',\n",
       " 'count one !',\n",
       " 'Following fellow IF user .',\n",
       " ': D',\n",
       " 'Hey !',\n",
       " 'Thanks hun !',\n",
       " ': )',\n",
       " 'They know whats year .',\n",
       " 'I doubt mind bring cup germany .',\n",
       " 'Got ta drop say hi every !',\n",
       " ': D',\n",
       " \"What I 'm watching I get home work morning !\",\n",
       " '!',\n",
       " 'heard solar plane South Korea .',\n",
       " 'It seems like incredible machine .',\n",
       " \"coul n't imagine .\",\n",
       " \"wow 's impressive\",\n",
       " 'You loved safe thanks sharing .. =D < 3',\n",
       " 'Thank good example !',\n",
       " 'We need good examples leading country .',\n",
       " 'Maybe women staying home fulfill duty mothers .',\n",
       " 'Perhaps women would less Dads without jobs .',\n",
       " \"I 'm alone neurosis .\",\n",
       " 'Thanks Elizabeth .',\n",
       " 'I heard originally BEZ .',\n",
       " 'Good story !',\n",
       " 'What got Tammy talking helicopter training instructor student killed .',\n",
       " 'It IS dangerous job I much respect pilots soldiers .',\n",
       " 'oooomg sweetest thing world < 333 sending hugs n kisses way xx',\n",
       " \"Let 's !\",\n",
       " 'Amazing courage ingenuity .',\n",
       " 'Thank sir !',\n",
       " 'With year+ hiatus',\n",
       " 'people I used follow either dropped closed accounts : /Looking find active users : D',\n",
       " 'Of course',\n",
       " 'thanks original follow',\n",
       " 'Half way',\n",
       " 'I think',\n",
       " \"`` 's talking samadhi `` .. towards end mentions experiencing `` nirvana `` ... like samadhi .\",\n",
       " 'Samadhi complete quietude mind nirvana means without ego losing sense I',\n",
       " 'complete union .',\n",
       " 'AWESOME',\n",
       " 'Thanks',\n",
       " 'Photoshop fun !',\n",
       " 'Forget get rd Obama',\n",
       " 'rest fix .',\n",
       " 'Awesome Steve !',\n",
       " \"You 'll GREAT job !\",\n",
       " 'Or treat Lyme Disease',\n",
       " 'causation .',\n",
       " \"Now 's novel idea .\",\n",
       " 'I follow I read bio .',\n",
       " 'Great achievements far good luck triathlons .',\n",
       " 'look forward seeing training : - )',\n",
       " 'Awe .',\n",
       " 'Thanks .',\n",
       " ': ) working change .',\n",
       " 'Thank Jaime working va like l use insurance still charge last year took tax refund witch I told thank Steven Looney',\n",
       " 'Talks exactly I watch TED .',\n",
       " 'Bravo !',\n",
       " 'Slowly surely !',\n",
       " 'Feel better !',\n",
       " 'I love way write .',\n",
       " 'everything .',\n",
       " 'books',\n",
       " 'stories',\n",
       " 'blogs',\n",
       " 'facebook posts',\n",
       " \"tweets ... 're eloquent drives mad .\",\n",
       " 'good way .',\n",
       " 'thanks inspiration .',\n",
       " 'You got ta figure though teams done soon',\n",
       " 'Muchsimas felicidades Maity',\n",
       " 'ud es un digno ejemplo de empeo',\n",
       " 'perseverancia humildad .',\n",
       " 'Dios la siga bendiciendo hoy siempre .',\n",
       " 'Gracias por siempre apoyar lo que viene de nuestro pas por sentirse orgullosa de ser catracha ( transmitir eso travez de la televisin ) .',\n",
       " 'Abrazos !',\n",
       " 'China stable sustainable economy model .',\n",
       " 'Now environment problem becoming severe .',\n",
       " 'The quality economy poor growth slowing .',\n",
       " \"That 's need reform keep growth speed .\",\n",
       " 'Beautiful talented lady/actress !',\n",
       " 'Have heard Charles Einstein ?',\n",
       " 'This guy amazing views world http : //dustantownsend.com/ ? p=659 video evolution civilization consciousness I recommend everyone !',\n",
       " 'like please share .',\n",
       " 'Happy birthday !',\n",
       " 'Sounds like fun day !',\n",
       " 'Very exciting imaginative .',\n",
       " 'I agree would great longer .',\n",
       " 'You kind get used 18 minutes soaking Ted talks .',\n",
       " 'Defiantly would like know see .',\n",
       " 'actually put workout status ya know',\n",
       " 'I Am Xtasie ! !',\n",
       " 'I Am [ [ PHOTO ] ]',\n",
       " \"You 're welcome & Thank following back !\",\n",
       " 'Thank Brene reminding us take care first !',\n",
       " 'Shared nurses Scrubs.com inspired !',\n",
       " 'http : //scrubsmag.com/the-power-of-vulnerability-why-nurses-must-take-care-of-themselves/',\n",
       " 'This third time I watched video - I taking advice using technique works .',\n",
       " 'Wonderful stuff - I also sharing many others .',\n",
       " 'A cynic would say regardless outcome : good',\n",
       " 'bad',\n",
       " 'lethal',\n",
       " 'Trey advocating billable time lawyers',\n",
       " 'prosecutors',\n",
       " 'defense',\n",
       " 'probate .',\n",
       " 'Makes sense think bit .',\n",
       " '( !',\n",
       " ') .',\n",
       " 'My daughter I always look forward seeing Linda stylish self .',\n",
       " \"We 'll miss us .\",\n",
       " 'Enjoy retirement fullest .',\n",
       " 'Looking great guys !',\n",
       " 'All best & travel safe',\n",
       " 'Not watching .',\n",
       " 'Michael Moore ..... really',\n",
       " 'And support killing wildlife trophies .',\n",
       " 'Love Conquered Hate < 3',\n",
       " 'Have great day Amanda !',\n",
       " '!',\n",
       " 'Repeal egregious',\n",
       " 'bullshit',\n",
       " 'big government',\n",
       " 'essence',\n",
       " 'TAX HIKE .',\n",
       " 'No way ever going see benefit sellout Christie legislation ! !',\n",
       " '!',\n",
       " 'Thank Tyra ... thank caring',\n",
       " '',\n",
       " 'sharing ...',\n",
       " 'Pretty great get ability .',\n",
       " ': ) Also I woke 40 notifications morning',\n",
       " 'This woman never ceases amaze .',\n",
       " 'Thank Molly .',\n",
       " 'Insightful',\n",
       " 'honest revealing .',\n",
       " 'You definitely found path life .',\n",
       " 'Kudos !',\n",
       " 'Oh I already follow !',\n",
       " 'I want recommend : - ) hehe',\n",
       " 'Rhino Republican Paul Ryan lacky',\n",
       " 'This process safer Monsanto kind genetic engineering .',\n",
       " 'This process happening inside controlled space .',\n",
       " 'So I think kind work good .',\n",
       " 'Mucha suerte pendientes Rubn',\n",
       " 'saludos !',\n",
       " 'You front effort defund obamacare !',\n",
       " 'I see comments effort !',\n",
       " 'No problemo .',\n",
       " 'Thanks : )',\n",
       " \"Why n't people ignostics ?\",\n",
       " \"Maybe 's personal thing\",\n",
       " \"scientifically-minded person one would think logical choice 're going label .\",\n",
       " '< obligatory > Say goodbye gains . < /obligatory >',\n",
       " 'Patty',\n",
       " 'weekend plans canvass Yakima Washington Jay Clough YOU ...',\n",
       " 'Go back study constitution .',\n",
       " '5 years accomplished ?',\n",
       " '$ 19+ trillion debt ?',\n",
       " \"You 're one favorite congressmen !\",\n",
       " 'Why go use Comic Sans ?',\n",
       " 'Congratulations good work',\n",
       " 'The DMV particular cousin like exceptions rule .',\n",
       " 'I hate place fiery passion .',\n",
       " 'You must pass legislation Common sense Gun Control .',\n",
       " 'On behalf # EmperorOmariJibri',\n",
       " 'Always good thing hear !',\n",
       " 'Wow',\n",
       " 'incredible accident .',\n",
       " 'Well',\n",
       " 'I wish accidents lead great discovery like .',\n",
       " 'Well done girls .',\n",
       " 'You bet ! ! !',\n",
       " 'Happy lifting ! ! !',\n",
       " '!',\n",
       " 'Hi Mary ... glad finally see ...',\n",
       " 'No problem .',\n",
       " 'Nice lift stats !',\n",
       " 'Kick butt !',\n",
       " 'That name sounds familiar ! !',\n",
       " '!',\n",
       " \"remember 're keeping fit life\",\n",
       " 'today .',\n",
       " 'set short term goals help move towards long term ones .',\n",
       " \"'ve made start 's hardest part\",\n",
       " 'Thank much .',\n",
       " 'Irene I wish Dianne Merry Christmas Happy',\n",
       " 'Healthy Nww Year .',\n",
       " '( 2/6 ) ng',\n",
       " 'acting socially',\n",
       " 'spreading wings I wish another 60 years',\n",
       " 'progressive science allow .',\n",
       " 'G-d Bless',\n",
       " '& I wish meet',\n",
       " 'Like like like .............',\n",
       " 'agree Middle East assessment expressed MTP today ... thank service ...',\n",
       " 'Mr. Gowdy .',\n",
       " 'We love pursuit truth .',\n",
       " 'Please continue pursue Benghazi tragedy well Fast Furious .',\n",
       " 'No flying Legion zones start Legion .',\n",
       " 'Game set broken isles',\n",
       " 'aka',\n",
       " 'water .',\n",
       " 'Walking water useful questing traveling .',\n",
       " 'I glad someone stood bullies Of world !',\n",
       " 'You go girl ! !',\n",
       " '!',\n",
       " 'Definitely worth opinion .',\n",
       " 'Many fans calling best work - critics included .',\n",
       " 'So many ads detrimental.They work.I never forget Gingrich Santurum done could ever forget MC Cain South Carolina .',\n",
       " 'I remember 5 days Newt confidently said',\n",
       " \"I 'm going win\",\n",
       " 'dust',\n",
       " 'Are playing singles quallies Sydney Vania ?',\n",
       " 'Look forward seeing anyway : )',\n",
       " 'Welcome group',\n",
       " 'thanks follow back !',\n",
       " 'absolutely beautiful every way',\n",
       " 'Absolutely pretty angel',\n",
       " 'At least beaten death',\n",
       " 'Thanks .',\n",
       " 'Keep great work !',\n",
       " 'ok',\n",
       " 'lets please something !',\n",
       " '!',\n",
       " 'This talk actually inspired give lecture topic senior citizens region .',\n",
       " 'Awesome !',\n",
       " \"You seem like really positive guy I 'm sure translates great father well .\",\n",
       " 'Lets keep working sons !',\n",
       " 'Thats still got violation * something * .',\n",
       " 'Knowingly something give legal right sue ?',\n",
       " 'Thats completely unethical .',\n",
       " \"Lol I 'm mad cho either `` Still away\",\n",
       " 'still away . ``',\n",
       " 'Get `` Zen `` beach',\n",
       " '27 ( ) NRA leaders held accountable shooting .',\n",
       " 'EVERY NRA MEMBER accomplice tragedy',\n",
       " 'blood innocent victims THEIR hands !',\n",
       " '( 22 years retired military',\n",
       " 'combat veteran',\n",
       " 'WEAPON owner whole life',\n",
       " 'former republican NOT NRA member ! )',\n",
       " 'Awww !',\n",
       " 'Thank much Mike !',\n",
       " 'Your consistency inspiring .',\n",
       " \"Thank YOU motivation & 's wishing great fitful New Year !\",\n",
       " \"I ca n't seem find group ...\",\n",
       " 'Sorry !',\n",
       " \"If want I avoid propping future 's pain : )\",\n",
       " 'Hey !',\n",
       " 'No problem : ) It pleasure .',\n",
       " \"Ca n't wait see well !\",\n",
       " 'Fantastic talk ... type abstract analysis pushes knowledge',\n",
       " 'disciples',\n",
       " 'forward .',\n",
       " 'Also',\n",
       " 'irrespective topic guy one articulate eloquent speakers I ever heard .',\n",
       " 'I salute sir !',\n",
       " 'Deb',\n",
       " \"'re worthy reply .\",\n",
       " 'Conversing like talking brick wall .',\n",
       " 'Oops !',\n",
       " 'I apologize insulting brick wall .',\n",
       " 'Keep blocking present opinions opposite .',\n",
       " 'After',\n",
       " \"regressives like live world ca n't handle truth .\",\n",
       " 'Praying safe return ! !',\n",
       " 'Thank Mr. Williams ! ! !',\n",
       " '!',\n",
       " 'Im sick dog',\n",
       " 'still volunteering .',\n",
       " \"I 'll get better eventually\",\n",
       " 'nation get better vote Debbie !',\n",
       " '!',\n",
       " 'Give time I might able steer right direction .',\n",
       " \"I 'll get back later today exercises might like .\",\n",
       " 'While may managed gerrymander perpetual employment',\n",
       " 'truly represent LUCAS COUNTY .',\n",
       " 'Representative Kaptur champion region ever .',\n",
       " 'Yay !',\n",
       " 'Go Ravenclaws',\n",
       " 'I say !',\n",
       " \": ) It looks like 're going get hard work\",\n",
       " 'lot fun support .',\n",
       " 'I see said going !',\n",
       " 'Thank !',\n",
       " 'We rooting Claire !',\n",
       " 'For anyone wants believe humanizing possibilities connected world',\n",
       " 'anthem .',\n",
       " 'fall',\n",
       " 'get back : - )',\n",
       " 'lol I worked last night work .',\n",
       " 'Once I got home I chilled family .',\n",
       " \"I n't time put workout yesterday .\",\n",
       " \"I 'll put .\",\n",
       " 'Thanks',\n",
       " 'support nice : )',\n",
       " \"You 're welcome & Thank follow back ; )\",\n",
       " ...]"
      ]
     },
     "execution_count": 203,
     "metadata": {},
     "output_type": "execute_result"
    }
   ],
   "source": [
    "deleteStopWords(train_mots_path)\n",
    "deleteStopWords(test_mots_path)"
   ]
  },
  {
   "cell_type": "markdown",
   "metadata": {
    "hidden": true
   },
   "source": [
    "#### 7) Écrivez une fonction preprocess_corpus(corpus) qui prend un corpus brut stocké dans un fichier.csv, effectue les étapes précédentes, puis stocke le résultat de ces différentes opérations dans un fichier corpus _norm.csv"
   ]
  },
  {
   "cell_type": "code",
   "execution_count": 204,
   "metadata": {
    "hidden": true
   },
   "outputs": [],
   "source": [
    "def preprocess_corpus(input_file: str, output_file: str) :\n",
    "    #to do : vérifier si c'est bien le résultat voulu\n",
    "    results = deleteStopWords(stemmize(lemmatize(tokenize(normalize(segmentSentences(input_file))))))\n",
    "    file = open(output_file, \"w\")\n",
    "    with open(output_file, \"w\") as f:\n",
    "        for element in results :\n",
    "            f.write(element)\n",
    "            f.write('\\n')\n",
    "            \n",
    "    "
   ]
  },
  {
   "cell_type": "code",
   "execution_count": 205,
   "metadata": {
    "hidden": true
   },
   "outputs": [],
   "source": [
    "preprocess_corpus(\n",
    "   os.path.join(data_path, \"train.csv\"), os.path.join(output_path, \"train_norm.csv\")\n",
    ")\n",
    "preprocess_corpus(\n",
    "   os.path.join(data_path, \"test.csv\"), os.path.join(output_path, \"test_norm.csv\")\n",
    ")"
   ]
  },
  {
   "cell_type": "markdown",
   "metadata": {
    "heading_collapsed": true
   },
   "source": [
    "### Exploration des données"
   ]
  },
  {
   "cell_type": "markdown",
   "metadata": {
    "heading_collapsed": true,
    "hidden": true
   },
   "source": [
    "#### 1)"
   ]
  },
  {
   "cell_type": "markdown",
   "metadata": {
    "hidden": true
   },
   "source": [
    "Complétez les fonctions retournant les informations suivantes (une fonction par information, chaque fonction prenant en argument un corpus composé d'une liste de phrases segmentées en tokens(tokenization)) ou une liste de genres et une liste de sentiments:"
   ]
  },
  {
   "cell_type": "code",
   "execution_count": 206,
   "metadata": {},
   "outputs": [],
   "source": [
    "corpus = [['soso.', 'kim a acheté un mbp13 silver!', 'mourad a acheté un mbp16 spacegrey']]\n",
    "corpus = [['soso', 'a', 'acheté', 'un', 'mbp16', 'silver', '.', 'Je', 'ne', 'suis', 'pas', 'daccord!'],\n",
    "          ['kim', 'a', 'acheté', 'un', 'mpb13', 'silver','.'], \n",
    "          ['mourad', 'a', 'acheté', 'un', 'mbp16', 'spacegrey', '.', 'Quil', 'aime', 'beaucoup']]"
   ]
  },
  {
   "cell_type": "code",
   "execution_count": 207,
   "metadata": {},
   "outputs": [],
   "source": [
    "#Return if the corpus is tokenized or not\n",
    "def isTokenized(corpus) :\n",
    "    for sentences in corpus :\n",
    "        for sentence in corpus :\n",
    "            for l in sentence :\n",
    "                if ' ' in l :\n",
    "                    return 0\n",
    "    return 1"
   ]
  },
  {
   "cell_type": "code",
   "execution_count": 208,
   "metadata": {},
   "outputs": [],
   "source": [
    "#Return the corpus as a list of documents, that are not tokenizated, but segmented in sentences\n",
    "def getListOfSentences(corpus):\n",
    "    listOfDocs = []\n",
    "    listOfTokens = []\n",
    "    if isTokenized(corpus) :\n",
    "        for sentences in corpus :\n",
    "            for token in sentences :\n",
    "                listOfTokens.append(token)\n",
    "            s = ' '.join(listOfTokens)\n",
    "            s = nltk.sent_tokenize(s)\n",
    "            listOfDocs.append(s)\n",
    "            listOfTokens = []\n",
    "    return listOfDocs"
   ]
  },
  {
   "cell_type": "code",
   "execution_count": 209,
   "metadata": {},
   "outputs": [
    {
     "data": {
      "text/plain": [
       "[['soso a acheté un mbp16 silver .', 'Je ne suis pas daccord!'],\n",
       " ['kim a acheté un mpb13 silver .'],\n",
       " ['mourad a acheté un mbp16 spacegrey .', 'Quil aime beaucoup']]"
      ]
     },
     "execution_count": 209,
     "metadata": {},
     "output_type": "execute_result"
    }
   ],
   "source": [
    "getListOfSentences(corpus)"
   ]
  },
  {
   "cell_type": "markdown",
   "metadata": {
    "hidden": true
   },
   "source": [
    "##### a. Le nombre total de tokens (mots non distincts)"
   ]
  },
  {
   "cell_type": "code",
   "execution_count": 210,
   "metadata": {
    "hidden": true
   },
   "outputs": [],
   "source": [
    "def getNumberOfTokens(corpus):\n",
    "    corpus = getListOfSentences(corpus)\n",
    "    count = 0\n",
    "    for sentences in corpus :\n",
    "        for sentence in sentences :\n",
    "            count = count + len(nltk.word_tokenize(sentence))\n",
    "    return count"
   ]
  },
  {
   "cell_type": "code",
   "execution_count": 211,
   "metadata": {},
   "outputs": [
    {
     "data": {
      "text/plain": [
       "30"
      ]
     },
     "execution_count": 211,
     "metadata": {},
     "output_type": "execute_result"
    }
   ],
   "source": [
    "getNumberOfTokens(corpus)"
   ]
  },
  {
   "cell_type": "markdown",
   "metadata": {
    "hidden": true
   },
   "source": [
    "##### b. Le nombre total de types"
   ]
  },
  {
   "cell_type": "code",
   "execution_count": 212,
   "metadata": {
    "hidden": true
   },
   "outputs": [],
   "source": [
    "def getNumberOfTypes(corpus):\n",
    "    corpus = getListOfSentences(corpus)\n",
    "    listOfTokens = []\n",
    "    for sentences in corpus :\n",
    "        for sentence in sentences :\n",
    "            tokenList = nltk.word_tokenize(sentence)\n",
    "            for token in tokenList :\n",
    "                listOfTokens.append(token)\n",
    "    listOfTypes = list(dict.fromkeys(listOfTokens))  \n",
    "    return len(listOfTypes)"
   ]
  },
  {
   "cell_type": "code",
   "execution_count": 213,
   "metadata": {},
   "outputs": [
    {
     "data": {
      "text/plain": [
       "20"
      ]
     },
     "execution_count": 213,
     "metadata": {},
     "output_type": "execute_result"
    }
   ],
   "source": [
    "getNumberOfTypes(corpus)"
   ]
  },
  {
   "cell_type": "markdown",
   "metadata": {
    "hidden": true
   },
   "source": [
    "##### c. Le nombre total de phrases avec négation"
   ]
  },
  {
   "cell_type": "code",
   "execution_count": 214,
   "metadata": {
    "hidden": true
   },
   "outputs": [],
   "source": [
    "def getNumberOfNeg(corpus) :\n",
    "    corpus = getListOfSentences(corpus)\n",
    "    #to do\n",
    "    pass"
   ]
  },
  {
   "cell_type": "markdown",
   "metadata": {
    "hidden": true
   },
   "source": [
    "##### d. Le ratio token/type"
   ]
  },
  {
   "cell_type": "code",
   "execution_count": 215,
   "metadata": {
    "hidden": true
   },
   "outputs": [],
   "source": [
    "def getRatioTokenType(corpus):\n",
    "    return float(getNumberOfTokens(corpus)/getNumberOfTypes(corpus))"
   ]
  },
  {
   "cell_type": "code",
   "execution_count": 216,
   "metadata": {},
   "outputs": [
    {
     "data": {
      "text/plain": [
       "1.5"
      ]
     },
     "execution_count": 216,
     "metadata": {},
     "output_type": "execute_result"
    }
   ],
   "source": [
    "getRatioTokenType(corpus)"
   ]
  },
  {
   "cell_type": "markdown",
   "metadata": {
    "hidden": true
   },
   "source": [
    "##### e. Le nombre total de lemmes distincts"
   ]
  },
  {
   "cell_type": "code",
   "execution_count": 217,
   "metadata": {
    "hidden": true
   },
   "outputs": [],
   "source": [
    "import nltk\n",
    "def getLemmesNumber(corpus):\n",
    "    corpus = getListOfSentences(corpus)\n",
    "    lemmzer = nltk.WordNetLemmatizer()\n",
    "    lemmesList = []\n",
    "    for sentences in corpus :\n",
    "        for sentence in sentences :\n",
    "            lemmes = [lemmzer.lemmatize(token) for token in sentence.split()]\n",
    "            for lemme in lemmes :  \n",
    "                lemmesList.append(lemme)\n",
    "    \n",
    "    lemmesList = list(dict.fromkeys(lemmesList))   \n",
    "    return len(lemmesList)"
   ]
  },
  {
   "cell_type": "code",
   "execution_count": 218,
   "metadata": {},
   "outputs": [
    {
     "data": {
      "text/plain": [
       "19"
      ]
     },
     "execution_count": 218,
     "metadata": {},
     "output_type": "execute_result"
    }
   ],
   "source": [
    "getLemmesNumber(corpus)"
   ]
  },
  {
   "cell_type": "markdown",
   "metadata": {
    "hidden": true
   },
   "source": [
    "##### f. Le nombre total de racines (stems) distinctes"
   ]
  },
  {
   "cell_type": "code",
   "execution_count": 219,
   "metadata": {
    "hidden": true
   },
   "outputs": [],
   "source": [
    "import nltk\n",
    "def getStemsNumber(corpus):\n",
    "    corpus = getListOfSentences(corpus)\n",
    "    stemmer = nltk.PorterStemmer()\n",
    "    stemsList = []\n",
    "    for sentences in corpus :\n",
    "        for sentence in sentences :\n",
    "            stems = [stemmer.stem(token) for token in sentence.split()]\n",
    "            for stem in stems :\n",
    "                stemsList.append(stem)\n",
    "    stemsList = list(dict.fromkeys(stemsList))     \n",
    "    return len(stemsList)"
   ]
  },
  {
   "cell_type": "code",
   "execution_count": 220,
   "metadata": {},
   "outputs": [
    {
     "data": {
      "text/plain": [
       "19"
      ]
     },
     "execution_count": 220,
     "metadata": {},
     "output_type": "execute_result"
    }
   ],
   "source": [
    "getStemsNumber(corpus)"
   ]
  },
  {
   "cell_type": "markdown",
   "metadata": {
    "hidden": true
   },
   "source": [
    "##### g. Le nombre total de documents (par classe)"
   ]
  },
  {
   "cell_type": "code",
   "execution_count": 221,
   "metadata": {
    "hidden": true
   },
   "outputs": [],
   "source": [
    "def getNumberOfDocPerClass(sentiments):\n",
    "    countPositive = 0\n",
    "    countNegative = 0\n",
    "    for sentiment in sentiments : \n",
    "        if sentiment : #positif\n",
    "            countPositive = countPositive + 1\n",
    "        else : #negatif\n",
    "            countNegative = countNegative + 1\n",
    "    return countPositive, countNegative\n",
    "        \n",
    "        "
   ]
  },
  {
   "cell_type": "code",
   "execution_count": 222,
   "metadata": {},
   "outputs": [
    {
     "data": {
      "text/plain": [
       "(6, 5)"
      ]
     },
     "execution_count": 222,
     "metadata": {},
     "output_type": "execute_result"
    }
   ],
   "source": [
    "semtiments = [0,\n",
    "          0,\n",
    "          0,\n",
    "          0,\n",
    "          0, #5 negatif\n",
    "          1,\n",
    "          1,\n",
    "          1,\n",
    "          1,\n",
    "          1,\n",
    "          1] #6 positif\n",
    "\n",
    "getNumberOfDocPerClass(semtiments)"
   ]
  },
  {
   "cell_type": "markdown",
   "metadata": {
    "hidden": true
   },
   "source": [
    "##### h. Le nombre total de phrases (par classe)"
   ]
  },
  {
   "cell_type": "code",
   "execution_count": 223,
   "metadata": {
    "hidden": true
   },
   "outputs": [],
   "source": [
    "def getNumberOfSentencesPerClass(corpus, sentiments) :\n",
    "    corpus = getListOfSentences(corpus)\n",
    "    countSentencesPositives = 0\n",
    "    countSentencesNegatives = 0\n",
    "    for i in range(len(corpus)):\n",
    "        if sentiments[i] : #positive\n",
    "            countSentencesPositives = countSentencesPositives + len(corpus[i])\n",
    "        else : #negative\n",
    "            countSentencesNegatives = countSentencesNegatives + len(corpus[i])          \n",
    "    return countSentencesPositives, countSentencesNegatives   "
   ]
  },
  {
   "cell_type": "code",
   "execution_count": 224,
   "metadata": {},
   "outputs": [
    {
     "data": {
      "text/plain": [
       "(3, 2)"
      ]
     },
     "execution_count": 224,
     "metadata": {},
     "output_type": "execute_result"
    }
   ],
   "source": [
    "sentiments = [0,1,1]\n",
    "getNumberOfSentencesPerClass(corpus, sentiments)"
   ]
  },
  {
   "cell_type": "markdown",
   "metadata": {
    "hidden": true
   },
   "source": [
    "##### i. Le nombre total de phrases avec négation (par classe)"
   ]
  },
  {
   "cell_type": "code",
   "execution_count": 225,
   "metadata": {
    "hidden": true
   },
   "outputs": [],
   "source": [
    "#to do"
   ]
  },
  {
   "cell_type": "markdown",
   "metadata": {
    "hidden": true
   },
   "source": [
    "##### j. Le pourcentage de réponses positives par genre de la personne à qui cette réponse est faite (op_gender)"
   ]
  },
  {
   "cell_type": "code",
   "execution_count": 226,
   "metadata": {},
   "outputs": [],
   "source": [
    "genders = [['M', 'M', 'W', 'W', 'M', 'M', 'W', 'W', 'M', 'M', 'W', 'W']]\n",
    "sentiments = [True , False, True, False, True , False, True,\n",
    "             False, False, True,  False, False]"
   ]
  },
  {
   "cell_type": "code",
   "execution_count": 227,
   "metadata": {
    "hidden": true
   },
   "outputs": [],
   "source": [
    "# #to do : pas sûre de ce qui est demandé\n",
    "# def getPourcentageOfPositiveReponsesPerGender(sentiments, genders):\n",
    "#     countPositiveResponses = 0\n",
    "#     countReponses = len(sentiments)\n",
    "#     for i in range len(sentiments):\n",
    "#         if sentiments[i] : #positive\n",
    "#             countPositiveResponses = countPositiveResponses + 1\n",
    "            \n",
    "#     #?????\n",
    "#     return float(countPositiveResponses/countReponses)\n",
    "\n",
    "def countPositive(genders, sentiments):\n",
    "    countPosM = countPosW = 0\n",
    "    iterator = 0\n",
    "    totalResponse = len(sentiments)\n",
    "   \n",
    "    for sentiment in sentiments:\n",
    "        if sentiment == True :\n",
    "                if genders[0][iterator] == 'M':\n",
    "                    countPosM = countPosM + 1\n",
    "                   \n",
    "                elif genders[0][iterator] == 'W':\n",
    "                    countPosW = countPosW + 1\n",
    "        iterator = iterator + 1\n",
    "   \n",
    "    pourcentageW = (countPosW / totalResponse) * 100\n",
    "    pourcentageM = (countPosM / totalResponse) * 100\n",
    "   \n",
    "    return(pourcentageM,pourcentageW)        "
   ]
  },
  {
   "cell_type": "code",
   "execution_count": null,
   "metadata": {},
   "outputs": [],
   "source": []
  },
  {
   "cell_type": "markdown",
   "metadata": {
    "hidden": true
   },
   "source": [
    "#### 2) Écrivez la fonction explore(corpus, sentiments, genders) qui calcule et affiche toutes ces informations, précédées d'une légende reprenant l’énoncé de chaque question (a,b, ….j)."
   ]
  },
  {
   "cell_type": "code",
   "execution_count": 228,
   "metadata": {
    "hidden": true
   },
   "outputs": [],
   "source": [
    "def explore(\n",
    "    corpus: List[List[str]], sentiments: List[bool], genders: List[Literal[\"M\", \"W\"]]\n",
    ") -> None:\n",
    "    print(\"Le nombre total de tokens (mots non distincts) : \" + getNumberOfTokens(corpus) + \"\\n\")\n",
    "    print(\"Le nombre total de types : \" + getNumberOfTypes(corpus) + \"\\n\")\n",
    "    print(\"Le nombre total de phrases avec négation : \"   + \"\\n\") #to do\n",
    "    print(\"Le ratio token/type : \" + getRatioTokenType(corpus) + \"\\n\")\n",
    "    print(\"Le nombre total de lemmes distincts : \" + getLemmesNumber(corpus) + \"\\n\")\n",
    "    print(\"Le nombre total de racines (stems) distinctes : \" + getStemsNumber(corpus) + \"\\n\")\n",
    "    print(\"Le nombre total de documents (par classe) : \" + getNumberOfDocPerClass(semtiments) + \"\\n\")\n",
    "    print(\"Le nombre total de phrases (par classe) : \" + getNumberOfSentencesPerClass(corpus, sentiments) + \"\\n\")\n",
    "    print(\"Le nombre total de phrases avec négation (par classe) : \"  + \"\\n\") #to do\n",
    "    print(\"Le pourcentage de réponses positives par genre de la personne à qui cette réponse est faite (op_gender) : \" \n",
    "          + getPourcentageOfPositiveReponsesPerGender(sentiments, genders)  + \"\\n\")\n",
    "    \n",
    "    pass\n",
    "    \n",
    "    "
   ]
  },
  {
   "cell_type": "markdown",
   "metadata": {
    "heading_collapsed": true,
    "hidden": true
   },
   "source": [
    "#### 3) Calculer une table de fréquence (lemme, rang (le mot le plus fréquent a le rang 1 etc.) ; fréquence (le nombre de fois où il a été vu dans le corpus).  Seuls les N mots les plus fréquents du vocabulaire (N est un paramètre) doivent être gardés. Vous devez stocker les 1000 premières lignes de cette table dans un fichier nommé table_freq.csv"
   ]
  },
  {
   "cell_type": "code",
   "execution_count": 229,
   "metadata": {},
   "outputs": [],
   "source": [
    "#to do\n",
    "def calculateFrequences() :\n",
    "    pass"
   ]
  },
  {
   "cell_type": "markdown",
   "metadata": {
    "heading_collapsed": true
   },
   "source": [
    "## 2. Classification automatique"
   ]
  },
  {
   "cell_type": "markdown",
   "metadata": {
    "heading_collapsed": true,
    "hidden": true
   },
   "source": [
    "### a) Classification  automatique avec un modèle sac de mots (unigrammes), Naive Bayes et la régression logistique"
   ]
  },
  {
   "cell_type": "markdown",
   "metadata": {
    "hidden": true
   },
   "source": [
    "En utilisant la librairie scikitLearn et l’algorithme Multinomial Naive Bayes et Logistic Regression, effectuez la classification des textes avec un modèle sac de mots unigramme pondéré avec TF-IDF.  Vous devez entrainer chaque modèle sur l’ensemble d’entrainement et le construire à partir de votre fichier corpus_train.csv. \n",
    "\n",
    "Construisez et sauvegardez votre modèle sac de mots avec les données d’entrainement en testant les pré-traitements suivants (séparément et en combinaison): tokenisation, lemmatisation, stemming, normalisation des négations, et suppression des mots outils. Vous ne devez garder que la combinaison d’opérations qui vous donne les meilleures performances sur le corpus de test. Indiquez dans un commentaire les pré-traitements qui vous amènent à votre meilleure performance (voir la section 3 – évaluation). Il est possible que la combinaison optimale ne soit pas la même selon que vous utilisiez la régression logistique ou Naive Bayes. On s’attend à avoir deux modèles optimaux, un pour Naive Bayes, et un avec régression logistique."
   ]
  },
  {
   "cell_type": "code",
   "execution_count": 230,
   "metadata": {},
   "outputs": [],
   "source": [
    "from sklearn.feature_extraction.text import TfidfVectorizer, CountVectorizer\n",
    "from sklearn.naive_bayes import MultinomialNB\n",
    "from sklearn.linear_model import LogisticRegression\n",
    "from sklearn.metrics import f1_score\n",
    "from sklearn.metrics import classification_report"
   ]
  },
  {
   "cell_type": "markdown",
   "metadata": {
    "hidden": true
   },
   "source": [
    "### Naive Bayes"
   ]
  },
  {
   "cell_type": "code",
   "execution_count": 231,
   "metadata": {
    "hidden": true
   },
   "outputs": [],
   "source": [
    "def naiveBayes(train_data, test_data):\n",
    "    vectorizer = TfidfVectorizer()\n",
    "    vectors = vectorizer.fit_transform(train_data[0])\n",
    "    clf = MultinomialNB(alpha=0.5)\n",
    "    clf.fit(vectors, train_data[1])\n",
    "    \n",
    "    vectors_test = vectorizer.transform(test_data[0])\n",
    "    y_pred = clf.predict(vectors_test)\n",
    "    return y_pred"
   ]
  },
  {
   "cell_type": "markdown",
   "metadata": {
    "hidden": true
   },
   "source": [
    "### Régression Logistique"
   ]
  },
  {
   "cell_type": "code",
   "execution_count": 232,
   "metadata": {
    "hidden": true
   },
   "outputs": [],
   "source": [
    "def logisticsRegression(train_data, test_data):\n",
    "    vectorizer = TfidfVectorizer()\n",
    "    vectors = vectorizer.fit_transform(train_data[0])\n",
    "    model = LogisticRegression(C=1.0)\n",
    "    model.fit(vectors, train_data[1])\n",
    "    \n",
    "    vectors_test = vectorizer.transform(test_data[0])\n",
    "    y_pred = model.predict(vectors_test)\n",
    "    return y_pred"
   ]
  },
  {
   "cell_type": "markdown",
   "metadata": {
    "hidden": true
   },
   "source": [
    "###  b) Autre représentation pour l’analyse de sentiments et classification automatique"
   ]
  },
  {
   "cell_type": "markdown",
   "metadata": {
    "hidden": true
   },
   "source": [
    "On vous propose maintenant d’utiliser une nouvelle représentation de chaque document à classifier.\n",
    "Vous devez créer à partir de votre corpus la table suivante :\n",
    "\n",
    "| Vocabulaire | Freq-positive | Freq-négative |\n",
    "|-------------|---------------|---------------|\n",
    "| happy | 10 | 1 |\n",
    "| ... | ... | ... |\n",
    "\n",
    "Où :\n",
    "\n",
    "• Vocabulaire représente tous les types (mots uniques) de votre corpus d’entrainement\n",
    "\n",
    "• Freq-positive : représente la somme des fréquences du mot dans tous les documents de la classe positive\n",
    "\n",
    "• Freq-négative : représente la somme des fréquences du mot dans tous les documents de la classe négative\n",
    "\n",
    "Notez qu’en Python, vous pouvez créer un dictionnaire associant à tout (mot, classe) une fréquence.\n",
    "Ensuite il vous suffit de représenter chaque document par un vecteur à 3 dimensions dont le premier élément représente un biais (initialisé à 1), le deuxième élément représente la somme des fréquences positives (freq-pos) de tous les mots uniques (types) du document et enfin le troisième élément représente la somme des fréquences négative (freq-neg) de tous les mots uniques du document. \n",
    "\n",
    "En utilisant cette représentation ainsi que les pré-traitements suggérés, trouvez le meilleur modèle possible en testant la régression logistique et Naive Bayes. Vous ne devez fournir que le code de votre meilleur modèle dans votre notebook."
   ]
  },
  {
   "cell_type": "code",
   "execution_count": null,
   "metadata": {
    "hidden": true
   },
   "outputs": [],
   "source": []
  },
  {
   "cell_type": "markdown",
   "metadata": {
    "heading_collapsed": true
   },
   "source": [
    "## 3. Évaluation et discussion"
   ]
  },
  {
   "cell_type": "markdown",
   "metadata": {
    "hidden": true
   },
   "source": [
    "#### a) Pour déterminer la performance de vos modèles, vous devez tester vos modèles de classification sur l’ensemble de test et générer vos résultats pour chaque modèle dans une table avec les métriques suivantes : Accuracy et pour chaque classe, la précision, le rappel et le F1 score. On doit voir cette table générée dans votre notebook avec la liste de vos modèles de la section 2 et leurs performances respectives. "
   ]
  },
  {
   "cell_type": "code",
   "execution_count": 233,
   "metadata": {
    "hidden": true
   },
   "outputs": [
    {
     "name": "stdout",
     "output_type": "stream",
     "text": [
      "              precision    recall  f1-score   support\n",
      "\n",
      "       False       0.85      0.26      0.40       254\n",
      "        True       0.80      0.98      0.88       751\n",
      "\n",
      "    accuracy                           0.80      1005\n",
      "   macro avg       0.82      0.62      0.64      1005\n",
      "weighted avg       0.81      0.80      0.76      1005\n",
      "\n"
     ]
    }
   ],
   "source": [
    "y_pred_bayes = naiveBayes(train_data, test_data)\n",
    "print(classification_report(test_data[1], y_pred_bayes))"
   ]
  },
  {
   "cell_type": "code",
   "execution_count": 234,
   "metadata": {},
   "outputs": [
    {
     "name": "stdout",
     "output_type": "stream",
     "text": [
      "              precision    recall  f1-score   support\n",
      "\n",
      "       False       0.80      0.53      0.64       254\n",
      "        True       0.86      0.95      0.90       751\n",
      "\n",
      "    accuracy                           0.85      1005\n",
      "   macro avg       0.83      0.74      0.77      1005\n",
      "weighted avg       0.84      0.85      0.84      1005\n",
      "\n"
     ]
    }
   ],
   "source": [
    "y_pred_regression = logisticsRegression(train_data, test_data)\n",
    "print(classification_report(test_data[1], y_pred_regression))"
   ]
  },
  {
   "cell_type": "markdown",
   "metadata": {
    "heading_collapsed": true,
    "hidden": true
   },
   "source": [
    "#### b) Générez un graphique qui représente la performance moyenne (mean accuracy – 10 Fold cross-validation) de vos différents modèles par tranches de 500 textes sur l’ensemble d’entrainement."
   ]
  },
  {
   "cell_type": "code",
   "execution_count": null,
   "metadata": {
    "hidden": true
   },
   "outputs": [],
   "source": []
  },
  {
   "cell_type": "markdown",
   "metadata": {
    "hidden": true
   },
   "source": [
    "#### c) Que se passe-t-il lorsque le paramètre de régularisation de la régression logisque (C) est augmenté ?"
   ]
  },
  {
   "cell_type": "code",
   "execution_count": null,
   "metadata": {
    "hidden": true
   },
   "outputs": [],
   "source": []
  },
  {
   "cell_type": "markdown",
   "metadata": {},
   "source": [
    "## 4. Analyse et discussion"
   ]
  },
  {
   "cell_type": "markdown",
   "metadata": {},
   "source": [
    "#### a) En considérant les deux types de représentations, répondez aux question suivantes en reportant la question dans le notebook et en inscrivant votre réponse:"
   ]
  },
  {
   "cell_type": "markdown",
   "metadata": {},
   "source": [
    "#### b) Quel est l’impact de l’annotation de la négation ?"
   ]
  },
  {
   "cell_type": "code",
   "execution_count": null,
   "metadata": {},
   "outputs": [],
   "source": []
  },
  {
   "cell_type": "markdown",
   "metadata": {},
   "source": [
    "#### c) La suppression des stopwords est-elle une bonne idée pour l’analyse de sentiments ?"
   ]
  },
  {
   "cell_type": "code",
   "execution_count": null,
   "metadata": {},
   "outputs": [],
   "source": []
  },
  {
   "cell_type": "markdown",
   "metadata": {},
   "source": [
    "#### d) Le stemming et/ou la lemmatisation sont-ils souhaitables dans le cadre de l’analyse de sentiments ?"
   ]
  },
  {
   "cell_type": "code",
   "execution_count": null,
   "metadata": {},
   "outputs": [],
   "source": []
  },
  {
   "cell_type": "markdown",
   "metadata": {},
   "source": [
    "## 5. Contribution"
   ]
  },
  {
   "cell_type": "markdown",
   "metadata": {},
   "source": [
    "Complétez la section en haut du notebook indiquant la contribution de chaque membre de l’équipe en indiquant ce qui a été effectué par chaque membre et le pourcentage d’effort du membre dans le TP. "
   ]
  },
  {
   "cell_type": "code",
   "execution_count": null,
   "metadata": {},
   "outputs": [],
   "source": []
  },
  {
   "cell_type": "code",
   "execution_count": null,
   "metadata": {},
   "outputs": [],
   "source": []
  }
 ],
 "metadata": {
  "kernelspec": {
   "display_name": "Python 3",
   "language": "python",
   "name": "python3"
  },
  "language_info": {
   "codemirror_mode": {
    "name": "ipython",
    "version": 3
   },
   "file_extension": ".py",
   "mimetype": "text/x-python",
   "name": "python",
   "nbconvert_exporter": "python",
   "pygments_lexer": "ipython3",
   "version": "3.8.3"
  }
 },
 "nbformat": 4,
 "nbformat_minor": 4
}
