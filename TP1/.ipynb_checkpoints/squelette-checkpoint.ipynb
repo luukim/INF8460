{
 "cells": [
  {
   "cell_type": "markdown",
   "metadata": {},
   "source": [
    "## École Polytechnique de Montréal\n",
    "## Département Génie Informatique et Génie Logiciel\n",
    "\n",
    "## INF8460 – Traitement automatique de la langue naturelle - TP1"
   ]
  },
  {
   "cell_type": "markdown",
   "metadata": {},
   "source": [
    "## Objectifs d'apprentissage: \n",
    "\n",
    "•\tSavoir accéder à un corpus, le nettoyer et effectuer divers pré-traitements sur les données\n",
    "•\tSavoir effectuer une classification automatique des textes pour l’analyse de sentiments\n",
    "•\tEvaluer l’impact des pré-traitements sur les résultats obtenus\n"
   ]
  },
  {
   "cell_type": "markdown",
   "metadata": {},
   "source": [
    "## Équipe et contributions \n",
    "Veuillez indiquer la contribution effective de chaque membre de l'équipe en pourcentage et en indiquant les modules ou questions sur lesquelles chaque membre a travaillé\n"
   ]
  },
  {
   "cell_type": "markdown",
   "metadata": {},
   "source": [
    "Nom Étudiant 1: Luu Thien-Kim (1834378) 33.33%\n",
    "\n",
    "Nom Étudiant 2: Mellouk Souhaila (1835144) 33.33%\n",
    "\n",
    "Nom Étudiant 3: Younes Mourad (1832387) 33.33%\n",
    "\n",
    "Nous avons tous travaillé ensemble sur chaque question"
   ]
  },
  {
   "cell_type": "markdown",
   "metadata": {
    "heading_collapsed": true
   },
   "source": [
    "## Librairies externes"
   ]
  },
  {
   "cell_type": "code",
   "execution_count": 165,
   "metadata": {
    "hidden": true
   },
   "outputs": [],
   "source": [
    "import os\n",
    "import pandas as pd\n",
    "from typing import List, Literal, Tuple"
   ]
  },
  {
   "cell_type": "markdown",
   "metadata": {
    "heading_collapsed": true
   },
   "source": [
    "## Valeurs globales"
   ]
  },
  {
   "cell_type": "code",
   "execution_count": 166,
   "metadata": {
    "hidden": true
   },
   "outputs": [],
   "source": [
    "data_path = \"data\"\n",
    "output_path = \"output\""
   ]
  },
  {
   "cell_type": "markdown",
   "metadata": {
    "heading_collapsed": true
   },
   "source": [
    "## Données"
   ]
  },
  {
   "cell_type": "code",
   "execution_count": 167,
   "metadata": {
    "hidden": true
   },
   "outputs": [],
   "source": [
    "def read_data(path: str) -> Tuple[List[str], List[bool], List[Literal[\"M\", \"W\"]]]:\n",
    "    data = pd.read_csv(path)\n",
    "    inputs = data[\"response_text\"].tolist()\n",
    "    labels = (data[\"sentiment\"] == \"Positive\").tolist()\n",
    "    gender = data[\"op_gender\"].tolist()\n",
    "    return inputs, labels, gender"
   ]
  },
  {
   "cell_type": "code",
   "execution_count": 168,
   "metadata": {
    "hidden": true
   },
   "outputs": [],
   "source": [
    "train_data = read_data(os.path.join(data_path, \"train.csv\"))\n",
    "test_data = read_data(os.path.join(data_path, \"test.csv\"))\n",
    "\n",
    "train_data = ([text.lower() for text in train_data[0]], train_data[1], train_data[2])\n",
    "test_data = ([text.lower() for text in test_data[0]], test_data[1], test_data[2])"
   ]
  },
  {
   "cell_type": "markdown",
   "metadata": {},
   "source": [
    "## 1. Pré-traitement et Exploration des données"
   ]
  },
  {
   "cell_type": "markdown",
   "metadata": {
    "heading_collapsed": true
   },
   "source": [
    "### Lecture et prétraitement"
   ]
  },
  {
   "cell_type": "markdown",
   "metadata": {
    "hidden": true
   },
   "source": [
    "Dans cette section, vous devez compléter la fonction preprocess_corpus qui doit être appelée sur les fichiers train.csv et test.csv. La fonction preprocess_corpus appellera les différentes fonctions créées ci-dessous. Les différents fichiers de sortie doivent se retrouver dans le répertoire output.  Chacune des sous-questions suivantes devraient être une ou plusieurs fonctions."
   ]
  },
  {
   "cell_type": "code",
   "execution_count": 169,
   "metadata": {},
   "outputs": [],
   "source": [
    "train_path = os.path.join(data_path, \"train.csv\")\n",
    "test_path = os.path.join(data_path, \"test.csv\")\n",
    "\n",
    "train_phrases_path = os.path.join(output_path, \"train_phrases.csv\")\n",
    "test_phrases_path = os.path.join(output_path, \"test_phrases.csv\")"
   ]
  },
  {
   "cell_type": "markdown",
   "metadata": {
    "heading_collapsed": true,
    "hidden": true
   },
   "source": [
    "#### 1) Segmentez chaque corpus en phrases, et stockez-les dans un fichier `nomcorpus`_phrases.csv (une phrase par ligne)"
   ]
  },
  {
   "cell_type": "code",
   "execution_count": 405,
   "metadata": {
    "hidden": true
   },
   "outputs": [
    {
     "name": "stderr",
     "output_type": "stream",
     "text": [
      "[nltk_data] Downloading package punkt to /Users/kimluu/nltk_data...\n",
      "[nltk_data]   Package punkt is already up-to-date!\n",
      "[nltk_data] Downloading package wordnet to /Users/kimluu/nltk_data...\n",
      "[nltk_data]   Package wordnet is already up-to-date!\n"
     ]
    }
   ],
   "source": [
    "import nltk\n",
    "nltk.download(\"punkt\") \n",
    "nltk.download(\"wordnet\")\n",
    "import csv\n",
    "\n",
    "def segmentSentences(path) :\n",
    "    data = read_data(path)\n",
    "    corpus = data[0]\n",
    "    if not os.path.isdir(output_path) :\n",
    "        try:\n",
    "            os.mkdir(output_path)\n",
    "        except OSError:\n",
    "            print (\"Creation of the directory %s failed\" % path)\n",
    "        else:\n",
    "            print (\"Successfully created the directory %s \" % path)\n",
    "    newFilePath = output_path + '/' + os.path.splitext(os.path.basename(path))[0] + \"_phrases.csv\"\n",
    "    file = open(newFilePath, \"w\")\n",
    "    with open(newFilePath, \"w\") as f: \n",
    "        f.write(\"response_text\" + ',' + \"sentiment\" + ',' + \"op_gender\" +'\\n')\n",
    "        for i in range(len(corpus)) :\n",
    "            sentences = nltk.sent_tokenize(corpus[i])\n",
    "            for sentence in sentences:\n",
    "                sentence = sentence.replace('\"', '\"\"').replace('\"', '\"\"')\n",
    "                f.write('\"'+ sentence +'\"' + ',' + '\"' +str(data[1][i])+ '\"'+ ',' + '\"'+data[2][i] + '\"\\n')\n",
    "                \n",
    "    return newFilePath\n"
   ]
  },
  {
   "cell_type": "code",
   "execution_count": 406,
   "metadata": {},
   "outputs": [
    {
     "data": {
      "text/plain": [
       "'output/test_phrases.csv'"
      ]
     },
     "execution_count": 406,
     "metadata": {},
     "output_type": "execute_result"
    }
   ],
   "source": [
    "segmentSentences(train_path)\n",
    "segmentSentences(test_path)"
   ]
  },
  {
   "cell_type": "markdown",
   "metadata": {
    "hidden": true
   },
   "source": [
    "#### 2) Normalisez chaque corpus au moyen d’expressions régulières en annotant les négations avec _Neg L’annotation de la négation doit ajouter un suffixe _NEG à chaque mot qui apparait entre une négation et un signe de ponctuation qui identifie une clause. Exemple : \n",
    "No one enjoys it.  no one_NEG enjoys_NEG it_NEG .\n",
    "\n",
    "I don’t think I will enjoy it, but I might.  i don’t think_NEG i_NEG will_NEG enjoy_NEG it_NEG, but i might."
   ]
  },
  {
   "cell_type": "code",
   "execution_count": 407,
   "metadata": {},
   "outputs": [],
   "source": [
    "def getPath(path) :\n",
    "    if \"train\" in path :\n",
    "        path = train_path\n",
    "    elif \"test\" in path :\n",
    "        path = test_path\n",
    "        \n",
    "    return path"
   ]
  },
  {
   "cell_type": "code",
   "execution_count": 408,
   "metadata": {
    "hidden": true
   },
   "outputs": [],
   "source": [
    "import re\n",
    "\n",
    "def normalize(path) :\n",
    "    with open(path, \"r\") as f :\n",
    "        data = list(f)\n",
    "    \n",
    "    newFilePath = output_path + '/' + os.path.splitext(os.path.basename(getPath(path)))[0] + \"_negation.csv\"\n",
    "    file = open(newFilePath, \"w\")\n",
    "    with open(newFilePath, \"w\") as f:\n",
    "        for sentence in data:\n",
    "            match = re.sub(\"(?i)(?<=not |n't | no )(.*?[,.(?!;]+)\", lambda m: m.group(1).replace(\" \", \"_NEG \")\n",
    "                           .replace(\".\", \"_NEG.\").replace(\",\", \"_NEG,\").replace(\"?\", \"_NEG?\").replace(\"!\", \"_NEG!\")\n",
    "                           .replace(\"(\", \"_NEG(\").replace(\";\", \"_NEG;\"), sentence)\n",
    "            f.write(match)\n",
    "            \n",
    "    return newFilePath\n",
    "            "
   ]
  },
  {
   "cell_type": "code",
   "execution_count": 409,
   "metadata": {},
   "outputs": [
    {
     "data": {
      "text/plain": [
       "'output/test_negation.csv'"
      ]
     },
     "execution_count": 409,
     "metadata": {},
     "output_type": "execute_result"
    }
   ],
   "source": [
    "normalize(train_phrases_path)\n",
    "normalize(test_phrases_path)"
   ]
  },
  {
   "cell_type": "markdown",
   "metadata": {
    "hidden": true
   },
   "source": [
    "#### 3) Segmentez chaque phrase en mots (tokenisation) et stockez-les dans un fichier `nomcorpus`_mots.csv. (Une phrase par ligne, chaque token séparé par un espace, il n’est pas nécessaire de stocker la phrase non segmentée ici) ;"
   ]
  },
  {
   "cell_type": "code",
   "execution_count": 429,
   "metadata": {
    "hidden": true
   },
   "outputs": [],
   "source": [
    "def tokenize(path) :\n",
    "    sentences = []\n",
    "    \n",
    "#     with open(path, \"r\") as f :\n",
    "#         data = list(f)\n",
    "    data = read_data(path)\n",
    "    corpus = data[0]        \n",
    "#     print(data[1])\n",
    "    newFilePath = output_path + '/' + os.path.splitext(os.path.basename(getPath(path)))[0] + \"_mots.csv\"\n",
    "    file = open(newFilePath, \"w\")\n",
    "    with open(newFilePath, \"w\") as f: \n",
    "        f.write(\"response_text\" + ',' + \"sentiment\" + ',' + \"op_gender\" +'\\n')\n",
    "        for i in range(len(corpus)) :\n",
    "            listTokens = nltk.word_tokenize(corpus[i])\n",
    "            tokens = ' '.join(listTokens)\n",
    "            print(tokens)\n",
    "            tokens = sentence.replace('\"', '\"\"').replace('\"', '')\n",
    "            f.write('\"' + tokens + '\"' + ',' + '\"' + str(data[1][i])+ ',' + data[2][i] + '\"\\n')\n",
    "                \n",
    "    return newFilePath"
   ]
  },
  {
   "cell_type": "code",
   "execution_count": 430,
   "metadata": {},
   "outputs": [
    {
     "data": {
      "text/plain": [
       "'output/test_mots.csv'"
      ]
     },
     "execution_count": 430,
     "metadata": {},
     "output_type": "execute_result"
    }
   ],
   "source": [
    "# tokenize(train_phrases_path)\n",
    "tokenize(test_phrases_path)\n",
    "\n",
    "# train_mots_path = os.path.join(output_path, \"train_mots.csv\")\n",
    "# test_mots_path = os.path.join(output_path, \"test_mots.csv\")"
   ]
  },
  {
   "cell_type": "markdown",
   "metadata": {
    "hidden": true
   },
   "source": [
    "#### 4) Lemmatisez les mots et stockez les lemmes dans un fichier `nomcorpus`_lemmes.csv (une phrase par ligne, les lemmes séparés par un espace) ;"
   ]
  },
  {
   "cell_type": "code",
   "execution_count": 177,
   "metadata": {
    "hidden": true
   },
   "outputs": [],
   "source": [
    "def lemmatize(path) :\n",
    "    with open(path, \"r\") as f :\n",
    "        data = list(f)\n",
    "        \n",
    "    newFilePath = output_path + '/' + os.path.splitext(os.path.basename(getPath(path)))[0] + \"_lemmes.csv\"\n",
    "    lemmzer = nltk.WordNetLemmatizer()\n",
    "    \n",
    "    file = open(newFilePath, \"w\")\n",
    "    with open(newFilePath, \"w\") as f: \n",
    "        for sentences in data :\n",
    "            lemmes = [lemmzer.lemmatize(token) for token in sentences.split()]\n",
    "            sentences = ' '.join(lemmes)\n",
    "            f.write(sentences+'\\n')\n",
    "                \n",
    "    return newFilePath"
   ]
  },
  {
   "cell_type": "code",
   "execution_count": 178,
   "metadata": {
    "scrolled": false
   },
   "outputs": [
    {
     "data": {
      "text/plain": [
       "'output/test_lemmes.csv'"
      ]
     },
     "execution_count": 178,
     "metadata": {},
     "output_type": "execute_result"
    }
   ],
   "source": [
    "lemmatize(train_mots_path)\n",
    "lemmatize(test_mots_path)"
   ]
  },
  {
   "cell_type": "markdown",
   "metadata": {
    "hidden": true
   },
   "source": [
    "#### 5) Retrouvez la racine des mots (stemming) en utilisant nltk.PorterStemmer(). Stockez-les dans un fichier `nomcorpus`_stems.csv (une phrase par ligne, les racines séparées par une espace) ;"
   ]
  },
  {
   "cell_type": "code",
   "execution_count": 179,
   "metadata": {
    "hidden": true
   },
   "outputs": [],
   "source": [
    "def stemmize(path) :    \n",
    "    with open(path, \"r\") as f :\n",
    "        reader = csv.reader(f)\n",
    "        data = list(reader)\n",
    "        \n",
    "    path = getPath(path)\n",
    "    newFilePath = output_path + '/' + os.path.splitext(os.path.basename(path))[0] + \"_stems.csv\"\n",
    "    \n",
    "    stemmer = nltk.PorterStemmer()\n",
    "    \n",
    "    file = open(newFilePath, \"w\")\n",
    "    with open(newFilePath, \"w\") as f: \n",
    "        for sentences in data :\n",
    "            for sentence in sentences :\n",
    "                stems = [stemmer.stem(token) for token in sentence.split()]\n",
    "                sentences = ' '.join(stems)\n",
    "                f.write('\"' + sentences + '\"\\n')\n",
    "                \n",
    "    return newFilePath\n",
    "    "
   ]
  },
  {
   "cell_type": "code",
   "execution_count": 180,
   "metadata": {},
   "outputs": [
    {
     "data": {
      "text/plain": [
       "'output/test_stems.csv'"
      ]
     },
     "execution_count": 180,
     "metadata": {},
     "output_type": "execute_result"
    }
   ],
   "source": [
    "stemmize(train_mots_path)\n",
    "stemmize(test_mots_path)"
   ]
  },
  {
   "cell_type": "markdown",
   "metadata": {
    "heading_collapsed": true,
    "hidden": true
   },
   "source": [
    "#### 6) Ecrivez une fonction qui supprime les mots outils (stopwords) du corpus. Vous devez utiliser la liste de stopwords de NLTK ;"
   ]
  },
  {
   "cell_type": "code",
   "execution_count": 181,
   "metadata": {
    "hidden": true
   },
   "outputs": [
    {
     "name": "stderr",
     "output_type": "stream",
     "text": [
      "[nltk_data] Downloading package stopwords to\n",
      "[nltk_data]     /Users/kimluu/nltk_data...\n",
      "[nltk_data]   Package stopwords is already up-to-date!\n"
     ]
    }
   ],
   "source": [
    "nltk.download(\"stopwords\")\n",
    "from nltk.corpus import stopwords\n",
    "stopwords.words(\"english\")\n",
    "\n",
    "def deleteStopWords(path) :\n",
    "    with open(path, \"r\") as f :\n",
    "        reader = csv.reader(f)\n",
    "        data = list(reader)\n",
    "        \n",
    "    path = getPath(path)\n",
    "    newFilePath = output_path + '/' + os.path.splitext(os.path.basename(path))[0] + \"_stopWords.csv\"\n",
    "    stopwords_english = set(stopwords.words(\"english\"))\n",
    "    output = []\n",
    "    \n",
    "    file = open(newFilePath, \"w\")\n",
    "    with open(newFilePath, \"w\") as f: \n",
    "        for sentences in data :\n",
    "            for sentence in sentences :\n",
    "                newSentence = [token for token in nltk.word_tokenize(sentence) if token not in stopwords_english]\n",
    "                sentences = ' '.join(newSentence)\n",
    "                output.append(sentences)\n",
    "                f.write('\"' + sentences + '\"\\n')\n",
    "                \n",
    "    return output\n",
    "                \n",
    "#enlever la création de nouveaux fichiers\n",
    "    "
   ]
  },
  {
   "cell_type": "code",
   "execution_count": 182,
   "metadata": {},
   "outputs": [
    {
     "data": {
      "text/plain": [
       "['Thanks back !',\n",
       " 'Yep , University Alberta .',\n",
       " 'You live around ?',\n",
       " \"please n't sell land Steve\",\n",
       " 'shaking head ignorance deliberate ignoring facts FDR , Pearl Harbor , WWII .',\n",
       " 'To contemplated tri , perhaps ?',\n",
       " 'Pshh ... Is treat props .. Just go around deleting ? ! ? !',\n",
       " 'Sureeeeeeeeeeeeeeeeeeee I see .',\n",
       " \": pYeah 's definitely still bugs around .\",\n",
       " \"My workout last night posted today 's date .\",\n",
       " 'lol',\n",
       " 'Thanks !',\n",
       " 'I also love bacon .',\n",
       " ': )',\n",
       " 'Hello Isaac !',\n",
       " \"My copy arrived yesterday France , I 'm happy excited read ! ! !\",\n",
       " 'XD',\n",
       " 'We need keep Bob Menendez congress .',\n",
       " \"It 's really excellent lecture , I believe her.so , fake till make !\",\n",
       " \"I 'm human according questions .\",\n",
       " 'And tone great , I lot fun : )',\n",
       " \"You 're awesome ! !\",\n",
       " '!',\n",
       " 'B Mattek awesome , I love bad girl risque style .',\n",
       " \"Brit : I 'm glad u r Fox tonight .\",\n",
       " 'You calm people bring common sense .',\n",
       " 'You class act !',\n",
       " '!',\n",
       " 'Good luck .',\n",
       " 'I really hope make .',\n",
       " 'Please reach Mr. Trump !',\n",
       " 'Thanks feedback !',\n",
       " 'Ill sure check phrasing next time : )',\n",
       " 'This talk powerful ..',\n",
       " 'Currently enjoying Ashley Bell .',\n",
       " 'Love writing much Dean .',\n",
       " 'Thank gifts give us',\n",
       " 'carpet bagging troll ... Liz Warren represent Massachusetts',\n",
       " 'I like much .',\n",
       " \"It 's great area explore 's long drive ... good kids .\",\n",
       " \"Monotasking ... god , mean actually good something , 's world coming .\",\n",
       " \"Dont know 's hype sells nowadays , skill nothing anymore , dinosaur .\",\n",
       " 'Explain guys continue letting Obama break laws .',\n",
       " 'Lawlessness abounds D.C. Where checks balances ?',\n",
       " 'Arrest .',\n",
       " 'Proper rest important , bad call ....',\n",
       " 'OOOOOHHHHH , thanks !',\n",
       " 'Paula fans !',\n",
       " 'Like page !',\n",
       " 'We Love You Paula',\n",
       " 'Seems bit disingenuous Seth , find different issue !',\n",
       " 'This wonderful .',\n",
       " 'Thank much putting !',\n",
       " \"Megyn , great job I bet 're wonderful lady person !\",\n",
       " 'RUN , CLAIRE , RUN ! ! ! ! !',\n",
       " 'WE NEED YOU ! ! ! ! ! ! ! ! ! ! ! ! ! ! ! !',\n",
       " '!',\n",
       " 'You bully .',\n",
       " 'Still insulting 12 hours later .',\n",
       " 'Seriously , wrong ?',\n",
       " 'You need professional help .',\n",
       " 'A little death scare amazing things motivation .',\n",
       " 'Thanks following back .',\n",
       " 'Great PP !',\n",
       " 'Hi !',\n",
       " 'I heard TED story .',\n",
       " 'Your story useful , teach success failure syndrome .',\n",
       " 'everything get syndrome .',\n",
       " 'Were happy end ?',\n",
       " 'Then grand old idea : )',\n",
       " 'I never known anyone stand platform lies long without falling pit disgrace .',\n",
       " 'Just ask Sarah Palin , Glenn Beck , David Vitter .',\n",
       " 'We federal transportation funding potentially great Trans-Hudson Passenger Rail Tunnel , governor paid debts .',\n",
       " \"Got ta keep Harper high rotation , 's boy !\",\n",
       " 'Dooooo eeeet .',\n",
       " \"I n't seen pup yet luckbox : )\",\n",
       " '..... thank Jill ...',\n",
       " \"Just got phone call daughter one granddaughter sitting Hanabusa booth Maku ' u Farmers market near Pahoa .\",\n",
       " 'Hooray cell phones !',\n",
       " 'Fox noise never report good news .',\n",
       " 'If failing would run breaking news .',\n",
       " 'Yay !',\n",
       " 'boobs proportionate hands , everyone gets wi ...',\n",
       " 'Proud lucky Mike Capuano Congressman !',\n",
       " 'Thank great work !',\n",
       " \"Hey , daddy knows ... And I guess ai n't saying .\",\n",
       " 'No prob .',\n",
       " 'Always glad help',\n",
       " 'Safe ?',\n",
       " \"Apparently illegal aliens since voted Obama 's amnesty .\",\n",
       " 'Dont forget Chogall high 20s .',\n",
       " 'pleasure !',\n",
       " 'keep good work !',\n",
       " ': )',\n",
       " \"Do n't let crazy anti-health care reformers get Brian .\",\n",
       " \"We 're counting !\",\n",
       " 'Enjoyed presentation Dave .',\n",
       " 'Any suggestions related reading material ?',\n",
       " 'Un fuerte abrazo tu mama Ruben , que reciba muchas bendiciones hoy siempre .',\n",
       " 'My friends I also look forward voting US Senate !',\n",
       " 'Thanks .',\n",
       " 'And interesting variety well !',\n",
       " 'Dont worry , Ive googled shed load listened couple peoples advice .',\n",
       " 'I think Ill ok .',\n",
       " 'Now Im picturing Chicken assassin , poisoning tea ... maybe french accent .',\n",
       " 'Contains graphic artistic nudity strong sexual references .',\n",
       " 'Not suitable young audiences .',\n",
       " 'I actually shot Tofino , break surf .',\n",
       " 'Thanks following back !',\n",
       " 'Never heard guy till .',\n",
       " 'He jam !',\n",
       " 'way win big florida .... !',\n",
       " 'lol',\n",
       " 'Rebooting !',\n",
       " 'Week 1 .',\n",
       " 'Kara great !',\n",
       " 'More brainey women !',\n",
       " 'Very nice Congress-man GW Meeks',\n",
       " 'There needs Jackie signs ! ! !',\n",
       " 'Too many loser Joe Bock signs around .',\n",
       " \"He 's racist anti-Jew loser !\",\n",
       " 'http : //freebeacon.com/politics/scholarship-at-palestinian-university-named-after-dem-congressional-candidate/ [ [ SHARE ] ]',\n",
       " 'oh lala ... race !',\n",
       " ': D',\n",
       " 'The inference dynamic processing helps visual integration develop impressed .',\n",
       " 'Some talk twitter Gove might get defence .',\n",
       " 'God help us thats true',\n",
       " \"At least 're back !\",\n",
       " 'situations china complex , one fix',\n",
       " 'Heavenly Father , Please Heal Our Land .....',\n",
       " 'Ha !',\n",
       " \"I saw LOL 'd I started looking feed learned great exercises lifting bootay !\",\n",
       " 'I also saw men group thought would get kick !',\n",
       " \"Wow looks like I 'm last stage declination ...\",\n",
       " \"I 'm 16 ..\",\n",
       " 'Better pick Arabic ASAP : )',\n",
       " \"The fact kind problem cropping engineering thousands years development makes glad I n't work field !\",\n",
       " \"Imagine 've spent years designing building bridge new , quite unknown issue arises opening day - poor engineers !\",\n",
       " 'Good morning Dunia que tengan un excelente dia',\n",
       " 'Keep good work !',\n",
       " 'Thank !',\n",
       " '!',\n",
       " \"Lol I 'll make looks great always\",\n",
       " 'precious family pic .',\n",
       " 'Dont ever give Trust Moogles Exdeath , TMR bad .',\n",
       " 'Unless using Orlandu , Cecils important .',\n",
       " 'Do options Fryevia ?',\n",
       " 'Loved book !',\n",
       " \"In fact , reading cover cover one 'go ' , I began reading !\",\n",
       " 'I think book , message , ending .... could change lives .',\n",
       " '@ Dean Koontz .',\n",
       " 'In clip interview ... library shelves ?',\n",
       " 'Thanks well .',\n",
       " 'Look forward seeing feeds !',\n",
       " ': )',\n",
       " 'But lives parents ?',\n",
       " 'Hopefully didnt use credit card .',\n",
       " 'Welcome group !',\n",
       " 'My nose bench 230 , whats .',\n",
       " 'This talk made feel sorry us humans trying move sexily club bed .',\n",
       " 'So laborious !',\n",
       " \"We discuss 's fair divide pie , anyone accepts position paid multiple times average nothing discuss , bring art justification table .\",\n",
       " 'Those super-rich necessary .',\n",
       " 'I strange feeling I watching professional preacher New York needs urgent psychiatric treatment ( lot cash ) !',\n",
       " \": ) In case anybody knows change , whether political , social personal Mallika 's dance actually produced , share us .\",\n",
       " 'WATCH MORE TALK WHILE nothing IS ACTUALLY BEING DONE ! ! ! ! !',\n",
       " 'NO THANKS ! ! !',\n",
       " '!',\n",
       " 'And stop posting ? ?',\n",
       " '?',\n",
       " 'Senator DeSantis , sounds good ! !',\n",
       " 'I hate lose district though .',\n",
       " 'Come show Cali show asian girls ucla done !',\n",
       " \"Looks like obama smelled Putin 's fartski\",\n",
       " 'Hey Mark - still around ?',\n",
       " 'Good .',\n",
       " 'Thanks follow man',\n",
       " 'Yes , A trail around ADK park towns linked together , The kids youth conservation corp could use work .',\n",
       " 'The trails already .',\n",
       " \"That 's awesome !\",\n",
       " 'We lot common : )',\n",
       " 'I really wish still Dean Koontz gift store still open , I need Pico Mundo Grille coffee mugs !',\n",
       " 'thanks follwing back man !',\n",
       " 'My dated talk gotten .',\n",
       " \"If price long-distance n't zero talking India would prohibitively expensive .\",\n",
       " 'Chris Anderson really needs update video talk something geared toward 2011',\n",
       " 'Or * * * * likely ingress portals , put bored workers .',\n",
       " 'Edited emphasize',\n",
       " 'That clip makes want re-watch whole series ... You ready The Breakfast tomorrow morning ?',\n",
       " 'I love field hockey .',\n",
       " 'I played football field hockey favorite sport softball girls basketball',\n",
       " 'My pleasure earned Morgan !',\n",
       " '!',\n",
       " 'Thank Lucandebulter !',\n",
       " 'I actually kind like !',\n",
       " \"Go Get 'Em Rand Paul .\",\n",
       " 'I heard Laura Ingraham show today great !',\n",
       " 'Glad see front making case .',\n",
       " 'guess I voted ! HA !',\n",
       " '!',\n",
       " 'Spreading love !',\n",
       " 'Thank much needed inspiration !',\n",
       " 'She good speaker topic .',\n",
       " 'We close age .',\n",
       " 'Thank speaking .',\n",
       " \"I 'm glad , great role model others overcoming shame .\",\n",
       " \"I imagine flooded people 's feeds positive comments , would wonderful .\",\n",
       " 'Thank much citizen Salisbury .',\n",
       " 'I enjoy listening enlightening words Professor Dawkins .',\n",
       " 'I always expressed atheism openly .',\n",
       " 'We atheists militant grave hindrance religion poses science .',\n",
       " 'We must least even playing field .',\n",
       " 'They want transparency !',\n",
       " 'Plain simple !',\n",
       " 'Oh worries , I thought .',\n",
       " 'And PP brings smile face every time I see !',\n",
       " 'Awesome article Eric ! !',\n",
       " 'So happy !',\n",
       " '!',\n",
       " 'fascinating - really enjoyed talk',\n",
       " 'Thank !',\n",
       " \"If need anything , I 'm ^^\",\n",
       " 'Sorry old hat ; really suddenly ( ) discovered people need valued ! ?',\n",
       " \"Some 'old guy ' ... Ahh , Maslow ! ! !\",\n",
       " 'I wish someone would pay reinvent wheel !',\n",
       " 'Thanks follow back haha : )',\n",
       " 'Never heard speak rights Muslim women',\n",
       " 'It victory uninsured reason .',\n",
       " 'Let us hope present law improved necessary changes .',\n",
       " 'Bitsie may beautiful place planet .',\n",
       " 'The water clear , lake rocks like nowhere else .',\n",
       " 'America need another $ 1 trillion + bankrupt America',\n",
       " 'Been inconsistent back track ! Thanks follow',\n",
       " 'Thanks hard work issue .',\n",
       " 'Most volume control T.V .',\n",
       " 'ads .',\n",
       " 'make difference annoyance broadcasting .',\n",
       " 'south mpls taxes going huge surplus ! ! !',\n",
       " '!',\n",
       " 'Easy stop sending money foreign nations start spending citizens foreign aide BS ! !',\n",
       " '!',\n",
       " 'Heroes leaders emerge .',\n",
       " 'Thank , Monica taking back narrative uplifting us thoughtful words , analysis decree empathy , compassion world public shaming click past .',\n",
       " 'luv u much tyra alwayas watch ANTM : ALL STARS',\n",
       " 'Shelley vote .',\n",
       " 'Jim Ballard',\n",
       " 'Your radiating joy .',\n",
       " 'See future cruise Alonzo .',\n",
       " 'Greatful All Americans vote Trump .',\n",
       " \"Awkwafina 's Genius ! ! !\",\n",
       " '!',\n",
       " 'Hi Claire !',\n",
       " 'Saw bus go downtown Columbia yesterday .',\n",
       " 'Was going try stop say hello ( I used Win Horner ... ) thank service .',\n",
       " 'You definitely vote !',\n",
       " 'lol .',\n",
       " 'im protein shake .',\n",
       " 'still got creatine though , eating loads tuna lol .',\n",
       " 'http : //twitchy.com/2015/05/10/watch-mark-halperins-ghastly-cuban-authenticity-interrogation-of-ted-cruz-video/',\n",
       " 'Thank much !',\n",
       " 'Actually , I situation like I confidence school I shy communicate others .',\n",
       " 'But I hopes I make watching !',\n",
       " 'In contrast , simple flat tax would flatten tax brackets , allow everyone pay comparable percentage tax , still hinder stimulative effect economic activity sales jobs increasing sales taxes would negatively impact .',\n",
       " 'Thanks back !',\n",
       " 'Great lifts !',\n",
       " ': )',\n",
       " 'It changed life : )',\n",
       " 'I feel much better knowing - Im alone .',\n",
       " 'True .',\n",
       " 'ES takes practice though .',\n",
       " 'If youre used timing maximum impact teamfight , going get value .',\n",
       " 'Medusa doesnt change part playstyle .',\n",
       " 'Its free value .',\n",
       " 'Great game , well played !',\n",
       " 'Early night !',\n",
       " 'I suggest reading theory created Allan Kardec .',\n",
       " 'He initiator research seeks present reasoned faith evolution spirit , proving reducing violence decreases proportionally evolution spirit time .',\n",
       " 'I LOVE YOU DAN EBERLE !',\n",
       " 'This wonderful -- thank much beautiful tribute .',\n",
       " 'She true , one big connected energy chosen manifest , beautiful part artists manifest .',\n",
       " 'We put Markwayne fight corruption .',\n",
       " \"Do n't let us .\",\n",
       " 'No problem !',\n",
       " 'Haha Thank youuuu !',\n",
       " ': D',\n",
       " 'something like best , rest come',\n",
       " 'Awesome ! !',\n",
       " 'What great honour !',\n",
       " \"My pleasure - keep keepin ' , brother .\",\n",
       " 'Life funny way throwing obstacles - adapt survive .',\n",
       " 'Very inspiring project ... As Pediatric Physical Therapist , I wondering children evalutated treated gross fine motor deficits .',\n",
       " 'Children rely visual/perceptual skills develop motorically .',\n",
       " 'We love watching .',\n",
       " 'You earth pleasant listen .',\n",
       " 'You dressed well tonight .',\n",
       " 'Do pay attention others jealous !',\n",
       " 'Good luck , hope works : - )',\n",
       " 'lot dopes vote clowns like Udall',\n",
       " 'Not entirely surprising given one State Senators powered solely hot air ?',\n",
       " 'shame , I actually havent listened albums full yet .',\n",
       " 'My internet crud watch youtube .',\n",
       " 'I got money buy .',\n",
       " 'Im working .',\n",
       " 'slowly .',\n",
       " 'I listened large majority songs , I wouldnt able name album , probably .',\n",
       " 'Wow Amy , moving !',\n",
       " 'You really inspired !',\n",
       " \"I 'd love translate increase awareness .\",\n",
       " 'Possibilities Dutch French .',\n",
       " 'Love talk !',\n",
       " 'Monday goodness begins !',\n",
       " 'thanks remembering !',\n",
       " 'Hope well !',\n",
       " 'Hey agree Harvey .',\n",
       " 'If tamper DNA make us physically powerful ?',\n",
       " 'Why tamper Psyche make us not-selfish , not-greedy , non-racist , non-terrorist , non-war ish , non-explotish ? ? ? ? ?',\n",
       " 'Suggestions welcome',\n",
       " 'Editing fucking point',\n",
       " 'thanks !',\n",
       " 'joined group',\n",
       " 'Mrs. Carter spoke thing ( Bunchy Carter Mama ) ... God Bless community ...',\n",
       " 'Goodmorning .',\n",
       " 'And good afternoon Netherlands ....',\n",
       " 'Good morning Chris .',\n",
       " 'Watching Berman & Romans Early Start waiting # NewDay ... Pre-Cubs game nerves .',\n",
       " 'Beautiful artowrk indeed ... must difficult craft sure .',\n",
       " '< href=http : //www.ultimatedefensesystem.com/ > Self Defense Moves < /a >',\n",
       " 'Hey man , could attend deaf hard hearing meet .',\n",
       " 'Could fun',\n",
       " 'Inmates need stick license plates , manufacturing anything detrimental saving lives .',\n",
       " 'Denny Crane shit',\n",
       " \"His talk reminds Edward De Bono 's book - Simplicity .\",\n",
       " 'Therefore I suggest 4th quadrant referred simplicity .',\n",
       " 'Thank much , Debbie ! !',\n",
       " \"You one amazing lady I 'm excited involved UAW politics !\",\n",
       " '!',\n",
       " \"Best talk I 've ever seen ; ) Even wathing talk makes feel really powerful .\",\n",
       " 'Thank sharing !',\n",
       " 'que hermosa may como sienpre',\n",
       " 'Thanks making effort coming support athletes !',\n",
       " 'Great work clear victory tonight !',\n",
       " 'If stretch , track !',\n",
       " ': )',\n",
       " 'I love -- two look like celebrities .',\n",
       " 'People magazine come .',\n",
       " 'make luck around hurr .',\n",
       " 'got shit',\n",
       " 'What ?',\n",
       " 'No mickey Ds Royale cheese ?',\n",
       " 'Honestly , class haha !',\n",
       " 'Bon chance mes amis !',\n",
       " 'I connect better Im staring words .',\n",
       " '... And It helps discern Sara ( Tinder ) Im talking ?',\n",
       " 'Edit : Im kidding , damn',\n",
       " 'That toxic masculinity strikes , evil evil men .',\n",
       " '< link >',\n",
       " 'Great clip Traci ... n rip Sam Kinison .',\n",
       " ': - ( True genius , ..',\n",
       " 'Very exciting .',\n",
       " 'I wish Tennis Channel would show mixed doubles matches',\n",
       " 'Rino ego size ass ..... I glad liberals ripping jackass .',\n",
       " \"I n't want running prez anyway .... gasbag .\",\n",
       " 'Egory Mullins polite .',\n",
       " 'Seriously ... One funniest tv shows EVER ! ! !',\n",
       " '!',\n",
       " \"sad still talking I 'm almost 65 !\",\n",
       " 'Thank showing astonishing animals ! ! !',\n",
       " 'It amazing observe animals , It requires special highly developed cells convert appearance skin like enviroment .',\n",
       " 'Just Unbelievable .',\n",
       " 'The words I listen video differences civilization , China ability hold differences lot civilization , So worry rise China .',\n",
       " 'It benefit world .',\n",
       " 'So Chinatown support jobs ?',\n",
       " 'I think everyone always mood Kimi win',\n",
       " 'You know whats also addictive Television ?',\n",
       " 'Reddit !',\n",
       " \"n't dismiss .\",\n",
       " 'see earlier comment ( April 4 )',\n",
       " 'I always liked .',\n",
       " 'It made could talk whatever wanted , opinions know agreed upon .',\n",
       " 'No isnt , update goes live time every single , clutter .',\n",
       " 'There wasnt one yesterday , update , post like removed .',\n",
       " 'Its necessary .',\n",
       " 'Also , I would like point NOWHERE post made topic say update live .',\n",
       " 'Thanks much Dave !',\n",
       " \"I really appreciate support : ) Guess I 'd better get run ... Hope great weekend !\",\n",
       " 'Im Canadian wings fan hes favourite Canadian player .',\n",
       " 'I , , feel way : P',\n",
       " 'Senator Wicker , Thank much voting earmarks ! ! !',\n",
       " 'Keep good work .',\n",
       " 'FYI Mr. Rivera , LOVED Eastwood , thank much .',\n",
       " 'Lets Mary champion',\n",
       " 'No surprise .... best person us ! ! ! ! ! !',\n",
       " '!',\n",
       " 'Right money sir tell Obama Reid money left spend waste .',\n",
       " 'The acceptable answer Yes , case wondering .',\n",
       " 'Great job Trevin Weech !',\n",
       " \"The CFYMCA , Teen board , proud team , sending nothing well wishes 've completed High School !\",\n",
       " 'Thank support , Congresswoman Tsongas !',\n",
       " 'Easy remember passwords always insecure guessed easily people',\n",
       " 'But [ assuming Ireland ] legally pay less per hour 16-18 years olds ... less full adults whove worked 2+ jobs past .',\n",
       " 'I learned tell story pictures .',\n",
       " 'I use create dramatic , emotional photos',\n",
       " 'Hehe , I know humor anyway : p',\n",
       " 'You welcome .',\n",
       " 'I propping workouts achievements , earned every one .',\n",
       " ': - )',\n",
       " '35,000 people die hunger day .',\n",
       " 'They probably need help penguins .',\n",
       " 'Absolutely vote Tom Cotton Asa Hutchinson I vote person I think would best person job elected',\n",
       " 'An idea worth spreading , man worth knowing .',\n",
       " 'Rock , friend ; rock .',\n",
       " 'Any one ever watch Zoom ?',\n",
       " 'Boston Mass !',\n",
       " 'Oh two one three foooooooooooooouuuur ! !',\n",
       " '!',\n",
       " 'wan na see least one intimate scene diesel katee',\n",
       " 'LOL great song !',\n",
       " \"I 've finding rock strength training station pandora excellent choice workouts .\",\n",
       " 'Osceola ; home Bartle Scout Reservation ; great memories .',\n",
       " \"Liked response today 's News Miner regarding opponent 's negative campaigning .\",\n",
       " 'thank : ) niceness , I went found something else prop !',\n",
       " 'This talk really inspiring me.You teach read books different ways.I hope help later life.I proud !',\n",
       " '!',\n",
       " 'Growing kids need real food , junk .',\n",
       " 'Good .',\n",
       " 'giving alcohol hard , !',\n",
       " \"Joe , Joe , Joe - n't possible people met reflection hatred ?\",\n",
       " 'Oh please - Bernie us along .',\n",
       " 'Thanks input !',\n",
       " 'I may end haha ... maybe 2000 years drift river found River-Hobbit ring curse becomes disgusting emaciated creature lives cave coughs name verbal tic ...',\n",
       " 'The universe fascinating .',\n",
       " \"It 's cool seeing different ideas spoken ted relate interests .\",\n",
       " \"You check great video technological evolution , 's influence society .\",\n",
       " 'Expand minds , think beautifully ! ! !',\n",
       " 'vimeo.com/44957378',\n",
       " \"It 's Ascension Day .\",\n",
       " 'I celebrating lifting weights .',\n",
       " ': - )',\n",
       " 'I problem sound cutting .',\n",
       " 'Watched subtitles I kept missing picture I reading .',\n",
       " 'I hope fix glitch .',\n",
       " 'Thank .',\n",
       " \"I 'm trying think papercut relation easily could much worse .\",\n",
       " '( Seriously lucky knee injury ! )',\n",
       " 'Appreciate note back Fito often recovery updates soon : ) xo',\n",
       " 'It really inspiring ! ! !',\n",
       " '> > ) ) )',\n",
       " 'Amazing video !',\n",
       " 'I show communication students week inspiration .',\n",
       " 'Thank Monica coming speaking .',\n",
       " 'We needed hear .',\n",
       " 'This must hear talk .',\n",
       " 'Right back ya !',\n",
       " ': )',\n",
       " \"I 'm finding calves get massive DOMs I train directly calf raises .\",\n",
       " 'They pain train comes goes ...',\n",
       " \"I 'd keep bro .\",\n",
       " 'I usually forget DOMs I warm .',\n",
       " 'Man fuck !',\n",
       " \"You 're welcome love .\",\n",
       " 'Thank serving Rep Amash- best best- Iowa !',\n",
       " '# 4Liberty',\n",
       " 'Good work .',\n",
       " 'You close aunt law trailer .',\n",
       " 'I wanted know .',\n",
       " 'Nice know care',\n",
       " 'Perhaps youth getting smarter waking Obama ?',\n",
       " 'Sairal , wan na friends ?',\n",
       " 'We , Daniel Webster Speaker ! !',\n",
       " '!',\n",
       " 'Love love !',\n",
       " 'Just finished watching , I laughed hard I cried .',\n",
       " \"Every time I think I ca n't laugh cry harder , gets greater !\",\n",
       " 'omg This OP shit starter .',\n",
       " 'His previous topics also fabricated .',\n",
       " 'climate control ... truth chemtrails HAARP weather system ... worse volcanoes industry combined ...',\n",
       " 'So happy He * Flemings * dropped sake Party',\n",
       " 'This week , Bill , voted NO reform Fannie Mae & Freddie Mac , received 145 BILLION dollars money .',\n",
       " 'Interestingly , Nancy Pelosi voted NO well .',\n",
       " 'Your voting records indicate lust spending taxpayer money .',\n",
       " 'And wasting well .',\n",
       " 'Why governement even involved ?',\n",
       " \"They 're NOT kids .\",\n",
       " \"She 's going pianist - look fingers !\",\n",
       " 'thanks u !',\n",
       " ': D Nice pic : )',\n",
       " \"aiding America 's enemies .\",\n",
       " 'The damage done .',\n",
       " 'The kid paid comparable criminal .',\n",
       " 'What , Liz ?',\n",
       " 'Revenge ?',\n",
       " \"Get Keurig , ..... 'll love !\",\n",
       " 'lol oh thanks Becky ! !',\n",
       " 'Although , I make every day feel like Friday , feel much like Wednesday ? !',\n",
       " 'lol ..',\n",
       " 'Thanks healing stay somewhat sane work ... : )',\n",
       " 'Thanks follow !',\n",
       " 'I teach social studies .',\n",
       " 'Mainly AP Psychology , also Government US History time .',\n",
       " 'Oh yes !',\n",
       " \"But 's well kept guy secret .\",\n",
       " 'awesome ! !',\n",
       " 'I wish MY district ...',\n",
       " 'amazing ! ! ! ! ! !',\n",
       " 'agree ! ! ! !',\n",
       " '!',\n",
       " 'Thanks following back !',\n",
       " 'Hows view high horse ?',\n",
       " 'The description promises excitement Christmas holiday .',\n",
       " \"Let 's spice !\",\n",
       " 'CUT SPENDING , kids grand kids .',\n",
       " 'Great live stream Alicia !',\n",
       " 'shaking head ignorance deliberate ignoring facts FDR , Pearl Harbor , WWII .',\n",
       " 'Let us away , I , roof tall building ... And revel joy sunrise ?',\n",
       " 'Nothing change .',\n",
       " 'It WILL happen .',\n",
       " \"I 'm done Metro .\",\n",
       " \"I fan Jaime , supports Second amendment NRA , I 'm .\",\n",
       " \"Sorry John Kowalski , 're wrong .\",\n",
       " 'thanks !',\n",
       " 'appreciate much .',\n",
       " 'good luck goals .',\n",
       " 'type bike ?',\n",
       " 'Congratulations Congressman Webster ! !',\n",
       " 'We happy !',\n",
       " '!',\n",
       " 'No worries , thanks props !',\n",
       " 'Latrice Smith perfect',\n",
       " 'If go 14:30 realize something funny : Half million people watched film guy , watching film guy , watching film guy , changing oil .',\n",
       " 'I think somehow surreal .',\n",
       " \"indeed , n't understand people would want display/wear another animal 's skin , never .\",\n",
       " 'diversity populations decreasing well ... happier note , little touch end cute , grandparents !',\n",
       " ': )',\n",
       " 'Awww , two favorites !',\n",
       " 'Wish I .',\n",
       " 'Great photo .',\n",
       " 'Thank posting .',\n",
       " \"I sure hope 's movies partnership works .\",\n",
       " 'Dr. Verghese true doctor .',\n",
       " 'He knows takes heal patient .',\n",
       " 'The ritual talks priceless healing patients .',\n",
       " 'His book , Cutting Stone , moving talk .',\n",
       " 'He amazing human .',\n",
       " 'Thanks lot : D Will : D !',\n",
       " 'Still .. beautiful creature .',\n",
       " 'I agree I think SGK lose lot supporters , count one !',\n",
       " 'Following fellow IF user .',\n",
       " ': D',\n",
       " 'Hey !',\n",
       " 'Thanks hun !',\n",
       " ': )',\n",
       " 'They know whats year .',\n",
       " 'I doubt mind bring cup germany .',\n",
       " 'Got ta drop say hi every !',\n",
       " ': D',\n",
       " \"What I 'm watching I get home work morning !\",\n",
       " '!',\n",
       " 'heard solar plane South Korea .',\n",
       " 'It seems like incredible machine .',\n",
       " \"coul n't imagine .\",\n",
       " \"wow 's impressive\",\n",
       " 'You loved safe thanks sharing .. =D < 3',\n",
       " 'Thank good example !',\n",
       " 'We need good examples leading country .',\n",
       " 'Maybe women staying home fulfill duty mothers .',\n",
       " 'Perhaps women would less Dads without jobs .',\n",
       " \"I 'm alone neurosis .\",\n",
       " 'Thanks Elizabeth .',\n",
       " 'I heard originally BEZ .',\n",
       " 'Good story !',\n",
       " 'What got Tammy talking helicopter training instructor student killed .',\n",
       " 'It IS dangerous job I much respect pilots soldiers .',\n",
       " 'oooomg sweetest thing world < 333 sending hugs n kisses way xx',\n",
       " \"Let 's !\",\n",
       " 'Amazing courage ingenuity .',\n",
       " 'Thank sir !',\n",
       " 'With year+ hiatus , people I used follow either dropped closed accounts : /Looking find active users : D',\n",
       " 'Of course , thanks original follow',\n",
       " \"Half way , I think , 's talking samadhi .. towards end mentions experiencing nirvana ... like samadhi .\",\n",
       " 'Samadhi complete quietude mind nirvana means without ego losing sense I , complete union .',\n",
       " 'AWESOME',\n",
       " 'Thanks , Photoshop fun !',\n",
       " 'Forget get rd Obama , rest fix .',\n",
       " 'Awesome Steve !',\n",
       " \"You 'll GREAT job !\",\n",
       " 'Or treat Lyme Disease , causation .',\n",
       " \"Now 's novel idea .\",\n",
       " 'I follow I read bio .',\n",
       " 'Great achievements far good luck triathlons .',\n",
       " 'look forward seeing training : - )',\n",
       " 'Awe .',\n",
       " 'Thanks .',\n",
       " ': ) working change .',\n",
       " 'Thank Jaime working va like l use insurance still charge last year took tax refund witch I told thank Steven Looney',\n",
       " 'Talks exactly I watch TED .',\n",
       " 'Bravo !',\n",
       " 'Slowly surely !',\n",
       " 'Feel better !',\n",
       " 'I love way write .',\n",
       " 'everything .',\n",
       " \"books , stories , blogs , facebook posts , tweets ... 're eloquent drives mad .\",\n",
       " 'good way .',\n",
       " 'thanks inspiration .',\n",
       " 'You got ta figure though teams done soon',\n",
       " 'Muchsimas felicidades Maity , ud es un digno ejemplo de empeo , perseverancia humildad .',\n",
       " 'Dios la siga bendiciendo hoy siempre .',\n",
       " 'Gracias por siempre apoyar lo que viene de nuestro pas por sentirse orgullosa de ser catracha ( transmitir eso travez de la televisin ) .',\n",
       " 'Abrazos !',\n",
       " 'China stable sustainable economy model .',\n",
       " 'Now environment problem becoming severe .',\n",
       " 'The quality economy poor growth slowing .',\n",
       " \"That 's need reform keep growth speed .\",\n",
       " 'Beautiful talented lady/actress !',\n",
       " 'Have heard Charles Einstein ?',\n",
       " 'This guy amazing views world http : //dustantownsend.com/ ? p=659 video evolution civilization consciousness I recommend everyone !',\n",
       " 'like please share .',\n",
       " 'Happy birthday !',\n",
       " 'Sounds like fun day !',\n",
       " 'Very exciting imaginative .',\n",
       " 'I agree would great longer .',\n",
       " 'You kind get used 18 minutes soaking Ted talks .',\n",
       " 'Defiantly would like know see .',\n",
       " 'actually put workout status ya know',\n",
       " 'I Am Xtasie ! !',\n",
       " 'I Am [ [ PHOTO ] ]',\n",
       " \"You 're welcome & Thank following back !\",\n",
       " 'Thank Brene reminding us take care first !',\n",
       " 'Shared nurses Scrubs.com inspired !',\n",
       " 'http : //scrubsmag.com/the-power-of-vulnerability-why-nurses-must-take-care-of-themselves/',\n",
       " 'This third time I watched video - I taking advice using technique works .',\n",
       " 'Wonderful stuff - I also sharing many others .',\n",
       " 'A cynic would say regardless outcome : good , bad , lethal , Trey advocating billable time lawyers , prosecutors , defense , probate .',\n",
       " 'Makes sense think bit .',\n",
       " '( !',\n",
       " ') .',\n",
       " 'My daughter I always look forward seeing Linda stylish self .',\n",
       " \"We 'll miss us .\",\n",
       " 'Enjoy retirement fullest .',\n",
       " 'Looking great guys !',\n",
       " 'All best & travel safe',\n",
       " 'Not watching .',\n",
       " 'Michael Moore ..... really',\n",
       " 'And support killing wildlife trophies .',\n",
       " 'Love Conquered Hate < 3',\n",
       " 'Have great day Amanda !',\n",
       " '!',\n",
       " 'Repeal egregious , bullshit , big government , essence , TAX HIKE .',\n",
       " 'No way ever going see benefit sellout Christie legislation ! !',\n",
       " '!',\n",
       " 'Thank Tyra ... thank caring , , sharing ...',\n",
       " 'Pretty great get ability .',\n",
       " ': ) Also I woke 40 notifications morning',\n",
       " 'This woman never ceases amaze .',\n",
       " 'Thank Molly .',\n",
       " 'Insightful , honest revealing .',\n",
       " 'You definitely found path life .',\n",
       " 'Kudos !',\n",
       " 'Oh I already follow !',\n",
       " 'I want recommend : - ) hehe',\n",
       " 'Rhino Republican Paul Ryan lacky',\n",
       " 'This process safer Monsanto kind genetic engineering .',\n",
       " 'This process happening inside controlled space .',\n",
       " 'So I think kind work good .',\n",
       " 'Mucha suerte pendientes Rubn , saludos !',\n",
       " 'You front effort defund obamacare !',\n",
       " 'I see comments effort !',\n",
       " 'No problemo .',\n",
       " 'Thanks : )',\n",
       " \"Why n't people ignostics ?\",\n",
       " \"Maybe 's personal thing , scientifically-minded person one would think logical choice 're going label .\",\n",
       " '< obligatory > Say goodbye gains. < /obligatory >',\n",
       " 'Patty , weekend plans canvass Yakima Washington Jay Clough YOU ...',\n",
       " 'Go back study constitution .',\n",
       " '5 years accomplished ?',\n",
       " '$ 19+ trillion debt ?',\n",
       " \"You 're one favorite congressmen !\",\n",
       " 'Why go use Comic Sans ?',\n",
       " 'Congratulations good work',\n",
       " 'The DMV particular cousin like exceptions rule .',\n",
       " 'I hate place fiery passion .',\n",
       " 'You must pass legislation Common sense Gun Control .',\n",
       " 'On behalf # EmperorOmariJibri',\n",
       " 'Always good thing hear !',\n",
       " 'Wow , incredible accident .',\n",
       " 'Well , I wish accidents lead great discovery like .',\n",
       " 'Well done girls .',\n",
       " 'You bet ! ! !',\n",
       " 'Happy lifting ! ! !',\n",
       " '!',\n",
       " 'Hi Mary ... glad finally see ...',\n",
       " 'No problem .',\n",
       " 'Nice lift stats !',\n",
       " 'Kick butt !',\n",
       " 'That name sounds familiar ! !',\n",
       " '!',\n",
       " \"remember 're keeping fit life , today .\",\n",
       " 'set short term goals help move towards long term ones .',\n",
       " \"'ve made start 's hardest part\",\n",
       " 'Thank much .',\n",
       " 'Irene I wish Dianne Merry Christmas Happy , Healthy Nww Year .',\n",
       " '( 2/6 ) ng , acting socially , spreading wings I wish another 60 years , progressive science allow .',\n",
       " 'G-d Bless , & I wish meet',\n",
       " 'Like like like .............',\n",
       " 'agree Middle East assessment expressed MTP today ... thank service ...',\n",
       " 'Mr. Gowdy .',\n",
       " 'We love pursuit truth .',\n",
       " 'Please continue pursue Benghazi tragedy well Fast Furious .',\n",
       " 'No flying Legion zones start Legion .',\n",
       " 'Game set broken isles , aka , water .',\n",
       " 'Walking water useful questing traveling .',\n",
       " 'I glad someone stood bullies Of world !',\n",
       " 'You go girl ! !',\n",
       " '!',\n",
       " 'Definitely worth opinion .',\n",
       " 'Many fans calling best work - critics included .',\n",
       " 'So many ads detrimental.They work.I never forget Gingrich Santurum done could ever forget MC Cain South Carolina .',\n",
       " \"I remember 5 days Newt confidently said , I 'm going win , dust\",\n",
       " 'Are playing singles quallies Sydney Vania ?',\n",
       " 'Look forward seeing anyway : )',\n",
       " 'Welcome group , thanks follow back !',\n",
       " 'absolutely beautiful every way',\n",
       " 'Absolutely pretty angel',\n",
       " 'At least beaten death',\n",
       " 'Thanks .',\n",
       " 'Keep great work !',\n",
       " 'ok , lets please something !',\n",
       " '!',\n",
       " 'This talk actually inspired give lecture topic senior citizens region .',\n",
       " 'Awesome !',\n",
       " \"You seem like really positive guy I 'm sure translates great father well .\",\n",
       " 'Lets keep working sons !',\n",
       " 'Thats still got violation * something * .',\n",
       " 'Knowingly something give legal right sue ?',\n",
       " 'Thats completely unethical .',\n",
       " \"Lol I 'm mad cho either Still away , still away .\",\n",
       " 'Get Zen beach',\n",
       " '27 ( ) NRA leaders held accountable shooting .',\n",
       " 'EVERY NRA MEMBER accomplice tragedy , blood innocent victims THEIR hands !',\n",
       " '( 22 years retired military , combat veteran , WEAPON owner whole life , former republican NOT NRA member ! )',\n",
       " 'Awww !',\n",
       " 'Thank much Mike !',\n",
       " 'Your consistency inspiring .',\n",
       " \"Thank YOU motivation & 's wishing great fitful New Year !\",\n",
       " \"I ca n't seem find group ...\",\n",
       " 'Sorry !',\n",
       " \"If want I avoid propping future 's pain : )\",\n",
       " 'Hey !',\n",
       " 'No problem : ) It pleasure .',\n",
       " \"Ca n't wait see well !\",\n",
       " 'Fantastic talk ... type abstract analysis pushes knowledge , disciples , forward .',\n",
       " 'Also , irrespective topic guy one articulate eloquent speakers I ever heard .',\n",
       " 'I salute sir !',\n",
       " \"Deb , 're worthy reply .\",\n",
       " 'Conversing like talking brick wall .',\n",
       " 'Oops !',\n",
       " 'I apologize insulting brick wall .',\n",
       " 'Keep blocking present opinions opposite .',\n",
       " \"After , regressives like live world ca n't handle truth .\",\n",
       " 'Praying safe return ! !',\n",
       " 'Thank Mr. Williams ! ! !',\n",
       " '!',\n",
       " 'Im sick dog , still volunteering .',\n",
       " \"I 'll get better eventually , nation get better vote Debbie !\",\n",
       " '!',\n",
       " 'Give time I might able steer right direction .',\n",
       " \"I 'll get back later today exercises might like .\",\n",
       " 'While may managed gerrymander perpetual employment , truly represent LUCAS COUNTY .',\n",
       " 'Representative Kaptur champion region ever .',\n",
       " 'Yay !',\n",
       " 'Go Ravenclaws , I say !',\n",
       " \": ) It looks like 're going get hard work , lot fun support .\",\n",
       " 'I see said going !',\n",
       " 'Thank !',\n",
       " 'We rooting Claire !',\n",
       " 'For anyone wants believe humanizing possibilities connected world , anthem .',\n",
       " 'fall , get back : - )',\n",
       " 'lol I worked last night work .',\n",
       " 'Once I got home I chilled family .',\n",
       " \"I n't time put workout yesterday .\",\n",
       " \"I 'll put .\",\n",
       " 'Thanks , support nice : )',\n",
       " \"You 're welcome & Thank follow back ; )\",\n",
       " 'When crafting bill restore election Senators state legislatures ?',\n",
       " 'Whaaaaaat .',\n",
       " 'Youre saying ?',\n",
       " 'Person I responded clear trumpkin',\n",
       " 'It looks nice cozy : )',\n",
       " 'What I say ?',\n",
       " \"I 'm Christian appreciate tight ass !\",\n",
       " 'Thanks follow back : ) loooking forward feed !',\n",
       " 'Thanks following back !',\n",
       " \"Lol , I need come new physics jokes , I think I 've posted every one I know : )\",\n",
       " 'Thank Gio Robin sharing .',\n",
       " 'Am sure CNN good .',\n",
       " 'I feel TV depresses .',\n",
       " 'Esp people shootin color !',\n",
       " 'I hope feeling good .',\n",
       " 'I know MS terrible disease .',\n",
       " 'Hope well .',\n",
       " 'Depends ask .',\n",
       " 'Lets leave General Lee High School Montgomery , AL alone , hows stop adding insult injury , yeah ?',\n",
       " 'Hey Amy beautiful sitting g watching flash point beautiful',\n",
       " 'Nev fucking hot .',\n",
       " 'Lauren & I !',\n",
       " \"aw .... creator 's creature shopping : )\",\n",
       " 'I would gone Spleazeosaur',\n",
       " 'AH !',\n",
       " \"That 's adorable : ) )\",\n",
       " \"Really blows mind conference , great work children 's brilliant statement visual plasticity !\",\n",
       " 'Congrats !',\n",
       " 'No , ... bonuses used pay back tax debts .',\n",
       " 'Didnt suit position ?',\n",
       " 'Muslim friends ?',\n",
       " 'What fuck babbling ?',\n",
       " 'You dont slightest clue youre talking , usual , make blind stupid assumptions .',\n",
       " 'Keep whining .',\n",
       " 'This shit hilarious .',\n",
       " 'thanks , .',\n",
       " 'means lot !',\n",
       " ': )',\n",
       " 'Such raunchy material !',\n",
       " 'I loved The cyber sex scenes , well water breaking scene .',\n",
       " 'Ed awesome !',\n",
       " 'My pleasure course .',\n",
       " 'It felt good',\n",
       " \"Ca n't shake message .\",\n",
       " 'Entertaining engaging simple do-able point .',\n",
       " \"You 're good company\",\n",
       " 'Dina , SPCA really cared animals would give away dogs cats instead killing poor animals .',\n",
       " 'DID fantastic week !',\n",
       " 'Well done .',\n",
       " \"I hope n't mind jumping following bandwagon !\",\n",
       " \"Someone I follow count part fitness support net said 're made win I 'm going follow !\",\n",
       " ': )',\n",
       " 'Haha get track work outs save workouts want try different quests challenges gain different achievements .',\n",
       " 'Each workout submit , ear points points go next level : )',\n",
       " 'Well deserved , honor SD watch .',\n",
       " \"Too bad n't get see US team take home Fed cup !\",\n",
       " \"I almost said personal trainer whenever I squats lunges , 've paying attention clients .\",\n",
       " 'pleasure mine : ) welcome fitocracy !',\n",
       " 'In case !',\n",
       " 'Haha ...',\n",
       " 'Thanks following back .',\n",
       " 'Love PP !',\n",
       " 'When turkey going ready Congresswoman ?',\n",
       " 'Thank services standing election wasnegative slogans make American greatandbuildawalliskkksaying',\n",
       " 'Massage probably work better',\n",
       " 'Pulling young lady !',\n",
       " \"I 'm CoCo fan !\",\n",
       " 'I think world inequality poverty selfishness .',\n",
       " \"It n't matter equal equal mean everybody poor .\",\n",
       " 'Always inequality might something eliminate poverty .',\n",
       " 'To need compassionates .',\n",
       " 'We grateful cheap T-shirts ?',\n",
       " 'Really ?',\n",
       " 'The citizens rest Sacramento pay price City developer caused .',\n",
       " 'Outrage understatement .',\n",
       " 'Awesome ...',\n",
       " 'Thanks Billie Jean .',\n",
       " 'Another rain day race , runners seemed enjoy .',\n",
       " 'Congratulations runners walkers .',\n",
       " 'Race return home dry .',\n",
       " 'Another wonderful day OKC .',\n",
       " 'You two working hard .... thanks stepping - great Congressman .',\n",
       " 'Not confused Randy Quaid ...',\n",
       " 'Thats Im hoping , holding breath .',\n",
       " 'Lets realistic .',\n",
       " 'People really living fear , deathly afraid disappointed .',\n",
       " 'Out fear develop beliefs cause hesitate , give -- -consequently get limited results .',\n",
       " 'Put love behind everything life magical !',\n",
       " 'Good !',\n",
       " \"Let 's say I work , I 'm posting pic ... , I commend !\",\n",
       " \": ) Btw , 's driving crazy ; old username ?\",\n",
       " 'Your boyfriend laugh finds sucking daddy Obama',\n",
       " 'humanity fail double standards .',\n",
       " 'think Iraq , Palestine , Afghanistan ,',\n",
       " 'mcgovern name follow : )',\n",
       " \"We 'll sending SC good vibes way !\",\n",
       " 'Good Congratulations',\n",
       " 'Welp , would work unless earlier group done raid pug , habe bulba , bulba , mon .',\n",
       " 'Your hypothesis flawed .',\n",
       " 'Shelby superb location nice',\n",
       " 'I love writing , Dean ! !',\n",
       " '!',\n",
       " 'Well done .',\n",
       " 'Brilliantly spoken , I hope cyber bullies realise much insidious comments destroy lives .',\n",
       " 'You respect Monica',\n",
       " 'It great know someone Washington changed core values political purposes !',\n",
       " 'Go Mike !',\n",
       " 'Wowee ! !',\n",
       " 'Wonderful voice , Jensen ! !',\n",
       " '< 3',\n",
       " 'Yes Adam position Syria',\n",
       " 'He played fair share ILB us past season .',\n",
       " 'He always used like hybrid player .',\n",
       " 'Boy !',\n",
       " 'Bjorn really let go !',\n",
       " 'This sounds interesting !',\n",
       " \"I wish thirty minutes ' notice ; I guess I 'll wait 're local .\",\n",
       " 'When plan visit ?',\n",
       " 'I think let staff tackle middle office , carry nearest fountain ( pool work ) , lead everyone yell practice .',\n",
       " 'That would school spirit .',\n",
       " \"..... absolutely need governor 's support effort well many environmental challenges facing Maine nation world .\",\n",
       " 'Thank , Chellie , important post .',\n",
       " 'Ultimately , environmental consequences accumulate impact us .',\n",
       " 'Fun fact , A-side composition !',\n",
       " 'source : < link >',\n",
       " 'I nothing admiration & Husband & done make world better place ...',\n",
       " 'ginger beer rum ?',\n",
       " 'taste ?',\n",
       " 'Im intrigued .',\n",
       " 'Happy Birthday ! ! !',\n",
       " 'You living life well ! ! !',\n",
       " 'Best wishes many great years !',\n",
       " 'Mind sport already existing thing though .',\n",
       " 'eSports I would like actual word , Im Oxford .',\n",
       " 'I meant definition sport change include non athletic competition , people would sour even though word athletics .',\n",
       " 'feeling might statistic-ing wrong',\n",
       " 'Gotcha , thanks reply man .',\n",
       " 'Seems like 7th grade generation taught become adult .',\n",
       " 'He resort al caps Twitter .',\n",
       " ': )',\n",
       " 'Piss poor liberal policy caused chicago problems .',\n",
       " 'You blame anything want know truth .',\n",
       " '.',\n",
       " 'AMAZING presentation ! !',\n",
       " 'AMAZING work ! !',\n",
       " 'AMAZING world ! !',\n",
       " 'Magical Breathtaking !',\n",
       " '!',\n",
       " 'Inspirational opening , ladies !',\n",
       " \"Love 'Wabash Red , ' BJK !\",\n",
       " 'Thanks keeping us loop , sir .',\n",
       " 'It funny outrage .',\n",
       " 'I written MP continue concerns heard respected .',\n",
       " 'You know dogs experience life top like people , got ta love !',\n",
       " 'Robin right cost tax payers special election',\n",
       " 'Amazing creature ... replicate large area little time .',\n",
       " 'It must able process information insanely quick ! ...',\n",
       " 'Remarkable sensery perception .',\n",
       " 'thank voting hunting National Parks ... It would scary going knowing hunters shooting animals.It would horrible .... thank patricia macher',\n",
       " 'best news iv heard long time ! ! !',\n",
       " 'congrats !',\n",
       " '!',\n",
       " 'Awesome ! !',\n",
       " \"I 've busy in-laws town I need binge watch last couple episodes .\",\n",
       " 'Great news ..... surprising ! !',\n",
       " \"We know 'winners ' see 'em !\",\n",
       " '< smile >',\n",
       " 'Another corrupt politician HRC shill vote',\n",
       " 'One best TED talks ever .',\n",
       " 'True , inspiring , cool !',\n",
       " 'wonderful fb game.wow.88 https : //www.facebook.com/pages/allflogk/239888956148041 ? sk=app_208195102528120',\n",
       " 'Voting yes Auditing FED best thing could ... Next time , I hope .',\n",
       " 'You fabulous job .',\n",
       " 'You made politics .',\n",
       " 'There NO video : ( ( sound ... : (',\n",
       " 'Chris ALWAYS # 1 hearts .',\n",
       " 'Soror Fudge , victory !',\n",
       " 'Hear , hear !',\n",
       " 'Great , inspiring talk .',\n",
       " 'I going upstander !',\n",
       " 'Go Monica !',\n",
       " 'We .',\n",
       " 'Please fight republicans want hold federal assistance hostage budget cuts',\n",
       " 'Shut take money !',\n",
       " 'Such lovely young ladies .... nice well !',\n",
       " 'Thanks girls !',\n",
       " 'Need dad U.S. Senate !',\n",
       " \"I bet 'd appreciate .\",\n",
       " 'More people heard parallel squat I ever knew existed .',\n",
       " 'That ellipsis ids substitute punctuation ?',\n",
       " 'really awesome , motivating ... im PTing even MORE : P',\n",
       " 'The shock senselessness killings movements mind numbing .',\n",
       " 'That front stop forthcoming also mind numbing .',\n",
       " 'I impressed wit Genie today .',\n",
       " 'She definitely win Grand Slam .',\n",
       " 'Sooner rather later I think .',\n",
       " 'You seemed like away little bit I thought bueno , I prop : )',\n",
       " 'Data available , make something .',\n",
       " 'Oh I hated end pregnancy .',\n",
       " 'It hard !',\n",
       " 'Good luck !',\n",
       " 'I think nesting could considered moderate aerobic/cardio activity : )',\n",
       " '@ Cathy , else would call someone launches wars congressional approval ... demand legislation secretly arrest american citezens ?',\n",
       " 'Or executive order take resources case ANY emergency .',\n",
       " 'Get well soon , giiirrl !',\n",
       " 'Sounds lovely !',\n",
       " 'Have kickass workout relaxing evening !',\n",
       " ': )',\n",
       " 'I sent boss .',\n",
       " 'We try sooooo hard control media focus making actually produce great content .',\n",
       " \"It 's brave new world management ... n't fear truth .\",\n",
       " 'Agree .',\n",
       " \"I 've learned listen body .\",\n",
       " \"It 's smarter brain days .\",\n",
       " ': )',\n",
       " 'An amazing talk , awesome footage .',\n",
       " 'I especially liked two speakers film : young girl made feel humble , old man inspired take step back appreciate luck .',\n",
       " 'Omg lynn jenkins .',\n",
       " ...]"
      ]
     },
     "execution_count": 182,
     "metadata": {},
     "output_type": "execute_result"
    }
   ],
   "source": [
    "deleteStopWords(train_mots_path)\n",
    "deleteStopWords(test_mots_path)"
   ]
  },
  {
   "cell_type": "markdown",
   "metadata": {
    "hidden": true
   },
   "source": [
    "#### 7) Écrivez une fonction preprocess_corpus(corpus) qui prend un corpus brut stocké dans un fichier.csv, effectue les étapes précédentes, puis stocke le résultat de ces différentes opérations dans un fichier corpus _norm.csv"
   ]
  },
  {
   "cell_type": "code",
   "execution_count": 183,
   "metadata": {
    "hidden": true
   },
   "outputs": [],
   "source": [
    "def preprocess_corpus(input_file: str, output_file: str) :\n",
    "    #to do : vérifier si c'est bien le résultat voulu\n",
    "    results = deleteStopWords(stemmize(lemmatize(tokenize(normalize(segmentSentences(input_file))))))\n",
    "    file = open(output_file, \"w\")\n",
    "    with open(output_file, \"w\") as f:\n",
    "        for element in results :\n",
    "            r = element.replace('\"', '\"\"').replace('\"', '')\n",
    "            f.write('\"' + r + '\"\\n')\n",
    "            \n",
    "    "
   ]
  },
  {
   "cell_type": "code",
   "execution_count": 184,
   "metadata": {
    "hidden": true
   },
   "outputs": [],
   "source": [
    "preprocess_corpus(\n",
    "   os.path.join(data_path, \"train.csv\"), os.path.join(output_path, \"train_norm.csv\")\n",
    ")\n",
    "preprocess_corpus(\n",
    "   os.path.join(data_path, \"test.csv\"), os.path.join(output_path, \"test_norm.csv\")\n",
    ")"
   ]
  },
  {
   "cell_type": "markdown",
   "metadata": {
    "heading_collapsed": true
   },
   "source": [
    "### Exploration des données"
   ]
  },
  {
   "cell_type": "markdown",
   "metadata": {
    "heading_collapsed": true,
    "hidden": true
   },
   "source": [
    "#### 1)"
   ]
  },
  {
   "cell_type": "markdown",
   "metadata": {
    "hidden": true
   },
   "source": [
    "Complétez les fonctions retournant les informations suivantes (une fonction par information, chaque fonction prenant en argument un corpus composé d'une liste de phrases segmentées en tokens(tokenization)) ou une liste de genres et une liste de sentiments:"
   ]
  },
  {
   "cell_type": "code",
   "execution_count": 185,
   "metadata": {},
   "outputs": [],
   "source": [
    "corpus = [['soso.', 'kim a acheté un mbp13 silver!', 'mourad a acheté un mbp16 spacegrey']]\n",
    "corpus = [['soso', 'a', 'acheté', 'un', 'mbp16', 'silver', '.', 'Je', 'ne', 'suis', 'pas', 'daccord!'],\n",
    "          ['kim', 'a', 'acheté', 'un', 'mpb13', 'silver','.'], \n",
    "          ['mourad', 'a', 'acheté', 'un', 'mbp16', 'spacegrey', '.', 'Quil', 'aime', 'beaucoup']]\n",
    "corpus = [[\"I\", \"do\", \"not\", \"agree_NEG\", \"with_NEG\", \"this_NEG!\", \"I\", \"prefer\", \"the\", \"other\", \"option\"],\n",
    "           [\"I\", \"really\", \"like\", \"that\", \"new\", \"mbp16\", \"Mourad\", \"made\", \"a\", \"good\", \"choice\"],\n",
    "           [\"I\", \"don't\", \"think_NEG\", \"that_NEG.\", \"I\", \"prefer\", \"the\", \"mbp13\"]]"
   ]
  },
  {
   "cell_type": "code",
   "execution_count": 186,
   "metadata": {},
   "outputs": [],
   "source": [
    "#Return if the corpus is tokenized or not\n",
    "def isTokenized(corpus) :\n",
    "    for sentences in corpus :\n",
    "        for sentence in corpus :\n",
    "            for l in sentence :\n",
    "                if ' ' in l :\n",
    "                    return 0\n",
    "    return 1"
   ]
  },
  {
   "cell_type": "code",
   "execution_count": 187,
   "metadata": {},
   "outputs": [],
   "source": [
    "#Return the corpus as a list of documents, that are not tokenizated, but segmented in sentences\n",
    "def getListOfSentences(corpus):\n",
    "    listOfDocs = []\n",
    "    listOfTokens = []\n",
    "    if isTokenized(corpus) :\n",
    "        for sentences in corpus :\n",
    "            for token in sentences :\n",
    "                listOfTokens.append(token)\n",
    "            s = ' '.join(listOfTokens)\n",
    "            s = nltk.sent_tokenize(s)\n",
    "            listOfDocs.append(s)\n",
    "            listOfTokens = []\n",
    "    return listOfDocs"
   ]
  },
  {
   "cell_type": "code",
   "execution_count": 188,
   "metadata": {},
   "outputs": [
    {
     "data": {
      "text/plain": [
       "[['I do not agree_NEG with_NEG this_NEG!', 'I prefer the other option'],\n",
       " ['I really like that new mbp16 Mourad made a good choice'],\n",
       " [\"I don't think_NEG that_NEG.\", 'I prefer the mbp13']]"
      ]
     },
     "execution_count": 188,
     "metadata": {},
     "output_type": "execute_result"
    }
   ],
   "source": [
    "getListOfSentences(corpus)"
   ]
  },
  {
   "cell_type": "markdown",
   "metadata": {
    "hidden": true
   },
   "source": [
    "##### a. Le nombre total de tokens (mots non distincts)"
   ]
  },
  {
   "cell_type": "code",
   "execution_count": 189,
   "metadata": {
    "hidden": true
   },
   "outputs": [],
   "source": [
    "def getNumberOfTokens(corpus):\n",
    "    corpus = getListOfSentences(corpus)\n",
    "    count = 0\n",
    "    for sentences in corpus :\n",
    "        for sentence in sentences :\n",
    "            count = count + len(nltk.word_tokenize(sentence))\n",
    "    return count"
   ]
  },
  {
   "cell_type": "code",
   "execution_count": 190,
   "metadata": {},
   "outputs": [
    {
     "data": {
      "text/plain": [
       "33"
      ]
     },
     "execution_count": 190,
     "metadata": {},
     "output_type": "execute_result"
    }
   ],
   "source": [
    "getNumberOfTokens(corpus)"
   ]
  },
  {
   "cell_type": "markdown",
   "metadata": {
    "hidden": true
   },
   "source": [
    "##### b. Le nombre total de types"
   ]
  },
  {
   "cell_type": "code",
   "execution_count": 191,
   "metadata": {
    "hidden": true
   },
   "outputs": [],
   "source": [
    "def getNumberOfTypes(corpus):\n",
    "    corpus = getListOfSentences(corpus)\n",
    "    listOfTokens = []\n",
    "    for sentences in corpus :\n",
    "        for sentence in sentences :\n",
    "            tokenList = nltk.word_tokenize(sentence)\n",
    "            for token in tokenList :\n",
    "                listOfTokens.append(token)\n",
    "    listOfTypes = list(dict.fromkeys(listOfTokens))  \n",
    "    return len(listOfTypes)"
   ]
  },
  {
   "cell_type": "code",
   "execution_count": 192,
   "metadata": {},
   "outputs": [
    {
     "data": {
      "text/plain": [
       "26"
      ]
     },
     "execution_count": 192,
     "metadata": {},
     "output_type": "execute_result"
    }
   ],
   "source": [
    "getNumberOfTypes(corpus)"
   ]
  },
  {
   "cell_type": "markdown",
   "metadata": {
    "hidden": true
   },
   "source": [
    "##### c. Le nombre total de phrases avec négation"
   ]
  },
  {
   "cell_type": "code",
   "execution_count": 193,
   "metadata": {
    "hidden": true
   },
   "outputs": [],
   "source": [
    "def getNumberOfNeg(corpus) :\n",
    "    corpus = getListOfSentences(corpus)\n",
    "    numberOfNegativeSentences = 0;\n",
    "    for sentences in corpus:\n",
    "        for sentence in sentences:\n",
    "            if \"_NEG\" in sentence:\n",
    "                numberOfNegativeSentences = numberOfNegativeSentences + 1\n",
    "    return numberOfNegativeSentences"
   ]
  },
  {
   "cell_type": "code",
   "execution_count": 194,
   "metadata": {},
   "outputs": [
    {
     "data": {
      "text/plain": [
       "2"
      ]
     },
     "execution_count": 194,
     "metadata": {},
     "output_type": "execute_result"
    }
   ],
   "source": [
    "getNumberOfNeg(corpus)"
   ]
  },
  {
   "cell_type": "markdown",
   "metadata": {
    "hidden": true
   },
   "source": [
    "##### d. Le ratio token/type"
   ]
  },
  {
   "cell_type": "code",
   "execution_count": 195,
   "metadata": {
    "hidden": true
   },
   "outputs": [],
   "source": [
    "def getRatioTokenType(corpus):\n",
    "    return float(getNumberOfTokens(corpus)/getNumberOfTypes(corpus))"
   ]
  },
  {
   "cell_type": "code",
   "execution_count": 196,
   "metadata": {},
   "outputs": [
    {
     "data": {
      "text/plain": [
       "1.2692307692307692"
      ]
     },
     "execution_count": 196,
     "metadata": {},
     "output_type": "execute_result"
    }
   ],
   "source": [
    "getRatioTokenType(corpus)"
   ]
  },
  {
   "cell_type": "markdown",
   "metadata": {
    "hidden": true
   },
   "source": [
    "##### e. Le nombre total de lemmes distincts"
   ]
  },
  {
   "cell_type": "code",
   "execution_count": 197,
   "metadata": {
    "hidden": true
   },
   "outputs": [],
   "source": [
    "import nltk\n",
    "def getLemmesNumber(corpus):\n",
    "    corpus = getListOfSentences(corpus)\n",
    "    lemmzer = nltk.WordNetLemmatizer()\n",
    "    lemmesList = []\n",
    "    for sentences in corpus :\n",
    "        for sentence in sentences :\n",
    "            lemmes = [lemmzer.lemmatize(token) for token in sentence.split()]\n",
    "            for lemme in lemmes :  \n",
    "                lemmesList.append(lemme)\n",
    "    \n",
    "    lemmesList = list(dict.fromkeys(lemmesList))   \n",
    "    return len(lemmesList)"
   ]
  },
  {
   "cell_type": "code",
   "execution_count": 198,
   "metadata": {},
   "outputs": [
    {
     "data": {
      "text/plain": [
       "24"
      ]
     },
     "execution_count": 198,
     "metadata": {},
     "output_type": "execute_result"
    }
   ],
   "source": [
    "getLemmesNumber(corpus)"
   ]
  },
  {
   "cell_type": "markdown",
   "metadata": {
    "hidden": true
   },
   "source": [
    "##### f. Le nombre total de racines (stems) distinctes"
   ]
  },
  {
   "cell_type": "code",
   "execution_count": 199,
   "metadata": {
    "hidden": true
   },
   "outputs": [],
   "source": [
    "import nltk\n",
    "def getStemsNumber(corpus):\n",
    "    corpus = getListOfSentences(corpus)\n",
    "    stemmer = nltk.PorterStemmer()\n",
    "    stemsList = []\n",
    "    for sentences in corpus :\n",
    "        for sentence in sentences :\n",
    "            stems = [stemmer.stem(token) for token in sentence.split()]\n",
    "            for stem in stems :\n",
    "                stemsList.append(stem)\n",
    "    stemsList = list(dict.fromkeys(stemsList))     \n",
    "    return len(stemsList)"
   ]
  },
  {
   "cell_type": "code",
   "execution_count": 200,
   "metadata": {},
   "outputs": [
    {
     "data": {
      "text/plain": [
       "24"
      ]
     },
     "execution_count": 200,
     "metadata": {},
     "output_type": "execute_result"
    }
   ],
   "source": [
    "getStemsNumber(corpus)"
   ]
  },
  {
   "cell_type": "markdown",
   "metadata": {
    "hidden": true
   },
   "source": [
    "##### g. Le nombre total de documents (par classe)"
   ]
  },
  {
   "cell_type": "code",
   "execution_count": 201,
   "metadata": {
    "hidden": true
   },
   "outputs": [],
   "source": [
    "def getNumberOfDocPerClass(sentiments):\n",
    "    countPositive = 0\n",
    "    countNegative = 0\n",
    "    for sentiment in sentiments : \n",
    "        if sentiment : #positif\n",
    "            countPositive = countPositive + 1\n",
    "        else : #negatif\n",
    "            countNegative = countNegative + 1\n",
    "    return countPositive, countNegative\n",
    "        \n",
    "        "
   ]
  },
  {
   "cell_type": "code",
   "execution_count": 202,
   "metadata": {},
   "outputs": [
    {
     "data": {
      "text/plain": [
       "(6, 5)"
      ]
     },
     "execution_count": 202,
     "metadata": {},
     "output_type": "execute_result"
    }
   ],
   "source": [
    "semtiments = [0,\n",
    "          0,\n",
    "          0,\n",
    "          0,\n",
    "          0, #5 negatif\n",
    "          1,\n",
    "          1,\n",
    "          1,\n",
    "          1,\n",
    "          1,\n",
    "          1] #6 positif\n",
    "\n",
    "getNumberOfDocPerClass(semtiments)"
   ]
  },
  {
   "cell_type": "markdown",
   "metadata": {
    "hidden": true
   },
   "source": [
    "##### h. Le nombre total de phrases (par classe)"
   ]
  },
  {
   "cell_type": "code",
   "execution_count": 203,
   "metadata": {
    "hidden": true
   },
   "outputs": [],
   "source": [
    "def getNumberOfSentencesPerClass(corpus, sentiments) :\n",
    "    corpus = getListOfSentences(corpus)\n",
    "    countSentencesPositives = 0\n",
    "    countSentencesNegatives = 0\n",
    "    for i in range(len(corpus)):\n",
    "        if sentiments[i] : #positive\n",
    "            countSentencesPositives = countSentencesPositives + len(corpus[i])\n",
    "        else : #negative\n",
    "            countSentencesNegatives = countSentencesNegatives + len(corpus[i])          \n",
    "    return countSentencesPositives, countSentencesNegatives   "
   ]
  },
  {
   "cell_type": "code",
   "execution_count": 204,
   "metadata": {},
   "outputs": [
    {
     "data": {
      "text/plain": [
       "(3, 2)"
      ]
     },
     "execution_count": 204,
     "metadata": {},
     "output_type": "execute_result"
    }
   ],
   "source": [
    "sentiments = [0,1,1]\n",
    "getNumberOfSentencesPerClass(corpus, sentiments)"
   ]
  },
  {
   "cell_type": "markdown",
   "metadata": {
    "hidden": true
   },
   "source": [
    "##### i. Le nombre total de phrases avec négation (par classe)"
   ]
  },
  {
   "cell_type": "code",
   "execution_count": 205,
   "metadata": {
    "hidden": true
   },
   "outputs": [],
   "source": [
    "def getNumberOfNegativeSentences(corpus, sentiments) :\n",
    "    corpus = getListOfSentences(corpus)\n",
    "    countNegativeSentencesPositives = 0\n",
    "    countNegativeSentencesNegatives = 0\n",
    "    i = 0;\n",
    "    for sentences in corpus:\n",
    "        for sentence in sentences:\n",
    "            if sentiments[i]: #positive\n",
    "                if \"_NEG\" in sentence:\n",
    "                    countNegativeSentencesPositives = countNegativeSentencesPositives + 1\n",
    "            else: #negative\n",
    "                if \"_NEG\" in sentence:\n",
    "                    countNegativeSentencesNegatives = countNegativeSentencesNegatives + 1\n",
    "            i = i + 1\n",
    "    return countNegativeSentencesPositives, countNegativeSentencesNegatives"
   ]
  },
  {
   "cell_type": "code",
   "execution_count": 206,
   "metadata": {},
   "outputs": [
    {
     "data": {
      "text/plain": [
       "(1, 1)"
      ]
     },
     "execution_count": 206,
     "metadata": {},
     "output_type": "execute_result"
    }
   ],
   "source": [
    "sentiments = [0,1,1,1,1]\n",
    "getNumberOfNegativeSentences(corpus, sentiments)"
   ]
  },
  {
   "cell_type": "markdown",
   "metadata": {
    "hidden": true
   },
   "source": [
    "##### j. Le pourcentage de réponses positives par genre de la personne à qui cette réponse est faite (op_gender)"
   ]
  },
  {
   "cell_type": "code",
   "execution_count": 207,
   "metadata": {},
   "outputs": [],
   "source": [
    "genders = [['M', 'M', 'W', 'W', 'M', 'M', 'W', 'W', 'M', 'M', 'W', 'W']]\n",
    "sentiments = [1 , 0, 1, 0, 1 , 0, 1,\n",
    "             0, 0, 1,  0, 0]"
   ]
  },
  {
   "cell_type": "code",
   "execution_count": 208,
   "metadata": {
    "hidden": true
   },
   "outputs": [],
   "source": [
    "def getPourcentageOfPositiveReponsesPerGender(genders, sentiments):\n",
    "    countPosM = countPosW = 0\n",
    "    iterator = 0\n",
    "    totalResponse = len(sentiments)\n",
    "  \n",
    "    for sentiment in sentiments:\n",
    "        if sentiment :\n",
    "            if genders[0][iterator] == 'M':\n",
    "                countPosM = countPosM + 1\n",
    "            elif genders[0][iterator] == 'W':\n",
    "                countPosW = countPosW + 1\n",
    "        iterator = iterator + 1\n",
    "  \n",
    "    pourcentageW = float(countPosW / totalResponse) * 100\n",
    "    pourcentageM = float(countPosM / totalResponse) * 100\n",
    "  \n",
    "    return(pourcentageM,pourcentageW)       "
   ]
  },
  {
   "cell_type": "code",
   "execution_count": 209,
   "metadata": {},
   "outputs": [
    {
     "data": {
      "text/plain": [
       "(25.0, 16.666666666666664)"
      ]
     },
     "execution_count": 209,
     "metadata": {},
     "output_type": "execute_result"
    }
   ],
   "source": [
    "getPourcentageOfPositiveReponsesPerGender(genders, sentiments)"
   ]
  },
  {
   "cell_type": "markdown",
   "metadata": {
    "hidden": true
   },
   "source": [
    "#### 2) Écrivez la fonction explore(corpus, sentiments, genders) qui calcule et affiche toutes ces informations, précédées d'une légende reprenant l’énoncé de chaque question (a,b, ….j)."
   ]
  },
  {
   "cell_type": "code",
   "execution_count": 210,
   "metadata": {
    "hidden": true
   },
   "outputs": [],
   "source": [
    "def explore(\n",
    "    corpus: List[List[str]], sentiments: List[bool], genders: List[Literal[\"M\", \"W\"]]\n",
    ") -> None:\n",
    "    print(\"Le nombre total de tokens (mots non distincts) : \" + getNumberOfTokens(corpus) + \"\\n\")\n",
    "    print(\"Le nombre total de types : \" + getNumberOfTypes(corpus) + \"\\n\")\n",
    "    print(\"Le nombre total de phrases avec négation : \" + getNumberOfNeg(corpus)  + \"\\n\")\n",
    "    print(\"Le ratio token/type : \" + getRatioTokenType(corpus) + \"\\n\")\n",
    "    print(\"Le nombre total de lemmes distincts : \" + getLemmesNumber(corpus) + \"\\n\")\n",
    "    print(\"Le nombre total de racines (stems) distinctes : \" + getStemsNumber(corpus) + \"\\n\")\n",
    "    print(\"Le nombre total de documents (par classe) : \" + getNumberOfDocPerClass(semtiments) + \"\\n\")\n",
    "    print(\"Le nombre total de phrases (par classe) : \" + getNumberOfSentencesPerClass(corpus, sentiments) + \"\\n\")\n",
    "    print(\"Le nombre total de phrases avec négation (par classe) : \" + getNumberOfNegativeSentences(corpus, sentiments)  + \"\\n\")\n",
    "    print(\"Le pourcentage de réponses positives par genre de la personne à qui cette réponse est faite (op_gender) : \" \n",
    "          + getPourcentageOfPositiveReponsesPerGender(sentiments, genders)  + \"\\n\")\n",
    "\n",
    "    "
   ]
  },
  {
   "cell_type": "markdown",
   "metadata": {
    "heading_collapsed": true,
    "hidden": true
   },
   "source": [
    "#### 3) Calculer une table de fréquence (lemme, rang (le mot le plus fréquent a le rang 1 etc.) ; fréquence (le nombre de fois où il a été vu dans le corpus).  Seuls les N mots les plus fréquents du vocabulaire (N est un paramètre) doivent être gardés. Vous devez stocker les 1000 premières lignes de cette table dans un fichier nommé table_freq.csv"
   ]
  },
  {
   "cell_type": "code",
   "execution_count": 211,
   "metadata": {},
   "outputs": [],
   "source": [
    "def calculateFrequences(corpus) :\n",
    "   \n",
    "    corpus = getListOfSentences(corpus)\n",
    "    lemmzer = nltk.WordNetLemmatizer()\n",
    "    lemmesList = []\n",
    "    sorted_dict = {}\n",
    "   \n",
    "    for sentences in corpus :\n",
    "        for sentence in sentences :\n",
    "            lemmes = [lemmzer.lemmatize(token) for token in sentence.split()]\n",
    "            for lemme in lemmes :\n",
    "                lemmesList.append(lemme)\n",
    "               \n",
    "    for word in lemmesList:\n",
    "        if word not in sorted_dict:\n",
    "            sorted_dict[word] = 0\n",
    "        sorted_dict[word] += 1\n",
    "    words = sorted_dict.items()\n",
    "    sorted_lemme = sorted(words, key= lambda kv: kv[1], reverse=True)\n",
    "    return sorted_lemme"
   ]
  },
  {
   "cell_type": "code",
   "execution_count": 212,
   "metadata": {},
   "outputs": [
    {
     "data": {
      "text/plain": [
       "[('I', 5),\n",
       " ('prefer', 2),\n",
       " ('the', 2),\n",
       " ('do', 1),\n",
       " ('not', 1),\n",
       " ('agree_NEG', 1),\n",
       " ('with_NEG', 1),\n",
       " ('this_NEG!', 1),\n",
       " ('other', 1),\n",
       " ('option', 1),\n",
       " ('really', 1),\n",
       " ('like', 1),\n",
       " ('that', 1),\n",
       " ('new', 1),\n",
       " ('mbp16', 1),\n",
       " ('Mourad', 1),\n",
       " ('made', 1),\n",
       " ('a', 1),\n",
       " ('good', 1),\n",
       " ('choice', 1),\n",
       " (\"don't\", 1),\n",
       " ('think_NEG', 1),\n",
       " ('that_NEG.', 1),\n",
       " ('mbp13', 1)]"
      ]
     },
     "execution_count": 212,
     "metadata": {},
     "output_type": "execute_result"
    }
   ],
   "source": [
    "calculateFrequences(corpus)"
   ]
  },
  {
   "cell_type": "markdown",
   "metadata": {
    "heading_collapsed": true
   },
   "source": [
    "## 2. Classification automatique"
   ]
  },
  {
   "cell_type": "markdown",
   "metadata": {
    "heading_collapsed": true,
    "hidden": true
   },
   "source": [
    "### a) Classification  automatique avec un modèle sac de mots (unigrammes), Naive Bayes et la régression logistique"
   ]
  },
  {
   "cell_type": "markdown",
   "metadata": {
    "hidden": true
   },
   "source": [
    "En utilisant la librairie scikitLearn et l’algorithme Multinomial Naive Bayes et Logistic Regression, effectuez la classification des textes avec un modèle sac de mots unigramme pondéré avec TF-IDF.  Vous devez entrainer chaque modèle sur l’ensemble d’entrainement et le construire à partir de votre fichier corpus_train.csv. \n",
    "\n",
    "Construisez et sauvegardez votre modèle sac de mots avec les données d’entrainement en testant les pré-traitements suivants (séparément et en combinaison): tokenisation, lemmatisation, stemming, normalisation des négations, et suppression des mots outils. Vous ne devez garder que la combinaison d’opérations qui vous donne les meilleures performances sur le corpus de test. Indiquez dans un commentaire les pré-traitements qui vous amènent à votre meilleure performance (voir la section 3 – évaluation). Il est possible que la combinaison optimale ne soit pas la même selon que vous utilisiez la régression logistique ou Naive Bayes. On s’attend à avoir deux modèles optimaux, un pour Naive Bayes, et un avec régression logistique."
   ]
  },
  {
   "cell_type": "code",
   "execution_count": 216,
   "metadata": {},
   "outputs": [],
   "source": [
    "from sklearn.feature_extraction.text import TfidfVectorizer, CountVectorizer\n",
    "from sklearn.naive_bayes import MultinomialNB\n",
    "from sklearn.linear_model import LogisticRegression\n",
    "from sklearn.metrics import f1_score\n",
    "from sklearn.metrics import classification_report"
   ]
  },
  {
   "cell_type": "code",
   "execution_count": 316,
   "metadata": {},
   "outputs": [],
   "source": [
    "def getDataSet(train_csv, test_csv):\n",
    "    trainPath = os.path.join(output_path, train_csv)\n",
    "    testPath = os.path.join(output_path, test_csv)\n",
    "    \n",
    "    trainData_ = []\n",
    "    testData_ = []\n",
    "    \n",
    "    with open(trainPath, \"r\") as f :\n",
    "        trainData = list(f)\n",
    "     \n",
    "    for data in trainData :\n",
    "        data = data.replace('\"', '').replace('\\n', '')\n",
    "        trainData_.append(data)\n",
    "    \n",
    "    with open(testPath, \"r\") as f :\n",
    "        testData = list(f)\n",
    "        \n",
    "    for data in testData :\n",
    "        data = data.replace('\"', '').replace('\\n', '')\n",
    "        testData_.append(data)\n",
    "#     print(testData_)\n",
    "    \n",
    "#     trainData = pd.read_csv(trainPath)\n",
    "#     testData = pd.read_csv(testPath)\n",
    "#     print(testData[0])\n",
    "    \n",
    "#     trainInputs = trainData\n",
    "#     testInputs = testData\n",
    "    \n",
    "    training_data = (trainData_, train_data[1], train_data[2])\n",
    "    testing_data = (testData_, test_data[1], test_data[2])\n",
    "    return training_data, testing_data"
   ]
  },
  {
   "cell_type": "code",
   "execution_count": 317,
   "metadata": {},
   "outputs": [],
   "source": [
    "training_data, testing_data = getDataSet(\"train_phrases.csv\", \"test_phrases.csv\" )\n",
    "# print(training_data, testing_data)"
   ]
  },
  {
   "cell_type": "markdown",
   "metadata": {
    "hidden": true
   },
   "source": [
    "### Naive Bayes"
   ]
  },
  {
   "cell_type": "code",
   "execution_count": 311,
   "metadata": {
    "hidden": true
   },
   "outputs": [],
   "source": [
    "def naiveBayes(train_data, test_data):\n",
    "    vectorizer = TfidfVectorizer()    \n",
    "    vectors = vectorizer.fit_transform(train_data[0])\n",
    "    clf = MultinomialNB(alpha=0.5)\n",
    "    clf.fit(vectors, train_data[1])\n",
    "    \n",
    "    vectors_test = vectorizer.transform(test_data)\n",
    "    y_pred = clf.predict(vectors_test)\n",
    "    return y_pred"
   ]
  },
  {
   "cell_type": "markdown",
   "metadata": {
    "hidden": true
   },
   "source": [
    "### Régression Logistique"
   ]
  },
  {
   "cell_type": "code",
   "execution_count": 312,
   "metadata": {
    "hidden": true
   },
   "outputs": [],
   "source": [
    "def logisticsRegression(train_data, test_data):\n",
    "    vectorizer = TfidfVectorizer()\n",
    "    vectors = vectorizer.fit_transform(train_data[0])\n",
    "    model = LogisticRegression(C=1.0)\n",
    "    model.fit(vectors, train_data[1])\n",
    "    \n",
    "    vectors_test = vectorizer.transform(test_data[0])\n",
    "    y_pred = model.predict(vectors_test)\n",
    "    return y_pred"
   ]
  },
  {
   "cell_type": "markdown",
   "metadata": {
    "hidden": true
   },
   "source": [
    "###  b) Autre représentation pour l’analyse de sentiments et classification automatique"
   ]
  },
  {
   "cell_type": "markdown",
   "metadata": {
    "hidden": true
   },
   "source": [
    "On vous propose maintenant d’utiliser une nouvelle représentation de chaque document à classifier.\n",
    "Vous devez créer à partir de votre corpus la table suivante :\n",
    "\n",
    "| Vocabulaire | Freq-positive | Freq-négative |\n",
    "|-------------|---------------|---------------|\n",
    "| happy | 10 | 1 |\n",
    "| ... | ... | ... |\n",
    "\n",
    "Où :\n",
    "\n",
    "• Vocabulaire représente tous les types (mots uniques) de votre corpus d’entrainement\n",
    "\n",
    "• Freq-positive : représente la somme des fréquences du mot dans tous les documents de la classe positive\n",
    "\n",
    "• Freq-négative : représente la somme des fréquences du mot dans tous les documents de la classe négative\n",
    "\n",
    "Notez qu’en Python, vous pouvez créer un dictionnaire associant à tout (mot, classe) une fréquence.\n",
    "Ensuite il vous suffit de représenter chaque document par un vecteur à 3 dimensions dont le premier élément représente un biais (initialisé à 1), le deuxième élément représente la somme des fréquences positives (freq-pos) de tous les mots uniques (types) du document et enfin le troisième élément représente la somme des fréquences négative (freq-neg) de tous les mots uniques du document. \n",
    "\n",
    "En utilisant cette représentation ainsi que les pré-traitements suggérés, trouvez le meilleur modèle possible en testant la régression logistique et Naive Bayes. Vous ne devez fournir que le code de votre meilleur modèle dans votre notebook."
   ]
  },
  {
   "cell_type": "code",
   "execution_count": 340,
   "metadata": {
    "hidden": true
   },
   "outputs": [
    {
     "name": "stdout",
     "output_type": "stream",
     "text": [
      "[('thanks', True), ('back', True), ('!', True), ('yep', True), (',', True), ('university', True), ('of', True), ('alberta', True), ('.', True), ('you', True), ('live', True), ('around', True), ('here', True), ('?', True), ('please', False), ('do', False), (\"n't\", False), ('sell', False), ('my', False), ('land', False), ('steve', False), ('just', False), ('shaking', False), ('my', False), ('head', False), ('at', False), ('the', False), ('ignorance', False), ('and', False), ('deliberate', False), ('ignoring', False), ('of', False), ('the', False), ('facts', False), ('about', False), ('fdr', False), (',', False), ('pearl', False), ('harbor', False), (',', False), ('and', False), ('wwii', False), ('.', False), ('to', True), ('be', True), ('contemplated', True), ('during', True), ('your', True), ('tri', True), (',', True), ('perhaps', True), ('?', True), ('pshh', True), ('...', True), ('is', True), ('that', True), ('how', True), ('you', True), ('treat', True), ('my', True), ('props', True), ('..', True), ('just', True), ('go', True), ('around', True), ('deleting', True), ('them', True), ('?', True), ('!', True), ('?', True), ('!', True), ('sureeeeeeeeeeeeeeeeeeee', True), ('i', True), ('see', True), ('how', True), ('it', True), ('is', True), ('.', True), (':', True), ('pyeah', True), ('there', True), (\"'s\", True), ('definitely', True), ('still', True), ('some', True), ('bugs', True), ('around', True), ('here', True), ('.', True), ('my', True), ('workout', True), ('from', True), ('last', True), ('night', True), ('posted', True), ('with', True), ('today', True), (\"'s\", True), ('date', True), ('on', True), ('it', True), ('.', True), ('lol', True), ('thanks', True), ('!', True), ('i', True), ('also', True), ('love', True), ('bacon', True), ('.', True), (':', True), (')', True), ('hello', True), ('isaac', True), ('!', True), ('my', True), ('copy', True), ('arrived', True), ('yesterday', True), ('in', True), ('france', True), (',', True), ('i', True), (\"'m\", True), ('so', True), ('happy', True), ('and', True), ('very', True), ('excited', True), ('to', True), ('read', True), ('it', True), ('!', True), ('!', True), ('!', True), ('xd', True), ('we', True), ('need', True), ('to', True), ('keep', True), ('bob', True), ('menendez', True), ('in', True), ('congress', True), ('.', True), ('it', True), (\"'s\", True), ('really', True), ('an', True), ('excellent', True), ('lecture', True), (',', True), ('i', True), ('believe', True), ('in', True), ('her.so', True), (',', True), ('fake', True), ('it', True), ('till', True), ('you', True), ('make', True), ('it', True), ('!', True), ('i', True), (\"'m\", True), ('human', True), ('according', True), ('to', True), ('most', True), ('of', True), ('the', True), ('questions', True), ('.', True), ('and', True), ('his', True), ('tone', True), ('was', True), ('great', True), (',', True), ('i', True), ('had', True), ('a', True), ('lot', True), ('of', True), ('fun', True), (':', True), (')', True), ('you', True), (\"'re\", True), ('both', True), ('awesome', True), ('!', True), ('!', True), ('!', True), ('b', True), ('mattek', True), ('is', True), ('awesome', True), (',', True), ('i', True), ('love', True), ('her', True), ('bad', True), ('girl', True), ('risque', True), ('style', True), ('.', True), ('brit', True), (':', True), ('i', True), (\"'m\", True), ('so', True), ('glad', True), ('u', True), ('r', True), ('on', True), ('fox', True), ('tonight', True), ('.', True), ('you', True), ('calm', True), ('people', True), ('down', True), ('and', True), ('bring', True), ('common', True), ('sense', True), ('to', True), ('all', True), ('this', True), ('.', True), ('you', True), ('are', True), ('a', True), ('class', True), ('act', True), ('!', True), ('!', True), ('good', True), ('luck', True), ('.', True), ('i', True), ('really', True), ('hope', True), ('you', True), ('make', True), ('it', True), ('.', True), ('please', True), ('reach', True), ('out', True), ('to', True), ('mr.', True), ('trump', True), ('!', True), ('thanks', True), ('for', True), ('the', True), ('feedback', True), ('!', True), ('ill', True), ('be', True), ('sure', True), ('to', True), ('check', True), ('my', True), ('phrasing', True), ('next', True), ('time', True), (':', True), (')', True), ('this', True), ('talk', True), ('was', True), ('for', True), ('me', True), ('very', True), ('powerful', True), ('..', True), ('currently', True), ('enjoying', True), ('ashley', True), ('bell', True), ('.', True), ('love', True), ('your', True), ('writing', True), ('so', True), ('much', True), ('dean', True), ('.', True), ('thank', True), ('you', True), ('for', True), ('the', True), ('gifts', True), ('you', True), ('give', True), ('us', True), ('carpet', False), ('bagging', False), ('troll', False), ('...', False), ('liz', False), ('warren', False), ('does', False), ('not', False), ('represent', False), ('massachusetts', False), ('i', True), ('like', True), ('this', True), ('very', True), ('much', True), ('.', True), ('it', True), (\"'s\", True), ('a', True), ('great', True), ('area', True), ('to', True), ('explore', True), ('that', True), (\"'s\", True), ('not', True), ('such', True), ('a', True), ('long', True), ('drive', True), ('...', True), ('good', True), ('for', True), ('the', True), ('kids', True), ('.', True), ('monotasking', False), ('...', False), ('my', False), ('god', False), (',', False), ('you', False), ('mean', False), ('actually', False), ('being', False), ('good', False), ('at', False), ('something', False), (',', False), ('what', False), (\"'s\", False), ('the', False), ('world', False), ('coming', False), ('to', False), ('.', False), ('dont', False), ('you', False), ('know', False), ('it', False), (\"'s\", False), ('only', False), ('hype', False), ('that', False), ('sells', False), ('nowadays', False), (',', False), ('skill', False), ('has', False), ('nothing', False), ('to', False), ('do', False), ('with', False), ('it', False), ('anymore', False), (',', False), ('what', False), ('a', False), ('dinosaur', False), ('.', False), ('explain', False), ('to', False), ('them', False), ('why', False), ('you', False), ('guys', False), ('continue', False), ('letting', False), ('obama', False), ('break', False), ('our', False), ('laws', False), ('.', False), ('lawlessness', False), ('abounds', False), ('in', False), ('d.c.', False), ('where', False), ('are', False), ('the', False), ('checks', False), ('and', False), ('balances', False), ('?', False), ('arrest', False), ('him', False), ('.', False), ('proper', True), ('rest', True), ('is', True), ('very', True), ('important', True), (',', True), ('not', True), ('a', True), ('bad', True), ('call', True), ('....', True), ('ooooohhhhh', True), (',', True), ('thanks', True), ('!', True), ('paula', True), ('fans', True), ('!', True), ('like', True), ('our', True), ('page', True), ('!', True), ('we', True), ('love', True), ('you', True), ('paula', True), ('seems', False), ('a', False), ('bit', False), ('disingenuous', False), ('seth', False), (',', False), ('find', False), ('a', False), ('different', False), ('issue', False), ('!', False), ('this', True), ('is', True), ('wonderful', True), ('.', True), ('thank', True), ('you', True), ('so', True), ('much', True), ('for', True), ('putting', True), ('it', True), ('on', True), ('here', True), ('!', True), ('megyn', True), (',', True), ('you', True), ('are', True), ('great', True), ('at', True), ('your', True), ('job', True), ('and', True), ('i', True), ('bet', True), ('you', True), (\"'re\", True), ('a', True), ('wonderful', True), ('lady', True), ('in', True), ('person', True), ('too', True), ('!', True), ('run', True), (',', True), ('claire', True), (',', True), ('run', True), ('!', True), ('!', True), ('!', True), ('!', True), ('!', True), ('we', True), ('need', True), ('you', True), ('!', True), ('!', True), ('!', True), ('!', True), ('!', True), ('!', True), ('!', True), ('!', True), ('!', True), ('!', True), ('!', True), ('!', True), ('!', True), ('!', True), ('!', True), ('!', True), ('!', True), ('you', False), ('are', False), ('a', False), ('bully', False), ('.', False), ('still', False), ('insulting', False), ('me', False), ('over', False), ('12', False), ('hours', False), ('later', False), ('.', False), ('seriously', False), (',', False), ('what', False), ('is', False), ('wrong', False), ('with', False), ('you', False), ('?', False), ('you', False), ('need', False), ('professional', False), ('help', False), ('.', False), ('a', True), ('little', True), ('death', True), ('scare', True), ('does', True), ('amazing', True), ('things', True), ('for', True), ('motivation', True), ('.', True), ('thanks', True), ('for', True), ('following', True), ('back', True), ('.', True), ('great', True), ('pp', True), ('!', True), ('hi', True), ('!', True), ('i', True), ('heard', True), ('your', True), ('ted', True), ('story', True), ('.', True), ('your', True), ('story', True), ('is', True), ('useful', True), ('for', True), ('me', True), (',', True), ('because', True), ('you', True), ('teach', True), ('about', True), ('the', True), ('success', True), ('to', True), ('failure', True), ('syndrome', True), ('.', True), ('i', True), ('will', True), ('do', True), ('everything', True), ('not', True), ('to', True), ('get', True), ('this', True), ('syndrome', True), ('.', True), ('were', True), ('you', True), ('happy', True), ('at', True), ('the', True), ('end', True), ('of', True), ('it', True), ('?', True), ('then', True), ('it', True), ('was', True), ('a', True), ('grand', True), ('old', True), ('idea', True), (':', True), (')', True), ('i', False), ('have', False), ('never', False), ('known', False), ('anyone', False), ('who', False), ('can', False), ('stand', False), ('on', False), ('a', False), ('platform', False), ('of', False), ('lies', False), ('for', False), ('very', False), ('long', False), ('without', False), ('falling', False), ('into', False), ('the', False), ('pit', False), ('of', False), ('disgrace', False), ('.', False), ('just', False), ('ask', False), ('sarah', False), ('palin', False), (',', False), ('glenn', False), ('beck', False), (',', False), ('or', False), ('david', False), ('vitter', False), ('.', False), ('we', True), ('had', True), ('federal', True), ('transportation', True), ('funding', True), ('for', True), ('a', True), ('potentially', True), ('great', True), ('trans-hudson', True), ('passenger', True), ('rail', True), ('tunnel', True), (',', True), ('and', True), ('our', True), ('governor', True), ('paid', True), ('his', True), ('debts', True), ('with', True), ('it', True), ('.', True), ('got', True), ('ta', True), ('keep', True), ('harper', True), ('on', True), ('high', True), ('rotation', True), (',', True), ('he', True), (\"'s\", True), ('my', True), ('boy', True), ('!', True), ('dooooo', True), ('eeeet', True), ('.', True), ('i', True), ('have', True), (\"n't\", True), ('seen', True), ('your', True), ('pup', True), ('yet', True), ('luckbox', True), (':', True), (')', True), ('.....', True), ('thank', True), ('you', True), ('jill', True), ('...', True), ('just', True), ('got', True), ('a', True), ('phone', True), ('call', True), ('from', True), ('our', True), ('daughter', True), ('and', True), ('one', True), ('granddaughter', True), ('while', True), ('sitting', True), ('in', True), ('the', True), ('hanabusa', True), ('booth', True), ('at', True), ('maku', True), (\"'\", True), ('u', True), ('farmers', True), ('market', True), ('near', True), ('pahoa', True), ('.', True), ('hooray', True), ('for', True), ('cell', True), ('phones', True), ('!', True), ('fox', False), ('noise', False), ('will', False), ('never', False), ('report', False), ('the', False), ('good', False), ('news', False), ('.', False), ('if', False), ('it', False), ('was', False), ('failing', False), ('they', False), ('would', False), ('run', False), ('it', False), ('as', False), ('breaking', False), ('news', False), ('.', False), ('yay', True), ('!', True), ('boobs', True), ('for', True), ('proportionate', True), ('hands', True), (',', True), ('everyone', True), ('gets', True), ('wi', True), ('...', True), ('proud', True), ('and', True), ('lucky', True), ('to', True), ('have', True), ('mike', True), ('capuano', True), ('as', True), ('my', True), ('congressman', True), ('!', True), ('thank', True), ('you', True), ('for', True), ('all', True), ('of', True), ('your', True), ('great', True), ('work', True), ('!', True), ('hey', False), (',', False), ('the', False), ('daddy', False), ('knows', False), ('...', False), ('and', False), ('i', False), ('guess', False), ('he', False), ('ai', False), (\"n't\", False), ('saying', False), ('.', False), ('no', True), ('prob', True), ('.', True), ('always', True), ('glad', True), ('to', True), ('help', True), ('out', True), ('safe', False), ('from', False), ('what', False), ('?', False), ('apparently', False), ('not', False), ('illegal', False), ('aliens', False), ('since', False), ('you', False), ('voted', False), ('for', False), ('obama', False), (\"'s\", False), ('amnesty', False), ('.', False), ('dont', True), ('forget', True), ('chogall', True), ('in', True), ('their', True), ('high', True), ('20s', True), ('.', True), ('my', True), ('pleasure', True), ('!', True), ('keep', True), ('up', True), ('the', True), ('good', True), ('work', True), ('!', True), (':', True), (')', True), ('do', True), (\"n't\", True), ('let', True), ('the', True), ('crazy', True), ('anti-health', True), ('care', True), ('reformers', True), ('get', True), ('to', True), ('you', True), ('brian', True), ('.', True), ('we', True), (\"'re\", True), ('counting', True), ('on', True), ('you', True), ('!', True), ('enjoyed', True), ('the', True), ('presentation', True), ('dave', True), ('.', True), ('any', True), ('suggestions', True), ('on', True), ('related', True), ('reading', True), ('material', True), ('?', True), ('un', True), ('fuerte', True), ('abrazo', True), ('a', True), ('tu', True), ('mama', True), ('ruben', True), (',', True), ('y', True), ('que', True), ('reciba', True), ('muchas', True), ('bendiciones', True), ('hoy', True), ('y', True), ('siempre', True), ('.', True), ('my', True), ('friends', True), ('and', True), ('i', True), ('also', True), ('look', True), ('forward', True), ('to', True), ('voting', True), ('you', True), ('in', True), ('for', True), ('us', True), ('senate', True), ('!', True), ('thanks', True), ('.', True), ('and', True), ('you', True), ('have', True), ('an', True), ('interesting', True), ('variety', True), ('as', True), ('well', True), ('!', True), ('dont', True), ('worry', True), (',', True), ('ive', True), ('googled', True), ('a', True), ('shed', True), ('load', True), ('and', True), ('listened', True), ('to', True), ('a', True), ('couple', True), ('of', True), ('peoples', True), ('advice', True), ('.', True), ('i', True), ('think', True), ('ill', True), ('be', True), ('ok', True), ('.', True), ('now', True), ('im', True), ('picturing', True), ('a', True), ('chicken', True), ('assassin', True), (',', True), ('poisoning', True), ('your', True), ('tea', True), ('...', True), ('maybe', True), ('he', True), ('has', True), ('a', True), ('french', True), ('accent', True), ('.', True), ('contains', False), ('graphic', False), ('artistic', False), ('nudity', False), ('and', False), ('strong', False), ('sexual', False), ('references', False), ('.', False), ('not', False), ('suitable', False), ('for', False), ('young', False), ('audiences', False), ('.', False), ('i', True), ('actually', True), ('shot', True), ('that', True), ('in', True), ('tofino', True), (',', True), ('while', True), ('on', True), ('a', True), ('break', True), ('from', True), ('the', True), ('surf', True), ('.', True), ('thanks', True), ('for', True), ('following', True), ('back', True), ('!', True), ('never', True), ('heard', True), ('of', True), ('this', True), ('guy', True), ('till', True), ('now', True), ('.', True), ('he', True), ('can', True), ('jam', True), ('!', True), ('way', False), ('to', False), ('win', False), ('big', False), ('in', False), ('florida', False), ('....', False), ('not', False), ('!', False), ('lol', False), ('rebooting', True), ('!', True), ('week', True), ('1', True), ('over', True), ('again', True), ('.', True), ('kara', True), ('was', True), ('great', True), ('!', True), ('more', True), ('brainey', True), ('women', True), ('!', True), ('very', True), ('nice', True), ('congress-man', True), ('gw', True), ('meeks', True), ('there', False), ('needs', False), ('to', False), ('be', False), ('more', False), ('jackie', False), ('signs', False), ('out', False), ('!', False), ('!', False), ('!', False), ('too', False), ('many', False), ('loser', False), ('joe', False), ('bock', False), ('signs', False), ('around', False), ('.', False), ('he', False), (\"'s\", False), ('a', False), ('racist', False), ('anti-jew', False), ('loser', False), ('!', False), ('http', False), (':', False), ('//freebeacon.com/politics/scholarship-at-palestinian-university-named-after-dem-congressional-candidate/', False), ('[', False), ('[', False), ('share', False), (']', False), (']', False), ('oh', True), ('lala', True), ('...', True), ('the', True), ('race', True), ('is', True), ('on', True), ('!', True), (':', True), ('d', True), ('the', True), ('inference', True), ('that', True), ('dynamic', True), ('processing', True), ('helps', True), ('visual', True), ('integration', True), ('develop', True), ('impressed', True), ('me', True), ('.', True), ('some', False), ('talk', False), ('on', False), ('twitter', False), ('that', False), ('gove', False), ('might', False), ('get', False), ('defence', False), ('.', False), ('god', False), ('help', False), ('us', False), ('if', False), ('thats', False), ('true', False), ('at', True), ('least', True), ('you', True), (\"'re\", True), ('back', True), ('!', True), ('situations', False), ('in', False), ('china', False), ('is', False), ('complex', False), (',', False), ('no', False), ('one', False), ('can', False), ('fix', False), ('it', False), ('heavenly', True), ('father', True), (',', True), ('please', True), ('heal', True), ('our', True), ('land', True), ('.....', True), ('ha', True), ('!', True), ('i', True), ('saw', True), ('it', True), ('and', True), ('lol', True), (\"'d\", True), ('then', True), ('i', True), ('started', True), ('looking', True), ('at', True), ('the', True), ('feed', True), ('and', True), ('learned', True), ('some', True), ('great', True), ('exercises', True), ('for', True), ('lifting', True), ('the', True), ('bootay', True), ('!', True), ('i', True), ('also', True), ('saw', True), ('that', True), ('there', True), ('were', True), ('men', True), ('in', True), ('the', True), ('group', True), ('and', True), ('thought', True), ('you', True), ('would', True), ('get', True), ('a', True), ('kick', True), ('out', True), ('of', True), ('it', True), ('!', True), ('wow', False), ('looks', False), ('like', False), ('i', False), (\"'m\", False), ('on', False), ('the', False), ('last', False), ('stage', False), ('of', False), ('the', False), ('declination', False), ('...', False), ('i', False), (\"'m\", False), ('16', False), ('..', False), ('better', False), ('pick', False), ('up', False), ('arabic', False), ('asap', False), (':', False), (')', False), ('the', False), ('fact', False), ('that', False), ('this', False), ('kind', False), ('of', False), ('problem', False), ('is', False), ('cropping', False), ('up', False), ('in', False), ('engineering', False), ('after', False), ('thousands', False), ('of', False), ('years', False), ('of', False), ('development', False), ('makes', False), ('me', False), ('glad', False), ('that', False), ('i', False), ('do', False), (\"n't\", False), ('work', False), ('in', False), ('that', False), ('field', False), ('!', False), ('imagine', False), ('you', False), (\"'ve\", False), ('spent', False), ('years', False), ('designing', False), ('and', False), ('building', False), ('this', False), ('bridge', False), ('and', False), ('then', False), ('a', False), ('new', False), (',', False), ('quite', False), ('unknown', False), ('issue', False), ('arises', False), ('on', False), ('opening', False), ('day', False), ('-', False), ('poor', False), ('engineers', False), ('!', False), ('good', True), ('morning', True), ('dunia', True), ('que', True), ('tengan', True), ('un', True), ('excelente', True), ('dia', True), ('keep', True), ('up', True), ('the', True), ('good', True), ('work', True), ('!', True), ('thank', True), ('you', True), ('!', True), ('!', True), ('lol', True), ('i', True), (\"'ll\", True), ('do', True), ('that', True), ('and', True), ('the', True), ('make', True), ('up', True), ('looks', True), ('great', True), ('as', True), ('you', True), ('always', True), ('do', True), ('precious', True), ('family', True), ('pic', True), ('.', True), ('dont', False), ('ever', False), ('give', False), ('trust', False), ('moogles', False), ('to', False), ('exdeath', False), (',', False), ('his', False), ('tmr', False), ('is', False), ('very', False), ('bad', False), ('.', False), ('unless', False), ('you', False), ('are', False), ('using', False), ('orlandu', False), (',', False), ('cecils', False), ('is', False), ('not', False), ('very', False), ('important', False), ('.', False), ('do', False), ('you', False), ('have', False), ('any', False), ('other', False), ('options', False), ('after', False), ('fryevia', False), ('?', False), ('loved', True), ('this', True), ('book', True), ('!', True), ('in', True), ('fact', True), (',', True), ('after', True), ('reading', True), ('it', True), ('from', True), ('cover', True), ('to', True), ('cover', True), ('in', True), ('one', True), (\"'go\", True), (\"'\", True), (',', True), ('i', True), ('began', True), ('reading', True), ('it', True), ('again', True), ('!', True), ('i', True), ('think', True), ('this', True), ('book', True), (',', True), ('the', True), ('message', True), (',', True), ('the', True), ('ending', True), ('....', True), ('could', True), ('change', True), ('lives', True), ('.', True), ('@', True), ('dean', True), ('koontz', True), ('.', True), ('in', True), ('the', True), ('clip', True), ('from', True), ('the', True), ('interview', True), ('...', True), ('are', True), ('those', True), ('your', True), ('library', True), ('shelves', True), ('?', True), ('thanks', True), ('as', True), ('well', True), ('.', True), ('look', True), ('forward', True), ('to', True), ('seeing', True), ('you', True), ('in', True), ('my', True), ('feeds', True), ('!', True), (':', True), (')', True), ('but', False), ('he', False), ('lives', False), ('with', False), ('his', False), ('parents', False), ('?', False), ('hopefully', False), ('he', False), ('didnt', False), ('use', False), ('their', False), ('credit', False), ('card', False), ('.', False), ('welcome', True), ('to', True), ('the', True), ('group', True), ('!', True), ('my', True), ('nose', True), ('can', True), ('bench', True), ('230', True), (',', True), ('whats', True), ('up', True), ('.', True), ('this', False), ('talk', False), ('made', False), ('me', False), ('feel', False), ('sorry', False), ('for', False), ('us', False), ('humans', False), ('trying', False), ('to', False), ('move', False), ('all', False), ('sexily', False), ('at', False), ('the', False), ('club', False), ('and', False), ('in', False), ('bed', False), ('.', False), ('so', False), ('laborious', False), ('!', False), ('we', False), ('can', False), ('discuss', False), ('what', False), (\"'s\", False), ('fair', False), ('or', False), ('not', False), ('and', False), ('how', False), ('to', False), ('divide', False), ('this', False), ('pie', False), (',', False), ('but', False), ('until', False), ('anyone', False), ('accepts', False), ('position', False), ('paid', False), ('multiple', False), ('times', False), ('the', False), ('average', False), ('we', False), ('have', False), ('nothing', False), ('to', False), ('discuss', False), (',', False), ('it', False), ('will', False), ('only', False), ('bring', False), ('art', False), ('of', False), ('justification', False), ('to', False), ('the', False), ('table', False), ('.', False), ('those', False), ('super-rich', False), ('are', False), ('necessary', False), ('.', False), ('i', True), ('had', True), ('a', True), ('strange', True), ('feeling', True), ('as', True), ('if', True), ('i', True), ('was', True), ('watching', True), ('some', True), ('professional', True), ('preacher', True), ('from', True), ('new', True), ('york', True), ('who', True), ('needs', True), ('urgent', True), ('psychiatric', True), ('treatment', True), ('(', True), ('and', True), ('a', True), ('lot', True), ('of', True), ('cash', True), (')', True), ('!', True), (':', True), (')', True), ('in', True), ('case', True), ('anybody', True), ('knows', True), ('what', True), ('other', True), ('``', True), ('change', True), (',', True), ('whether', True), ('political', True), (',', True), ('social', True), ('or', True), ('personal', True), (\"''\", True), ('mallika', True), (\"'s\", True), ('``', True), ('dance', True), (\"''\", True), ('has', True), ('actually', True), ('produced', True), (',', True), ('do', True), ('share', True), ('it', True), ('with', True), ('us', True), ('.', True), ('watch', False), ('more', False), ('talk', False), ('while', False), ('nothing', False), ('is', False), ('actually', False), ('being', False), ('done', False), ('!', False), ('!', False), ('!', False), ('!', False), ('!', False), ('no', False), ('thanks', False), ('!', False), ('!', False), ('!', False), ('!', False), ('and', False), ('you', False), ('stop', False), ('posting', False), ('here', False), ('?', False), ('?', False), ('?', False), ('senator', True), ('desantis', True), (',', True), ('sounds', True), ('good', True), ('to', True), ('me', True), ('!', True), ('!', True), ('i', True), ('hate', True), ('to', True), ('lose', True), ('you', True), ('in', True), ('our', True), ('district', True), ('though', True), ('.', True), ('come', True), ('do', True), ('a', True), ('show', True), ('in', True), ('cali', True), ('and', True), ('show', True), ('all', True), ('the', True), ('asian', True), ('girls', True), ('at', True), ('ucla', True), ('how', True), ('its', True), ('done', True), ('!', True), ('looks', False), ('like', False), ('obama', False), ('smelled', False), ('putin', False), (\"'s\", False), ('fartski', False), ('hey', True), ('mark', True), ('-', True), ('are', True), ('you', True), ('still', True), ('around', True), ('?', True), ('good', True), ('for', True), ('you', True), ('.', True), ('thanks', True), ('for', True), ('the', True), ('follow', True), ('man', True), ('yes', True), (',', True), ('a', True), ('trail', True), ('around', True), ('the', True), ('adk', True), ('park', True), ('and', True), ('all', True), ('towns', True), ('linked', True), ('together', True), (',', True), ('the', True), ('kids', True), ('at', True), ('the', True), ('youth', True), ('conservation', True), ('corp', True), ('could', True), ('use', True), ('the', True), ('work', True), ('.', True), ('the', True), ('trails', True), ('are', True), ('already', True), ('there', True), ('.', True), ('that', True), (\"'s\", True), ('awesome', True), ('!', True), ('we', True), ('do', True), ('have', True), ('a', True), ('lot', True), ('in', True), ('common', True), (':', True), (')', True), ('i', True), ('really', True), ('wish', True), ('you', True), ('still', True), ('have', True), ('the', True), ('dean', True), ('koontz', True), ('gift', True), ('store', True), ('still', True), ('open', True), (',', True), ('i', True), ('need', True), ('a', True), ('few', True), ('more', True), ('pico', True), ('mundo', True), ('grille', True), ('coffee', True), ('mugs', True), ('!', True), ('thanks', True), ('for', True), ('follwing', True), ('back', True), ('man', True), ('!', True), ('my', False), ('how', False), ('dated', False), ('this', False), ('talk', False), ('has', False), ('gotten', False), ('.', False), ('if', False), ('the', False), ('price', False), ('of', False), ('long-distance', False), ('was', False), (\"n't\", False), ('zero', False), ('then', False), ('talking', False), ('with', False), ('india', False), ('would', False), ('be', False), ('prohibitively', False), ('expensive', False), ('.', False), ('chris', False), ('anderson', False), ('really', False), ('needs', False), ('to', False), ('update', False), ('this', False), ('video', False), ('talk', False), ('with', False), ('something', False), ('geared', False), ('toward', False), ('2011', False), ('or', False), ('they', False), ('were', False), ('very', False), ('very', False), ('very', False), ('very', False), ('*', False), ('*', False), ('very', False), ('*', False), ('*', False), ('likely', False), ('ingress', False), ('portals', False), (',', False), ('put', False), ('there', False), ('by', False), ('bored', False), ('workers', False), ('.', False), ('edited', False), ('to', False), ('emphasize', False), ('very', False), ('that', True), ('clip', True), ('makes', True), ('me', True), ('want', True), ('to', True), ('re-watch', True), ('the', True), ('whole', True), ('series', True), ('...', True), ('you', True), ('ready', True), ('for', True), ('the', True), ('breakfast', True), ('tomorrow', True), ('morning', True), ('?', True), ('i', True), ('love', True), ('field', True), ('hockey', True), ('.', True), ('i', True), ('played', True), ('football', True), ('but', True), ('field', True), ('hockey', True), ('was', True), ('my', True), ('favorite', True), ('sport', True), ('then', True), ('softball', True), ('and', True), ('then', True), ('girls', True), ('basketball', True), ('my', True), ('pleasure', True), ('and', True), ('you', True), ('earned', True), ('them', True), ('morgan', True), ('!', True), ('!', True), ('thank', True), ('you', True), ('lucandebulter', True), ('!', True), ('i', True), ('actually', True), ('kind', True), ('of', True), ('like', True), ('them', True), ('!', True), ('go', True), ('get', True), (\"'em\", True), ('rand', True), ('paul', True), ('.', True), ('i', True), ('heard', True), ('you', True), ('on', True), ('the', True), ('laura', True), ('ingraham', True), ('show', True), ('today', True), ('and', True), ('you', True), ('did', True), ('great', True), ('!', True), ('glad', True), ('to', True), ('see', True), ('you', True), ('out', True), ('in', True), ('front', True), ('making', True), ('the', True), ('case', True), ('.', True), ('guess', True), ('who', True), ('i', True), ('voted', True), ('for', True), ('!', True), ('ha', True), ('!', True), ('!', True), ('spreading', True), ('the', True), ('love', True), ('!', True), ('thank', True), ('you', True), ('for', True), ('the', True), ('much', True), ('needed', True), ('inspiration', True), ('!', True), ('she', True), ('is', True), ('a', True), ('very', True), ('good', True), ('speaker', True), ('on', True), ('this', True), ('topic', True), ('.', True), ('we', True), ('are', True), ('close', True), ('in', True), ('age', True), ('.', True), ('thank', True), ('you', True), ('for', True), ('speaking', True), ('out', True), ('.', True), ('i', True), (\"'m\", True), ('glad', True), ('you', True), ('did', True), (',', True), ('you', True), ('can', True), ('be', True), ('a', True), ('great', True), ('role', True), ('model', True), ('for', True), ('others', True), ('in', True), ('overcoming', True), ('shame', True), ('.', True), ('i', True), ('can', True), ('imagine', True), ('if', True), ('we', True), ('flooded', True), ('people', True), (\"'s\", True), ('feeds', True), ('with', True), ('positive', True), ('comments', True), (',', True), ('that', True), ('would', True), ('be', True), ('wonderful', True), ('.', True), ('thank', True), ('you', True), ('very', True), ('much', True), ('from', True), ('a', True), ('citizen', True), ('of', True), ('salisbury', True), ('.', True), ('i', True), ('enjoy', True), ('listening', True), ('to', True), ('the', True), ('enlightening', True), ('words', True), ('of', True), ('professor', True), ('dawkins', True), ('.', True), ('i', True), ('have', True), ('always', True), ('expressed', True), ('my', True), ('atheism', True), ('openly', True), ('.', True), ('we', True), ('atheists', True), ('should', True), ('be', True), ('more', True), ('militant', True), ('because', True), ('of', True), ('the', True), ('grave', True), ('hindrance', True), ('that', True), ('religion', True), ('poses', True), ('to', True), ('science', True), ('.', True), ('we', True), ('must', True), ('in', True), ('the', True), ('very', True), ('least', True), ('even', True), ('the', True), ('playing', True), ('field', True), ('.', True), ('they', False), ('do', False), ('not', False), ('want', False), ('transparency', False), ('!', False), ('plain', False), ('and', False), ('simple', False), ('!', False), ('oh', True), ('no', True), ('worries', True), (',', True), ('i', True), ('thought', True), ('we', True), ('were', True), ('too', True), ('.', True), ('and', True), ('you', True), ('pp', True), ('brings', True), ('a', True), ('smile', True), ('to', True), ('my', True), ('face', True), ('every', True), ('time', True), ('i', True), ('see', True), ('it', True), ('!', True), ('awesome', True), ('article', True), ('eric', True), ('!', True), ('!', True), ('so', True), ('happy', True), ('for', True), ('you', True), ('!', True), ('!', True), ('fascinating', True), ('-', True), ('really', True), ('enjoyed', True), ('this', True), ('talk', True), ('thank', True), ('you', True), ('and', True), ('same', True), ('to', True), ('you', True), ('!', True), ('if', True), ('you', True), ('need', True), ('anything', True), ('at', True), ('all', True), (',', True), ('i', True), (\"'m\", True), ('here', True), ('^^', True), ('sorry', False), ('but', False), ('very', False), ('old', False), ('hat', False), (';', False), ('have', False), ('we', False), ('really', False), ('suddenly', False), ('(', False), ('re', False), (')', False), ('discovered', False), ('that', False), ('people', False), ('need', False), ('to', False), ('be', False), ('valued', False), ('!', False), ('?', False), ('some', False), (\"'old\", False), ('guy', False), (\"'\", False), ('...', False), ('ahh', False), (',', False), ('maslow', False), ('!', False), ('!', False), ('!', False), ('i', False), ('wish', False), ('someone', False), ('would', False), ('pay', False), ('me', False), ('to', False), ('reinvent', False), ('the', False), ('wheel', False), ('!', False), ('thanks', True), ('for', True), ('the', True), ('follow', True), ('back', True), ('haha', True), (':', True), (')', True), ('never', False), ('heard', False), ('you', False), ('speak', False), ('of', False), ('the', False), ('rights', False), ('for', False), ('muslim', False), ('women', False), ('it', True), ('is', True), ('a', True), ('victory', True), ('for', True), ('those', True), ('who', True), ('are', True), ('uninsured', True), ('for', True), ('any', True), ('reason', True), ('.', True), ('let', True), ('us', True), ('hope', True), ('the', True), ('present', True), ('law', True), ('will', True), ('be', True), ('improved', True), ('with', True), ('some', True), ('necessary', True), ('changes', True), ('.', True), ('bitsie', True), ('it', True), ('just', True), ('may', True), ('be', True), ('the', True), ('most', True), ('beautiful', True), ('place', True), ('on', True), ('the', True), ('planet', True), ('.', True), ('the', True), ('water', True), ('is', True), ('so', True), ('clear', True), (',', True), ('and', True), ('the', True), ('lake', True), ('rocks', True), ('are', True), ('like', True), ('nowhere', True), ('else', True), ('.', True), ('america', False), ('does', False), ('not', False), ('need', False), ('another', False), ('$', False), ('1', False), ('trillion', False), ('+', False), ('that', False), ('will', False), ('bankrupt', False), ('america', False), ('been', True), ('inconsistent', True), ('but', True), ('back', True), ('on', True), ('track', True), ('!', True), ('thanks', True), ('for', True), ('follow', True), ('thanks', True), ('for', True), ('all', True), ('your', True), ('hard', True), ('work', True), ('on', True), ('this', True), ('issue', True), ('.', True), ('most', True), ('of', True), ('all', True), ('with', True), ('the', True), ('volume', True), ('control', True), ('with', True), ('t.v', True), ('.', True), ('ads', True), ('.', True), ('it', True), ('will', True), ('make', True), ('a', True), ('difference', True), ('in', True), ('the', True), ('annoyance', True), ('of', True), ('the', True), ('broadcasting', True), ('.', True), ('why', False), ('is', False), ('south', False), ('mpls', False), ('taxes', False), ('going', False), ('up', False), ('with', False), ('such', False), ('a', False), ('huge', False), ('surplus', False), ('!', False), ('!', False), ('!', False), ('!', False), ('easy', False), ('stop', False), ('sending', False), ('money', False), ('to', False), ('foreign', False), ('nations', False), ('and', False), ('start', False), ('spending', False), ('on', False), ('our', False), ('own', False), ('citizens', False), ('all', False), ('this', False), ('foreign', False), ('aide', False), ('is', False), ('bs', False), ('!', False), ('!', False), ('!', False), ('heroes', True), ('and', True), ('leaders', True), ('emerge', True), ('.', True), ('thank', True), ('you', True), (',', True), ('monica', True), ('for', True), ('taking', True), ('back', True), ('your', True), ('narrative', True), ('and', True), ('uplifting', True), ('us', True), ('all', True), ('with', True), ('your', True), ('thoughtful', True), ('words', True), (',', True), ('analysis', True), ('and', True), ('decree', True), ('for', True), ('empathy', True), (',', True), ('compassion', True), ('and', True), ('a', True), ('world', True), ('in', True), ('which', True), ('public', True), ('shaming', True), ('is', True), ('a', True), ('click', True), ('of', True), ('the', True), ('past', True), ('.', True), ('luv', True), ('u', True), ('so', True), ('much', True), ('tyra', True), ('i', True), ('alwayas', True), ('watch', True), ('antm', True), (':', True), ('all', True), ('stars', True), ('shelley', True), ('has', True), ('my', True), ('vote', True), ('.', True), ('jim', True), ('ballard', True), ('your', True), ('radiating', True), ('joy', True), ('.', True), ('see', True), ('you', True), ('on', True), ('the', True), ('future', True), ('cruise', True), ('alonzo', True), ('.', True), ('greatful', True), ('to', True), ('all', True), ('those', True), ('americans', True), ('who', True), ('did', True), ('not', True), ('vote', True), ('for', True), ('trump', True), ('.', True), ('awkwafina', True), (\"'s\", True), ('a', True), ('genius', True), ('!', True), ('!', True), ('!', True), ('!', True), ('hi', True), ('claire', True), ('!', True), ('saw', True), ('your', True), ('bus', True), ('go', True), ('by', True), ('in', True), ('downtown', True), ('columbia', True), ('yesterday', True), ('.', True), ('was', True), ('going', True), ('to', True), ('try', True), ('to', True), ('stop', True), ('by', True), ('and', True), ('say', True), ('hello', True), ('(', True), ('i', True), ('used', True), ('to', True), ('be', True), ('win', True), ('horner', True), ('...', True), (')', True), ('and', True), ('to', True), ('thank', True), ('you', True), ('for', True), ('your', True), ('service', True), ('.', True), ('you', True), ('definitely', True), ('have', True), ('my', True), ('vote', True), ('!', True), ('lol', True), ('.', True), ('im', True), ('out', True), ('of', True), ('protein', True), ('shake', True), ('.', True), ('still', True), ('got', True), ('creatine', True), ('though', True), (',', True), ('just', True), ('eating', True), ('loads', True), ('of', True), ('tuna', True), ('lol', True), ('.', True), ('http', True), (':', True), ('//twitchy.com/2015/05/10/watch-mark-halperins-ghastly-cuban-authenticity-interrogation-of-ted-cruz-video/', True), ('thank', False), ('you', False), ('so', False), ('much', False), ('!', False), ('actually', False), (',', False), ('i', False), ('have', False), ('the', False), ('same', False), ('situation', False), ('as', False), ('you', False), ('was', False), ('like', False), ('that', False), ('i', False), ('have', False), ('no', False), ('confidence', False), ('at', False), ('the', False), ('school', False), ('and', False), ('i', False), ('am', False), ('so', False), ('shy', False), ('to', False), ('communicate', False), ('with', False), ('others', False), ('.', False), ('but', False), ('i', False), ('have', False), ('hopes', False), ('i', False), ('can', False), ('make', False), ('it', False), ('after', False), ('watching', False), ('!', False), ('in', False), ('contrast', False), (',', False), ('a', False), ('simple', False), ('flat', False), ('tax', False), ('would', False), ('flatten', False), ('the', False), ('tax', False), ('brackets', False), (',', False), ('allow', False), ('everyone', False), ('to', False), ('pay', False), ('a', False), ('more', False), ('comparable', False), ('percentage', False), ('of', False), ('tax', False), (',', False), ('and', False), ('still', False), ('not', False), ('hinder', False), ('the', False), ('stimulative', False), ('effect', False), ('of', False), ('economic', False), ('activity', False), ('and', False), ('sales', False), ('on', False), ('jobs', False), ('which', False), ('increasing', False), ('sales', False), ('taxes', False), ('would', False), ('negatively', False), ('impact', False), ('.', False), ('thanks', True), ('back', True), ('!', True), ('great', True), ('lifts', True), ('!', True), (':', True), (')', True), ('it', True), ('changed', True), ('my', True), ('life', True), (':', True), (')', True), ('i', True), ('feel', True), ('so', True), ('much', True), ('better', True), ('knowing', True), ('that', True), ('-', True), ('im', True), ('not', True), ('alone', True), ('in', True), ('this', True), ('.', True), ('true', True), ('.', True), ('es', True), ('takes', True), ('some', True), ('practice', True), ('though', True), ('.', True), ('if', True), ('youre', True), ('not', True), ('used', True), ('to', True), ('timing', True), ('it', True), ('out', True), ('for', True), ('maximum', True), ('impact', True), ('in', True), ('a', True), ('teamfight', True), (',', True), ('its', True), ('not', True), ('going', True), ('to', True), ('get', True), ('value', True), ('.', True), ('medusa', True), ('doesnt', True), ('change', True), ('any', True), ('part', True), ('of', True), ('your', True), ('playstyle', True), ('at', True), ('all', True), ('.', True), ('its', True), ('just', True), ('free', True), ('value', True), ('.', True), ('great', True), ('game', True), (',', True), ('well', True), ('played', True), ('!', True), ('early', True), ('night', True), ('!', True), ('i', True), ('suggest', True), ('reading', True), ('about', True), ('the', True), ('theory', True), ('created', True), ('by', True), ('allan', True), ('kardec', True), ('.', True), ('he', True), ('is', True), ('the', True), ('initiator', True), ('of', True), ('a', True), ('research', True), ('that', True), ('seeks', True), ('to', True), ('present', True), ('a', True), ('reasoned', True), ('faith', True), ('through', True), ('the', True), ('evolution', True), ('of', True), ('spirit', True), (',', True), ('proving', True), ('that', True), ('reducing', True), ('violence', True), ('decreases', True), ('proportionally', True), ('to', True), ('the', True), ('evolution', True), ('of', True), ('our', True), ('spirit', True), ('through', True), ('time', True), ('.', True), ('i', True), ('love', True), ('you', True), ('dan', True), ('eberle', True), ('!', True), ('this', True), ('is', True), ('wonderful', True), ('--', True), ('thank', True), ('you', True), ('so', True), ('much', True), ('for', True), ('the', True), ('beautiful', True), ('tribute', True), ('.', True), ('she', True), ('is', True), ('true', True), (',', True), ('we', True), ('are', True), ('one', True), ('big', True), ('connected', True), ('energy', True), ('that', True), ('has', True), ('chosen', True), ('to', True), ('manifest', True), ('itself', True), (',', True), ('but', True), ('the', True), ('beautiful', True), ('part', True), ('of', True), ('it', True), ('is', True), ('that', True), ('we', True), ('are', True), ('the', True), ('artists', True), ('that', True), ('manifest', True), ('it', True), ('.', True), ('we', False), ('put', False), ('you', False), ('there', False), ('to', False), ('markwayne', False), ('to', False), ('fight', False), ('the', False), ('corruption', False), ('.', False), ('do', False), (\"n't\", False), ('let', False), ('us', False), ('down', False), ('.', False), ('no', True), ('problem', True), ('!', True), ('haha', True), ('thank', True), ('youuuu', True), ('!', True), (':', True), ('d', True), ('it', True), ('is', True), ('something', True), ('like', True), ('``', True), ('do', True), ('your', True), ('best', True), (',', True), ('the', True), ('rest', True), ('will', True), ('come', True), (\"''\", True), ('awesome', True), ('!', True), ('!', True), ('what', True), ('a', True), ('great', True), ('honour', True), ('!', True), ('my', True), ('pleasure', True), ('-', True), ('you', True), ('just', True), ('have', True), ('to', True), ('keep', True), ('on', True), ('keepin', True), (\"'\", True), ('on', True), (',', True), ('brother', True), ('.', True), ('life', True), ('has', True), ('a', True), ('funny', True), ('way', True), ('of', True), ('throwing', True), ('obstacles', True), ('at', True), ('you', True), ('-', True), ('adapt', True), ('and', True), ('survive', True), ('.', True), ('very', True), ('inspiring', True), ('project', True), ('...', True), ('as', True), ('a', True), ('pediatric', True), ('physical', True), ('therapist', True), (',', True), ('i', True), ('am', True), ('wondering', True), ('if', True), ('the', True), ('children', True), ('are', True), ('evalutated', True), ('and', True), ('treated', True), ('for', True), ('any', True), ('gross', True), ('and', True), ('fine', True), ('motor', True), ('deficits', True), ('.', True), ('children', True), ('rely', True), ('on', True), ('their', True), ('visual/perceptual', True), ('skills', True), ('to', True), ('develop', True), ('motorically', True), ('.', True), ('we', True), ('love', True), ('watching', True), ('you', True), ('.', True), ('you', True), ('are', True), ('down', True), ('to', True), ('earth', True), ('and', True), ('pleasant', True), ('to', True), ('listen', True), ('to', True), ('.', True), ('you', True), ('were', True), ('dressed', True), ('very', True), ('well', True), ('tonight', True), ('.', True), ('do', True), ('not', True), ('pay', True), ('any', True), ('attention', True), ('to', True), ('the', True), ('others', True), ('because', True), ('they', True), ('are', True), ('just', True), ('jealous', True), ('of', True), ('you', True), ('!', True), ('good', True), ('luck', True), (',', True), ('hope', True), ('it', True), ('all', True), ('works', True), ('out', True), (':', True), ('-', True), (')', True), ('a', False), ('lot', False), ('of', False), ('dopes', False), ('vote', False), ('for', False), ('clowns', False), ('like', False), ('udall', False), ('not', False), ('entirely', False), ('surprising', False), ('given', False), ('one', False), ('of', False), ('its', False), ('state', False), ('senators', False), ('is', False), ('powered', False), ('solely', False), ('by', False), ('hot', False), ('air', False), ('?', False), ('shame', False), ('on', False), ('me', False), (',', False), ('but', False), ('i', False), ('actually', False), ('havent', False), ('listened', False), ('to', False), ('any', False), ('of', False), ('their', False), ('albums', False), ('in', False), ('full', False), ('yet', False), ('.', False), ('my', False), ('internet', False), ('is', False), ('too', False), ('crud', False), ('to', False), ('watch', False), ('youtube', False), ('.', False), ('and', False), ('i', False), ('got', False), ('no', False), ('money', False), ('to', False), ('buy', False), ('them', False), ('.', False), ('im', False), ('working', False), ('on', False), ('it', False), ('.', False), ('slowly', False), ('.', False), ('i', False), ('have', False), ('listened', False), ('to', False), ('a', False), ('large', False), ('majority', False), ('of', False), ('their', False), ('songs', False), (',', False), ('i', False), ('just', False), ('wouldnt', False), ('be', False), ('able', False), ('to', False), ('name', False), ('the', False), ('album', False), (',', False), ('probably', False), ('.', False), ('wow', True), ('amy', True), (',', True), ('so', True), ('moving', True), ('!', True), ('you', True), ('really', True), ('inspired', True), ('me', True), ('!', True), ('i', True), (\"'d\", True), ('love', True), ('to', True), ('translate', True), ('this', True), ('to', True), ('increase', True), ('the', True), ('awareness', True), ('.', True), ('possibilities', True), ('are', True), ('dutch', True), ('and', True), ('french', True), ('.', True), ('love', True), ('the', True), ('talk', True), ('!', True), ('monday', True), ('all', True), ('the', True), ('goodness', True), ('begins', True), ('again', True), ('!', True), ('thanks', True), ('for', True), ('remembering', True), ('!', True), ('hope', True), ('all', True), ('is', True), ('well', True), ('with', True), ('you', True), ('!', True), ('hey', True), ('i', True), ('agree', True), ('with', True), ('harvey', True), ('.', True), ('if', True), ('we', True), ('can', True), ('tamper', True), ('our', True), ('dna', True), ('and', True), ('make', True), ('us', True), ('physically', True), ('powerful', True), ('?', True), ('why', True), ('not', True), ('tamper', True), ('our', True), ('psyche', True), ('to', True), ('make', True), ('us', True), ('not-selfish', True), (',', True), ('not-greedy', True), (',', True), ('non-racist', True), (',', True), ('non-terrorist', True), (',', True), ('non-war', True), ('ish', True), (',', True), ('non-explotish', True), ('?', True), ('?', True), ('?', True), ('?', True), ('?', True), ('suggestions', True), ('welcome', True), ('editing', True), ('was', True), ('on', True), ('fucking', True), ('point', True), ('thanks', True), ('!', True), ('i', True), ('joined', True), ('the', True), ('group', True), ('mrs.', True), ('carter', True), ('spoke', True), ('of', True), ('this', True), ('very', True), ('same', True), ('thing', True), ('(', True), ('bunchy', True), ('carter', True), ('mama', True), (')', True), ('...', True), ('god', True), ('bless', True), ('our', True), ('community', True), ('...', True), ('goodmorning', True), ('.', True), ('and', True), ('good', True), ('afternoon', True), ('from', True), ('the', True), ('netherlands', True), ('....', True), ('good', True), ('morning', True), ('chris', True), ('.', True), ('watching', True), ('berman', True), ('&', True), ('romans', True), ('on', True), ('``', True), ('early', True), ('start', True), (\"''\", True), ('and', True), ('waiting', True), ('for', True), ('#', True), ('newday', True), ('...', True), ('pre-cubs', True), ('game', True), ('nerves', True), ('.', True), ('beautiful', True), ('artowrk', True), ('indeed', True), ('...', True), ('some', True), ('of', True), ('those', True), ('must', True), ('have', True), ('been', True), ('very', True), ('difficult', True), ('to', True), ('craft', True), ('for', True), ('sure', True), ('.', True), ('<', True), ('a', True), ('href=', True), (\"''\", True), ('http', True), (':', True), ('//www.ultimatedefensesystem.com/', True), (\"''\", True), ('>', True), ('self', True), ('defense', True), ('moves', True), ('<', True), ('/a', True), ('>', True), ('hey', False), ('man', False), (',', False), ('you', False), ('could', False), ('attend', False), ('a', False), ('deaf', False), ('and', False), ('hard', False), ('hearing', False), ('meet', False), ('up', False), ('.', False), ('could', False), ('be', False), ('fun', False), ('inmates', False), ('need', False), ('to', False), ('stick', False), ('to', False), ('license', False), ('plates', False), (',', False), ('not', False), ('manufacturing', False), ('anything', False), ('detrimental', False), ('in', False), ('saving', False), ('lives', False), ('.', False), ('denny', True), ('crane', True), ('is', True), ('the', True), ('shit', True), ('his', True), ('talk', True), ('reminds', True), ('me', True), ('of', True), ('edward', True), ('de', True), ('bono', True), (\"'s\", True), ('book', True), ('-', True), ('``', True), ('simplicity', True), (\"''\", True), ('.', True), ('therefore', True), ('i', True), ('suggest', True), ('4th', True), ('quadrant', True), ('be', True), ('referred', True), ('to', True), ('as', True), ('``', True), ('simplicity', True), (\"''\", True), ('.', True), ('thank', True), ('you', True), ('so', True), ('much', True), ('for', True), ('all', True), ('you', True), ('do', True), (',', True), ('debbie', True), ('!', True), ('!', True), ('you', True), ('are', True), ('one', True), ('amazing', True), ('lady', True), ('and', True), ('i', True), (\"'m\", True), ('so', True), ('excited', True), ('that', True), ('you', True), ('are', True), ('involved', True), ('with', True), ('the', True), ('uaw', True), ('and', True), ('politics', True), ('!', True), ('!', True), ('best', True), ('talk', True), ('i', True), (\"'ve\", True), ('ever', True), ('seen', True), ('before', True), (';', True), (')', True), ('even', True), ('wathing', True), ('this', True), ('talk', True), ('makes', True), ('me', True), ('feel', True), ('really', True), ('powerful', True), ('.', True), ('thank', True), ('you', True), ('for', True), ('sharing', True), ('it', True), ('!', True), ('que', True), ('hermosa', True), ('may', True), ('como', True), ('sienpre', True), ('thanks', False), ('for', False), ('making', False), ('the', False), ('effort', False), ('and', False), ('coming', False), ('to', False), ('support', False), ('our', False), ('athletes', False), ('!', False), ('great', True), ('work', True), ('and', True), ('a', True), ('clear', True), ('victory', True), ('tonight', True), ('!', True), ('if', True), ('you', True), ('stretch', True), ('it', True), (',', True), ('track', True), ('it', True), ('!', True), (':', True), (')', True), ('i', True), ('love', True), ('this', True), ('--', True), ('you', True), ('two', True), ('look', True), ('like', True), ('celebrities', True), ('.', True), ('people', True), ('magazine', True), ('here', True), ('you', True), ('come', True), ('.', True), ('we', True), ('make', True), ('our', True), ('own', True), ('luck', True), ('around', True), ('hurr', True), ('.', True), ('you', True), ('got', True), ('this', True), ('shit', True), ('what', True), ('?', True), ('no', True), ('mickey', True), ('ds', True), ('for', True), ('a', True), ('royale', True), ('with', True), ('cheese', True), ('?', True), ('honestly', True), (',', True), ('no', True), ('class', True), ('haha', True), ('!', True), ('bon', True), ('chance', True), ('mes', True), ('amis', True), ('!', True), ('i', True), ('connect', True), ('better', True), ('when', True), ('im', True), ('not', True), ('just', True), ('staring', True), ('at', True), ('words', True), ('.', True), ('...', True), ('and', True), ('it', True), ('helps', True), ('discern', True), ('which', True), ('sara', True), ('(', True), ('tinder', True), (')', True), ('im', True), ('talking', True), ('to', True), ('?', True), ('edit', True), (':', True), ('im', True), ('kidding', True), (',', True), ('damn', True), ('that', False), ('toxic', False), ('masculinity', False), ('strikes', False), ('again', False), (',', False), ('those', False), ('evil', False), ('evil', False), ('men', False), ('.', False), ('<', False), ('link', False), ('>', False), ('great', True), ('clip', True), ('traci', True), ('...', True), ('n', True), ('rip', True), ('sam', True), ('kinison', True), ('.', True), (':', True), ('-', True), ('(', True), ('true', True), ('genius', True), (',', True), ('he', True), ('was', True), ('..', True), ('very', True), ('exciting', True), ('.', True), ('i', True), ('too', True), ('wish', True), ('the', True), ('tennis', True), ('channel', True), ('would', True), ('show', True), ('mixed', True), ('doubles', True), ('matches', True), ('too', True), ('rino', False), ('with', False), ('an', False), ('ego', False), ('the', False), ('size', False), ('of', False), ('his', False), ('ass', False), ('.....', False), ('i', False), ('am', False), ('glad', False), ('the', False), ('liberals', False), ('are', False), ('ripping', False), ('the', False), ('jackass', False), ('.', False), ('i', False), ('do', False), (\"n't\", False), ('want', False), ('him', False), ('running', False), ('for', False), ('prez', False), ('anyway', False), ('....', False), ('gasbag', False), ('.', False), ('egory', False), ('mullins', False), ('you', False), ('are', False), ('not', False), ('being', False), ('polite', False), ('here', False), ('.', False), ('seriously', True), ('...', True), ('one', True), ('of', True), ('the', True), ('funniest', True), ('tv', True), ('shows', True), ('ever', True), ('!', True), ('!', True), ('!', True), ('!', True), ('sad', False), ('we', False), ('are', False), ('still', False), ('talking', False), ('about', False), ('this', False), ('and', False), ('i', False), (\"'m\", False), ('almost', False), ('65', False), ('!', False), ('thank', True), ('you', True), ('for', True), ('showing', True), ('astonishing', True), ('animals', True), ('!', True), ('!', True), ('!', True), ('it', True), ('is', True), ('amazing', True), ('to', True), ('observe', True), ('what', True), ('animals', True), ('can', True), ('do', True), (',', True), ('it', True), ('requires', True), ('very', True), ('special', True), ('and', True), ('highly', True), ('developed', True), ('cells', True), ('to', True), ('convert', True), ('the', True), ('appearance', True), ('of', True), ('their', True), ('skin', True), ('just', True), ('like', True), ('the', True), ('enviroment', True), ('.', True), ('just', True), ('unbelievable', True), ('.', True), ('the', True), ('most', True), ('words', True), ('i', True), ('listen', True), ('to', True), ('this', True), ('video', True), ('are', True), ('differences', True), ('and', True), ('civilization', True), (',', True), ('china', True), ('has', True), ('the', True), ('ability', True), ('to', True), ('hold', True), ('differences', True), ('and', True), ('has', True), ('a', True), ('lot', True), ('of', True), ('civilization', True), (',', True), ('so', True), ('do', True), ('not', True), ('worry', True), ('about', True), ('the', True), ('rise', True), ('of', True), ('china', True), ('.', True), ('it', True), ('will', True), ('benefit', True), ('the', True), ('world', True), ('.', True), ('so', True), ('chinatown', True), ('does', True), ('support', True), ('jobs', True), ('?', True), ('i', True), ('think', True), ('everyone', True), ('here', True), ('is', True), ('always', True), ('in', True), ('the', True), ('mood', True), ('for', True), ('a', True), ('kimi', True), ('win', True), ('you', True), ('know', True), ('whats', True), ('also', True), ('as', True), ('addictive', True), ('as', True), ('television', True), ('?', True), ('reddit', True), ('!', True), ('did', False), (\"n't\", False), ('dismiss', False), ('.', False), ('see', False), ('my', False), ('earlier', False), ('comment', False), ('below', False), ('(', False), ('april', False), ('4', False), (')', False), ('i', True), ('always', True), ('liked', True), ('that', True), ('about', True), ('it', True), ('.', True), ('it', True), ('made', True), ('it', True), ('so', True), ('you', True), ('could', True), ('talk', True), ('about', True), ('whatever', True), ('you', True), ('wanted', True), (',', True), ('and', True), ('not', True), ('just', True), ('the', True), ('opinions', True), ('you', True), ('know', True), ('will', True), ('be', True), ('agreed', True), ('upon', True), ('.', True), ('no', False), ('there', False), ('isnt', False), (',', False), ('the', False), ('update', False), ('goes', False), ('live', False), ('the', False), ('same', False), ('time', False), ('every', False), ('single', False), (',', False), ('its', False), ('clutter', False), ('.', False), ('there', False), ('wasnt', False), ('one', False), ('of', False), ('these', False), ('yesterday', False), (',', False), ('and', False), ('the', False), ('update', False), ('before', False), ('that', False), (',', False), ('the', False), ('post', False), ('like', False), ('this', False), ('was', False), ('removed', False), ('.', False), ('its', False), ('not', False), ('necessary', False), ('.', False), ('also', False), (',', False), ('i', False), ('would', False), ('like', False), ('to', False), ('point', False), ('out', False), ('that', False), ('nowhere', False), ('in', False), ('the', False), ('post', False), ('made', False), ('in', False), ('this', False), ('topic', False), ('did', False), ('it', False), ('say', False), ('the', False), ('update', False), ('was', False), ('live', False), ('.', False), ('thanks', True), ('so', True), ('much', True), ('dave', True), ('!', True), ('i', True), ('really', True), ('appreciate', True), ('the', True), ('support', True), (':', True), (')', True), ('guess', True), ('i', True), (\"'d\", True), ('better', True), ('get', True), ('out', True), ('there', True), ('for', True), ('a', True), ('run', True), ('...', True), ('hope', True), ('you', True), ('have', True), ('a', True), ('great', True), ('weekend', True), ('too', True), ('!', True), ('im', True), ('a', True), ('canadian', True), ('wings', True), ('fan', True), ('and', True), ('hes', True), ('my', True), ('favourite', True), ('canadian', True), ('player', True), ('.', True), ('i', True), (',', True), ('too', True), (',', True), ('feel', True), ('that', True), ('way', True), (':', True), ('p', True), ('senator', True), ('wicker', True), (',', True), ('thank', True), ('you', True), ('so', True), ('much', True), ('for', True), ('voting', True), ('against', True), ('earmarks', True), ('!', True), ('!', True), ('!', True), ('keep', True), ('up', True), ('the', True), ('good', True), ('work', True), ('.', True), ('fyi', True), ('mr.', True), ('rivera', True), (',', True), ('we', True), ('loved', True), ('eastwood', True), (',', True), ('thank', True), ('you', True), ('very', True), ('much', True), ('.', True), ('lets', True), ('mary', True), ('you', True), ('are', True), ('champion', True), ('no', True), ('surprise', True), ('....', True), ('you', True), ('are', True), ('the', True), ('best', True), ('person', True), ('for', True), ('us', True), ('!', True), ('!', True), ('!', True), ('!', True), ('!', True), ('!', True), ('!', True), ('right', False), ('on', False), ('the', False), ('money', False), ('sir', False), ('now', False), ('tell', False), ('obama', False), ('and', False), ('reid', False), ('no', False), ('more', False), ('money', False), ('left', False), ('to', False), ('spend', False), ('and', False), ('waste', False), ('.', False), ('the', True), ('only', True), ('acceptable', True), ('answer', True), ('is', True), ('``', True), ('yes', True), (\"''\", True), (',', True), ('in', True), ('case', True), ('you', True), ('were', True), ('wondering', True), ('.', True), ('great', True), ('job', True), ('trevin', True), ('weech', True), ('!', True), ('the', True), ('cfymca', True), (',', True), ('teen', True), ('board', True), (',', True), ('and', True), ('myself', True), ('are', True), ('all', True), ('proud', True), ('to', True), ('have', True), ('you', True), ('on', True), ('our', True), ('team', True), (',', True), ('and', True), ('will', True), ('be', True), ('sending', True), ('nothing', True), ('but', True), ('well', True), ('wishes', True), ('once', True), ('you', True), (\"'ve\", True), ('completed', True), ('high', True), ('school', True), ('!', True), ('thank', True), ('you', True), ('for', True), ('your', True), ('support', True), (',', True), ('congresswoman', True), ('tsongas', True), ('!', True), ('easy', False), ('to', False), ('remember', False), ('passwords', False), ('are', False), ('always', False), ('insecure', False), ('and', False), ('guessed', False), ('easily', False), ('by', False), ('people', False), ('but', False), ('[', False), ('assuming', False), ('its', False), ('the', False), ('same', False), ('as', False), ('ireland', False), (']', False), ('you', False), ('can', False), ('legally', False), ('pay', False), ('them', False), ('less', False), ('per', False), ('hour', False), ('than', False), ('16-18', False), ('years', False), ('olds', False), ('...', False), ('which', False), ('is', False), ('less', False), ('again', False), ('than', False), ('full', False), ('adults', False), ('whove', False), ('worked', False), ('2+', False), ('jobs', False), ('in', False), ('the', False), ('past', False), ('.', False), ('i', True), ('learned', True), ('that', True), ('you', True), ('can', True), ('tell', True), ('a', True), ('story', True), ('through', True), ('pictures', True), ('.', True), ('i', True), ('will', True), ('use', True), ('this', True), ('to', True), ('create', True), ('more', True), ('dramatic', True), (',', True), ('emotional', True), ('photos', True), ('hehe', True), (',', True), ('then', True), ('i', True), ('know', True), ('you', True), ('have', True), ('the', True), ('same', True), ('humor', True), ('anyway', True), (':', True), ('p', True), ('you', True), ('are', True), ('welcome', True), ('.', True), ('i', True), ('was', True), ('just', True), ('propping', True), ('workouts', True), ('and', True), ('achievements', True), (',', True), ('so', True), ('you', True), ('earned', True), ('each', True), ('and', True), ('every', True), ('one', True), ('of', True), ('them', True), ('.', True), (':', True), ('-', True), (')', True), ('35,000', False), ('people', False), ('die', False), ('of', False), ('hunger', False), ('a', False), ('day', False), ('.', False), ('they', False), ('probably', False), ('need', False), ('our', False), ('help', False), ('more', False), ('than', False), ('the', False), ('penguins', False), ('do', False), ('.', False), ('absolutely', False), ('will', False), ('not', False), ('vote', False), ('for', False), ('tom', False), ('cotton', False), ('or', False), ('asa', False), ('hutchinson', False), ('i', False), ('vote', False), ('for', False), ('the', False), ('person', False), ('i', False), ('think', False), ('would', False), ('be', False), ('the', False), ('best', False), ('person', False), ('to', False), ('do', False), ('the', False), ('job', False), ('they', False), ('are', False), ('being', False), ('elected', False), ('to', False), ('do', False), ('an', True), ('idea', True), ('worth', True), ('spreading', True), (',', True), ('from', True), ('a', True), ('man', True), ('worth', True), ('knowing', True), ('.', True), ('rock', True), ('on', True), (',', True), ('my', True), ('friend', True), (';', True), ('rock', True), ('on', True), ('.', True), ('any', True), ('one', True), ('ever', True), ('watch', True), ('zoom', True), ('?', True), ('boston', True), ('mass', True), ('!', True), ('oh', True), ('two', True), ('one', True), ('three', True), ('foooooooooooooouuuur', True), ('!', True), ('!', True), ('!', True), ('i', True), ('wan', True), ('na', True), ('see', True), ('at', True), ('least', True), ('one', True), ('intimate', True), ('scene', True), ('between', True), ('diesel', True), ('and', True), ('katee', True), ('lol', True), ('its', True), ('a', True), ('great', True), ('song', True), ('!', True), ('i', True), (\"'ve\", True), ('been', True), ('finding', True), ('the', True), ('had', True), ('rock', True), ('strength', True), ('training', True), ('station', True), ('on', True), ('pandora', True), ('an', True), ('excellent', True), ('choice', True), ('for', True), ('workouts', True), ('.', True), ('osceola', True), (';', True), ('home', True), ('of', True), ('bartle', True), ('scout', True), ('reservation', True), (';', True), ('great', True), ('memories', True), ('.', True), ('liked', True), ('your', True), ('response', True), ('in', True), ('today', True), (\"'s\", True), ('news', True), ('miner', True), ('regarding', True), ('opponent', True), (\"'s\", True), ('negative', True), ('campaigning', True), ('.', True), ('why', True), ('thank', True), ('you', True), (':', True), (')', True), ('just', True), ('for', True), ('your', True), ('niceness', True), (',', True), ('i', True), ('went', True), ('and', True), ('found', True), ('something', True), ('else', True), ('to', True), ('prop', True), ('!', True), ('this', True), ('talk', True), ('is', True), ('really', True), ('inspiring', True), ('me.you', True), ('teach', True), ('me', True), ('to', True), ('read', True), ('books', True), ('in', True), ('different', True), ('ways.i', True), ('hope', True), ('it', True), ('can', True), ('help', True), ('me', True), ('in', True), ('later', True), ('life.i', True), ('proud', True), ('of', True), ('you', True), ('!', True), ('!', True), ('growing', True), ('kids', True), ('need', True), ('real', True), ('food', True), (',', True), ('not', True), ('junk', True), ('.', True), ('good', True), ('on', True), ('you', True), ('.', True), ('giving', True), ('up', True), ('alcohol', True), ('is', True), ('hard', True), (',', True), ('but', True), ('you', True), ('can', True), ('do', True), ('it', True), ('!', True), ('joe', False), (',', False), ('joe', False), (',', False), ('joe', False), ('-', False), ('is', False), (\"n't\", False), ('it', False), ('just', False), ('possible', False), ('that', False), ('these', False), ('people', False), ('you', False), ('have', False), ('met', False), ('are', False), ('just', False), ('a', False), ('reflection', False), ('of', False), ('your', False), ('own', False), ('hatred', False), ('?', False), ('oh', False), ('please', False), ('-', False), ('bernie', False), ('was', False), ('with', False), ('us', False), ('all', False), ('along', False), ('.', False), ('thanks', True), ('for', True), ('your', True), ('input', True), ('!', True), ('i', True), ('may', True), ('just', True), ('end', True), ('up', True), ('doing', True), ('this', True), ('haha', True), ('...', True), ('maybe', True), ('2000', True), ('years', True), ('from', True), ('now', True), ('it', True), ('will', True), ('drift', True), ('down', True), ('the', True), ('river', True), ('and', True), ('be', True), ('found', True), ('by', True), ('a', True), ('river-hobbit', True), ('and', True), ('the', True), ('ring', True), ('will', True), ('curse', True), ('him', True), ('so', True), ('that', True), ('he', True), ('becomes', True), ('a', True), ('disgusting', True), ('emaciated', True), ('creature', True), ('who', True), ('lives', True), ('in', True), ('a', True), ('cave', True), ('and', True), ('coughs', True), ('his', True), ('name', True), ('as', True), ('a', True), ('verbal', True), ('tic', True), ('...', True), ('the', False), ('universe', False), ('is', False), ('so', False), ('fascinating', False), ('.', False), ('it', False), (\"'s\", False), ('so', False), ('cool', False), ('seeing', False), ('different', False), ('ideas', False), ('here', False), ('spoken', False), ('on', False), ('ted', False), ('that', False), ('relate', False), ('to', False), ('my', False), ('interests', False), ('.', False), ('you', False), ('all', False), ('should', False), ('check', False), ('out', False), ('this', False), ('great', False), ('video', False), ('about', False), ('technological', False), ('evolution', False), (',', False), ('and', False), ('it', False), (\"'s\", False), ('influence', False), ('in', False), ('society', False), ('.', False), ('expand', False), ('your', False), ('minds', False), (',', False), ('and', False), ('think', False), ('beautifully', False), ('!', False), ('!', False), ('!', False), ('vimeo.com/44957378', False), ('it', True), (\"'s\", True), ('ascension', True), ('day', True), ('here', True), ('.', True), ('i', True), ('am', True), ('celebrating', True), ('it', True), ('by', True), ('lifting', True), ('weights', True), ('.', True), (':', True), ('-', True), (')', True), ('i', False), ('have', False), ('the', False), ('same', False), ('problem', False), ('with', False), ('the', False), ('sound', False), ('cutting', False), ('out', False), ('.', False), ('watched', False), ('it', False), ('with', False), ('the', False), ('subtitles', False), ('but', False), ('i', False), ('kept', False), ('on', False), ('missing', False), ('the', False), ('picture', False), ('because', False), ('i', False), ('was', False), ('reading', False), ('.', False), ('i', False), ('hope', False), ('they', False), ('can', False), ('fix', False), ('this', False), ('glitch', False), ('.', False), ('thank', True), ('you', True), ('.', True), ('i', True), (\"'m\", True), ('trying', True), ('to', True), ('think', True), ('of', True), ('it', True), ('as', True), ('a', True), ('papercut', True), ('in', True), ('relation', True), ('to', True), ('how', True), ('easily', True), ('it', True), ('could', True), ('have', True), ('all', True), ('been', True), ('much', True), ('worse', True), ('.', True), ('(', True), ('seriously', True), ('lucky', True), ('the', True), ('knee', True), ('was', True), ('the', True), ('only', True), ('injury', True), ('!', True), (')', True), ('appreciate', True), ('your', True), ('note', True), ('and', True), ('will', True), ('be', True), ('back', True), ('on', True), ('fito', True), ('more', True), ('often', True), ('for', True), ('more', True), ('recovery', True), ('updates', True), ('soon', True), (':', True), (')', True), ('xo', True), ('it', True), ('is', True), ('really', True), ('inspiring', True), ('!', True), ('!', True), ('!', True), ('>', True), ('>', True), (')', True), (')', True), (')', True), ('amazing', True), ('video', True), ('!', True), ('i', True), ('will', True), ('show', True), ('it', True), ('to', True), ('my', True), ('communication', True), ('students', True), ('this', True), ('week', True), ('for', True), ('inspiration', True), ('.', True), ('thank', True), ('you', True), ('monica', True), ('for', True), ('coming', True), ('out', True), ('and', True), ('speaking', True), ('up', True), ('.', True), ('we', True), ('needed', True), ('to', True), ('hear', True), ('that', True), ('.', True), ('this', True), ('is', True), ('a', True), ('must', True), ('hear', True), ('talk', True), ('.', True), ('right', True), ('back', True), ('at', True), ('ya', True), ('!', True), (':', True), (')', True), ('i', True), (\"'m\", True), ('finding', True), ('my', True), ('calves', True), ('to', True), ('get', True), ('massive', True), ('doms', True), ('after', True), ('i', True), ('train', True), ('them', True), ('directly', True), ('with', True), ('calf', True), ('raises', True), ('.', True), ('they', True), ('are', True), ('a', True), ('pain', True), ('to', True), ('train', True), ('but', True), ('it', True), ('comes', True), ('and', True), ('goes', True), ('...', True), ('i', True), (\"'d\", True), ('keep', True), ('at', True), ('it', True), ('bro', True), ('.', True), ('i', True), ('usually', True), ('forget', True), ('about', True), ('doms', True), ('after', True), ('i', True), ('warm', True), ('up', True), ('.', True), ('man', True), ('the', True), ('fuck', True), ('up', True), ('!', True), ('you', True), (\"'re\", True), ('more', True), ('than', True), ('welcome', True), ('love', True), ('.', True), ('thank', True), ('you', True), ('for', True), ('serving', True), ('rep', True), ('amash-', True), ('the', True), ('best', True), ('of', True), ('the', True), ('best-', True), ('from', True), ('iowa', True), ('!', True), ('#', True), ('4liberty', True), ('good', True), ('work', True), ('.', True), ('you', True), ('was', True), ('close', True), ('to', True), ('my', True), ('aunt', True), ('and', True), ('law', True), ('trailer', True), ('.', True), ('i', True), ('just', True), ('wanted', True), ('you', True), ('to', True), ('know', True), ('.', True), ('nice', True), ('to', True), ('know', True), ('you', True), ('care', True), ('perhaps', False), ('the', False), ('youth', False), ('are', False), ('getting', False), ('smarter', False), ('and', False), ('are', False), ('waking', False), ('up', False), ('to', False), ('obama', False), ('?', False), ('sairal', True), (',', True), ('wan', True), ('na', True), ('be', True), ('friends', True), ('?', True), ('we', True), ('are', True), ('with', True), ('you', True), (',', True), ('daniel', True), ('webster', True), ('for', True), ('speaker', True), ('!', True), ('!', True), ('!', True), ('love', True), ('love', True), ('him', True), ('!', True), ('just', True), ('finished', True), ('watching', True), ('it', True), (',', True), ('and', True), ('i', True), ('laughed', True), ('so', True), ('hard', True), ('i', True), ('cried', True), ('.', True), ('every', True), ('time', True), ('i', True), ('think', True), ('i', True), ('just', True), ('ca', True), (\"n't\", True), ('laugh', True), ('and', True), ('cry', True), ('any', True), ('harder', True), (',', True), ('he', True), ('gets', True), ('greater', True), ('!', True), ('omg', False), ('this', False), ('op', False), ('is', False), ('a', False), ('shit', False), ('starter', False), ('then', False), ('.', False), ('his', False), ('previous', False), ('topics', False), ('were', False), ('also', False), ('fabricated', False), ('.', False), ('climate', False), ('control', False), ('...', False), ('how', False), ('about', False), ('the', False), ('truth', False), ('about', False), ('the', False), ('chemtrails', False), ('and', False), ('haarp', False), ('weather', False), ('system', False), ('...', False), ('those', False), ('are', False), ('worse', False), ('than', False), ('volcanoes', False), ('and', False), ('industry', False), ('combined', False), ('...', False), ('so', True), ('happy', True), ('he', True), ('*', True), ('flemings', True), ('*', True), ('dropped', True), ('out', True), ('for', True), ('the', True), ('sake', True), ('of', True), ('the', True), ('party', True), ('this', False), ('week', False), (',', False), ('bill', False), (',', False), ('you', False), ('voted', False), ('no', False), ('to', False), ('reform', False), ('fannie', False), ('mae', False), ('&', False), ('freddie', False), ('mac', False), (',', False), ('who', False), ('have', False), ('received', False), ('over', False), ('145', False), ('billion', False), ('dollars', False), ('of', False), ('our', False), ('money', False), ('.', False), ('interestingly', False), (',', False), ('nancy', False), ('pelosi', False), ('voted', False), ('no', False), ('as', False), ('well', False), ('.', False), ('your', False), ('voting', False), ('records', False), ('indicate', False), ('a', False), ('lust', False), ('for', False), ('spending', False), ('taxpayer', False), ('money', False), ('.', False), ('and', False), ('wasting', False), ('it', False), ('as', False), ('well', False), ('.', False), ('why', False), ('is', False), ('the', False), ('governement', False), ('even', False), ('involved', False), ('here', False), ('?', False), ('they', False), (\"'re\", False), ('not', False), ('your', False), ('kids', False), ('.', False), ('she', True), (\"'s\", True), ('going', True), ('to', True), ('be', True), ('a', True), ('pianist', True), ('-', True), ('look', True), ('at', True), ('those', True), ('fingers', True), ('!', True), ('thanks', True), ('to', True), ('u', True), ('!', True), (':', True), ('d', True), ('nice', True), ('pic', True), (':', True), (')', True), ('``', False), ('aiding', False), ('america', False), (\"'s\", False), ('enemies', False), ('.', False), (\"''\", False), ('the', False), ('damage', False), ('was', False), ('done', False), ('.', False), ('the', False), ('kid', False), ('paid', False), ('more', False), ('than', False), ('any', False), ('comparable', False), ('criminal', False), ('.', False), ('what', False), ('are', False), ('you', False), ('after', False), (',', False), ('liz', False), ('?', False), ('revenge', False), ('?', False), ('get', True), ('a', True), ('keurig', True), (',', True), ('.....', True), ('you', True), (\"'ll\", True), ('love', True), ('it', True), ('!', True), ('lol', True), ('oh', True), ('thanks', True), ('becky', True), ('!', True), ('!', True), ('although', True), (',', True), ('if', True), ('i', True), ('make', True), ('every', True), ('day', True), ('feel', True), ('like', True), ('friday', True), (',', True), ('why', True), ('does', True), ('it', True), ('feel', True), ('very', True), ('much', True), ('like', True), ('a', True), ('wednesday', True), ('?', True), ('!', True), ('lol', True), ('..', True), ('thanks', True), ('for', True), ('healing', True), ('me', True), ('stay', True), ('somewhat', True), ('sane', True), ('at', True), ('work', True), ('...', True), (':', True), (')', True), ('thanks', True), ('for', True), ('the', True), ('follow', True), ('!', True), ('i', True), ('teach', True), ('social', True), ('studies', True), ('.', True), ('mainly', True), ('ap', True), ('psychology', True), ('now', True), (',', True), ('but', True), ('also', True), ('government', True), ('or', True), ('us', True), ('history', True), ('most', True), ('of', True), ('the', True), ('time', True), ('.', True), ('oh', True), ('yes', True), ('we', True), ('do', True), ('have', True), ('it', True), ('!', True), ('but', True), ('it', True), (\"'s\", True), ('a', True), ('well', True), ('kept', True), ('guy', True), ('secret', True), ('.', True), ('awesome', True), ('!', True), ('!', True), ('i', True), ('wish', True), ('you', True), ('were', True), ('in', True), ('my', True), ('district', True), ('...', True), ('she', True), ('is', True), ('amazing', True), ('!', True), ('!', True), ('!', True), ('!', True), ('!', True), ('!', True), ('can', True), ('not', True), ('agree', True), ('more', True), ('!', True), ('!', True), ('!', True), ('!', True), ('!', True), ('thanks', True), ('for', True), ('following', True), ('back', True), ('!', True), ('hows', False), ('the', False), ('view', False), ('from', False), ('your', False), ('high', False), ('horse', False), ('?', False), ('the', True), ('description', True), ('promises', True), ('excitement', True), ('during', True), ('the', True), ('christmas', True), ('holiday', True), ('.', True), ('let', True), (\"'s\", True), ('spice', True), ('it', True), ('up', True), ('!', True), ('cut', False), ('spending', False), (',', False), ('for', False), ('our', False), ('kids', False), ('and', False), ('grand', False), ('kids', False), ('.', False), ('great', True), ('live', True), ('stream', True), ('alicia', True), ('!', True), ('just', True), ('shaking', True), ('my', True), ('head', True), ('at', True), ('the', True), ('ignorance', True), ('and', True), ('deliberate', True), ('ignoring', True), ('of', True), ('the', True), ('facts', True), ('about', True), ('fdr', True), (',', True), ('pearl', True), ('harbor', True), (',', True), ('and', True), ('wwii', True), ('.', True), ('let', False), ('us', False), ('away', False), (',', False), ('you', False), ('and', False), ('i', False), (',', False), ('to', False), ('the', False), ('roof', False), ('of', False), ('a', False), ('tall', False), ('building', False), ('...', False), ('and', False), ('revel', False), ('in', False), ('the', False), ('joy', False), ('of', False), ('sunrise', False), ('?', False), ('nothing', False), ('will', False), ('change', False), ('.', False), ('it', False), ('will', False), ('happen', False), ('again', False), ('.', False), ('i', False), (\"'m\", False), ('done', False), ('with', False), ('metro', False), ('.', False), ('i', False), ('am', False), ('no', False), ('fan', False), ('of', False), ('jaime', False), (',', False), ('but', False), ('if', False), ('she', False), ('supports', False), ('the', False), ('second', False), ('amendment', False), ('and', False), ('the', False), ('nra', False), (',', False), ('i', False), (\"'m\", False), ('with', False), ('her', False), ('on', False), ('that', False), ('.', False), ('sorry', False), ('john', False), ('kowalski', False), (',', False), ('but', False), ('you', False), (\"'re\", False), ('just', False), ('wrong', False), ('.', False), ('thanks', True), ('!', True), ('i', True), ('appreciate', True), ('it', True), ('very', True), ('much', True), ('.', True), ('good', True), ('luck', True), ('with', True), ('your', True), ('goals', True), ('.', True), ('what', True), ('type', True), ('of', True), ('bike', True), ('do', True), ('you', True), ('have', True), ('?', True), ('congratulations', True), ('congressman', True), ('webster', True), ('!', True), ('!', True), ('we', True), ('are', True), ('happy', True), ('for', True), ('all', True), ('of', True), ('you', True), ('!', True), ('!', True), ('no', True), ('worries', True), (',', True), ('thanks', True), ('for', True), ('the', True), ('props', True), ('!', True), ('latrice', True), ('smith', True), ('this', True), ('is', True), ('perfect', True), ('if', True), ('you', True), ('go', True), ('to', True), ('14:30', True), ('you', True), ('will', True), ('realize', True), ('something', True), ('funny', True), (':', True), ('half', True), ('a', True), ('million', True), ('people', True), ('have', True), ('watched', True), ('a', True), ('film', True), ('of', True), ('a', True), ('guy', True), (',', True), ('watching', True), ('a', True), ('film', True), ('of', True), ('a', True), ('guy', True), (',', True), ('watching', True), ('a', True), ('film', True), ('of', True), ('a', True), ('guy', True), (',', True), ('who', True), ('is', True), ('changing', True), ('oil', True), ('.', True), ('i', True), ('think', True), ('that', True), ('is', True), ('somehow', True), ('surreal', True), ('.', True), ('indeed', True), (',', True), ('i', True), ('do', True), (\"n't\", True), ('understand', True), ('why', True), ('people', True), ('would', True), ('want', True), ('to', True), ('display/wear', True), ('another', True), ('animal', True), (\"'s\", True), ('skin', True), (',', True), ('and', True), ('i', True), ('never', True), ('will', True), ('.', True), ('diversity', True), ('in', True), ('these', True), ('populations', True), ('is', True), ('decreasing', True), ('as', True), ('well', True), ('...', True), ('on', True), ('a', True), ('happier', True), ('note', True), (',', True), ('the', True), ('little', True), ('touch', True), ('at', True), ('the', True), ('end', True), ('was', True), ('cute', True), (',', True), ('grandparents', True), ('!', True), (':', True), (')', True), ('awww', True), (',', True), ('my', True), ('two', True), ('favorites', True), ('!', True), ('wish', True), ('i', True), ('was', True), ('there', True), ('.', True), ('great', True), ('photo', True), ('.', True), ('thank', True), ('you', True), ('for', True), ('posting', True), ('.', True), ('i', True), ('sure', True), ('hope', True), ('there', True), (\"'s\", True), ('a', True), ('movies', True), ('partnership', True), ('in', True), ('the', True), ('works', True), ('.', True), ('dr.', True), ('verghese', True), ('is', True), ('a', True), ('true', True), ('doctor', True), ('.', True), ('he', True), ('knows', True), ('what', True), ('it', True), ('takes', True), ('to', True), ('heal', True), ('a', True), ('patient', True), ('.', True), ('the', True), ('ritual', True), ('he', True), ('talks', True), ('about', True), ('is', True), ('priceless', True), ('in', True), ('healing', True), ('patients', True), ('.', True), ('his', True), ('book', True), (',', True), ('``', True), ('cutting', True), ('for', True), ('stone', True), (\"''\", True), (',', True), ('was', True), ('just', True), ('as', True), ('moving', True), ('as', True), ('his', True), ('talk', True), ('here', True), ('.', True), ('he', True), ('is', True), ('an', True), ('amazing', True), ('human', True), ('being', True), ('.', True), ('thanks', True), ('a', True), ('lot', True), (':', True), ('d', True), ('will', True), ('do', True), (':', True), ('d', True), ('!', True), ('still', True), ('..', True), ('beautiful', True), ('creature', True), ('.', True), ('i', False), ('agree', False), ('and', False), ('i', False), ('think', False), ('that', False), ('sgk', False), ('will', False), ('lose', False), ('a', False), ('lot', False), ('of', False), ('supporters', False), (',', False), ('they', False), ('can', False), ('count', False), ('me', False), ('as', False), ('one', False), ('!', False), ('following', True), ('a', True), ('fellow', True), ('if', True), ('user', True), ('.', True), (':', True), ('d', True), ('hey', True), ('!', True), ('thanks', True), ('hun', True), ('!', True), (':', True), (')', True), ('they', True), ('know', True), ('whats', True), ('up', True), ('this', True), ('year', True), ('.', True), ('i', True), ('have', True), ('no', True), ('doubt', True), ('in', True), ('my', True), ('mind', True), ('that', True), ('they', True), ('will', True), ('bring', True), ('the', True), ('cup', True), ('to', True), ('germany', True), ('.', True), ('got', True), ('ta', True), ('drop', True), ('in', True), ('to', True), ('say', True), ('hi', True), ('every', True), ('once', True), ('in', True), ('a', True), ('while', True), ('!', True), (':', True), ('d', True), ('what', True), ('i', True), (\"'m\", True), ('watching', True), ('when', True), ('i', True), ('get', True), ('home', True), ('from', True), ('work', True), ('in', True), ('the', True), ('morning', True), ('!', True), ('!', True), ('i', True), ('heard', True), ('about', True), ('this', True), ('solar', True), ('plane', True), ('in', True), ('south', True), ('korea', True), ('.', True), ('it', True), ('seems', True), ('like', True), ('very', True), ('incredible', True), ('machine', True), ('.', True), ('i', True), ('coul', True), (\"n't\", True), ('imagine', True), ('that', True), ('.', True), ('wow', True), ('it', True), (\"'s\", True), ('very', True), ('impressive', True), ('you', True), ('are', True), ('loved', True), ('be', True), ('safe', True), ('and', True), ('thanks', True), ('for', True), ('sharing', True), ('..', True), ('=d', True), ('<', True), ('3', True), ('thank', True), ('you', True), ('for', True), ('being', True), ('a', True), ('good', True), ('example', True), ('!', True), ('we', True), ('need', True), ('more', True), ('good', True), ('examples', True), ('leading', True), ('our', True), ('country', True), ('.', True), ('maybe', False), ('more', False), ('women', False), ('are', False), ('staying', False), ('home', False), ('to', False), ('fulfill', False), ('their', False), ('duty', False), ('as', False), ('mothers', False), ('.', False), ('perhaps', False), ('if', False), ('more', False), ('women', False), ('did', False), ('that', False), ('there', False), ('would', False), ('be', False), ('less', False), ('dads', False), ('without', False), ('jobs', False), ('.', False), ('i', True), (\"'m\", True), ('not', True), ('alone', True), ('in', True), ('my', True), ('neurosis', True), ('.', True), ('thanks', True), ('elizabeth', True), ('.', True), ('i', True), ('heard', True), ('that', True), ('originally', True), ('on', True), ('bez', True), ('.', True), ('good', True), ('story', True), ('!', True), ('what', True), ('got', True), ('me', True), ('was', True), ('when', True), ('tammy', True), ('was', True), ('talking', True), ('about', True), ('helicopter', True), ('training', True), ('and', True), ('that', True), ('an', True), ('instructor', True), ('and', True), ('student', True), ('were', True), ('killed', True), ('.', True), ('it', True), ('is', True), ('a', True), ('dangerous', True), ('job', True), ('and', True), ('i', True), ('have', True), ('so', True), ('much', True), ('respect', True), ('for', True), ('the', True), ('pilots', True), ('and', True), ('the', True), ('soldiers', True), ('that', True), ('do', True), ('it', True), ('.', True), ('oooomg', True), ('you', True), ('are', True), ('the', True), ('sweetest', True), ('thing', True), ('in', True), ('the', True), ('world', True), ('<', True), ('333', True), ('sending', True), ('you', True), ('hugs', True), ('n', True), ('kisses', True), ('your', True), ('way', True), ('xx', True), ('let', True), (\"'s\", True), ('do', True), ('it', True), ('!', True), ('amazing', True), ('courage', True), ('and', True), ('ingenuity', True), ('.', True), ('thank', True), ('you', True), ('sir', True), ('!', True), ('with', True), ('a', True), ('year+', True), ('hiatus', True), (',', True), ('most', True), ('of', True), ('the', True), ('people', True), ('i', True), ('used', True), ('to', True), ('follow', True), ('have', True), ('either', True), ('dropped', True), ('out', True), ('or', True), ('closed', True), ('their', True), ('accounts', True), (':', True), ('/looking', True), ('to', True), ('find', True), ('some', True), ('active', True), ('users', True), (':', True), ('d', True), ('of', True), ('course', True), (',', True), ('thanks', True), ('for', True), ('the', True), ('original', True), ('follow', True), ('half', True), ('way', True), ('through', True), (',', True), ('i', True), ('think', True), ('to', True), ('myself', True), (',', True), ('``', True), ('she', True), (\"'s\", True), ('talking', True), ('about', True), ('samadhi', True), (\"''\", True), ('..', True), ('then', True), ('towards', True), ('the', True), ('end', True), ('she', True), ('mentions', True), ('experiencing', True), ('``', True), ('nirvana', True), (\"''\", True), ('...', True), ('which', True), ('is', True), ('like', True), ('samadhi', True), ('.', True), ('samadhi', True), ('is', True), ('complete', True), ('quietude', True), ('of', True), ('the', True), ('mind', True), ('and', True), ('nirvana', True), ('means', True), ('to', True), ('be', True), ('without', True), ('ego', True), ('or', True), ('losing', True), ('sense', True), ('of', True), ('i', True), (',', True), ('or', True), ('complete', True), ('union', True), ('with', True), ('all', True), ('that', True), ('is', True), ('.', True), ('awesome', True), ('thanks', True), (',', True), ('photoshop', True), ('is', True), ('fun', True), ('!', True), ('forget', False), ('about', False), ('all', False), ('that', False), ('and', False), ('get', False), ('rd', False), ('of', False), ('obama', False), (',', False), ('the', False), ('rest', False), ('will', False), ('fix', False), ('itself', False), ('.', False), ('awesome', True), ('steve', True), ('!', True), ('you', True), (\"'ll\", True), ('do', True), ('a', True), ('great', True), ('job', True), ('!', True), ('or', False), ('treat', False), ('the', False), ('lyme', False), ('disease', False), (',', False), ('causation', False), ('.', False), ('now', False), ('there', False), (\"'s\", False), ('a', False), ('novel', False), ('idea', False), ('.', False), ('i', True), ('had', True), ('to', True), ('follow', True), ('when', True), ('i', True), ('read', True), ('your', True), ('bio', True), ('.', True), ('great', True), ('achievements', True), ('so', True), ('far', True), ('and', True), ('good', True), ('luck', True), ('with', True), ('your', True), ('triathlons', True), ('.', True), ('i', True), ('look', True), ('forward', True), ('to', True), ('seeing', True), ('your', True), ('training', True), (':', True), ('-', True), (')', True), ('awe', True), ('.', True), ('thanks', True), ('.', True), (':', True), (')', True), ('working', True), ('on', True), ('a', True), ('change', True), ('up', True), ('.', True), ('thank', True), ('you', True), ('jaime', True), ('for', True), ('working', True), ('on', True), ('va', True), ('for', True), ('me', True), ('like', True), ('l', True), ('just', True), ('that', True), ('use', True), ('my', True), ('insurance', True), ('and', True), ('still', True), ('charge', True), ('me', True), ('last', True), ('year', True), ('that', True), ('took', True), ('my', True), ('tax', True), ('refund', True), ('witch', True), ('i', True), ('told', True), ('you', True), ('thank', True), ('you', True), ('again', True), ('steven', True), ('looney', True), ('talks', True), ('such', True), ('as', True), ('this', True), ('are', True), ('exactly', True), ('why', True), ('i', True), ('watch', True), ('ted', True), ('.', True), ('bravo', True), ('!', True), ('slowly', True), ('but', True), ('surely', True), ('!', True), ('feel', True), ('better', True), ('!', True), ('i', True), ('love', True), ('the', True), ('way', True), ('you', True), ('write', True), ('.', True), ('everything', True), ('.', True), ('books', True), (',', True), ('stories', True), (',', True), ('blogs', True), (',', True), ('facebook', True), ('posts', True), (',', True), ('tweets', True), ('...', True), ('you', True), (\"'re\", True), ('so', True), ('eloquent', True), ('it', True), ('drives', True), ('me', True), ('mad', True), ('.', True), ('in', True), ('a', True), ('good', True), ('way', True), ('.', True), ('thanks', True), ('for', True), ('being', True), ('an', True), ('inspiration', True), ('.', True), ('you', True), ('got', True), ('ta', True), ('figure', True), ('though', True), ('that', True), ('the', True), ('teams', True), ('will', True), ('be', True), ('done', True), ('with', True), ('soon', True), ('muchsimas', True), ('felicidades', True), ('maity', True), (',', True), ('ud', True), ('es', True), ('un', True), ('digno', True), ('ejemplo', True), ('de', True), ('empeo', True), (',', True), ('perseverancia', True), ('y', True), ('humildad', True), ('.', True), ('dios', True), ('la', True), ('siga', True), ('bendiciendo', True), ('hoy', True), ('y', True), ('siempre', True), ('.', True), ('gracias', True), ('por', True), ('siempre', True), ('apoyar', True), ('lo', True), ('que', True), ('viene', True), ('de', True), ('nuestro', True), ('pas', True), ('y', True), ('por', True), ('sentirse', True), ('orgullosa', True), ('de', True), ('ser', True), ('catracha', True), ('(', True), ('y', True), ('transmitir', True), ('eso', True), ('a', True), ('travez', True), ('de', True), ('la', True), ('televisin', True), (')', True), ('.', True), ('abrazos', True), ('!', True), ('china', False), ('is', False), ('not', False), ('s', False), ('stable', False), ('and', False), ('sustainable', False), ('economy', False), ('model', False), ('.', False), ('now', False), ('the', False), ('environment', False), ('problem', False), ('is', False), ('becoming', False), ('severe', False), ('.', False), ('the', False), ('quality', False), ('of', False), ('the', False), ('economy', False), ('is', False), ('poor', False), ('and', False), ('the', False), ('growth', False), ('is', False), ('slowing', False), ('.', False), ('that', False), (\"'s\", False), ('why', False), ('we', False), ('need', False), ('reform', False), ('to', False), ('keep', False), ('the', False), ('growth', False), ('speed', False), ('.', False), ('beautiful', True), ('and', True), ('very', True), ('talented', True), ('lady/actress', True), ('!', True), ('have', False), ('you', False), ('heard', False), ('of', False), ('charles', False), ('einstein', False), ('?', False), ('this', False), ('guy', False), ('has', False), ('some', False), ('amazing', False), ('views', False), ('on', False), ('this', False), ('world', False), ('http', False), (':', False), ('//dustantownsend.com/', False), ('?', False), ('p=659', False), ('this', False), ('video', False), ('is', False), ('the', False), ('evolution', False), ('of', False), ('civilization', False), ('and', False), ('consciousness', False), ('and', False), ('i', False), ('recommend', False), ('it', False), ('to', False), ('everyone', False), ('!', False), ('if', False), ('you', False), ('like', False), ('it', False), ('please', False), ('share', False), ('it', False), ('.', False), ('happy', True), ('birthday', True), ('!', True), ('sounds', True), ('like', True), ('a', True), ('fun', True), ('day', True), ('!', True), ('very', True), ('exciting', True), ('and', True), ('imaginative', True), ('.', True), ('i', True), ('agree', True), ('that', True), ('this', True), ('would', True), ('have', True), ('been', True), ('great', True), ('to', True), ('be', True), ('longer', True), ('.', True), ('you', True), ('kind', True), ('of', True), ('get', True), ('used', True), ('to', True), ('the', True), ('18', True), ('minutes', True), ('after', True), ('soaking', True), ('up', True), ('the', True), ('ted', True), ('talks', True), ('.', True), ('defiantly', True), ('would', True), ('like', True), ('to', True), ('know', True), ('and', True), ('see', True), ('more', True), ('about', True), ('this', True), ('.', True), ('you', False), ('can', False), ('actually', False), ('put', False), ('this', False), ('in', False), ('as', False), ('a', False), ('workout', False), ('not', False), ('a', False), ('status', False), ('ya', False), ('know', False), ('i', True), ('am', True), ('xtasie', True), ('!', True), ('!', True), ('i', True), ('am', True), ('[', True), ('[', True), ('photo', True), (']', True), (']', True), ('you', True), (\"'re\", True), ('welcome', True), ('&', True), ('thank', True), ('you', True), ('for', True), ('following', True), ('back', True), ('!', True), ('thank', True), ('you', True), ('brene', True), ('for', True), ('reminding', True), ('us', True), ('all', True), ('to', True), ('take', True), ('care', True), ('of', True), ('ourselves', True), ('first', True), ('!', True), ('shared', True), ('it', True), ('with', True), ('the', True), ('nurses', True), ('of', True), ('scrubs.com', True), ('and', True), ('we', True), ('all', True), ('were', True), ('inspired', True), ('!', True), ('http', True), (':', True), ('//scrubsmag.com/the-power-of-vulnerability-why-nurses-must-take-care-of-themselves/', True), ('this', True), ('is', True), ('the', True), ('third', True), ('time', True), ('i', True), ('have', True), ('watched', True), ('this', True), ('video', True), ('-', True), ('i', True), ('am', True), ('taking', True), ('her', True), ('advice', True), ('and', True), ('using', True), ('her', True), ('technique', True), ('and', True), ('it', True), ('works', True), ('.', True), ('wonderful', True), ('stuff', True), ('-', True), ('i', True), ('am', True), ('also', True), ('sharing', True), ('it', True), ('with', True), ('many', True), ('others', True), ('.', True), ('a', False), ('cynic', False), ('would', False), ('say', False), ('that', False), ('regardless', False), ('of', False), ('the', False), ('outcome', False), (':', False), ('good', False), (',', False), ('bad', False), (',', False), ('or', False), ('lethal', False), (',', False), ('that', False), ('what', False), ('trey', False), ('is', False), ('advocating', False), ('is', False), ('more', False), ('billable', False), ('time', False), ('for', False), ('lawyers', False), (',', False), ('be', False), ('they', False), ('prosecutors', False), (',', False), ('defense', False), (',', False), ('or', False), ('probate', False), ('.', False), ('makes', False), ('sense', False), ('if', False), ('you', False), ('think', False), ('about', False), ('it', False), ('a', False), ('bit', False), ('.', False), ('(', False), ('not', False), ('!', False), (')', False), ('.', False), ('my', True), ('daughter', True), ('and', True), ('i', True), ('always', True), ('look', True), ('forward', True), ('to', True), ('seeing', True), ('linda', True), ('and', True), ('her', True), ('stylish', True), ('self', True), ('.', True), ('we', True), (\"'ll\", True), ('miss', True), ('us', True), ('.', True), ('enjoy', True), ('your', True), ('retirement', True), ('to', True), ('the', True), ('fullest', True), ('.', True), ('looking', True), ('great', True), ('guys', True), ('!', True), ('all', True), ('the', True), ('best', True), ('&', True), ('travel', True), ('safe', True), ('not', False), ('watching', False), ('.', False), ('michael', False), ('moore', False), ('.....', False), ('really', False), ('and', False), ('then', False), ('support', False), ('killing', False), ('wildlife', False), ('for', False), ('trophies', False), ('.', False), ('love', True), ('conquered', True), ('hate', True), ('once', True), ('again', True), ('<', True), ('3', True), ('have', True), ('a', True), ('great', True), ('day', True), ('amanda', True), ('!', True), ('!', True), ('repeal', True), ('that', True), ('egregious', True), (',', True), ('bullshit', True), (',', True), ('big', True), ('government', True), (',', True), ('in', True), ('essence', True), (',', True), ('tax', True), ('hike', True), ('.', True), ('no', True), ('way', True), ('are', True), ('we', True), ('ever', True), ('going', True), ('to', True), ('see', True), ('any', True), ('benefit', True), ('from', True), ('this', True), ('sellout', True), ('christie', True), ('legislation', True), ('!', True), ('!', True), ('!', True), ('thank', True), ('you', True), ('tyra', True), ('...', True), ('thank', True), ('you', True), ('for', True), ('caring', True), ('about', True), ('this', True), (',', True), ('and', True), (',', True), ('sharing', True), ('it', True), ('...', True), ('pretty', True), ('great', True), ('you', True), ('get', True), ('that', True), ('you', True), ('have', True), ('the', True), ('ability', True), ('to', True), ('do', True), ('this', True), ('too', True), ('.', True), (':', True), (')', True), ('also', True), ('i', True), ('woke', True), ('up', True), ('to', True), ('40', True), ('notifications', True), ('this', True), ('morning', True), ('this', True), ('woman', True), ('never', True), ('ceases', True), ('to', True), ('amaze', True), ('me', True), ('.', True), ('thank', True), ('you', True), ('molly', True), ('.', True), ('insightful', True), (',', True), ('honest', True), ('and', True), ('revealing', True), ('.', True), ('you', True), ('definitely', True), ('found', True), ('your', True), ('path', True), ('in', True), ('life', True), ('.', True), ('kudos', True), ('!', True), ('oh', True), ('i', True), ('already', True), ('follow', True), ('you', True), ('!', True), ('i', True), ('want', True), ('to', True), ('recommend', True), ('me', True), (':', True), ('-', True), (')', True), ('hehe', True), ('rhino', False), ('republican', False), ('paul', False), ('ryan', False), ('lacky', False), ('this', True), ('process', True), ('is', True), ('safer', True), ('than', True), ('the', True), ('monsanto', True), ('kind', True), ('of', True), ('genetic', True), ('engineering', True), ('.', True), ('this', True), ('process', True), ('is', True), ('happening', True), ('inside', True), ('a', True), ('controlled', True), ('space', True), ('.', True), ('so', True), ('i', True), ('think', True), ('this', True), ('kind', True), ('work', True), ('is', True), ('good', True), ('.', True), ('mucha', True), ('suerte', True), ('y', True), ('pendientes', True), ('rubn', True), (',', True), ('saludos', True), ('!', True), ('you', False), ('should', False), ('be', False), ('out', False), ('front', False), ('in', False), ('the', False), ('effort', False), ('to', False), ('defund', False), ('obamacare', False), ('!', False), ('i', False), ('see', False), ('no', False), ('comments', False), ('from', False), ('you', False), ('on', False), ('this', False), ('effort', False), ('at', False), ('all', False), ('!', False), ('no', True), ('problemo', True), ('.', True), ('thanks', True), (':', True), (')', True), ('why', True), ('are', True), (\"n't\", True), ('more', True), ('people', True), ('ignostics', True), ('?', True), ('maybe', True), ('it', True), (\"'s\", True), ('a', True), ('personal', True), ('thing', True), (',', True), ('but', True), ('being', True), ('a', True), ('scientifically-minded', True), ('person', True), ('one', True), ('would', True), ('think', True), ('that', True), ('this', True), ('is', True), ('the', True), ('most', True), ('logical', True), ('choice', True), ('if', True), ('we', True), (\"'re\", True), ('going', True), ('to', True), ('label', True), ('ourselves', True), ('.', True), ('<', False), ('obligatory', False), ('>', False), ('say', False), ('goodbye', False), ('to', False), ('your', False), ('gains.', False), ('<', False), ('/obligatory', False), ('>', False), ('patty', True), (',', True), ('my', True), ('weekend', True), ('plans', True), ('is', True), ('to', True), ('canvass', True), ('in', True), ('yakima', True), ('washington', True), ('for', True), ('jay', True), ('clough', True), ('and', True), ('you', True), ('...', True), ('go', False), ('back', False), ('and', False), ('study', False), ('the', False), ('constitution', False), ('.', False), ('5', False), ('years', False), ('and', False), ('what', False), ('has', False), ('been', False), ('accomplished', False), ('?', False), ('$', False), ('19+', False), ('trillion', False), ('debt', False), ('?', False), ('you', True), (\"'re\", True), ('one', True), ('of', True), ('my', True), ('favorite', True), ('congressmen', True), ('!', True), ('why', True), ('did', True), ('you', True), ('have', True), ('to', True), ('go', True), ('and', True), ('use', True), ('comic', True), ('sans', True), ('?', True), ('congratulations', True), ('on', True), ('you', True), ('good', True), ('work', True), ('the', False), ('dmv', False), ('and', False), ('a', False), ('particular', False), ('cousin', False), ('are', False), ('like', False), ('the', False), ('only', False), ('exceptions', False), ('to', False), ('that', False), ('rule', False), ('for', False), ('me', False), ('.', False), ('i', False), ('hate', False), ('that', False), ('place', False), ('with', False), ('a', False), ('fiery', False), ('passion', False), ('.', False), ('you', False), ('must', False), ('pass', False), ('legislation', False), ('on', False), ('common', False), ('sense', False), ('gun', False), ('control', False), ('.', False), ('on', False), ('my', False), ('behalf', False), ('#', False), ('emperoromarijibri', False), ('always', True), ('a', True), ('good', True), ('thing', True), ('to', True), ('hear', True), ('!', True), ('wow', True), (',', True), ('what', True), ('an', True), ('incredible', True), ('accident', True), ('.', True), ('well', True), (',', True), ('i', True), ('wish', True), ('all', True), ('accidents', True), ('lead', True), ('to', True), ('great', True), ('discovery', True), ('like', True), ('this', True), ('.', True), ('well', True), ('done', True), ('girls', True), ('.', True), ('you', True), ('bet', True), ('!', True), ('!', True), ('!', True), ('happy', True), ('lifting', True), ('!', True), ('!', True), ('!', True), ('!', True), ('hi', True), ('mary', True), ('...', True), ('glad', True), ('to', True), ('finally', True), ('see', True), ('you', True), ('again', True), ('here', True), ('...', True), ('no', True), ('problem', True), ('.', True), ('nice', True), ('lift', True), ('stats', True), ('!', True), ('kick', True), ('butt', True), ('!', True), ('that', True), ('name', True), ('sounds', True), ('familiar', True), ('!', True), ('!', True), ('!', True), ('remember', True), ('you', True), (\"'re\", True), ('keeping', True), ('fit', True), ('for', True), ('life', True), (',', True), ('not', True), ('just', True), ('today', True), ('.', True), ('set', True), ('some', True), ('short', True), ('term', True), ('goals', True), ('to', True), ('help', True), ('you', True), ('move', True), ('towards', True), ('long', True), ('term', True), ('ones', True), ('.', True), ('you', True), (\"'ve\", True), ('made', True), ('a', True), ('start', True), ('and', True), ('that', True), (\"'s\", True), ('the', True), ('hardest', True), ('part', True), ('thank', True), ('you', True), ('very', True), ('much', True), ('.', True), ('irene', True), ('and', True), ('i', True), ('wish', True), ('you', True), ('and', True), ('dianne', True), ('a', True), ('merry', True), ('christmas', True), ('and', True), ('a', True), ('happy', True), (',', True), ('healthy', True), ('nww', True), ('year', True), ('.', True), ('(', True), ('2/6', True), (')', True), ('ng', True), (',', True), ('acting', True), ('and', True), ('socially', True), (',', True), ('spreading', True), ('your', True), ('wings', True), ('and', True), ('i', True), ('wish', True), ('you', True), ('only', True), ('another', True), ('60', True), ('years', True), (',', True), ('if', True), ('progressive', True), ('science', True), ('should', True), ('allow', True), ('.', True), ('g-d', True), ('bless', True), (',', True), ('&', True), ('i', True), ('wish', True), ('to', True), ('meet', True), ('with', True), ('like', True), ('like', True), ('and', True), ('more', True), ('like', True), ('.............', True), ('agree', True), ('with', True), ('your', True), ('middle', True), ('east', True), ('assessment', True), ('expressed', True), ('on', True), ('mtp', True), ('today', True), ('...', True), ('thank', True), ('you', True), ('for', True), ('your', True), ('service', True), ('...', True), ('mr.', True), ('gowdy', True), ('.', True), ('we', True), ('love', True), ('your', True), ('pursuit', True), ('of', True), ('the', True), ('truth', True), ('.', True), ('please', True), ('continue', True), ('to', True), ('pursue', True), ('the', True), ('benghazi', True), ('tragedy', True), ('as', True), ('well', True), ('as', True), ('fast', True), ('and', True), ('furious', True), ('.', True), ('no', True), ('flying', True), ('in', True), ('legion', True), ('zones', True), ('at', True), ('the', True), ('start', True), ('of', True), ('legion', True), ('.', True), ('game', True), ('is', True), ('set', True), ('in', True), ('broken', True), ('isles', True), (',', True), ('aka', True), (',', True), ('water', True), ('.', True), ('walking', True), ('on', True), ('water', True), ('is', True), ('useful', True), ('for', True), ('some', True), ('questing', True), ('and', True), ('traveling', True), ('.', True), ('i', False), ('am', False), ('so', False), ('glad', False), ('someone', False), ('has', False), ('stood', False), ('up', False), ('to', False), ('the', False), ('bullies', False), ('of', False), ('the', False), ('world', False), ('!', False), ('you', False), ('go', False), ('girl', False), ('!', False), ('!', False), ('!', False), ('definitely', True), ('worth', True), ('it', True), ('in', True), ('my', True), ('opinion', True), ('.', True), ('many', True), ('fans', True), ('are', True), ('calling', True), ('it', True), ('their', True), ('best', True), ('work', True), ('-', True), ('critics', True), ('included', True), ('.', True), ('so', False), ('many', False), ('ads', False), ('and', False), ('so', False), ('detrimental.they', False), ('do', False), ('work.i', False), ('will', False), ('never', False), ('forget', False), ('gingrich', False), ('and', False), ('santurum', False), ('done', False), ('in', False), ('by', False), ('them', False), ('and', False), ('who', False), ('could', False), ('ever', False), ('forget', False), ('what', False), ('they', False), ('did', False), ('to', False), ('mc', False), ('cain', False), ('in', False), ('south', False), ('carolina', False), ('.', False), ('i', False), ('remember', False), ('just', False), ('5', False), ('days', False), ('after', False), ('newt', False), ('confidently', False), ('said', False), (',', False), ('i', False), (\"'m\", False), ('going', False), ('to', False), ('win', False), (',', False), ('he', False), ('was', False), ('dust', False), ('are', True), ('you', True), ('playing', True), ('in', True), ('singles', True), ('quallies', True), ('in', True), ('sydney', True), ('vania', True), ('?', True), ('look', True), ('forward', True), ('seeing', True), ('you', True), ('anyway', True), (':', True), (')', True), ('welcome', True), ('to', True), ('the', True), ('group', True), (',', True), ('thanks', True), ('for', True), ('follow', True), ('back', True), ('!', True), ('absolutely', True), ('beautiful', True), ('in', True), ('every', True), ('way', True), ('absolutely', True), ('pretty', True), ('angel', True), ('at', False), ('least', False), ('you', False), ('are', False), ('not', False), ('being', False), ('beaten', False), ('to', False), ('death', False), ('for', False), ('it', False), ('thanks', True), ('.', True), ('keep', True), ('up', True), ('the', True), ('great', True), ('work', True), ('!', True), ('ok', False), (',', False), ('lets', False), ('please', False), ('do', False), ('something', False), ('about', False), ('this', False), ('!', False), ('!', False), ('this', True), ('talk', True), ('has', True), ('actually', True), ('inspired', True), ('me', True), ('to', True), ('give', True), ('a', True), ('lecture', True), ('on', True), ('this', True), ('topic', True), ('to', True), ('senior', True), ('citizens', True), ('in', True), ('my', True), ('region', True), ('.', True), ('awesome', True), ('!', True), ('you', True), ('seem', True), ('like', True), ('a', True), ('really', True), ('positive', True), ('guy', True), ('which', True), ('i', True), (\"'m\", True), ('sure', True), ('translates', True), ('to', True), ('you', True), ('being', True), ('a', True), ('great', True), ('father', True), ('as', True), ('well', True), ('.', True), ('lets', True), ('keep', True), ('working', True), ('out', True), ('for', True), ('our', True), ('sons', True), ('!', True), ('thats', False), ('still', False), ('got', False), ('to', False), ('be', False), ('in', False), ('violation', False), ('of', False), ('*', False), ('something', False), ('*', False), ('.', False), ('knowingly', False), ('doing', False), ('something', False), ('to', False), ('give', False), ('yourself', False), ('the', False), ('legal', False), ('right', False), ('to', False), ('sue', False), ('?', False), ('thats', False), ('completely', False), ('unethical', False), ('.', False), ('lol', True), ('i', True), (\"'m\", True), ('not', True), ('mad', True), ('at', True), ('cho', True), ('either', True), ('``', True), ('still', True), ('away', True), (',', True), ('still', True), ('away', True), ('.', True), (\"''\", True), ('get', True), ('your', True), ('``', True), ('zen', True), (\"''\", True), ('on', True), ('at', True), ('the', True), ('beach', True), ('27', False), ('(', False), ('for', False), ('now', False), (')', False), ('of', False), ('these', False), ('nra', False), ('leaders', False), ('should', False), ('be', False), ('held', False), ('accountable', False), ('for', False), ('this', False), ('shooting', False), ('.', False), ('every', False), ('nra', False), ('member', False), ('is', False), ('an', False), ('accomplice', False), ('to', False), ('this', False), ('tragedy', False), (',', False), ('and', False), ('the', False), ('blood', False), ('of', False), ('these', False), ('innocent', False), ('victims', False), ('is', False), ('on', False), ('their', False), ('hands', False), ('!', False), ('(', False), ('22', False), ('years', False), ('retired', False), ('military', False), (',', False), ('combat', False), ('veteran', False), (',', False), ('weapon', False), ('owner', False), ('whole', False), ('life', False), (',', False), ('former', False), ('republican', False), ('and', False), ('not', False), ('a', False), ('nra', False), ('member', False), ('!', False), (')', False), ('awww', True), ('!', True), ('thank', True), ('you', True), ('very', True), ('much', True), ('mike', True), ('!', True), ('your', True), ('consistency', True), ('is', True), ('inspiring', True), ('to', True), ('me', True), ('.', True), ('thank', True), ('you', True), ('for', True), ('the', True), ('motivation', True), ('&', True), ('here', True), (\"'s\", True), ('wishing', True), ('you', True), ('a', True), ('great', True), ('and', True), ('fitful', True), ('new', True), ('year', True), ('!', True), ('i', False), ('ca', False), (\"n't\", False), ('seem', False), ('to', False), ('find', False), ('that', False), ('group', False), ('...', False), ('sorry', True), ('!', True), ('if', True), ('you', True), ('want', True), ('i', True), ('can', True), ('avoid', True), ('propping', True), ('in', True), ('the', True), ('future', True), ('if', True), ('it', True), (\"'s\", True), ('a', True), ('pain', True), (':', True), (')', True), ('hey', True), ('!', True), ('no', True), ('problem', True), (':', True), (')', True), ('it', True), ('was', True), ('a', True), ('pleasure', True), ('.', True), ('ca', True), (\"n't\", True), ('wait', True), ('to', True), ('see', True), ('yours', True), ('as', True), ('well', True), ('!', True), ('fantastic', True), ('talk', True), ('...', True), ('it', True), ('is', True), ('this', True), ('type', True), ('of', True), ('abstract', True), ('analysis', True), ('that', True), ('pushes', True), ('our', True), ('knowledge', True), (',', True), ('in', True), ('all', True), ('disciples', True), (',', True), ('forward', True), ('.', True), ('also', True), (',', True), ('irrespective', True), ('of', True), ('the', True), ('topic', True), ('this', True), ('guy', True), ('is', True), ('one', True), ('of', True), ('the', True), ('most', True), ('articulate', True), ('and', True), ('eloquent', True), ('speakers', True), ('that', True), ('i', True), ('have', True), ('ever', True), ('heard', True), ('.', True), ('i', True), ('salute', True), ('you', True), ('sir', True), ('!', True), ('deb', False), (',', False), ('you', False), (\"'re\", False), ('not', False), ('worthy', False), ('of', False), ('a', False), ('reply', False), ('.', False), ('conversing', False), ('with', False), ('you', False), ('is', False), ('like', False), ('talking', False), ('to', False), ('a', False), ('brick', False), ('wall', False), ('.', False), ('oops', False), ('!', False), ('i', False), ('apologize', False), ('for', False), ('insulting', False), ('the', False), ('brick', False), ('wall', False), ('.', False), ('keep', False), ('blocking', False), ('those', False), ('who', False), ('present', False), ('opinions', False), ('opposite', False), ('yours', False), ('.', False), ('after', False), ('all', False), (',', False), ('regressives', False), ('like', False), ('you', False), ('live', False), ('in', False), ('a', False), ('world', False), ('that', False), ('ca', False), (\"n't\", False), ('handle', False), ('the', False), ('truth', False), ('.', False), ('praying', True), ('for', True), ('safe', True), ('return', True), ('!', True), ('!', True), ('thank', True), ('you', True), ('mr.', True), ('williams', True), ('!', True), ('!', True), ('!', True), ('!', True), ('im', True), ('sick', True), ('as', True), ('a', True), ('dog', True), (',', True), ('but', True), ('still', True), ('out', True), ('there', True), ('volunteering', True), ('.', True), ('i', True), (\"'ll\", True), ('get', True), ('better', True), ('eventually', True), (',', True), ('but', True), ('the', True), ('nation', True), ('will', True), ('only', True), ('get', True), ('better', True), ('once', True), ('will', True), ('vote', True), ('debbie', True), ('out', True), ('!', True), ('!', True), ('give', True), ('me', True), ('some', True), ('time', True), ('and', True), ('i', True), ('might', True), ('be', True), ('able', True), ('to', True), ('steer', True), ('you', True), ('in', True), ('the', True), ('right', True), ('direction', True), ('.', True), ('i', True), (\"'ll\", True), ('get', True), ('back', True), ('to', True), ('you', True), ('later', True), ('today', True), ('for', True), ('exercises', True), ('you', True), ('might', True), ('like', True), ('.', True), ('while', False), ('you', False), ('may', False), ('have', False), ('managed', False), ('to', False), ('gerrymander', False), ('yourself', False), ('into', False), ('perpetual', False), ('employment', False), (',', False), ('you', False), ('do', False), ('not', False), ('truly', False), ('represent', False), ('lucas', False), ('county', False), ('.', False), ('representative', False), ('kaptur', False), ('is', False), ('more', False), ('of', False), ('a', False), ('champion', False), ('for', False), ('this', False), ('region', False), ('than', False), ('you', False), ('ever', False), ('will', False), ('be', False), ('.', False), ('yay', True), ('!', True), ('go', True), ('ravenclaws', True), (',', True), ('i', True), ('say', True), ('!', True), (':', True), (')', True), ('it', True), ('looks', True), ('like', True), ('we', True), (\"'re\", True), ('going', True), ('to', True), ('get', True), ('hard', True), ('work', True), (',', True), ('a', True), ('lot', True), ('of', True), ('fun', True), ('and', True), ('support', True), ('too', True), ('.', True), ('i', True), ('see', True), ('that', True), ('you', True), ('are', True), ('doing', True), ('what', True), ('you', True), ('said', True), ('you', True), ('were', True), ('going', True), ('to', True), ('do', True), ('!', True), ('thank', True), ('you', True), ('!', True), ('we', True), ('are', True), ('rooting', True), ('for', True), ('you', True), ('claire', True), ('!', True), ('for', True), ('anyone', True), ('who', True), ('wants', True), ('to', True), ('believe', True), ('in', True), ('the', True), ('humanizing', True), ('possibilities', True), ('of', True), ('a', True), ('connected', True), ('world', True), (',', True), ('here', True), ('is', True), ('your', True), ('anthem', True), ('.', True), ('we', True), ('fall', True), ('down', True), (',', True), ('we', True), ('get', True), ('back', True), ('up', True), (':', True), ('-', True), (')', True), ('lol', True), ('i', True), ('worked', True), ('out', True), ('last', True), ('night', True), ('after', True), ('work', True), ('.', True), ('once', True), ('i', True), ('got', True), ('home', True), ('i', True), ('just', True), ('chilled', True), ('out', True), ('with', True), ('ma', True), ('family', True), ('.', True), ('i', True), ('did', True), (\"n't\", True), ('have', True), ('time', True), ('to', True), ('put', True), ('my', True), ('workout', True), ('from', True), ('yesterday', True), ('in', True), ('.', True), ('i', True), (\"'ll\", True), ('put', True), ('it', True), ('in', True), ('now', True), ('.', True), ('thanks', True), (',', True), ('the', True), ('support', True), ('is', True), ('nice', True), (':', True), (')', True), ('you', True), (\"'re\", True), ('welcome', True), ('&', True), ('thank', True), ('you', True), ('for', True), ('the', True), ('follow', True), ('back', True), (';', True), (')', True), ('when', False), ('will', False), ('you', False), ('be', False), ('crafting', False), ('a', False), ('bill', False), ('to', False), ('restore', False), ('the', False), ('election', False), ('of', False), ('senators', False), ('to', False), ('the', False), ('state', False), ('legislatures', False), ('?', False), ('whaaaaaat', False), ('.', False), ('youre', False), ('not', False), ('just', False), ('saying', False), ('that', False), ('are', False), ('you', False), ('?', False), ('person', False), ('i', False), ('responded', False), ('to', False), ('is', False), ('a', False), ('clear', False), ('trumpkin', False), ('it', True), ('looks', True), ('so', True), ('nice', True), ('and', True), ('cozy', True), (':', True), (')', True), ('what', False), ('can', False), ('i', False), ('say', False), ('?', False), ('i', False), (\"'m\", False), ('a', False), ('christian', False), ('who', False), ('can', False), ('appreciate', False), ('a', False), ('tight', False), ('ass', False), ('!', False), ('thanks', True), ('for', True), ('the', True), ('follow', True), ('back', True), (':', True), (')', True), ('loooking', True), ('forward', True), ('to', True), ('having', True), ('you', True), ('in', True), ('my', True), ('feed', True), ('!', True), ('thanks', True), ('for', True), ('following', True), ('back', True), ('!', True), ('lol', True), (',', True), ('i', True), ('need', True), ('to', True), ('come', True), ('up', True), ('with', True), ('some', True), ('new', True), ('physics', True), ('jokes', True), (',', True), ('i', True), ('think', True), ('i', True), (\"'ve\", True), ('posted', True), ('every', True), ('one', True), ('i', True), ('know', True), ('on', True), ('here', True), (':', True), (')', True), ('thank', True), ('you', True), ('gio', True), ('and', True), ('robin', True), ('for', True), ('sharing', True), ('.', True), ('am', False), ('sure', False), ('cnn', False), ('was', False), ('good', False), ('.', False), ('i', False), ('feel', False), ('as', False), ('tv', False), ('depresses', False), ('me', False), ('.', False), ('esp', False), ('when', False), ('people', False), ('are', False), ('shootin', False), ('at', False), ('color', False), ('!', False), ('i', False), ('hope', False), ('you', False), ('are', False), ('feeling', False), ('good', False), ('.', False), ('i', False), ('know', False), ('ms', False), ('is', False), ('a', False), ('terrible', False), ('disease', False), ('.', False), ('hope', False), ('well', False), ('for', False), ('you', False), ('and', False), ('yours', False), ('.', False), ('depends', False), ('on', False), ('who', False), ('you', False), ('ask', False), ('.', False), ('lets', False), ('leave', False), ('general', False), ('lee', False), ('high', False), ('school', False), ('in', False), ('montgomery', False), (',', False), ('al', False), ('alone', False), (',', False), ('but', False), ('hows', False), ('about', False), ('we', False), ('stop', False), ('adding', False), ('insult', False), ('to', False), ('injury', False), (',', False), ('yeah', False), ('?', False), ('hey', True), ('amy', True), ('beautiful', True), ('how', True), ('are', True), ('you', True), ('sitting', True), ('g', True), ('here', True), ('watching', True), ('you', True), ('on', True), ('flash', True), ('point', True), ('your', True), ('so', True), ('beautiful', True), ('nev', True), ('is', True), ('so', True), ('fucking', True), ('hot', True), ('.', True), ('lauren', True), ('&', True), ('i', True), ('will', True), ('be', True), ('there', True), ('!', True), ('aw', True), ('....', True), ('our', True), ('creator', True), (\"'s\", True), ('creature', True), ('shopping', True), (':', True), (')', True), ('i', True), ('would', True), ('have', True), ('gone', True), ('with', True), ('spleazeosaur', True), ('ah', True), ('!', True), ('that', True), (\"'s\", True), ('so', True), ('adorable', True), (':', True), (')', True), (')', True), ('really', True), ('blows', True), ('my', True), ('mind', True), ('this', True), ('conference', True), (',', True), ('great', True), ('work', True), ('with', True), ('children', True), (\"'s\", True), ('and', True), ('brilliant', True), ('statement', True), ('about', True), ('visual', True), ('plasticity', True), ('!', True), ('congrats', True), ('!', True), ('no', False), (',', False), ('they', False), ('should', False), ('not', False), ('...', False), ('their', False), ('bonuses', False), ('should', False), ('be', False), ('used', False), ('to', False), ('pay', False), ('their', False), ('back', False), ('tax', False), ('debts', False), ('.', False), ('didnt', False), ('suit', False), ('my', False), ('position', False), ('?', False), ('muslim', False), ('friends', False), ('?', False), ('what', False), ('the', False), ('fuck', False), ('are', False), ('you', False), ('babbling', False), ('about', False), ('?', False), ('you', False), ('dont', False), ('have', False), ('the', False), ('slightest', False), ('clue', False), ('what', False), ('youre', False), ('talking', False), ('about', False), (',', False), ('as', False), ('usual', False), (',', False), ('so', False), ('you', False), ('make', False), ('blind', False), ('stupid', False), ('assumptions', False), ('.', False), ('keep', False), ('whining', False), ('.', False), ('this', False), ('shit', False), ('is', False), ('hilarious', False), ('.', False), ('thanks', True), (',', True), ('you', True), ('too', True), ('.', True), ('means', True), ('a', True), ('lot', True), ('!', True), (':', True), (')', True), ('such', True), ('raunchy', True), ('material', True), ('!', True), ('i', True), ('loved', True), ('the', True), ('cyber', True), ('sex', True), ('scenes', True), (',', True), ('as', True), ('well', True), ('as', True), ('the', True), ('water', True), ('breaking', True), ('scene', True), ('.', True), ('ed', True), ('you', True), ('are', True), ('awesome', True), ('!', True), ('my', True), ('pleasure', True), ('of', True), ('course', True), ('.', True), ('it', True), ('felt', True), ('so', True), ('good', True), ('too', True), ('ca', True), (\"n't\", True), ('shake', True), ('this', True), ('message', True), ('.', True), ('entertaining', True), ('and', True), ('engaging', True), ('with', True), ('a', True), ('simple', True), ('do-able', True), ('point', True), ('.', True), ('you', True), (\"'re\", True), ('in', True), ('good', True), ('company', True), ('dina', False), (',', False), ('if', False), ('the', False), ('spca', False), ('really', False), ('cared', False), ('about', False), ('the', False), ('animals', False), ('then', False), ('they', False), ('would', False), ('give', False), ('away', False), ('these', False), ('dogs', False), ('and', False), ('cats', False), ('instead', False), ('of', False), ('just', False), ('killing', False), ('the', False), ('poor', False), ('animals', False), ('.', False), ('you', True), ('did', True), ('have', True), ('a', True), ('fantastic', True), ('week', True), ('!', True), ('well', True), ('done', True), ('.', True), ('i', True), ('hope', True), ('you', True), ('do', True), (\"n't\", True), ('mind', True), ('me', True), ('jumping', True), ('on', True), ('the', True), ('following', True), ('bandwagon', True), ('!', True), ('someone', True), ('i', True), ('follow', True), ('and', True), ('count', True), ('as', True), ('part', True), ('of', True), ('my', True), ('fitness', True), ('support', True), ('net', True), ('said', True), ('you', True), (\"'re\", True), ('made', True), ('of', True), ('win', True), ('so', True), ('i', True), (\"'m\", True), ('going', True), ('to', True), ('follow', True), ('you', True), ('now', True), ('!', True), (':', True), (')', True), ('haha', True), ('you', True), ('get', True), ('to', True), ('track', True), ('your', True), ('work', True), ('outs', True), ('and', True), ('save', True), ('workouts', True), ('and', True), ('if', True), ('you', True), ('want', True), ('try', True), ('different', True), ('quests', True), ('and', True), ('challenges', True), ('an', True), ('gain', True), ('different', True), ('achievements', True), ('.', True), ('each', True), ('workout', True), ('that', True), ('you', True), ('submit', True), (',', True), ('you', True), ('ear', True), ('points', True), ('and', True), ('with', True), ('the', True), ('points', True), ('you', True), ('go', True), ('on', True), ('to', True), ('the', True), ('next', True), ('level', True), (':', True), (')', True), ('well', True), ('deserved', True), (',', True), ('and', True), ('it', True), ('was', True), ('an', True), ('honor', True), ('to', True), ('be', True), ('in', True), ('sd', True), ('to', True), ('watch', True), ('.', True), ('too', True), ('bad', True), ('we', True), ('did', True), (\"n't\", True), ('get', True), ('to', True), ('see', True), ('the', True), ('us', True), ('team', True), ('take', True), ('home', True), ('the', True), ('fed', True), ('cup', True), ('!', True), ('i', True), ('almost', True), ('said', True), ('that', True), ('to', True), ('a', True), ('personal', True), ('trainer', True), ('whenever', True), ('i', True), ('did', True), ('squats', True), ('and', True), ('lunges', True), (',', True), ('they', True), ('should', True), (\"'ve\", True), ('been', True), ('paying', True), ('attention', True), ('to', True), ('the', True), ('clients', True), ('.', True), ('the', True), ('pleasure', True), ('is', True), ('all', True), ('mine', True), (':', True), (')', True), ('welcome', True), ('to', True), ('fitocracy', True), ('!', True), ('in', True), ('my', True), ('case', True), ('!', True), ('haha', True), ('...', True), ('thanks', True), ('for', True), ('following', True), ('back', True), ('.', True), ('love', True), ('the', True), ('pp', True), ('!', True), ('when', True), ('is', True), ('the', True), ('turkey', True), ('going', True), ('to', True), ('be', True), ('ready', True), ('congresswoman', True), ('?', True), ('thank', True), ('you', True), ('for', True), ('your', True), ('services', True), ('and', True), ('standing', True), ('up', True), ('this', True), ('election', True), ('wasnegative', True), ('slogans', True), ('make', True), ('american', True), ('greatandbuildawalliskkksaying', True), ('massage', True), ('will', True), ('probably', True), ('work', True), ('better', True), ('pulling', True), ('for', True), ('you', True), ('young', True), ('lady', True), ('!', True), ('i', True), (\"'m\", True), ('a', True), ('coco', True), ('fan', True), ('!', True), ('i', False), ('think', False), ('the', False), ('world', False), ('is', False), ('not', False), ('inequality', False), ('but', False), ('poverty', False), ('and', False), ('selfishness', False), ('.', False), ('it', False), ('does', False), (\"n't\", False), ('matter', False), ('to', False), ('be', False), ('equal', False), ('if', False), ('equal', False), ('mean', False), ('everybody', False), ('is', False), ('poor', False), ('.', False), ('always', False), ('will', False), ('be', False), ('inequality', False), ('but', False), ('we', False), ('might', False), ('do', False), ('something', False), ('to', False), ('eliminate', False), ('poverty', False), ('.', False), ('to', False), ('do', False), ('that', False), ('we', False), ('need', False), ('being', False), ('more', False), ('compassionates', False), ('.', False), ('we', False), ('should', False), ('be', False), ('grateful', False), ('for', False), ('our', False), ('cheap', False), ('t-shirts', False), ('?', False), ('really', False), ('?', False), ('the', False), ('citizens', False), ('of', False), ('the', False), ('rest', False), ('of', False), ('sacramento', False), ('should', False), ('not', False), ('have', False), ('to', False), ('pay', False), ('the', False), ('price', False), ('for', False), ('what', False), ('the', False), ('city', False), ('and', False), ('the', False), ('developer', False), ('have', False), ('caused', False), ('.', False), ('outrage', False), ('is', False), ('and', False), ('understatement', False), ('.', False), ('awesome', True), ('...', True), ('thanks', True), ('billie', True), ('jean', True), ('.', True), ('another', True), ('rain', True), ('day', True), ('for', True), ('the', True), ('race', True), (',', True), ('but', True), ('the', True), ('runners', True), ('seemed', True), ('to', True), ('enjoy', True), ('.', True), ('congratulations', True), ('to', True), ('all', True), ('runners', True), ('and', True), ('walkers', True), ('.', True), ('race', True), ('over', True), ('and', True), ('all', True), ('can', True), ('return', True), ('home', True), ('and', True), ('dry', True), ('out', True), ('.', True), ('another', True), ('wonderful', True), ('day', True), ('in', True), ('okc', True), ('.', True), ('you', True), ('two', True), ('are', True), ('working', True), ('so', True), ('hard', True), ('....', True), ('thanks', True), ('for', True), ('stepping', True), ('up', True), ('-', True), ('you', True), ('will', True), ('be', True), ('a', True), ('great', True), ('congressman', True), ('.', True), ('not', False), ('to', False), ('be', False), ('confused', False), ('with', False), ('randy', False), ('quaid', False), ('...', False), ('thats', False), ('what', False), ('im', False), ('hoping', False), ('for', False), (',', False), ('but', False), ('not', False), ('holding', False), ('my', False), ('breath', False), ('.', False), ('lets', True), ('be', True), ('realistic', True), ('.', True), ('people', True), ('are', True), ('really', True), ('living', True), ('in', True), ('fear', True), (',', True), ('deathly', True), ('afraid', True), ('of', True), ('being', True), ('disappointed', True), ('again', True), ('.', True), ('out', True), ('of', True), ('fear', True), ('they', True), ('develop', True), ('beliefs', True), ('that', True), ('cause', True), ('them', True), ('to', True), ('hesitate', True), (',', True), ('not', True), ('to', True), ('give', True), ('their', True), ('all', True), ('--', True), ('-consequently', True), ('they', True), ('get', True), ('limited', True), ('results', True), ('.', True), ('put', True), ('love', True), ('behind', True), ('everything', True), ('you', True), ('do', True), ('and', True), ('your', True), ('life', True), ('will', True), ('be', True), ('magical', True), ('!', True), ('good', True), ('for', True), ('you', True), ('!', True), ('let', True), (\"'s\", True), ('just', True), ('say', True), ('that', True), ('i', True), ('have', True), ('more', True), ('work', True), ('to', True), ('do', True), ('than', True), ('you', True), (',', True), ('and', True), ('i', True), (\"'m\", True), ('not', True), ('posting', True), ('a', True), ('pic', True), ('of', True), ('myself', True), ('...', True), ('so', True), ('again', True), (',', True), ('i', True), ('commend', True), ('you', True), ('!', True), (':', True), (')', True), ('btw', True), (',', True), ('it', True), (\"'s\", True), ('driving', True), ('me', True), ('crazy', True), (';', True), ('what', True), ('was', True), ('your', True), ('old', True), ('username', True), ('?', True), ('your', False), ('boyfriend', False), ('will', False), ('laugh', False), ('when', False), ('he', False), ('finds', False), ('out', False), ('you', False), ('have', False), ('been', False), ('sucking', False), ('of', False), ('your', False), ('daddy', False), ('obama', False), ('humanity', False), ('will', False), ('fail', False), ('because', False), ('of', False), ('the', False), ('double', False), ('standards', False), ('.', False), ('just', False), ('think', False), ('of', False), ('iraq', False), (',', False), ('palestine', False), (',', False), ('afghanistan', False), (',', False), ('mcgovern', True), ('is', True), ('my', True), ('name', True), ('had', True), ('to', True), ('follow', True), (':', True), (')', True), ('we', True), (\"'ll\", True), ('be', True), ('sending', True), ('sc', True), ('good', True), ('vibes', True), ('your', True), ('way', True), ('!', True), ('good', True), ('congratulations', True), ('welp', False), (',', False), ('that', False), ('would', False), ('work', False), ('unless', False), ('an', False), ('earlier', False), ('group', False), ('has', False), ('done', False), ('the', False), ('raid', False), ('with', False), ('pug', False), (',', False), ('then', False), ('you', False), ('will', False), ('habe', False), ('bulba', False), (',', False), ('bulba', False), (',', False), ('other', False), ('mon', False), ('.', False), ('your', False), ('hypothesis', False), ('is', False), ('flawed', False), ('.', False), ('shelby', True), ('superb', True), ('location', True), ('very', True), ('nice', True), ('i', True), ('love', True), ('all', True), ('your', True), ('writing', True), (',', True), ('dean', True), ('!', True), ('!', True), ('!', True), ('well', True), ('done', True), ('.', True), ('brilliantly', True), ('spoken', True), (',', True), ('and', True), ('i', True), ('hope', True), ('the', True), ('cyber', True), ('bullies', True), ('realise', True), ('how', True), ('much', True), ('their', True), ('insidious', True), ('comments', True), ('destroy', True), ('lives', True), ('.', True), ('you', True), ('have', True), ('my', True), ('respect', True), ('monica', True), ('it', True), ('is', True), ('great', True), ('to', True), ('know', True), ('someone', True), ('is', True), ('in', True), ('washington', True), ('who', True), ('has', True), ('not', True), ('changed', True), ('their', True), ('core', True), ('values', True), ('for', True), ('political', True), ('purposes', True), ('!', True), ('go', True), ('mike', True), ('!', True), ('wowee', True), ('!', True), ('!', True), ('wonderful', True), ('voice', True), (',', True), ('jensen', True), ('!', True), ('!', True), ('<', True), ('3', True), ('yes', False), ('adam', False), ('what', False), ('was', False), ('your', False), ('position', False), ('on', False), ('syria', False), ('he', True), ('played', True), ('a', True), ('fair', True), ('share', True), ('of', True), ('ilb', True), ('for', True), ('us', True), ('this', True), ('past', True), ('season', True), ('.', True), ('he', True), ('has', True), ('always', True), ('been', True), ('used', True), ('like', True), ('a', True), ('hybrid', True), ('player', True), ('.', True), ('boy', False), ('!', False), ('bjorn', False), ('has', False), ('really', False), ('let', False), ('himself', False), ('go', False), ('!', False), ('this', True), ('sounds', True), ('interesting', True), ('!', True), ('i', True), ('wish', True), ('we', True), ('had', True), ('more', True), ('than', True), ('thirty', True), ('minutes', True), (\"'\", True), ('notice', True), (';', True), ('i', True), ('guess', True), ('i', True), (\"'ll\", True), ('have', True), ('to', True), ('wait', True), ('until', True), ('you', True), (\"'re\", True), ('local', True), ('.', True), ('when', True), ('do', True), ('you', True), ('plan', True), ('a', True), ('visit', True), ('?', True), ('i', True), ('think', True), ('you', True), ('should', True), ('let', True), ('your', True), ('staff', True), ('tackle', True), ('you', True), ('in', True), ('the', True), ('middle', True), ('of', True), ('your', True), ('office', True), (',', True), ('carry', True), ('you', True), ('to', True), ('the', True), ('the', True), ('nearest', True), ('fountain', True), ('(', True), ('a', True), ('pool', True), ('will', True), ('work', True), (')', True), (',', True), ('and', True), ('then', True), ('lead', True), ('everyone', True), ('in', True), ('a', True), ('yell', True), ('practice', True), ('.', True), ('that', True), ('would', True), ('be', True), ('some', True), ('school', True), ('spirit', True), ('.', True), ('.....', True), ('and', True), ('we', True), ('absolutely', True), ('need', True), ('the', True), ('governor', True), (\"'s\", True), ('support', True), ('in', True), ('this', True), ('effort', True), ('as', True), ('well', True), ('as', True), ('so', True), ('many', True), ('other', True), ('environmental', True), ('challenges', True), ('facing', True), ('maine', True), ('this', True), ('nation', True), ('and', True), ('the', True), ('world', True), ('.', True), ('thank', True), ('you', True), (',', True), ('chellie', True), (',', True), ('for', True), ('this', True), ('important', True), ('post', True), ('.', True), ('ultimately', True), (',', True), ('these', True), ('environmental', True), ('consequences', True), ('accumulate', True), ('and', True), ('impact', True), ('us', True), ('all', True), ('.', True), ('fun', True), ('fact', True), (',', True), ('its', True), ('his', True), ('only', True), ('a-side', True), ('composition', True), ('!', True), ('source', True), (':', True), ('<', True), ('link', True), ('>', True), ('i', True), ('have', True), ('nothing', True), ('but', True), ('admiration', True), ('for', True), ('you', True), ('&', True), ('your', True), ('husband', True), ('&', True), ('all', True), ('you', True), ('have', True), ('done', True), ('to', True), ('make', True), ('this', True), ('world', True), ('a', True), ('better', True), ('place', True), ('...', True), ('ginger', True), ('beer', True), ('and', True), ('rum', True), ('?', True), ('how', True), ('does', True), ('that', True), ('taste', True), ('?', True), ('im', True), ('intrigued', True), ('.', True), ('happy', True), ('birthday', True), ('!', True), ('!', True), ('!', True), ('you', True), ('are', True), ('living', True), ('your', True), ('life', True), ('well', True), ('!', True), ('!', True), ('!', True), ('best', True), ('wishes', True), ('for', True), ('many', True), ('more', True), ('great', True), ('years', True), ('!', True), ('mind', False), ('sport', False), ('is', False), ('an', False), ('already', False), ('existing', False), ('thing', False), ('though', False), ('.', False), ('esports', False), ('i', False), ('would', False), ('like', False), ('to', False), ('be', False), ('an', False), ('actual', False), ('word', False), (',', False), ('but', False), ('im', False), ('no', False), ('oxford', False), ('.', False), ('i', False), ('meant', False), ('for', False), ('the', False), ('definition', False), ('of', False), ('sport', False), ('to', False), ('change', False), ('to', False), ('include', False), ('non', False), ('athletic', False), ('competition', False), (',', False), ('but', False), ('people', False), ('would', False), ('be', False), ('too', False), ('sour', False), ('about', False), ('that', False), ('even', False), ('though', False), ('they', False), ('have', False), ('the', False), ('word', False), ('athletics', False), ('.', False), ('i', False), ('have', False), ('a', False), ('feeling', False), ('you', False), ('might', False), ('be', False), ('statistic-ing', False), ('wrong', False), ('gotcha', True), (',', True), ('thanks', True), ('for', True), ('the', True), ('reply', True), ('my', True), ('man', True), ('.', True), ('seems', False), ('like', False), ('it', False), ('was', False), ('7th', False), ('grade', False), ('when', False), ('my', False), ('generation', False), ('was', False), ('being', False), ('taught', False), ('to', False), ('become', False), ('an', False), ('adult', False), ('.', False), ('he', False), ('had', False), ('to', False), ('resort', False), ('to', False), ('al', False), ('caps', False), ('on', False), ('twitter', False), ('.', False), (':', False), (')', False), ('piss', False), ('poor', False), ('liberal', False), ('policy', False), ('has', False), ('caused', False), ('all', False), ('chicago', False), ('problems', False), ('.', False), ('you', False), ('can', False), ('blame', False), ('anything', False), ('you', False), ('want', False), ('but', False), ('we', False), ('know', False), ('the', False), ('truth', False), ('.', False), ('.', True), ('amazing', True), ('presentation', True), ('!', True), ('!', True), ('amazing', True), ('work', True), ('!', True), ('!', True), ('amazing', True), ('world', True), ('!', True), ('!', True), ('magical', True), ('and', True), ('breathtaking', True), ('!', True), ('!', True), ('inspirational', True), ('opening', True), (',', True), ('ladies', True), ('!', True), ('love', True), ('the', True), (\"'wabash\", True), ('red', True), (',', True), (\"'\", True), ('bjk', True), ('!', True), ('thanks', True), ('for', True), ('keeping', True), ('us', True), ('in', True), ('the', True), ('loop', True), (',', True), ('sir', True), ('.', True), ('it', True), ('is', True), ('not', True), ('funny', True), ('and', True), ('it', True), ('is', True), ('an', True), ('outrage', True), ('.', True), ('i', True), ('have', True), ('written', True), ('to', True), ('my', True), ('mp', True), ('before', True), ('and', True), ('will', True), ('continue', True), ('doing', True), ('so', True), ('until', True), ('our', True), ('concerns', True), ('are', True), ('heard', True), ('and', True), ('respected', True), ('.', True), ('you', True), ('know', True), ('some', True), ('dogs', True), ('experience', True), ('life', True), ('over', True), ('the', True), ('top', True), ('just', True), ('like', True), ('people', True), (',', True), ('got', True), ('ta', True), ('love', True), ('them', True), ('!', True), ('robin', True), ('you', True), ('are', True), ('so', True), ('right', True), ('and', True), ('he', True), ('cost', True), ('the', True), ('tax', True), ('payers', True), ('a', True), ('special', True), ('election', True), ('amazing', True), ('creature', True), ('...', True), ('how', True), ('does', True), ('it', True), ('replicate', True), ('such', True), ('a', True), ('large', True), ('area', True), ('in', True), ('so', True), ('little', True), ('time', True), ('.', True), ('it', True), ('must', True), ('be', True), ('able', True), ('to', True), ('process', True), ('that', True), ('information', True), ('insanely', True), ('quick', True), ('!', True), ('...', True), ('remarkable', True), ('sensery', True), ('perception', True), ('.', True), ('thank', True), ('you', True), ('for', True), ('voting', True), ('against', True), ('hunting', True), ('in', True), ('national', True), ('parks', True), ('...', True), ('it', True), ('would', True), ('be', True), ('very', True), ('scary', True), ('going', True), ('there', True), ('and', True), ('knowing', True), ('hunters', True), ('are', True), ('shooting', True), ('at', True), ('animals.it', True), ('would', True), ('be', True), ('horrible', True), ('....', True), ('thank', True), ('you', True), ('patricia', True), ('macher', True), ('best', True), ('news', True), ('iv', True), ('heard', True), ('in', True), ('a', True), ('long', True), ('time', True), ('!', True), ('!', True), ('!', True), ('congrats', True), ('!', True), ('!', True), ('awesome', True), ('!', True), ('!', True), ('i', True), (\"'ve\", True), ('been', True), ('so', True), ('busy', True), ('with', True), ('in-laws', True), ('in', True), ('town', True), ('i', True), ('need', True), ('to', True), ('binge', True), ('watch', True), ('the', True), ('last', True), ('couple', True), ('of', True), ('episodes', True), ('.', True), ('great', True), ('news', True), ('.....', True), ('but', True), ('not', True), ('surprising', True), ('!', True), ('!', True), ('we', True), ('know', True), (\"'winners\", True), (\"'\", True), ('when', True), ('we', True), ('see', True), (\"'em\", True), ('!', True), ('<', True), ('smile', True), ('>', True), ('another', False), ('corrupt', False), ('politician', False), ('and', False), ('a', False), ('hrc', False), ('shill', False), ('vote', False), ('against', False), ('her', False), ('one', True), ('of', True), ('the', True), ('best', True), ('ted', True), ('talks', True), ('ever', True), ('.', True), ('true', True), (',', True), ('inspiring', True), (',', True), ('and', True), ('cool', True), ('!', True), ('that', True), ('is', True), ('a', True), ('wonderful', True), ('fb', True), ('game.wow.88', True), ('https', True), (':', True), ('//www.facebook.com/pages/allflogk/239888956148041', True), ('?', True), ('sk=app_208195102528120', True), ('voting', False), ('yes', False), ('on', False), ('auditing', False), ('the', False), ('fed', False), ('is', False), ('the', False), ('best', False), ('thing', False), ('you', False), ('could', False), ('do', False), ('...', False), ('next', False), ('time', False), (',', False), ('i', False), ('hope', False), ('you', False), ('will', False), ('.', False), ('you', True), ('are', True), ('doing', True), ('a', True), ('fabulous', True), ('job', True), ('.', True), ('you', True), ('were', True), ('made', True), ('for', True), ('politics', True), ('.', True), ('there', False), ('is', False), ('no', False), ('video', False), (':', False), ('(', False), ('(', False), ('only', False), ('sound', False), ('...', False), (':', False), ('(', False), ('chris', True), ('is', True), ('always', True), ('#', True), ('1', True), ('in', True), ('all', True), ('our', True), ('hearts', True), ('.', True), ('soror', True), ('fudge', True), (',', True), ('victory', True), ('is', True), ('yours', True), ('!', True), ('hear', True), (',', True), ('hear', True), ('!', True), ('great', True), (',', True), ('inspiring', True), ('talk', True), ('.', True), ('i', True), ('am', True), ('going', True), ('to', True), ('be', True), ('an', True), ('upstander', True), ('!', True), ('go', True), ('monica', True), ('!', True), ('we', True), ('are', True), ('with', True), ('you', True), ('.', True), ('please', False), ('fight', False), ('the', False), ('republicans', False), ('who', False), ('want', False), ('to', False), ('hold', False), ('federal', False), ('assistance', False), ('hostage', False), ('for', False), ('more', False), ('budget', False), ('cuts', False), ('shut', True), ('up', True), ('and', True), ('take', True), ('my', True), ('money', True), ('!', True), ('such', True), ('lovely', True), ('young', True), ('ladies', True), ('....', True), ('and', True), ('nice', True), ('as', True), ('well', True), ('!', True), ('thanks', True), ('girls', True), ('!', True), ('need', True), ('your', True), ('dad', True), ('in', True), ('the', True), ('u.s.', True), ('senate', True), ('!', True), ('i', True), ('bet', True), ('you', True), ('he', True), (\"'d\", True), ('appreciate', True), ('it', True), ('.', True), ('more', True), ('people', True), ('have', True), ('heard', True), ('of', True), ('a', True), ('parallel', True), ('squat', True), ('than', True), ('i', True), ('ever', True), ('knew', True), ('existed', True), ('before', True), ('.', True), ('that', False), ('an', False), ('ellipsis', False), ('ids', False), ('not', False), ('a', False), ('substitute', False), ('for', False), ('punctuation', False), ('?', False), ('its', True), ('really', True), ('awesome', True), (',', True), ('and', True), ('motivating', True), ('...', True), ('im', True), ('pting', True), ('even', True), ('more', True), ('then', True), ('before', True), (':', True), ('p', True), ('the', False), ('shock', False), ('and', False), ('senselessness', False), ('of', False), ('these', False), ('killings', False), ('and', False), ('movements', False), ('is', False), ('mind', False), ('numbing', False), ('.', False), ('that', False), ('a', False), ('front', False), ('to', False), ('stop', False), ('them', False), ('is', False), ('not', False), ('forthcoming', False), ('is', False), ('also', False), ('mind', False), ('numbing', False), ('.', False), ('i', True), ('was', True), ('very', True), ('impressed', True), ('wit', True), ('genie', True), ('today', True), ('.', True), ('she', True), ('will', True), ('definitely', True), ('win', True), ('a', True), ('grand', True), ('slam', True), ('.', True), ('sooner', True), ('rather', True), ('than', True), ('later', True), ('i', True), ('think', True), ('.', True), ('you', True), ('seemed', True), ('like', True), ('you', True), ('were', True), ('away', True), ('for', True), ('a', True), ('little', True), ('bit', True), ('and', True), ('i', True), ('thought', True), ('that', True), ('was', True), ('no', True), ('bueno', True), (',', True), ('so', True), ('i', True), ('had', True), ('to', True), ('prop', True), ('on', True), ('by', True), (':', True), (')', True), ('data', True), ('is', True), ('available', True), (',', True), ('we', True), ('have', True), ('to', True), ('make', True), ('something', True), ('out', True), ('of', True), ('it', True), ('.', True), ('oh', True), ('i', True), ('hated', True), ('the', True), ('end', True), ('of', True), ('my', True), ('pregnancy', True), ('.', True), ('it', True), ('was', True), ('so', True), ('hard', True), ('!', True), ('good', True), ('luck', True), ('to', True), ('you', True), ('!', True), ('i', True), ('do', True), ('think', True), ('nesting', True), ('could', True), ('be', True), ('considered', True), ('moderate', True), ('aerobic/cardio', True), ('activity', True), (':', True), (')', True), ('@', False), ('cathy', False), (',', False), ('what', False), ('else', False), ('would', False), ('you', False), ('call', False), ('someone', False), ('who', False), ('launches', False), ('wars', False), ('with', False), ('no', False), ('congressional', False), ('approval', False), ('...', False), ('and', False), ('demand', False), ('legislation', False), ('to', False), ('secretly', False), ('arrest', False), ('american', False), ('citezens', False), ('?', False), ('or', False), ('the', False), ('executive', False), ('order', False), ('to', False), ('take', False), ('over', False), ('all', False), ('resources', False), ('in', False), ('case', False), ('of', False), ('any', False), ('emergency', False), ('.', False), ('get', True), ('well', True), ('soon', True), (',', True), ('giiirrl', True), ('!', True), ('sounds', True), ('lovely', True), ('!', True), ('have', True), ('a', True), ('kickass', True), ('workout', True), ('and', True), ('a', True), ('relaxing', True), ('evening', True), ('!', True), (':', True), (')', True), ('i', True), ('just', True), ('sent', True), ('this', True), ('to', True), ('my', True), ('boss', True), ('.', True), ('we', True), ('try', True), ('sooooo', True), ('hard', True), ('to', True), ('control', True), ('all', True), ('the', True), ('media', True), ('about', True), ('ourselves', True), ('but', True), ('do', True), ('not', True), ('focus', True), ('on', True), ('making', True), ('ourselves', True), ('actually', True), ('produce', True), ('great', True), ('content', True), ('.', True), ('it', True), (\"'s\", True), ('a', True), ('brave', True), ('new', True), ('world', True), ('management', True), ('...', True), ('do', True), (\"n't\", True), ('fear', True), ('the', True), ('truth', True), ('.', True), ('agree', True), ('.', True), ('i', True), (\"'ve\", True), ('learned', True), ('to', True), ('listen', True), ('to', True), ('my', True), ('body', True), ('.', True), ('it', True), (\"'s\", True), ('smarter', True), ('than', True), ('my', True), ('brain', True), ('most', True), ('days', True), ('.', True), (':', True), (')', True), ('an', True), ('amazing', True), ('talk', True), (',', True), ('with', True), ('some', True), ('awesome', True), ('footage', True), ('.', True), ('i', True), ('especially', True), ('liked', True), ('the', True), ('two', True), ('speakers', True), ('in', True), ('the', True), ('film', True), (':', True), ('the', True), ('young', True), ('girl', True), ('made', True), ('me', True), ('feel', True), ('humble', True), (',', True), ('and', True), ('the', True), ('old', True), ('man', True), ('inspired', True), ('me', True), ('to', True), ('take', True), ('a', True), ('step', True), ('back', True), ('and', True), ('appreciate', True), ('my', True), ('luck', True), ('.', True), ('omg', False), ('lynn', False), ('jenkins', False), ('.', False), ('why', False), ('do', False), (\"n't\", False), ('you', False), ('answer', False), ('some', False), ('of', False), ('these', False), ('screwball', False), ('ideas', False), ('.', False), ('you', False), ('do', False), (\"n't\", False), ('care', False), ('about', False), ('the', False), ('american', False), ('people', False), ('.', False), ('you', False), ('care', False), ('that', False), ('your', False), ('little', False), ('nest', False), ('is', False), ('feathered', False), ('and', False), ('you', False), ('stay', False), ('in', False), ('favor', False), ('with', False), ('the', False), ('big', False), ('wigs', False), ('.', False), ('this', False), ('is', False), ('getting', False), ('really', False), ('disgusting', False), ('.', False), ('too', False), ('bad', False), ('he', False), ('ca', False), (\"n't\", False), ('see', False), ('the', False), ('white', False), ('house', False), ('hey', False), ('?', False), ('damn', True), ('!', True), ('if', True), ('this', True), ('show', True), ('was', True), (\"n't\", True), ('in', True), ('california', True), ('i', True), (\"'d\", True), ('want', True), ('to', True), ('work', True), ('there', True), ('!', True), ('!', True), ('!', True), (\"y'all\", True), ('are', True), ('havin', True), (\"'\", True), ('way', True), ('too', True), ('much', True), ('fun', True), ('...', True), ('thank', True), ('you', True), ('for', True), ('the', True), ('smile', True), ('!', True), ('!', True), ('!', True), ('loving', True), ('this', True), ('show', True), ('!', True), ('!', True), ('!', True), ('!', True), ('it', True), ('was', True), ('an', True), ('honor', True), ('to', True), ('take', True), ('part', True), ('in', True), ('virtual', True), ('choir', True), ('.', True), ('eric', True), (',', True), ('thank', True), ('you', True), ('for', True), ('your', True), ('transcendent', True), ('vision', True), ('of', True), ('unity', True), ('and', True), ('love', True), ('.', True), ('your', True), ('music', True), ('is', True), ('out', True), ('of', True), ('this', True), ('world', True), (',', True), ('very', True), ('aptly', True), ('portrayed', True), ('as', True), ('a', True), ('galactic', True), ('experience', True), ('.', True), ('thanks', True), ('for', True), ('gathering', True), ('us', True), ('together', True), ('under', True), ('your', True), ('golden', True), ('wings', True), ('.', True), ('i', True), (\"'m\", True), ('following', True), ('all', True), ('in', True), ('the', True), ('oregon', True), ('meet-ups', True), ('group', True), ('.', True), ('we', True), (\"'re\", True), ('small', True), ('but', True), ('i', True), (\"'m\", True), ('sure', True), ('quite', True), ('mighty', True), ('!', True), ('!', True), (':', True), ('-d', True), ('wonderful', True), ('..', True), ('a', True), ('slightly', True), ('nervous', True), ('talk', True), ('presenting', True), ('valuable', True), ('information', True), ('..', True), ('understated', True), ('and', True), ('insightful', True), ('..', True), ('well', True), ('done', True), ('shiela', True), ('..', True), ('you', True), ('are', True), ('worthy', True), ('of', True), ('being', True), ('heard', True), ('and', True), ('applauded', True), ('for', True), ('this', True), ('comtrabution', True), ('to', True), ('knowledage', True), ('and', True), ('understanding', True), ('wish', True), ('i', True), ('could', True), ('``', True), ('like', True), (\"''\", True), ('this', True), ('1,000,000', True), ('times', True), ('!', True), ('congresswoman', True), ('kaptur', True), ('has', True), ('been', True), ('an', True), ('ardent', True), ('and', True), ('consistent', True), ('conservation', True), ('supporter', True), ('!', True), (\"c'est\", True), ('nous', True), ('qui', True), ('te', True), ('disons', True), ('merci', True), ('mary', True), ('!', True), ('pour', True), ('tout', True), ('.', True), ('i', True), (\"'m\", True), ('so', True), ('glad', True), ('to', True), ('have', True), ('you', True), ('back', True), (',', True), ('brit', True), ('.', True), ('missed', True), ('you', True), ('!', True), ('(', True), ('a', True), ('fellow', True), ('english', True), ('major', True), ('!', True), (')', True), ('enjoyed', True), ('this', True), ('!', True), ('thanks', True), ('and', True), ('congrats', True), ('!', True), ('ca', False), (\"n't\", False), ('imagine', False), ('how', False), ('deep', False), ('wounds', False), ('4', False), ('#', False), ('tahmooressi', False), ('knowing', False), ('congress', False), ('does', False), (\"n't\", False), ('care', False), ('#', False), ('hres620', False), ('inaction=moral', False), ('injustice', False), ('#', False), ('freeourmarine', False), ('.', False), ('he', False), ('fought', False), ('for', False), ('your', False), ('freedom', False), ('.', False), ('now', False), ('you', False), ('need', False), ('to', False), ('fight', False), ('for', False), ('him', False), ('.', False), ('please', False), ('do', False), ('not', False), ('continue', False), ('to', False), ('abandon', False), ('this', False), ('sick', False), ('marine', False), ('in', False), ('mexico', False), ('.', False), ('thank', True), ('you', True), ('for', True), ('supporting', True), ('obamacare', True), ('and', True), ('us', True), ('!', True), ('dearest', False), ('rosa', False), ('..', False), ('pass', False), ('out', False), ('your', False), ('own', False), ('millionsor', False), ('shut', False), ('up', False), ('.', False), ('i', False), ('understand', False), ('that', False), ('there', False), ('are', False), ('two', False), ('bills', False), ('(', False), ('hr', False), ('621', False), ('and', False), ('622', False), ('?', False), (')', False), ('that', False), ('could', False), ('sell', False), ('off', False), ('federal', False), ('park', False), ('lands', False), ('in', False), ('11', False), ('states', False), ('to', False), ('private', False), ('corporations', False), (',', False), ('and', False), ('defund', False), ('law', False), ('enforcement', False), ('on', False), ('other', False), ('public', False), ('lands', False), ('.', False), ('i', False), (\"'m\", False), ('having', False), ('trouble', False), ('finding', False), ('out', False), ('more', False), ('about', False), ('these', False), (',', False), ('but', False), ('am', False), ('very', False), ('disturbed', False), ('about', False), ('both', False), ('.', False), ('yeah', True), ('!', True), ('i', True), ('love', True), ('in-n-out', True), ('and', True), ('we', True), ('eat', True), ('there', True), ('every', True), ('summer', True), ('on', True), ('our', True), ('ca', True), ('vacations', True), ('.', True), ('love', True), ('the', True), ('double', True), ('double', True), ('!', True), ('i', True), ('have', True), ('been', True), ('wondering', True), ('why', True), ('they', True), ('were', True), (\"n't\", True), ('in', True), ('tx', True), ('.', True), ('this', True), ('investment', True), ('will', True), ('payoff', True), ('for', True), ('them', True), ('big', True), ('time', True), ('!', True), ('happy', True), ('birthday', True), ('mr.', True), ('president', True), ('...', True), ('we', True), ('love', True), ('you', True), ('and', True), ('your', True), ('love', True), ('for', True), ('america', True), ('.', True), ('youre', False), ('not', False), ('my', False), ('real', False), ('dad', False), ('!', False), ('$', False), ('1.1', False), ('trillion', False), ('dollars', False), ('they', False), ('agree', False), ('to', False), ('spend', False), ('yet', False), ('they', False), ('ca', False), (\"n't\", False), ('find', False), ('$', False), ('6.5', False), ('billion', False), ('in', False), ('that', False), ('to', False), ('extend', False), ('unemployment', False), ('benefits', False), ('.', False), ('shame', False), ('on', False), ('them', False), ('!', False), ('like', True), ('a', True), ('savage', True), ('...', True), ('love', True), ('uncle', True), ('joey', True), ('we', True), (\"'ve\", True), ('sent', True), ('far', True), ('too', True), ('many', True), ('for', True), ('far', True), ('too', True), ('long', True), ('...', True), ('the', False), ('cartoon', False), ('does', False), ('not', False), ('``', False), ('debunk', False), (\"''\", False), ('intelligent', False), ('design', False), ('.', False), ('it', False), ('only', False), ('shows', False), ('that', False), ('intelligent', False), ('design', False), ('is', False), ('not', False), ('science', False), ('.', False), ('the', True), ('day', True), ('i', True), ('can', True), ('hulk', True), ('my', True), ('way', True), ('out', True), ('of', True), ('a', True), ('pair', True), ('of', True), ('underwear', True), ('i', True), ('can', True), ('die', True), ('a', True), ('happy', True), ('man', True), ('.', True), ('never', False), ('did', False), ('``', False), ('like', False), (\"''\", False), ('mater', False), ('dei', False), ('back', False), ('in', False), ('the', False), ('good', False), ('old', False), ('60s-70s', False), ('when', False), ('they', False), ('gave', False), ('everybody', False), ('grief', False), ('in', False), ('oc', False), ('!', False), ('!', False), ('!', False), ('!', False), ('!', False), ('go', False), ('centennial', False), ('!', False), ('shhh', False), (',', False), ('hes', False), ('american', False), (',', False), ('he', False), ('knows', False), ('nothing', False), ('of', False), ('other', False), ('countries', False), ('.', False), ('look', False), (',', False), ('he', False), ('cant', False), ('even', False), ('spell', False), ('america', False), ('.', False), ('edit-', False), ('look', False), (',', False), ('look', False), (',', False), ('he', False), ('even', False), ('deleted', False), ('the', False), ('word', False), ('amercia', False), ('from', False), ('his', False), ('post', False), ('.', False), ('what', False), ('a', False), ('turd', False), ('.', False), ('awww', True), ('...', True), ('glad', True), ('i', True), ('can', True), ('help', True), ('your', True), ('awesome', True), ('out', True), ('.', True), (':', True), (')', True), ('vaguebooking', False), ('.', False), ('could', False), ('you', False), ('at', False), ('least', False), ('be', False), ('more', False), ('specific', False), ('?', False), ('less', False), ('not', False), ('forget', False), ('that', False), ('it', False), ('happened', False), ('once', False), ('and', False), ('again', False), ('to', False), ('often', False), ('now', False), ('.', False), ('wow', False), (',', False), ('bitter', False), ('that', False), ('i', False), ('dont', False), ('have', False), ('a', False), ('lot', False), ('of', False), ('disposable', False), ('income', False), ('like', False), ('this', False), ('obviously', False), ('spoiled', False), ('19', False), ('year', False), ('old', False), ('.', False), ('mind', False), ('blowing', False), ('conclusion', False), ('.', False), ('glad', False), ('we', False), ('could', False), ('reach', False), ('it', False), ('together', False), ('.', False), ('yeah', False), (',', False), ('like', False), ('the', False), ('twenty', False), ('billion', False), ('he', False), ('gave', False), ('to', False), ('the', False), ('unions', False), ('.', False), ('yeah', False), (',', False), ('thats', False), ('really', False), ('investing', False), ('in', False), ('his', False), ('reelection', False), ('and', False), ('thats', False), ('all', False), ('he', False), ('is', False), ('doing', False), ('.', False), ('unbelievable', True), ('-', True), ('courageous', True), ('inspiring', True), ('.', True), ('loved', True), ('it', True), ('...', True), ('am', True), ('sending', True), ('this', True), ('to', True), ('my', True), ('daughter', True), ('who', True), ('aspires', True), ('to', True), ('be', True), ('an', True), ('artist', True), ('...', True), ('of', False), ('course', False), (',', False), ('they', False), ('probably', False), ('wrote', False), ('it', False), ('for', False), ('you', False), ('.', False), ('palin', False), ('can', False), ('see', False), ('russia', False), ('from', False), ('her', False), ('porch', False), ('and', False), ('you', False), ('can', False), ('see', False), ('the', False), ('south', False), ('china', False), ('sea', False), ('from', False), ('yours', False), ('.', False), ('birds', False), ('of', False), ('a', False), ('feather', False), ('flock', False), ('together', False), ('!', False), ('!', False), ('!', False), ('!', False), ('looking', True), ('forward', True), ('to', True), ('your', True), ('leadership', True), ('in', True), ('the', True), ('senate', True), (',', True), ('tim', True), ('!', True), ('(', True), ('0_0', True), (')', True), ('who', True), ('me', True), ('?', True), ('?', True), ('thank', True), ('you', True), (',', True), ('lovely', True), ('!', True), ('nice', True), ('to', True), ('have', True), ('you', True), ('in', True), ('my', True), ('feed', True), ('!', True), ('good', True), ('luck', True), (',', True), ('and', True), ('i', True), ('still', True), ('support', True), ('your', True), ('war', True), ('on', True), ('outrageous', True), ('gasoline', True), ('prices', True), ('.', True), ('there', True), ('is', True), ('my', True), ('dedicated', True), ('sister', True), ('in', True), ('law', True), ('!', True), ('books', True), ('include', True), ('endless', True), ('imagination', True), ('.', True), ('so', True), ('we', True), ('tend', True), ('to', True), ('book', True), ('when', True), ('our', True), ('dream', True), ('dont', True), ('take', True), ('place', True), ('.', True), ('because', True), ('they', True), ('understand', True), ('better', True), ('than', True), ('human', True), ('.', True), ('lisa', True), ('bu', True), ('has', True), ('done', True), ('in', True), ('such', True), ('.', True), ('if', False), ('i', False), ('could', False), ('just', False), ('take', False), ('this', False), ('to', False), ('work', False), ('and', False), ('make', False), ('all', False), ('my', False), ('whole', False), ('company', False), ('watch', False), ('it', False), ('...', False), ('(', False), ('sigh', False), ('...', False), (')', False), ('i', False), ('feel', False), ('vulnerable', False), ('now', False), ('...', False), ('i', False), ('need', False), ('a', False), ('chocolate', False), (',', False), ('chocolate', False), ('chip', False), ('muffin', False), ('.', False), ('haha', True), ('thank', True), ('you', True), ('!', True), ('haha', True), ('yes', True), (',', True), ('i', True), (\"'ve\", True), ('found', True), ('my', True), ('place', True), ('in', True), ('the', True), ('health', True), ('and', True), ('fitness', True), ('world', True), ('honestly', False), (',', False), ('i', False), ('do', False), (\"n't\", False), ('think', False), ('they', False), ('care', False), ('.', False), ('they', False), ('also', False), ('do', False), (\"n't\", False), ('care', False), ('about', False), ('medicare', False), (',', False), ('social', False), ('security', False), (',', False), ('or', False), ('medicaid', False), ('.', False), ('thanks', True), ('-', True), ('ratwoman', True), ('had', True), ('to', True), ('follow', True), ('the', True), ('catwoman', True), (';', True), ('-', True), (')', True), ('thanks', True), ('your', True), ('to', True), ('kind', True), (':', True), ('-', True), (')', True), ('where', False), ('are', False), ('the', False), ('sanding', False), ('trucks', False), ('?', False), ('?', False), ('we', True), ('are', True), ('free', True), (',', True), ('because', True), ('of', True), ('the', True), ('brave', True), ('....', True), ('are', False), ('you', False), ('sure', False), ('about', False), ('that', False), ('?', False), ('post', False), ('says', False), ('live', False), ('access', False), ('to', False), ('espn2', False), ('is', False), ('also', False), ('available', False), ('on', False), ('digital', False), ('platforms', False), ('via', False), ('watchespn', False), ('.', False), ('your', True), ('proposal', True), ('speaks', True), ('loud', True), ('&', True), ('clear', True), ('of', True), ('how', True), ('our', True), ('democracy', True), ('must', True), ('be', True), ('protected', True), ('under', True), ('the', True), ('constitution', True), (\"'s\", True), ('principles', True), ('!', True), ('to', True), ('do', True), ('otherwise', True), ('compromises', True), ('it', True), ('!', True), ('!', True), ('thank', True), ('you', True), ('for', True), ('standing', True), ('up', True), ('for', True), ('righteousness', True), ('!', True), ('love', True), ('me', True), ('some', True), ('super', True), ('d.', True), ('she', True), ('is', True), ('just', True), ('doing', True), ('a', True), ('really', True), ('good', True), ('job', True), ('for', True), ('us', True), ('all', True), ('.', True), ('keep', True), ('up', True), ('the', True), ('good', True), ('work', True), ('and', True), ('you', True), ('will', True), ('never', True), ('have', True), ('to', True), ('ask', True), ('me', True), ('for', True), ('my', True), ('support', True), ('.', True), ('que', True), ('lastima', True), ('que', True), ('no', True), ('puedo', True), ('ir', True), ('a', True), ('conocerlos', True), ('en', True), ('persona', True), ('.', True), ('voy', True), ('a', True), ('estar', True), ('haciendo', True), ('el', True), ('la', True), ('marathon', True), ('.', True), ('se', True), ('miran', True), ('bellos', True), ('los', True), ('3', True), ('.', True), ('every', False), ('democrat', False), ('in', False), ('congress', False), ('conspired', False), ('to', False), ('committ', False), ('fraud', False), ('upon', False), ('the', False), ('american', False), ('citizens', False), ('period', False), ('!', False), ('!', False), ('no', False), ('smart', False), ('phone', False), ('means', False), ('no', False), ('updating', False), ('as', False), ('i', False), ('go', False), ('.', False), (':', False), ('(', False), ('you', True), ('hit', True), ('a', True), ('sensible', True), ('snare', True), ('ron', True), (',', True), ('thank', True), ('you', True), ('so', True), ('much', True), ('for', True), ('doing', True), ('and', True), ('sharing', True), ('this', True), ('..', True), ('to', True), ('me', True), ('this', True), ('is', True), ('another', True), ('eye', True), ('opener', True), ('in', True), ('the', True), ('direction', True), ('of', True), ('that', True), ('big', True), ('problems', True), ('are', True), ('well', True), ('served', True), ('with', True), ('simple', True), ('solutions', True), ('..', True), ('solutions', True), ('so', True), ('simple', True), ('and', True), ('profound', True), ('its', True), ('almost', True), ('unimaginable', True), ('.', True), ('senator', True), ('menendez', True), ('i', True), ('thank', True), ('you', True), ('for', True), ('all', True), ('your', True), ('hard', True), ('work', True), ('.', True), ('you', True), ('have', True), ('my', True), ('vote', True), ('.', True), ('http', True), (':', True), ('//twitchy.com/2015/05/10/watch-mark-halperins-ghastly-cuban-authenticity-interrogation-of-ted-cruz-video/', True), ('hi', True), ('richard', True), (',', True), ('from', True), ('the', True), ('neal', True), (\"'s\", True), ('in', True), ('florida', True), (',', True), ('same', True), ('to', True), ('you', True), ('and', True), ('your', True), ('family', True), ('!', True), ('have', False), ('you', False), ('lost', False), ('your', False), ('mind', False), ('!', False), ('!', False), ('!', False), ('?', False), ('?', False), ('?', False), ('obama', False), ('has', False), ('done', False), ('nothing', False), ('impeachable', False), ('?', False), ('?', False), ('exactly', False), ('which', False), ('constitution', False), ('have', False), ('you', False), ('been', False), ('reading', False), ('?', False), ('?', False), ('?', False), ('blinded', False), ('by', False), ('bias', False), ('...', False), ('not', False), ('even', False), ('close', False), ('to', False), ('reality', False), ('.', False), ('what', False), ('a', False), ('disturbing', False), ('statement', False), ('for', False), ('a', False), ('us', False), ('congressman', False), ('to', False), ('post', False), ('on', False), ('fb', False), ('.', False), ('if', False), ('you', False), ('think', False), ('this', False), ('is', False), ('true', False), ('you', False), ('havent', False), ('explored', False), ('dallas', False), ('enough', False), ('.', False), ('of', True), ('course', True), ('girl', True), ('!', True), ('have', True), ('an', True), ('awesome', True), ('friday', True), ('!', True), ('i', True), ('an', True), ('so', True), ('happy', True), ('to', True), ('have', True), ('her', True), ('ias', True), ('our', True), ('congresswaman', True), ('thank', True), ('you', True), ('rosa', True), ('-god', True), ('bless', True), ('you', True), ('oh', True), ('no', True), ('!', True), ('feel', True), ('better', True), ('soon', True), ('!', True), (':', True), (')', True), ('same', True), ('to', True), ('you', True), ('bill', True), ('.', True), ('best', True), ('of', True), ('everything', True), ('in', True), ('2014', True), ('.', True), ('happy', True), ('returns', True), ('adam', True), ('!', True), ('you', True), ('do', True), ('us', True), ('proud', True), ('.', True), ('.', True), ('.', True), ('she', True), ('expressed', True), ('so', True), ('nicely', True), ('and', True), ('the', True), ('talk', True), ('was', True), ('amazing', True), ('....', True), ('wonderful', True), ('.', True), ('welcome', True), ('!', True), ('nice', True), ('moustache', True), (':', True), (')', True), ('bring', True), ('it', True), ('on', True), ('!', True), ('i', True), (\"'m\", True), ('about', True), ('to', True), ('go', True), ('get', True), ('some', True), ('more', True), ('points', True), ('right', True), ('now', True), ('.', True), ('or', True), ('maybe', True), ('a', True), ('little', True), ('bit', True), ('of', True), ('both', True), ('.', True), ('#', True), ('policecarconfessions', True), ('have', True), ('fun', True), ('and', True), ('be', True), ('safe', True), ('!', True), ('oh', True), ('how', True), ('i', True), ('wish', True), ('you', True), ('were', True), ('running', True), ('for', True), ('president', True), ('.', True), ('!', True), ('!', True), ('!', True), ('!', True), ('!', True), ('!', True), ('!', True), ('!', True), ('!', True), ('!', True), ('!', True), ('!', True), ('good', True), ('luck', True), ('tomorrow', True), ('hope', True), ('that', True), ('there', True), ('is', True), ('a', True), ('large', True), ('showing', True), ('for', True), ('stephen', True), ('.', True), ('although', True), ('i', True), (\"'m\", True), ('3000', True), ('miles', True), ('away', True), ('i', True), (\"'ll\", True), ('be', True), ('rooting', True), ('for', True), ('a', True), ('great', True), ('turnout', True), ('.', True), ('how', False), ('come', False), ('you', False), ('bet', False), ('an', False), ('f', False), ('from', False), ('the', False), ('nra', False), ('care', False), ('to', False), ('explain', False), ('!', False), ('no', False), ('vote', False), ('from', False), ('me', False), ('i', True), ('really', True), ('liked', True), ('this', True), ('one', True), ('.', True), ('she', True), (\"'s\", True), ('very', True), ('skilled', True), ('at', True), ('delivering', True), ('a', True), ('lot', True), ('of', True), ('information', True), ('in', True), ('such', True), ('little', True), ('time', True), ('.', True), ('props', True), ('to', True), ('you', True), (',', True), ('sally', True), ('!', True), ('-aria', True), ('wll', False), (',', False), ('to', False), ('bad', False), (',', False), ('my', False), ('answer', False), ('vanished', False), (',', False), ('just', False), ('leaving', False), ('the', False), ('quoted', False), ('part', False), ('in', False), ('place', False), ('!', False), (':', False), ('-', False), ('(', False), ('a', True), ('really', True), ('inspiring', True), ('vision', True), ('complimented', True), ('with', True), ('some', True), ('extraordinary', True), ('work', True), ('!', True), ('this', True), ('would', True), ('be', True), ('one', True), ('entrepreneur', True), ('i', True), ('guess', True), ('one', True), ('would', True), ('love', True), ('to', True), ('follow', True), ('.', True), ('all', True), ('in', True), ('all', True), (',', True), ('a', True), ('brilliant', True), ('interview', True), ('!', True), ('paris', True), ('paris', True), ('!', True), ('!', True), ('pero', True), ('me', True), ('gusto', True), ('mas', True), ('london', True), ('y', True), ('suiza', True), ('!', True), ('!', True), ('[', True), ('[', True), ('photo', True), (']', True), (']', True), ('you', False), ('do', False), (\"n't\", False), ('know', False), ('what', False), ('youre', False), ('talking', False), ('about', False), ('bill', False), ('morning', True), ('....', True), ('i', True), (\"'m\", True), ('up', True), ('way', True), ('to', True), ('early', True), ('and', True), ('eating', True), ('...', True), ('it', True), (\"'s\", True), ('going', True), ('to', True), ('be', True), ('a', True), ('long', True), ('day', True), ('!', True), ('!', True), ('!', True), ('brilliant', True), ('!', True), ('!', True), ('brilliant', True), ('!', True), ('!', True), ('brilliant', True), ('!', True), ('!', True), ('thank', True), ('you', True), ('for', True), ('carving', True), ('a', True), ('path', True), ('for', True), ('``', True), ('taking', True), ('back', True), ('our', True), ('own', True), ('narrative', True), (\"''\", True), ('.', True), ('i', True), ('wish', True), ('that', True), ('you', True), ('find', True), ('reciprocal', True), ('love', True), ('and', True), ('an', True), ('enduring', True), ('life-long', True), ('happiness', True), ('with', True), ('the', True), ('one', True), ('who', True), ('deserves', True), ('your', True), ('love', True), ('.', True), ('honest', True), ('to', True), ('pete', True), ('.', True), ('what', True), ('a', True), ('waste', True), ('of', True), ('time', True), ('.', True), ('it', True), (\"'s\", True), ('a', True), ('no', True), ('brainer', True), ('.', True), ('let', True), ('em', True), ('get', True), ('married', True), ('.', True), ('and', True), ('you', True), ('can', True), ('be', True), ('one', True), ('too', True), ('!', True), ('no', True), ('problem', True), ('.', True), ('thanks', True), ('for', True), ('following', True), ('!', True), ('thank', True), ('you', True), ('dr.', True), ('cuddy', True), ('this', True), ('video', True), ('gave', True), ('a', True), ('lot', True), ('of', True), ('insight', True), ('on', True), ('how', True), ('my', True), ('body', True), ('language', True), ('is', True), ('important', True), ('.', True), ('knowing', True), ('that', True), ('i', True), ('can', True), ('change', True), ('the', True), ('way', True), ('i', True), ('feel', True), ('with', True), ('just', True), ('changing', True), ('my', True), ('body', True), ('language', True), ('has', True), ('gave', True), ('me', True), ('a', True), ('new', True), ('purpose', True), ('.', True), ('thanks', True), ('.', True), ('i', True), ('agree', True), ('that', True), ('body', True), ('language', True), ('affects', True), ('our', True), ('lives', True), ('in', True), ('ways', True), ('that', True), ('we', True), ('do', True), (\"n't\", True), ('realize', True), ('it', True), ('does', True), ('.', True), ('i', True), (\"'m\", True), ('glad', True), ('i', True), ('watched', True), ('this', True), ('video', True), ('because', True), ('it', True), ('sharpened', True), ('my', True), ('views', True), ('about', True), ('communicating', True), ('with', True), ('my', True), ('body', True), ('.', True), ('hmmm', True), ('...', True), ('where', True), ('do', True), ('i', True), ('start', True), ('with', True), ('changes', True), ('.', True), (':', True), (')', True), ('and', False), ('people', False), ('thought', False), ('it', False), ('was', False), ('bad', False), ('now', False), ('!', False), ('hey', True), ('microeman', True), ('!', True), ('it', True), (\"'s\", True), ('going', True), ('much', True), ('better', True), ('now', True), (',', True), ('thank', True), ('you', True), (',', True), ('i', True), ('still', True), ('have', True), ('to', True), ('stop', True), ('and', True), ('remember', True), ('to', True), ('keep', True), ('it', True), ('balanced', True), (',', True), ('my', True), ('body', True), ('lets', True), ('me', True), ('know', True), ('though', True), ('!', True), ('thanks', True), ('for', True), ('checking', True), ('means', True), ('more', True), ('than', True), ('youd', True), ('know', True), ('.', True), ('thank', True), ('you', True), ('.', True), ('nice', True), ('run', True), ('tonite', True), ('...', True), ('congrats', True), ('on', True), ('making', True), ('the', True), ('200m', True), ('as', True), ('well', True), ('!', True), ('good', True), ('luck', True), ('in', True), ('london', True), ('beautiful', True), ('!', True), ('!', True), ('!', True), ('!', True), ('this', True), ('robot', True), ('is', True), ('creeping', True), ('me', True), ('out', True), ('.', True), ('they', True), ('can', True), ('learn', True), ('a', True), ('lot', True), ('from', True), ('you', True), ('sir', True), ('.', True), ('[', True), ('[', True), ('photo', True), (']', True), (']', True), ('it', True), ('does', True), ('cheer', True), ('me', True), ('up', True), (',', True), ('thank', True), ('you', True), ('allegriacat', True), ('!', True), ('!', True), ('!', True), ('happy', True), ('birthday', True), ('back', True), ('ya', True), (';', True), (')', True), ('i', True), ('love', True), ('bsg', True), ('and', True), ('wish', True), ('it', True), ('could', True), ('return', True), ('with', True), ('you', True), ('in', True), ('it', True), ('i', True), ('loved', True), ('the', True), ('series', True), ('and', True), ('really', True), ('wish', True), ('i', True), ('could', True), ('meet', True), ('you', True), ('in', True), ('person', True), ('sometime', True), (':', True), (')', True), ('the', False), ('more', False), ('things', False), ('change', False), (',', False), ('the', False), ('more', False), ('they', False), ('stay', False), ('the', False), ('same', False), ('.', False), ('serious', False), ('criminals', False), ('have', False), ('always', False), ('been', False), ('at', False), ('the', False), ('forefront', False), ('of', False), ('technology', False), ('.', False), ('nothing', False), ('new', False), ('to', False), ('see', False), ('here', False), ('...', False), ('truly', True), ('an', True), ('untapped', True), ('source', True), ('of', True), ('wisdom', True), ('.', True), ('awesome', True), ('story', True), ('.', True), ('so', True), ('glad', True), ('she', True), ('shared', True), ('it', True), ('.', True), ('thanks', True), ('for', True), ('the', True), ('props', True), ('.', True), ('welcome', True), ('!', True), ('always', True), ('like', True), ('new', True), ('fito', True), ('friends', True), ('!', True), ('you', True), ('are', True), ('toooo', True), ('kind', True), ('.', True), ('made', True), ('lots', True), ('of', True), ('small', True), ('changes', True), ('over', True), ('time', True), ('.', True), ('i', True), ('always', True), ('say', True), ('if', True), ('i', True), ('can', True), ('do', True), ('it', True), ('anyone', True), ('can', True), ('cause', True), ('i', True), (\"'m\", True), ('a', True), ('sugar', True), ('addict', True), ('to', True), ('this', True), ('day', True), ('.', True), ('the', False), ('majority', False), ('of', False), ('twitter', False), ('dislikes', False), ('audrey', False), (',', False), ('it', False), ('seems', False), ('like', False), ('to', False), ('me', False), ('anyway', False), ('.', False), ('i', False), ('am', False), ('68', False), ('years', False), ('old', False), ('and', False), ('have', False), ('veen', False), ('a', False), ('republican', False), ('my', False), ('whole', False), ('life', False), (',', False), ('as', False), ('of', False), ('today', False), ('i', False), ('am', False), ('an', False), ('independent', False), ('.', False), ('i', False), ('am', False), ('tired', False), ('of', False), ('playing', False), ('the', False), ('establishments', False), ('game', False), ('.', False), ('i', True), ('support', True), ('this', True), ('initiative', True), ('and', True), ('have', True), ('some', True), ('childhood', True), ('testimonies', True), ('to', True), ('share', True), ('.', True), ('love', True), ('your', True), ('back', True), ('muscles', True), ('!', True), ('!', True), ('hell', True), ('yeah', True), ('mang', True), ('!', True), ('>', True), (':', True), ('d', True), ('great', True), ('job', True), ('duder', True), ('!', True), ('do', True), ('those', True), ('negatives', True), ('to', True), ('help', True), ('increase', True), ('that', True), ('number', True), ('!', True), ('i', True), ('know', True), ('you', True), ('can', True), ('do', True), ('it', True), ('!', True), ('!', True), ('>', True), (':', True), ('d', True), ('woot', True), ('woot', True), ('!', True), ('this', True), ('mo', True), ('fuarker', True), ('is', True), ('moving', True), ('up', True), ('in', True), ('the', True), ('world', True), ('of', True), ('weights', True), ('beware', True), ('bitches', True), ('!', True), ('!', True), ('!', True), ('>', True), (':', True), ('d', True), ('why', False), ('would', False), ('you', False), ('do', False), ('that', False), ('to', False), ('yourself', False), ('?', False), ('awwww', True), ('....', True), ('well', True), ('you', True), ('were', True), ('close', True), ('!', True), ('!', True), ('still', True), ('good', True), ('job', True), ('!', True), ('!', True), ('thanks', True), ('for', True), ('following', True), ('back', True), ('!', True), ('deeply', False), ('disappointed', False), ('that', False), ('your', False), ('party', False), ('gerrymandered', False), ('your', False), ('way', False), ('into', False), ('being', False), ('my', False), ('congressman', False), ('.', False), ('explain', True), ('please', True), ('.', True), ('i', True), ('am', True), ('at', True), ('work', True), ('all', True), ('day', True), (',', True), ('and', True), ('glad', True), ('to', True), ('have', True), ('you', True), ('representing', True), ('me', True), ('.', True), ('she', True), ('is', True), ('beautiful', True), ('and', True), ('you', True), ('boys', True), ('are', True), ('amazing', True), ('so', True), ('basically', True), ('she', True), ('is', True), ('saying', True), ('that', True), ('before', True), ('the', True), ('experiment', True), ('the', True), ('mass', True), ('of', True), ('the', True), ('center', True), ('was', True), ('believed', True), ('to', True), ('be', True), ('concentrated', True), ('or', True), ('contained', True), ('within', True), ('some', True), ('size', True), ('and', True), ('after', True), ('observing', True), ('orbits', True), ('of', True), ('the', True), ('stars', True), (',', True), ('they', True), ('are', True), ('at', True), ('a', True), ('conclusion', True), ('that', True), ('its', True), ('withing', True), ('a', True), ('much', True), ('smaller', True), ('size', True), ('.', True), ('quite', True), ('intriguing', True), ('!', True), ('we', True), ('like', True), ('this', True), ('!', True), ('!', True), ('!', True), ('!', True), ('!', True), ('!', True), ('!', True), ('!', True), ('!', True), ('!', True), ('.................', True), ('dont', False), ('work', False), ('too', False), ('hard', False), ('...', False), ('no', False), ('reason', False), ('to', False), ('start', False), ('now', False), ('..', False), ('i', False), (\"'m\", False), ('sure', False), ('you', False), ('got', False), ('some', False), ('pac', False), ('money', False), ('to', False), ('take', False), ('!', False), ('!', False), ('!', False), ('or', False), ('donations', False), ('from', False), ('big', False), ('oil', False), ('!', False), ('!', False), ('or', False), ('from', False), ('companies', False), ('that', False), ('actively', False), ('lobby', False), ('.....', False), ('http', False), (':', False), ('//www.opensecrets.org/politicians/contrib.php', False), ('?', False), ('cid=n00031559', False), ('&', False), ('cycle=2012', False), ('24', True), ('never', True), ('ceases', True), ('to', True), ('amaze', True), ('me', True), ('on', True), ('the', True), ('twists', True), ('and', True), ('turns', True), ('of', True), ('the', True), ('show', True), ('.', True), ('this', True), ('one', True), ('has', True), ('really', True), ('took', True), ('me', True), ('by', True), ('surprise', True), ('..', True), ('just', True), ('when', True), ('you', True), ('think', True), ('you', True), ('have', True), ('it', True), ('figured', True), ('out', True), ('.', True), ('bam', True), ('another', True), ('twist', True), ('.', True), ('navient', False), ('bank', False), ('lies', False), ('cheats', False), ('and', False), ('commits', False), ('fraud', False), ('!', False), ('i', False), ('have', False), ('audio', False), ('proof', False), ('of', False), ('their', False), ('deception', False), ('!', False), ('glad', True), ('to', True), ('see', True), ('another', True), ('odd', True), ('book', True), ('!', True), ('keep', True), ('em', True), ('coming', True), ('!', True), ('i', True), ('think', True), ('bob', True), ('is', True), ('a', True), ('good', True), ('guy', True), ('.', True), ('do', True), (\"n't\", True), ('see', True), ('him', True), ('doing', True), ('anything', True), ('though', True), ('!', True), ('excellent', True), ('open', True), ('stance', True), ('!', True), ('are', False), ('there', False), ('federal', False), ('agencies', False), ('still', False), ('operating', False), ('that', False), ('are', False), ('not', False), ('under', False), ('a', False), ('gag', False), ('order', False), ('?', False), ('i', False), ('thought', False), ('the', False), ('current', False), ('administration', False), ('was', False), ('in', False), ('process', False), ('of', False), ('dismantling', False), ('all', False), ('federal', False), ('agencies', False), ('?', False), ('a', True), ('reflective', True), ('moment', True), ('in', True), ('time', True), ('......', True), ('emotive', True), ('photo', True), ('.', True), ('nice', True), ('shaun', True), ('recorded', True), ('it', True), ('!', True), ('you', True), ('did', True), ('very', True), ('well', True), (',', True), ('future', True), ('governor', True), ('pascrell', True), ('!', True), ('!', True), ('!', True), ('do', False), ('you', False), ('actually', False), ('think', False), ('the', False), ('big', False), ('8', False), ('would', False), ('be', False), ('alive', False), ('today', False), ('if', False), ('the', False), ('swc', False), ('members', False), ('didnt', False), ('want', False), ('to', False), ('join', False), ('?', False), ('i', True), ('play', True), ('the', True), ('french', True), ('horn', True), ('in', True), ('an', True), ('orchestra', True), ('in', True), ('mexico', True), ('.', True), (':', True), (')', True), ('i', True), ('love', True), ('families', True), ('of', True), ('musicians', True), ('!', True), ('yaay', True), ('!', True), ('lucky', True), ('you', True), ('.', True), (':', True), (')', True), ('the', False), ('lead', False), ('donkey', False), ('needs', False), ('to', False), ('resign', False), ('.', False), ('katie', True), ('thank', True), ('you', True), ('so', True), ('much', True), ('!', True), ('love', True), ('your', True), ('hair', True), ('btw', True), ('!', True), ('was', True), ('really', True), ('moving', True), ('.', True), ('i', True), (\"'m\", True), ('sure', True), ('to', True), ('try', True), ('it', True), ('.', True), ('those', True), ('counties', True), ('were', True), ('hit', True), ('pretty', True), ('hard', True), ('by', True), ('the', True), ('flooding', True), ('we', True), ('had', True), ('.', True), ('it', True), (\"'s\", True), ('good', True), ('to', True), ('know', True), ('that', True), ('they', True), ('will', True), ('be', True), ('getting', True), ('relief', True), ('.', True), ('finally', True), ('someone', True), ('wants', True), ('to', True), ('beautify', True), ('all', True), ('these', True), ('vacant', True), ('lots', True), ('.', True), ('awesome', True), ('idea', True), ('.', True), ('i', True), ('would', True), ('love', True), ('to', True), ('volunteer', True), ('for', True), ('something', True), ('like', True), ('this', True), ('.', True), ('do', False), ('you', False), ('plan', False), ('on', False), ('attending', False), ('the', False), ('netanyahu', False), ('speech', False), ('?', False), ('you', False), ('should', False), ('be', False), ('ashamed', False), ('of', False), ('your', False), ('leadership', False), ('for', False), ('this', False), ('blatantly', False), ('arrogant', False), ('act', False), ('of', False), ('disrespect', False), ('.', False), ('i', False), ('know', False), ('you', False), (\"'ll\", False), ('fall', False), ('into', False), ('step', False), ('and', False), ('prove', False), ('yourself', False), ('a', False), ('man', False), ('of', False), ('the', False), ('party', False), (',', False), ('not', False), ('the', False), ('people', False), ('.', False), ('thanks', True), ('for', True), ('the', True), ('follow', True), ('back', True), ('!', True), ('i', True), ('followed', True), ('you', True), ('on', True), ('instagram', True), ('and', True), ('damn', True), ('girl', True), ('you', True), ('have', True), ('pretty', True), ('blue', True), ('eyes', True), (':', True), (')', True), ('haha', True), ('!', True), ('yeah', True), ('i', True), ('saw', True), ('a', True), ('post', True), ('about', True), ('this', True), ('place', True), ('on', True), ('your', True), ('facebook', True), ('and', True), ('i', True), ('was', True), ('like', True), ('oo', True), ('!', True), ('that', True), (\"'s\", True), ('handy', True), ('!', True), ('ale', True), ('and', True), ('i', True), ('are', True), ('starting', True), ('a', True), ('fitness', True), ('blog', True), ('on', True), ('tumblr', True), ('to', True), ('keep', True), ('each', True), ('other', True), ('motivated', True), ('to', True), ('keep', True), ('going', True), ('.', True), ('i', True), ('think', True), ('i', True), ('could', True), ('find', True), ('some', True), ('cool', True), ('stuff', True), ('on', True), ('here', True), ('to', True), ('link', True), ('to', True), ('our', True), ('blog', True), ('!', True), ('me', True), ('too', True), ('.', True), ('your', True), ('story', True), ('is', True), ('super', True), ('encouraging', True), ('.', True), ('thank', True), ('you', True), ('!', True), (':', True), (')', True), ('thank', True), ('you', True), ('for', True), ('follow', True), ('back', True), (':', True), (')', True), ('keep', True), ('up', True), ('the', True), ('hard', True), ('work', True), ('!', True), ('fair', False), ('enough', False), (',', False), ('i', False), ('didnt', False), ('mean', False), ('it', False), ('to', False), ('come', False), ('across', False), ('pissed', False), ('off', False), ('if', False), ('it', False), ('did', False), ('.', False), ('im', False), ('genuinely', False), ('curious', False), ('how', False), ('people', False), ('reach', False), ('worst', False), ('from', False), ('a', False), ('dominating', False), ('performance', False), ('.', False), ('i', False), ('certainly', False), ('hope', False), ('you', False), ('do', False), (\"n't\", False), ('condone', False), ('the', False), ('ban', False), ('that', False), (\"'s\", False), ('stopping', False), ('refugees', False), ('from', False), ('coming', False), ('to', False), ('america', False), (',', False), ('let', False), ('alone', False), ('michigan', False), ('.', False), ('you', False), ('should', False), ('be', False), ('working', False), ('towards', False), ('making', False), ('michigan', False), ('a', False), ('more', False), ('diverse', False), ('state', False), ('.', False), ('maybe', False), ('if', False), ('you', False), ('jon', False), ('scott', False), (',', False), ('and', False), ('fnc', False), ('did', False), ('their', False), ('job', False), (',', False), ('we', False), ('would', False), ('know', False), ('how', False), ('much', False), ('voter', False), ('fraud', False), ('there', False), ('really', False), ('is', False), ('.', False), ('you', True), (\"'re\", True), ('very', True), ('welcome', True), ('sir', True), ('.', True), ('oh', False), ('yikes', False), (',', False), ('bad', False), ('timing', False), ('on', False), ('the', False), ('headcold', False), ('part', False), ('!', False), ('looking', True), ('forward', True), ('to', True), ('seeing', True), ('this', True), ('movie', True), ('.', True), ('love', True), ('the', True), ('church', True), ('lady', True), ('hats', True), ('!', True), ('!', True), ('!', True), ('yyyaaaaasssss', False), ('.', False), ('this', False), ('.', False), ('he', False), ('is', False), ('gross', False), ('.', False), ('keep', True), ('up', True), ('the', True), ('great', True), ('work', True), ('.', True), ('let', True), (\"'s\", True), ('find', True), ('indiana', True), (\"'s\", True), ('farmers', True), ('some', True), ('drought', True), ('relief', True), ('.', True), ('very', True), ('fun', True), ('..', True), ('of', True), ('course', True), ('if', True), ('you', True), ('spend', True), ('a', True), ('lot', True), ('of', True), ('time', True), ('with', True), ('babies', True), ('you', True), ('know', True), ('this', True), ('..', True), ('i', True), ('am', True), ('sharing', True), ('on', True), ('the', True), ('education', True), ('now', True), ('!', True), ('facebook', True), ('page', True), ('and', True), ('my', True), ('own', True), ('fb', True), ('wall', True), ('.', True), ('its', False), ('better', False), ('then', False), ('nuclear', False), (',', False), (',', False), ('but', False), ('you', False), ('touch', False), ('that', False), ('one', False), ('just', False), ('like', False), ('the', False), ('debt', False), ('interest', False), ('fraud', False), ('right', False), ('lol', False), (',', False), (',', False), ('genuine', True), ('content', True), (',', True), ('no', True), ('fillers', True), ('.', True), ('refreshing', True), ('talk', True), ('!', True), ('this', True), ('is', True), ('awesome', True), ('bren', True), ('!', True), ('!', True), ('thank', True), ('you', True), (':', True), (')', True), ('awesome', True), (':', True), (')', True), ('how', True), ('are', True), ('you', True), ('guys', True), ('doing', True), ('?', True), ('15', True), ('pounds', True), ('to', True), ('go', True), ('.', True), ('both', True), ('.', True), (';', True), (')', True), ('thank', True), ('you', True), ('representative', True), ('correa', True), ('!', True), ('our', True), ('community', True), ('needs', True), ('this', True), ('.', True), ('we', True), ('appreciate', True), ('your', True), ('leadership', True), ('.', True), ('sorry', False), ('you', False), ('missed', False), ('marching', False), ('with', False), ('the', False), ('thousands', False), ('of', False), ('your', False), ('constituents', False), ('who', False), ('marched', False), ('in', False), ('southern', False), ('nevada', False), ('so', False), (',', False), ('shes', False), ('texting', False), ('while', False), ('driving', False), ('her', False), ('car', False), ('she', False), ('graciously', False), ('lets', False), ('you', False), ('use', False), ('?', False), ('i', True), ('love', True), ('this', True), ('pope', True), ('.', True), ('i', True), (\"'m\", True), ('glade', True), ('you', True), ('are', True), ('getting', True), ('to', True), ('see', True), ('him', True), ('.', True), ('felicidades', True), ('amigo', True), ('gracias', True), ('por', True), ('representarnos', True), ('saludos', True), ('un', True), ('abrazo', True), ('i', False), (\"'m\", False), ('unimpressed', False), ('.', False), ('she', False), ('combines', False), ('using', False), ('a', False), ('few', False), ('big', False), ('words', False), ('with', False), ('feigning', False), ('a', False), ('degree', False), ('of', False), ('humility', False), ('to', False), ('convey', False), ('to', False), ('her', False), ('audience', False), ('that', False), ('she', False), ('is', False), ('superstitious', False), (',', False), ('that', False), ('in', False), ('itself', False), ('isnt', False), ('all', False), ('that', False), ('bad', False), (',', False), ('what', False), ('bothers', False), ('me', False), ('is', False), ('that', False), ('she', False), ('subtly', False), ('tries', False), ('to', False), ('suggest', False), ('we', False), ('ought', False), ('to', False), ('adopt', False), ('her', False), ('superstions', False), ('and', False), ('see', False), ('all', False), ('the', False), ('slackers', False), ('at', False), ('work', False), ('!', False), ('!', False), ('!', False), ('!', False), ('thank', True), ('you', True), ('for', True), ('your', True), ('service', True), ('to', True), ('the', True), ('people', True), (',', True), ('grace', True), ('!', True), ('god', True), ('bless', True), ('.', True), ('the', False), ('ending', False), ('to', False), ('that', False), ('talk', False), ('was', False), ('a', False), ('disgrace', False), ('.', False), ('yes', False), ('kiddies', False), ('-', False), ('darpa', False), ('makes', False), ('weapons', False), ('.', False), ('i', True), ('have', True), ('the', True), ('exact', True), ('same', True), ('ivs', True), ('on', True), ('my', True), ('eirika', True), (',', True), ('so', True), ('shes', True), ('always', True), ('the', True), ('team', True), ('cheerleader', True), ('.', True), ('not', True), ('that', True), ('im', True), ('complaining', True), (',', True), ('shes', True), ('basically', True), ('babysat', True), ('every', True), ('unit', True), ('ive', True), ('ever', True), ('had', True), ('through', True), ('training', True), ('tower', True), ('.', True), ('i', True), ('wish', True), ('i', True), ('could', True), ('be', True), ('there', True), ('.', True), ('i', True), ('have', True), ('loved', True), ('teaching', True), ('warm', True), ('bodies', True), ('and', True), ('reading', True), ('a', True), ('new', True), ('hunger', True), ('.', True), ('i', True), ('have', True), ('pre-ordered', True), ('burning', True), ('world', True), ('.', True), ('best', True), ('wishes', True), ('.', True), ('thank', True), ('you', True), ('representative', True), ('correa', True), ('!', True), ('our', True), ('community', True), ('needs', True), ('this', True), ('.', True), ('we', True), ('appreciate', True), ('your', True), ('leadership', True), ('.', True), ('they', True), ('actually', True), ('do', True), ('have', True), ('the', True), ('prettiest', True), ('song', True), ('in', True), ('the', True), ('world', True), ('.', True), ('well', True), ('...', True), ('maybe', True), ('im', True), ('a', True), ('little', True), ('biased', True), ('.', True), (':', True), (')', True), ('haaaaaaaaaaaaaiiiiiiiiiiiiiii', True), ('!', True), ('!', True), ('...', True), ('pfffffff', True), ('why', True), ('you', True), ('no', True), ('go', True), ('on', True), ('a', True), ('ninja', True), ('date', True), ('wid', True), ('me', True), ('!', True), ('delightfully', False), ('boring', False), ('.', False), ('it', False), ('is', False), ('rapidly', False), ('progessing', False), ('.', False), ('save', False), ('yourself', False), ('8', False), ('minutes', False), ('.', False), ('yeah', True), ('moraby', True), ('is', True), ('where', True), ('it', True), ('completely', True), ('clicked', True), ('for', True), ('me', True), ('.', True), ('needless', True), ('to', True), ('say', True), (',', True), ('even', True), ('if', True), ('i', True), ('saw', True), ('it', True), ('coming', True), ('it', True), ('was', True), ('still', True), ('fantastic', True), ('.', True), ('quite', True), ('a', True), ('pic', True), ('!', True), ('very', True), ('cool', True), ('!', True), (':', True), ('d', True), ('btw', True), ('...', True), ('you', True), ('have', True), ('2', True), ('pts', True), ('til', True), ('level', True), ('2', True), ('....', True), ('awesome', True), ('!', True), ('hurry', True), (',', True), ('track', True), ('a', True), ('calf', True), ('raise', True), ('or', True), ('something', True), ('and', True), ('push', True), ('it', True), ('over', True), ('the', True), ('edge', True), ('!', True), ('lol', True), ('many', True), ('thanks', True), ('for', True), ('the', True), ('fb', True), ('lisa', True), ('!', True), ('ca', True), (\"n't\", True), ('wait', True), ('to', True), ('see', True), ('your', True), ('workouts', True), ('in', True), ('my', True), ('feed', True), ('.', True), ('where', True), ('are', True), ('the', True), ('sanding', True), ('trucks', True), ('?', True), ('?', True), ('i', True), ('will', True), ('have', True), ('my', True), ('teenage', True), ('daughters', True), ('watch', True), ('this', True), ('with', True), ('me', True), ('.', True), ('they', True), ('will', True), ('connect', True), ('the', True), ('dots', True), ('unfettered', True), ('by', True), ('layers', True), ('of', True), ('wiring', True), ('and', True), ('i', True), ('look', True), ('forward', True), ('to', True), ('the', True), ('discussion', True), ('this', True), ('will', True), ('prompt', True), ('.', True), ('lovely', True), ('.', True), ('thank', True), ('you', True), ('brene', True), ('brown', True), ('.', True), ('ditto', True), (',', True), ('ed', True), ('!', True), ('so', True), ('proud', True), ('of', True), ('you', True), (',', True), ('cheri', True), ('!', True), ('!', True), ('!', True), ('happy', True), ('thanksgiving', True), ('to', True), ('you', True), ('and', True), ('your', True), ('family', True), ('the', True), ('``', True), ('old', True), ('school', True), ('republicans', True), (\"''\", True), ('would', True), ('not', True), ('recognize', True), ('or', True), ('be', True), ('welcome', True), ('in', True), ('their', True), ('party', True), ('today', True), ('.....', True), ('the', True), ('gop', True), ('left', True), ('them', True), ('as', True), ('several', True), ('of', True), ('my', True), ('friends', True), ('have', True), ('said', True), ('...', True), ('see', True), ('you', True), ('in', True), ('few', True), ('hours', True), ('....', True), ('the', True), ('turkey', True), ('is', True), ('in', True), ('waiting', True), ('for', True), ('you', True), ('!', True), ('or', False), ('maybe', False), ('the', False), ('photo', False), ('doesnt', False), ('show', False), ('the', False), ('fact', False), ('that', False), ('this', False), ('is', False), ('all', False), ('the', False), ('way', False), ('in', False), ('the', False), ('back', False), ('of', False), ('the', False), ('lot', False), ('.', False), ('work', True), ('as', True), ('hard', True), ('as', True), ('you', True), ('can', True), ('victoria.persevere', True), ('!', True), ('i', True), ('am', True), ('an', True), ('old', True), ('tennis', True), ('player', True), ('.', True), ('before', True), ('you', True), ('know', True), ('it', True), ('you', True), (\"'ll\", True), ('get', True), ('there', True), ('.', True), ('shame', False), ('on', False), ('you', False), ('mr', False), ('meeks', False), ('for', False), ('boycotting', False), ('israel', False), ('s', False), ('prime', False), ('minister', False), ('.', False), ('we', False), (\"'ll\", False), ('keep', False), ('in', False), ('mind', False), ('.', False), ('that', True), ('is', True), ('a', True), ('wonderful', True), ('fb', True), ('game.wow.88', True), ('https', True), (':', True), ('//www.facebook.com/pages/allflogk/239888956148041', True), ('?', True), ('sk=app_208195102528120', True), ('absolutely', True), ('loved', True), ('this', True), ('.', True), ('very', True), ('inspirational', True), ('.', True), ('people', True), ('seem', True), ('to', True), ('think', True), ('i', True), ('am', True), ('creative', True), ('but', True), ('i', True), ('do', True), (\"n't\", True), ('feel', True), ('it', True), ('that', True), ('way', True), ('.', True), ('i', True), ('actually', True), ('think', True), ('i', True), ('often', True), ('``', True), ('steal', True), (\"''\", True), ('other', True), ('people', True), ('genie', True), ('.', True), ('i', True), ('am', True), ('just', True), ('the', True), ('one', True), ('that', True), ('decides', True), ('to', True), ('do', True), ('something', True), ('with', True), ('it', True), ('.', True), ('power', True), ('to', True), ('you', True), ('elizabeth', True), ('!', True), ('it', True), (\"'s\", True), ('hard', True), ('to', True), ('stick', True), ('to', True), ('one', True), (\"'s\", True), ('integrity', True), ('while', True), ('trying', True), ('to', True), ('influence', True), ('the', True), ('national', True), ('picture', True), (',', True), ('but', True), ('you', True), ('walk', True), ('that', True), ('tightrope', True), ('with', True), ('aplomb', True), ('.', True), ('oh', False), ('no', False), ('!', False), ('play', False), ('suspended', False), ('!', False), ('!', False), ('!', False), ('thank', True), ('you', True), ('so', True), ('much', True), ('for', True), ('this', True), ('talk', True), ('.', True), ('i', True), ('am', True), ('a', True), ('suffer', True), ('of', True), ('depression', True), ('and', True), ('everything', True), ('you', True), ('say', True), ('has', True), ('been', True), ('so', True), ('good', True), ('to', True), ('hear', True), ('.', True), ('what', True), ('you', True), ('said', True), ('made', True), ('so', True), ('much', True), ('sense', True), ('to', True), ('me', True), ('.', True), ('it', True), ('is', True), ('my', True), ('own', True), ('experience', True), ('of', True), ('journeying', True), ('to', True), ('understanding', True), ('told', True), ('through', True), ('another', True), ('voice', True), ('.', True), ('thank', True), ('you', True), ('it', True), (\"'s\", True), ('awesome', True), ('that', True), ('you', True), (\"'ve\", True), ('done', True), ('a', True), ('5k', True), (':', True), (')', True), ('i', True), ('ca', True), (\"n't\", True), ('wait', True), ('to', True), ('do', True), ('my', True), ('first', True), (',', True), ('i', True), ('know', True), ('there', True), ('is', True), ('a', True), ('``', True), ('resolution', True), ('run', True), (\"''\", True), ('at', True), ('new', True), ('years', True), ('i', True), ('may', True), ('try', True), ('thanks', True), ('!', True), ('keep', True), ('up', True), ('the', True), ('good', True), ('work', True), ('!', True), ('wtg', True), ('cathy', True), (',', True), ('congratulations', True), ('.', True), ('i', True), ('am', True), ('proud', True), ('that', True), ('you', True), ('made', True), ('choices', True), ('in', True), ('your', True), ('life', True), ('that', True), ('have', True), ('afforded', True), ('you', True), ('this', True), ('wonderful', True), ('opportunity', True), ('.', True), ('i', True), ('have', True), ('a', True), ('hard', True), ('time', True), ('reading', True), ('other', True), ('people', True), (\"'s\", True), ('comments', True), ('judging', True), ('your', True), ('lifestyle', True), ('.', True), ('yes', True), (',', True), ('i', True), ('wish', True), ('i', True), ('lived', True), ('as', True), ('well', True), ('as', True), ('you', True), (',', True), ('but', True), ('...', True), ('it', True), (\"'s\", True), ('my', True), ('fault', True), (',', True), ('no', True), ('one', True), ('else', True), ('is', True), ('to', True), ('blame', True), ('.', True), ('inconsistent', False), ('?', False), ('you', False), ('cant', False), ('be', False), ('top', False), ('50', False), ('with', False), ('an', False), ('inconsistent', False), ('deck', False), ('.', False), ('at', False), ('$', False), ('449', False), ('per', False), ('night', False), ('you', False), ('are', False), ('not', False), ('catering', False), ('for', False), ('the', False), ('average', False), ('folk', False), (',', False), ('there', False), ('is', False), ('no', False), ('way', False), ('i', False), ('could', False), ('afford', False), ('these', False), ('prices', False), (',', False), ('please', False), ('remember', False), ('its', False), ('not', False), ('just', False), ('rich', False), ('folks', False), ('who', False), ('need', False), ('healing', False), ('how', False), ('about', False), ('no', False), ('more', False), ('bills', False), ('since', False), ('there', False), ('are', False), ('way', False), ('too', False), ('many', False), ('laws', False), ('to', False), ('keep', False), ('track', False), (',', False), ('too', False), ('much', False), ('money', False), ('being', False), ('spent', False), ('and', False), ('too', False), ('much', False), ('government', False), ('intervention', False), ('in', False), ('our', False), ('daily', False), ('lives', False), ('already', False), ('.', False), ('please', False), ('convince', False), ('trudeau', False), ('to', False), ('scrap', False), ('this', False), (',', False), ('or', False), ('at', False), ('the', False), ('very', False), ('least', False), (',', False), ('let', False), ('the', False), ('public', False), ('know', False), ('what', False), ('is', False), ('in', False), ('it', False), ('and', False), ('have', False), ('some', False), ('say', False), ('.', False), ('too', False), ('many', False), ('overriding', False), ('powers', False), ('given', False), ('to', False), ('international', False), ('conglomerates', False), ('at', False), ('the', False), ('expense', False), ('of', False), ('the', False), ('citizens', False), ('of', False), ('canada', False), (',', False), ('even', False), ('from', False), ('the', False), ('little', False), ('bit', False), ('i', False), ('have', False), ('heard', False), ('you', True), ('may', True), ('have', True), ('just', True), ('invited', True), ('prop', True), ('bombs', True), ('.', True), ('i', True), (\"'ll\", True), ('be', True), ('gentle', True), ('.', True), ('good', True), ('morning', True), ('chris', True), ('.', True), ('good', True), ('to', True), ('follow', True), ('someone', True), ('in', True), ('the', True), ('cuomo', True), ('family', True), ('.', True), ('condolences', True), ('you', True), ('and', True), ('the', True), ('rest', True), ('of', True), ('your', True), ('family', True), ('.', True), ('your', True), ('dad', True), ('was', True), ('awsome', True), ('.', True), ('thank', True), ('you', True), ('for', True), ('bringing', True), ('so', True), ('many', True), ('people', True), ('of', True), ('different', True), ('cultures', True), ('together', True), ('in', True), ('one', True), ('voice', True), ('.', True), ('it', True), (\"'s\", True), ('just', True), ('fantastic', True), (',', True), ('and', True), ('the', True), ('music', True), ('is', True), ('so', True), ('moving', True), ('and', True), ('beautiful', True), ('.', True), ('i', True), ('wish', True), ('i', True), ('could', True), ('sing', True), ('!', True), ('!', True), ('!', True), ('the', False), ('religious', False), ('right', False), ('thinks', False), ('its', False), ('due', False), ('to', False), ('something', False), ('the', False), ('prez', False), ('said', False), ('today', False), ('if', False), ('the', False), ('tea', False), ('party', False), ('folks', False), ('are', False), ('really', False), ('worried', False), ('about', False), ('big', False), ('government', False), (',', False), ('they', False), ('can', False), ('start', False), ('with', False), ('homeland', False), ('security', False), (',', False), ('talk', False), ('about', False), ('big', False), ('brother', False), ('.', False), ('also', False), (',', False), ('we', False), ('can', False), ('get', False), ('out', False), ('of', False), ('these', False), ('two', False), ('illegal', False), ('wars', False), ('.', False), ('thanks', True), ('for', True), ('yet', True), ('again', True), ('setting', True), ('an', True), ('example', True), ('of', True), ('what', True), ('a', True), ('real', True), ('politician', True), ('does/should', True), ('do', True), (':', True), (')', True), ('thank', True), ('you', True), (',', True), ('sfkf', True), ('!', True), ('i', True), ('appreciate', True), ('your', True), ('kind', True), ('words', True), ('and', True), ('the', True), ('time', True), ('you', True), ('took', True), ('to', True), ('write', True), ('them', True), ('.', True), ('i', True), ('hope', True), ('you', True), ('have', True), ('a', True), ('fabulous', True), ('day', True), ('!', True), ('when', True), ('i', True), ('moved', True), ('to', True), ('tn', True), (',', True), ('i', True), ('ended', True), ('up', True), ('moving', True), ('into', True), ('a', True), ('different', True), ('political', True), ('district', True), ('but', True), ('i', True), ('am', True), ('so', True), ('glad', True), ('you', True), ('have', True), ('common', True), ('sense', True), ('and', True), ('care', True), (',', True), ('if', False), ('senate', False), ('is', False), ('paralyzing', False), ('merkley', False), ('and', False), ('his', False), ('terrible', False), ('ideas', False), (',', False), ('they', False), ('are', False), ('finally', False), ('doing', False), ('something', False), ('right', False), ('for', False), ('a', False), ('change', False), ('.', False), ('good', False), ('ol', False), ('martha', False), ('mcbama', False), ('.', False), ('there', False), ('is', False), ('nothing', False), ('she', False), ('wo', False), (\"n't\", False), ('do', False), ('for', False), ('her', False), ('man', False), ('.', False), ('i', True), ('love', True), ('the', True), ('way', True), ('his', True), ('head', True), ('is', True), ('tilting', True), ('towards', True), ('you', True), ('and', True), ('your', True), ('head', True), ('is', True), ('tilting', True), ('toward', True), ('him', True), ('.', True), ('sweet', True), ('pictures', True), ('.', True), ('no', True), ('worries', True), ('.', True), ('nice', True), ('session', True), ('you', True), ('posted', True), ('tonight', True), ('.', True), ('now', True), ('get', True), ('some', True), ('sleep', True), ('!', True), ('--', True), ('she', True), ('will', True), ('be', True), ('top', True), ('notch', True), (',', True), ('give', True), ('her', True), ('a', True), ('raise', True), ('immediately', True), ('how', False), ('much', False), ('stimulus', False), ('money', False), ('was', False), ('spent', False), ('on', False), ('the', False), ('boathouse', False), ('for', False), ('the', False), ('waterway', False), ('boats', False), ('?', False), ('things', False), ('like', False), ('that', False), ('are', False), ('what', False), (\"'s\", False), ('wrong', False), ('with', False), ('our', False), ('country', False), ('.', False), ('i', True), ('feel', True), ('blessed', True), ('and', True), ('so', True), ('thankful', True), ('i', True), ('have', True), ('all', True), ('of', True), ('my', True), ('senses', True), ('.', True), ('i', True), ('wish', True), ('chris', True), ('could', True), ('have', True), ('mentioned', True), ('some', True), ('of', True), ('his', True), ('works', True), ('that', True), ('make', True), ('the', True), ('city', True), ('more', True), ('blind', True), ('friendly', True), ('.', True), ('i', True), (\"'m\", True), ('actually', True), ('really', True), ('curious', True), ('how', True), ('his', True), ('architectural', True), ('career', True), ('had', True), ('changed', True), ('since', True), ('he', True), ('went', True), ('blind', True), ('.', True), ('thanks', True), ('!', True), ('we', True), ('love', True), ('reddit', True), ('and', True), ('been', True), ('big', True), ('fans', True), ('since', True), ('yall', True), ('discovered', True), ('us', True), ('some', True), ('time', True), ('ago', True), ('.', True), ('we', True), ('also', True), ('have', True), ('a', True), ('website', True), ('statistical', True), ('program', True), ('that', True), ('shows', True), ('traffic', True), ('and', True), ('where', True), ('it', True), ('comes', True), ('from', True), ('.', True), ('that', True), ('is', True), ('how', True), ('we', True), ('knew', True), ('about', True), ('this', True), ('thread', True), ('and', True), ('more', True), ('importantly', True), (',', True), ('how', True), ('i', True), ('know', True), ('where', True), ('you', True), ('are', True), ('...', True), ('right', True), ('now', True), (';', True), (')', True), ('u', True), ('look', True), ('a', True), ('little', True), ('close', True), ('.', True), ('must', True), ('have', True), ('enjoyed', True), ('the', True), ('dancing', True), ('!', True), ('great', True), ('stuff', True), ('.', True), ('hope', True), ('to', True), ('see', True), ('these', True), ('films', True), ('cross', True), ('into', True), ('non-western', True), ('audiences', True), (',', True), ('so', True), ('the', True), ('communication', True), ('can', True), ('come', True), ('full', True), ('circle', True), ('.', True), ('international', True), ('distribution/outreach', True), ('on', True), ('a', True), ('grassroots', True), ('level', True), ('.', True), ('they', True), ('might', True), ('consider', True), ('partnering', True), ('with', True), ('filmaid', True), ('international', True), ('on', True), ('this', True), (',', True), ('another', True), ('great', True), ('org', True), ('.', True), ('what', False), ('about', False), ('the', False), ('meds', False), ('?', False), ('?', False), ('?', False), ('oh', False), (',', False), ('pharmaceutical', False), ('companies', False), ('give', False), ('you', False), ('campaign', False), ('money', False), ('...', False), ('so', False), ('do', False), (\"n't\", False), ('mention', False), ('the', False), ('medication', False), ('he', False), ('was', False), ('on', False), (',', False), ('only', False), ('the', False), ('guns', False), ('....', False), ('follow', True), ('your', True), ('dreams', True), ('!', True), ('you', True), ('can', True), ('reach', True), ('your', True), ('goals', True), ('--', True), ('i', True), (\"'m\", True), ('living', True), ('proof', True), ('.', True), ('beefcake', True), ('.', True), ('beefcaaaake', True), ('!', True), ('it', True), (\"'s\", True), ('funny', True), ('how', True), ('we', True), ('know', True), ('all', True), ('this', True), ('when', True), ('we', True), ('are', True), ('little', True), (',', True), ('then', True), ('we', True), ('are', True), ('tought', True), ('to', True), ('forget', True), ('it', True), ('to', True), ('the', True), ('point', True), ('where', True), ('we', True), ('can', True), ('no', True), ('longer', True), ('comprehend', True), ('it', True), ('without', True), ('10', True), ('years', True), ('of', True), ('research', True), ('.', True), ('it', True), ('amazes', True), ('me', True), ('.', True), ('thank', True), ('you', True), ('congresswoman', True), ('barbara', True), ('comstock', True), ('for', True), ('all', True), ('that', True), ('you', True), ('do', True), ('to', True), ('help', True), ('these', True), ('ladies', True), ('.', True), ('<', True), ('3', True), ('yeah', False), (',', False), ('stop', False), ('being', False), ('a', False), ('bitch', False), ('and', False), ('blaming', False), ('senior', False), ('design', False), ('.', False), ('done', True), ('and', True), ('done', True), ('....', True), ('have', True), ('a', True), ('great', True), ('day', True), ('mike', True), ('.', True), ('ok', True), ('!', True), ('!', True), ('!', True), ('!', True), ('!', True), ('!', True), ('go', True), ('getem', True), ('!', True), ('!', True), ('!', True), ('!', True), ('!', True), ('!', True), ('!', True), ('!', True), ('!', True), ('!', True), ('``', True), ('wow', True), (\"''\", True), ('would', True), (\"n't\", True), ('it', True), ('be', True), ('great', True), ('to', True), ('see', True), ('that', True), ('w/tony', True), ('in', True), ('vegas', True), ('?', True), ('love', True), ('him', True), ('!', True), ('support', True), ('hr38', True), ('.', True), ('this', True), ('is', True), ('our', True), ('chance', True), ('let', True), (\"'s\", True), ('get', True), ('it', True), ('done', True), ('.', True), ('if', True), ('i', True), ('was', True), ('going', True), ('pure', True), ('bodyweight', True), (',', True), ('i', True), (\"'d\", True), ('probably', True), ('default', True), ('to', True), ('push-up', True), (',', True), ('crunch', True), (',', True), ('plank', True), ('and', True), ('side', True), ('plank', True), (',', True), ('and', True), ('bodyweight', True), ('squats', True), ('.', True), ('depends', True), ('on', True), ('your', True), ('goals', True), (',', True), ('though', True), ('.', True), ('now', True), ('*', True), ('thats', True), ('*', True), ('the', True), ('kind', True), ('of', True), ('go-getter', True), ('were', True), ('looking', True), ('for', True), ('!', True), ('theres', True), ('an', True), ('opening', True), ('for', True), ('assistant', True), ('supervisor', True), ('with', True), ('your', True), ('name', True), ('on', True), ('it', True), ('!', True), ('my', True), ('favorite', True), ('city', True), ('!', True), ('ave', True), ('fun', True), ('you', True), ('two', True), (':', True), (')', True), ('our', False), ('troops', False), ('need', False), ('to', False), ('be', False), ('armed', False), ('on', False), ('base', False), ('!', False), ('!', False), ('we', True), ('watched', True), ('it', True), ('the', True), ('other', True), ('night', True), ('on', True), ('netfix', True), (',', True), ('great', True), ('movie', True), ('!', True), ('!', True), ('it', True), ('is', True), ('also', True), ('in', True), ('our', True), ('walmart', True), ('here', True), ('in', True), ('az', True), ('.', True), ('right', True), ('?', True), ('such', True), ('great', True), ('motivation', True), ('!', True), ('great', True), ('talk', True), ('.', True), ('it', True), ('is', True), ('ideas', True), ('like', True), ('this', True), ('that', True), ('makes', True), ('our', True), ('world', True), ('a', True), ('better', True), ('place', True), ('.', True), ('architecture', True), ('and', True), ('design', True), ('has', True), ('such', True), ('a', True), ('huge', True), ('influence', True), ('over', True), ('our', True), ('lives', True), ('.', True), ('enter', True), ('your', True), ('creative', True), (',', True), ('sustainable', True), ('ideas', True), ('to', True), ('the', True), ('holcim', True), ('awards', True), ('us', True), (':', True), ('http', True), (':', True), ('//on.fb.me/holcim-awards', True), ('haha', True), ('thanks', True), ('for', True), ('the', True), ('prop', True), ('bomb', True), ('!', True), ('go', True), ('shelby', True), ('!', True), ('!', True), ('!', True), ('we', True), ('love', True), ('you', True), ('!', True), ('!', True), ('!', True), ('madison', True), (',', True), ('this', True), ('week', True), ('is', True), ('the', True), ('beging', True), ('of', True), ('your', True), ('2015', True), ('glory', True), (',', True), ('rome', True), ('plus', True), ('two', True), ('majors', True), ('saw', True), ('him', True), ('last', True), ('night', True), ('.', True), ('he', True), ('was', True), ('awesome', True), ('!', True), ('so', True), (',', True), ('you', True), ('do', True), (\"n't\", True), ('want', True), ('men', True), ('to', True), ('succeed', True), ('.', True), ('you', True), ('democrats', True), ('just', True), ('do', True), (\"n't\", True), ('stop', True), ('dividing', True), ('america', True), ('by', True), ('every', True), ('means', True), ('possible', True), ('.', True), ('shame', True), ('on', True), ('you', True), ('...', True), ('good', True), ('morning', True), ('beautiful', True), ('..', True), ('have', True), ('a', True), ('fantastic', True), ('day', True), ('.', True), ('i', True), ('was', True), ('literally', True), ('just', True), ('about', True), ('to', True), ('say', True), ('this', True), ('.', True), ('i', True), ('find', True), ('this', True), ('intriguing', True), ('and', True), ('i', True), ('dont', True), ('think', True), ('its', True), ('disturbing', True), ('in', True), ('any', True), ('way', True), ('.', True), ('thanks', True), ('for', True), ('follow', True), ('back', True), ('!', True), ('!', True), ('i', True), ('realize', True), ('this', True), ('is', True), ('a', True), ('dated', True), ('performance', True), ('but', True), ('it', True), ('is', True), ('powerful', True), ('just', True), ('the', True), ('same', True), ('.', True), ('it', True), ('touched', True), ('me', True), ('not', True), ('only', True), ('because', True), ('of', True), ('the', True), ('obvious', True), ('talent', True), ('that', True), ('was', True), ('on', True), ('display', True), ('but', True), ('also', True), ('because', True), ('this', True), ('young', True), ('lady', True), ('opened', True), ('a', True), ('door', True), ('for', True), ('us', True), ('to', True), ('come', True), ('inside', True), ('and', True), ('share', True), ('a', True), ('gift', True), ('with', True), ('her', True), ('.', True), ('that', True), ('touched', True), ('my', True), ('heart', True), ('and', True), ('yes', True), ('brought', True), ('tears', True), ('to', True), ('my', True), ('eyes', True), ('.', True), ('i', False), ('appreciate', False), ('the', False), ('context', False), ('but', False), ('i', False), ('hope', False), ('you', False), ('know', False), ('that', False), ('i', False), ('hate', False), ('you', False), ('for', False), ('saying', False), ('all', False), ('of', False), ('that', False), ('.', False), ('nothing', False), ('personal', False), ('.', False), ('great', True), (',', True), ('i', True), (\"'ll\", True), ('look', True), ('forward', True), ('to', True), ('it', True), ('!', True), ('thanks', True), ('you', True), ('mrs', True), ('joni', True), ('ernst', True), ('plss', True), ('senat', True), ('or', True), ('youres', True), ('make', True), ('whats', True), ('best', True), ('im', True), ('can', True), ('say', True), ('yes', True), ('no', True), ('probleme', True), ('whits', True), ('senat', True), ('or', True), ('whits', True), ('youres', True), ('im', True), ('wish', True), ('for', True), ('all', True), ('best', True), ('day', True), ('i', False), ('stopped', False), ('the', False), ('video', False), ('when', False), ('she', False), ('said', False), ('``', False), ('my', False), ('project', False), ('is', False), ('about', False), ('art', False), (',', False), ('specifically', False), ('about', False), ('black', False), ('artists', False), (\"''\", False), ('.', False), ('if', False), ('a', False), ('white', False), ('guy', False), ('said', False), ('``', False), ('my', False), ('project', False), ('is', False), ('about', False), ('art', False), (',', False), ('specifically', False), ('about', False), ('white', False), ('artists', False), (\"''\", False), ('he', False), ('would', False), ('be', False), ('racist', False), ('.', False), ('i', True), ('suggest', True), ('a', True), ('slight', True), ('change', True), ('.', True), ('clean', True), ('the', True), ('apt', True), (',', True), ('give', True), ('everything', True), ('to', True), ('a', True), ('friend', True), ('you', True), ('trust', True), (',', True), ('and', True), ('then', True), ('continue', True), ('ignoring', True), ('them', True), ('.', True), ('no', True), ('reason', True), ('you', True), ('need', True), ('to', True), ('even', True), ('talk', True), ('to', True), ('them', True), ('.', True), ('saw', True), ('that', True), ('today', True), ('on', True), ('npr', True), ('.', True), ('how', True), ('freaking', True), ('cool', True), ('is', True), ('that', True), ('.', True), ('how', True), ('can', True), ('anyone', True), ('that', True), ('age', True), ('do', True), ('anything', True), ('for', True), ('7', True), ('hours', True), ('?', True), ('i', False), ('can', False), ('not', False), ('read', False), ('the', False), ('white', False), ('font', False), ('on', False), ('black', False), ('background', False), ('..', False), ('it', False), ('kills', False), ('my', False), ('eyes', False), ('.', False), ('it', False), ('makes', False), ('me', False), ('sad', False), ('...', False), ('.', False), ('i', False), ('keep', False), ('trying', False), ('but', False), ('it', False), ('literally', False), ('hurts', False), ('.', False), ('sorry', False), ('for', False), ('the', False), ('negativity', False), ('but', False), ('other', False), ('than', False), ('that', False), ('its', False), ('beautiful', False), ('!', False), ('wow', True), ('o', True), ('wow', True), ('way', True), ('to', True), ('go', True), ('temple', True), ('grandin', True), ('!', True), ('thank', True), ('you', True), ('for', True), ('doing', True), ('all', True), ('you', True), ('do', True), ('!', True), ('there', True), ('is', True), ('hope', True), ('for', True), ('us', True), ('all', True), ('learning', True), ('to', True), ('value', True), ('uniqueness', True), ('!', True), (':', True), (')', True), ('thats', False), ('actually', False), ('a', False), ('problem', False), ('with', False), ('jw', False), ('and', False), ('brazilian', False), ('sects', False), ('here', False), ('.', False), ('this', True), ('is', True), ('a', True), ('fascinating', True), ('and', True), ('well', True), ('thought', True), ('out', True), ('critique', True), ('of', True), ('the', True), ('corrosive', True), ('nature', True), ('of', True), ('wealth', True), ('inequality', True), (',', True), ('however', True), ('it', True), ('would', True), ('be', True), ('tremendously', True), ('helpful', True), ('to', True), ('have', True), ('data', True), ('on', True), ('how', True), ('correcting', True), ('wealth', True), ('inequalities', True), ('in', True), ('countries', True), ('effects', True), ('the', True), ('level', True), ('of', True), ('social', True), ('inequalities', True), ('in', True), ('a', True), ('case-control', True), ('style', True), ('setting', True), ('.', True), ('the', True), ('sun', True), ('may', True), ('not', True), ('all', True), ('the', True), ('time', True), (',', True), ('but', True), ('the', True), ('wind', True), ('is', True), ('sure', True), ('to', True), ('blow', True), ('.', True), ('its', True), ('an', True), ('impersonator', True), ('.', True), ('i', True), ('saw', True), ('him', True), ('on', True), ('the', True), ('howard', True), ('stern', True), ('show', True), ('.', True), ('my', True), ('friend', True), ('took', True), ('a', True), ('picture', True), ('with', True), ('same', True), ('guy', True), ('in', True), ('ny', True), ('.', True), ('sorry', True), (':', True), ('/', True), (':', True), ('d', True), ('thanks', True), ('luv', True), ('...', True), ('it', True), (\"'s\", True), ('good', True), ('to', True), ('be', True), ('back', True), ('.', True), ('after', True), ('almost', True), ('3', True), ('weeks', True), ('of', True), ('nothing', True), (',', True), ('it', True), ('back', True), ('to', True), ('live', True), ('action', True), ('.', True), ('i', True), (\"'ve\", True), ('never', True), ('much', True), ('used', True), ('my', True), ('imagination', True), ('and', True), ('i', True), (\"'m\", True), ('not', True), ('gone', True), ('far', True), ('in', True), ('my', True), ('life', True), ('.', True), ('but', True), ('curiosity', True), ('has', True), ('helped', True), ('me', True), ('a', True), ('lot', True), ('.', True), ('it', True), (\"'s\", True), ('time', True), ('to', True), ('combine', True), ('those', True), ('two', True), ('.', True), ('no', False), ('more', False), ('wars', False), ('for', False), ('zionism', False), ('!', False), ('you', False), ('are', False), ('a', False), ('traitor', False), (',', False), ('grace', False), ('meng', False), (',', False), ('like', False), ('the', False), ('rest', False), ('in', False), ('the', False), ('us', False), ('congress', False), ('.', False), ('no', True), ('no', True), ('no', True), (',', True), ('we', True), ('say', True), ('ochoa', True), ('.', True), ('let', True), ('the', True), ('americans', True), ('say', True), ('howard', True), ('any', False), ('chance', False), ('there', False), ('was', False), ('discussion', False), ('about', False), ('why', False), ('we', False), (\"'re\", False), ('still', False), ('giving', False), ('egypt', False), ('$', False), ('1.5', False), ('billion', False), ('in', False), ('tax', False), ('payer', False), ('money', False), ('when', False), ('there', False), (\"'s\", False), ('no', False), ('protection', False), ('for', False), ('christian', False), ('human', False), ('rights', False), ('?', False), ('specially', False), ('considering', False), ('that', False), ('we', False), ('could', False), ('really', False), ('use', False), ('that', False), ('1.5', False), ('bill', False), ('over', False), ('here', False), ('in', False), ('the', False), ('us', False), ('...', False), ('i', True), ('hope', True), ('all', True), ('of', True), ('you', True), ('have', True), ('had', True), ('a', True), ('happy', True), ('valentine', True), (\"'s\", True), ('day', True), ('!', True), ('stay', True), ('warm', True), ('.', True), ('<', True), ('3', True), (':', True), ('-', True), (')', True), ('brava', True), ('!', True), ('although', True), ('the', True), ('suffering', True), (',', True), ('that', True), ('was', True), ('probably', True), ('the', True), ('necessary', True), ('path', True), ('to', True), ('transform', True), ('you', True), ('in', True), ('this', True), ('fantastic', True), ('and', True), ('inspirational', True), ('human', True), ('being', True), ('.', True), ('thank', True), ('you', True), ('for', True), ('your', True), ('words', True), ('.', True), ('hi', True), ('!', True), ('love', True), ('seeing', True), ('other', True), ('ohioans', True), ('!', True), ('!', True), ('hurry', True), ('!', True), ('!', True), ('!', True), ('i', True), ('want', True), ('to', True), ('read', True), ('more', True), ('!', True), ('!', True), (':', True), (')', True), ('haha', True), ('aww', True), ('thank', True), ('you', True), (',', True), ('glad', True), ('i', True), ('can', True), ('brighten', True), ('your', True), ('day', True), ('a', True), ('little', True), (':', True), (')', True), ('this', True), ('was', True), ('fascinating', True), (',', True), ('i', True), ('do', True), (\"n't\", True), ('really', True), ('care', True), ('who', True), ('becomes', True), ('the', True), ('next', True), (\"'superpower\", True), (\"'\", True), ('i', True), ('just', True), ('wish', True), ('china', True), ('(', True), ('and', True), ('any', True), ('other', True), ('nation', True), (')', True), ('can', True), ('do', True), ('well', True), ('!', True), (':', True), (')', True), ('go', True), ('china', True), ('!', True), ('my', True), ('ears', True), ('demand', True), ('more', True), ('of', True), ('this', True), ('.', True), ('we', True), ('should', True), ('get', True), ('this', True), ('kind', True), ('of', True), ('stuff', True), ('daily', True), ('.', True), ('my', True), ('thanks', True), (',', True), ('mister', True), ('rives', True), ('.', True), ('you', True), ('are', True), ('one', True), ('amazing', True), ('brain', True), ('.', True), ('great', True), ('show', True), ('last', True), ('night', True), ('!', True), ('unemployment', False), ('(', False), ('u6', False), (',', False), ('which', False), ('is', False), ('much', False), ('more', False), ('accurate', False), ('and', False), ('intellectually', False), ('honest', False), (')', False), ('is', False), ('14.5', False), ('%', False), ('.', False), ('thank', True), ('you', True), ('melinda', True), ('!', True), ('a', True), ('well', True), ('said', True), ('and', True), ('much', True), ('needed', True), ('conversation', True), ('.', True), ('i', False), ('went', False), ('back', False), ('and', False), ('looked', False), ('at', False), ('the', False), ('tape', False), ('again', False), ('.', False), ('you', False), ('could', False), ('see', False), ('him', False), ('mouth', False), ('fu', False), ('to', False), ('somebody', False), ('.', False), ('i', False), ('do', False), (\"n't\", False), ('care', False), ('how', False), ('upset', False), ('he', False), ('was', False), ('.', False), ('that', False), ('was', False), ('inappropriate', False), ('.', False), ('i', False), (\"'m\", False), ('still', False), ('more', False), ('upset', False), ('over', False), ('the', False), ('ugly', False), ('hateful', False), ('look', False), ('that', False), ('was', False), ('on', False), ('his', False), ('face', False), ('.', False), ('a', True), ('very', True), ('inspiring', True), ('work', True), ('sir', True), ('will', True), ('help', True), ('a', True), ('lot', True), ('of', True), ('people', True), ('who', True), ('indeed', True), ('need', True), ('this', True), ('kind', True), ('of', True), ('life', True), ('saving', True), ('boon', True), ('in', True), ('case', True), ('of', True), ('a', True), ('hazard', True), ('where', True), ('can', True), ('i', True), ('get', True), ('one', True), ('?', True), ('!', True), ('so', True), ('we', True), ('have', True), ('licensed', True), ('premises', True), ('where', True), ('one', True), ('can', True), ('partake', True), ('if', True), ('one', True), ('chooses', True), ('.', True), ('it', True), ('works', True), ('quite', True), ('well', True), ('in', True), ('the', True), ('netherlands', True), ('.', True), ('following', True), ('this', True), ('we', True), ('encourage', True), ('users', True), ('to', True), ('vaporise', True), ('instead', True), ('of', True), ('smoke', True), ('.', True), ('its', True), ('not', True), ('very', True), ('complicated', True), ('.', True), ('i', True), (\"'m\", True), ('really', True), ('glad', True), ('as', True), ('a', True), ('teacher', True), ('sharing', True), ('with', True), ('you', True), ('like', True), ('a', True), ('great', True), ('congresswoman', True), ('of', True), ('united', True), ('state', True), ('.', True), ('yeah', True), ('man', True), ('do', True), ('it', True), ('all', True), ('the', True), ('way', True), ('from', True), ('the', True), ('uk', True), ('.', True), ('i', True), ('was', True), ('very', True), ('impressed', True), ('with', True), ('you', True), ('just', True), ('now', True), ('on', True), ('this', True), ('show', True), ('....', True), ('and', True), ('i', True), ('will', True), ('be', True), ('following', True), ('you', True), ('.', True), ('i', True), ('appreciate', True), ('all', True), ('you', True), ('true', True), ('conservatives', True), ('are', True), ('trying', True), ('to', True), ('do', True), ('for', True), ('our', True), ('beloved', True), ('country', True), ('.....', True), ('thanks', True), ('so', True), ('much', True), ('!', True), ('wow', True), ('thanks', True), ('!', True), ('yes', True), ('its', True), ('me', True), ('alright', True), (',', True), ('though', True), ('ill', True), ('admit', True), ('i', True), ('was', True), ('younger', True), ('in', True), ('that', True), ('picture', True), ('.', True), ('i', True), ('am', True), ('about', True), ('to', True), ('celebrate', True), ('my', True), ('10', True), ('year', True), ('anniversary', True), ('in', True), ('september', True), ('and', True), ('38th', True), ('birthday', True), ('in', True), ('november', True), ('.', True), ('[', True), ('this', True), (']', True), ('(', True), ('<', True), ('link', True), ('>', True), ('is', True), ('a', True), ('more', True), ('current', True), ('picture', True), ('of', True), ('me', True), ('.', True), ('im', True), ('on', True), ('the', True), ('right', True), ('.', True), ('nothing', False), ('this', False), ('current', False), ('administration', False), ('does', False), ('surprises', False), ('me', False), (':', False), ('(', False), ('i', True), ('am', True), ('liking', True), ('the', True), ('``', True), ('weed', True), ('ring', True), (\"''\", True), ('!', True), ('props', True), ('well', True), ('deserved', True), ('!', True), ('guess', False), ('noone', False), ('wants', False), ('to', False), ('answer', False), ('that', False), ('.', False), ('please', False), ('ms.', False), ('gates', False), (',', False), ('do', False), ('not', False), ('generalize', False), ('africa', False), ('into', False), ('this', False), ('homogeneous', False), ('and', False), ('helpless', False), ('place', False), ('.', False), ('i', False), ('thought', False), ('ms.', False), ('adichie', False), ('taught', False), ('us', False), ('the', False), ('dangers', False), ('of', False), ('that', False), ('.', False), ('how', False), ('many', False), ('days', False), ('will', False), ('it', False), ('be', False), ('before', False), ('we', False), ('(', False), ('or', False), ('at', False), ('least', False), (',', False), ('the', False), ('right', False), ('wing', False), (')', False), ('start', False), ('demonizing', False), ('the', False), ('victims', False), ('of', False), ('this', False), ('storm', False), (',', False), ('like', False), ('we', False), ('did', False), ('following', False), ('hurricane', False), ('katrina', False), ('?', False), ('congratulations', True), ('!', True), ('!', True), ('!', True), ('keep', True), ('up', True), ('your', True), ('great', True), ('work', True), ('!', True), ('!', True), ('!', True), ('agree', False), ('with', False), ('betty', False), ('.', False), ('obama', False), ('should', False), ('have', False), ('obamacare', False), ('!', False), ('thanks', True), ('!', True), ('you', True), (\"'re\", True), ('badass', True), ('.', True), ('i', True), ('like', True), ('badass', True), ('.', True), (':', True), (')', True), ('my', True), ('pleasure', True), ('...', True), ('keep', True), ('up', True), ('the', True), ('good', True), ('work', True), ('!', True), ('need', True), ('to', True), ('jump', True), ('back', True), ('into', True), ('it', True), ('hardcore', True), ('this', True), ('week', True), ('.', True), ('amazing', True), ('lady', True), ('!', True), ('i', True), ('love', True), ('her', True), ('passion', True), ('for', True), ('her', True), ('work', True), ('.', True), ('i', True), ('can', True), ('totally', True), ('see', True), ('a', True), ('break', True), ('through', True), ('coming', True), ('.', True), ('keep', True), ('up', True), ('the', True), ('good', True), ('work', True), ('emma', True), ('!', True), ('wish', True), ('you', True), ('the', True), ('best', True), ('=', True), (')', True), ('i', True), ('signed', True), (\"'the\", True), ('petition', True), (\"'\", True), ('and', True), ('left', True), ('a', True), (\"'comment\", True), (\"'\", True), ('...', True), ('thankyou', True), ('for', True), ('doing', True), ('this', True), (';', True), ('all', True), ('of', True), ('us', True), ('should', True), (\"'sgin\", True), ('it', True), (\"'\", True), (',', True), ('and', True), ('get', True), ('on', True), ('with', True), ('the', True), ('business', True), (',', True), ('as', True), ('usual', True), (',', True), ('in', True), (\"'supporting\", True), (\"'\", True), ('our', True), ('fine', True), ('military', True), ('...', True), ('everywhere', True), ('!', True), ('fov', True), ('announcement', True), ('was', True), ('such', True), ('a', True), ('stupidly', True), ('huge', True), ('deal', True), ('on', True), ('the', True), ('overwatch', True), ('subreddit', True), (',', True), ('biggest', True), ('thing', True), ('anyone', True), ('was', True), ('talking', True), ('about', True), ('was', True), ('an', True), ('option', True), ('menu', True), ('item', True), ('for', True), ('a', True), ('game', True), ('that', True), ('isnt', True), ('even', True), ('in', True), ('beta', True), ('yet', True), (':', True), ('p', True), ('gamers', True), ('can', True), ('be', True), ('strange', True), ('sometimes', True), ('just', False), ('do', False), (\"n't\", False), ('expect', False), ('to', False), ('be', False), ('able', False), ('to', False), ('refinance', False), ('your', False), ('student', False), ('loans', False), ('...', False), ('i', True), ('already', True), ('called', True), ('my', True), ('rep-', True), ('vern', True), ('buchanan', True), ('.', True), ('i', True), (\"'ve\", True), ('also', True), ('shared', True), ('it', True), ('with', True), ('a', True), ('group', True), ('.', True), ('how', True), ('else', True), ('can', True), ('we', True), ('help', True), ('?', True), ('thank', True), ('you', True), ('for', True), ('sponsoring', True), ('this', True), ('!', True), ('good', True), ('morning', True), ('lourdes', True), (',', True), ('have', True), ('a', True), ('great', True), ('day', True), ('!', True), ('great', True), ('christmas', True), ('card', True), ('photo', True), ('also', True), ('!', True), ('bionic', True), ('woman', True), ('!', True), ('!', True), ('!', True), ('singles', True), (',', True), ('doubles', True), ('and', True), ('mixed', True), ('!', True), ('!', True), ('good', True), ('luck', True), ('.', True), ('the', False), ('problem', False), ('is', False), ('always', False), ('the', False), ('contradiction', False), ('betwwen', False), ('the', False), ('limited', False), ('resource', False), ('and', False), ('the', False), ('enormous', False), ('people', False), (',', False), ('you', False), ('will', False), ('ay', False), ('yes', False), ('that', False), (\"'s\", False), ('life', False), (',', False), ('life', False), ('is', False), ('not', False), ('fair', False), ('when', False), ('you', False), ('stand', False), ('in', False), ('the', False), ('good', False), ('position', False), (',', False), ('and', False), ('you', False), ('will', False), ('say', False), (',', False), ('oh', False), (',', False), ('so', False), ('poort', False), ('thing', False), ('!', False), ('as', False), ('well', False), ('as', False), ('that', False), ('you', False), ('dont', False), ('want', False), ('to', False), ('share', False), ('the', False), ('food', False), ('with', False), ('any', False), ('one', False), ('else', False), ('.', False), ('thank', True), ('you', True), ('congressman', True), ('schweikert', True), ('!', True), ('you', True), (\"'re\", True), ('the', True), ('best', True), ('!', True), ('a', True), ('true', True), ('hero', True), ('!', True), ('you', True), ('have', True), ('already', True), ('lived', True), ('up', True), ('to', True), ('your', True), ('name', True), (',', True), ('victoria', True), ('!', True), ('hope', True), ('u', True), ('get', True), ('better', True), ('!', True), ('!', True), ('!', True), ('thanks', True), ('for', True), ('stopping', True), ('by', True), ('medford', True), ('sean', True), ('!', True), ('it', True), ('was', True), ('great', True), ('to', True), ('see', True), ('you', True), ('again', True), ('and', True), ('meet', True), ('the', True), ('mayor', True), ('!', True), ('!', True), ('!', True), ('drive', True), ('safe', True), (',', True), ('the', True), ('momentum', True), ('is', True), ('building', True), ('right', True), ('into', True), ('victory', True), ('!', True), ('!', True), ('thank', True), ('you', True), ('!', True), ('thanks', True), ('for', True), ('following', True), (';', True), (')', True), ('always', True), ('love', True), ('a', True), ('new', True), ('follower', True), ('who', True), ('loves', True), ('my', True), ('posts', True), ('!', True), ('good', True), ('luck', True), ('with', True), ('your', True), ('fitness', True), ('goals', True), ('^_~', True), ('brit', True), (':', True), ('i', True), (\"'m\", True), ('so', True), ('glad', True), ('u', True), ('r', True), ('on', True), ('fox', True), ('tonight', True), ('.', True), ('you', True), ('calm', True), ('people', True), ('down', True), ('and', True), ('bring', True), ('common', True), ('sense', True), ('to', True), ('all', True), ('this', True), ('.', True), ('you', True), ('are', True), ('a', True), ('class', True), ('act', True), ('!', True), ('!', True), ('future', True), ('journalists', True), ('great', True), ('photo', True), ('why', True), ('thank', True), ('you', True), ('.', True), ('<', True), ('3', True), ('yours', True), ('is', True), ('pretty', True), ('sweet', True), ('to', True), ('look', True), ('at', True), ('too', True), ('.', True), ('and', True), ('....', True), ('dat', True), ('height', True), ('!', True), ('!', True), ('great', True), ('watch', True), (',', True), ('great', True), ('person', True), (',', True), ('great', True), ('fun', True), (',', True), ('just', True), ('great', True), ('!', True), ('!', True), ('oren', True), (':', True), ('maybe', True), (',', True), ('but', True), ('what', True), ('about', True), ('the', True), ('people', True), ('who', True), ('will', True), ('see', True), ('this', True), ('movie', True), ('in', True), ('twenty', True), ('years', True), ('?', True), ('fifty', True), ('years', True), ('?', True), ('considering', True), ('the', True), ('subject', True), ('i', True), ('would', True), (\"n't\", True), ('be', True), ('surprised', True), ('if', True), ('people', True), ('will', True), ('look', True), ('back', True), ('on', True), ('this', True), ('in', True), ('a', True), ('few', True), ('years', True), ('and', True), ('reflect', True), ('on', True), ('shirky', True), (\"'s\", True), ('insights', True), ('.', True), ('action', True), ('jackson', True), ('you', True), (\"'re\", True), ('awesome', True), ('!', True), ('thank', True), ('you', True), ('!', True), ('!', True), ('amazing', True), ('.', True), ('this', True), ('opens', True), ('so', True), ('many', True), ('doors', True), (',', True), ('so', True), ('many', True), ('possibilities', True), ('.', True), ('i', True), ('agree', True), ('with', True), ('roger', True), (\"'s\", True), ('comment', True), ('.', True), ('knowledge', True), ('is', True), ('setting', True), ('us', True), ('free', True), ('.', True), ('thanks', True), ('.', True), ('is', True), ('that', True), ('all', True), ('i', True), ('have', True), ('to', True), ('do', True), ('to', True), ('loose', True), ('6lbs', True), (';', True), (')', True), ('5', True), ('clicks', True), ('is', True), ('a', True), ('lot', True), ('to', True), ('ask', True), (',', True), ('but', True), ('well', True), ('keep', True), ('fighting', True), ('the', True), ('good', True), ('fight', True), ('looking', True), ('forward', True), ('to', True), ('watching', True), (\"'enemies\", True), ('of', True), ('the', True), ('state', True), (\"'\", True), ('.....', True), ('what', True), ('a', True), ('powerful', True), ('message', True), (',', True), ('presented', True), ('in', True), ('such', True), ('an', True), ('articulate', True), ('way', True), ('.', True), ('thank', True), ('you', True), ('.', True), ('i', True), ('hope', True), ('to', True), ('live', True), ('up', True), ('to', True), ('your', True), ('request', True), ('brian', True), ('cox', True), ('is', True), ('my', True), ('hero', True), ('.', True), ('he', True), ('has', True), ('a', True), ('unique', True), ('way', True), ('to', True), ('explain', True), ('scienific', True), ('facts', True), ('in', True), ('a', True), ('simple', True), ('fun', True), ('way', True), ('.', True), ('kind', False), ('of', False), ('silly', False), ('pushing', False), ('tax', False), ('increases', False), ('in', False), ('the', False), ('senate', False), ('....', False), ('thanks', True), ('for', True), ('follow', True), (')', True), ('looking', True), ('forward', True), ('to', True), ('see', True), ('you', True), ('in', True), ('my', True), ('feed.take', True), ('care', True), ('!', True), ('haha', True), ('cheers', True), ('bro', True), ('..', True), ('got', True), ('ta', True), ('feel', True), ('good', True), ('when', True), ('training', True), ('lolz', True), ('i', False), ('can', False), ('not', False), ('get', False), ('the', False), ('video', False), ('to', False), ('play', False), ('.', False), ('you', True), ('know', True), ('there', True), ('is', True), ('a', True), ('bird', True), ('on', True), ('my', True), ('head', True), ('lol', True), ('i', True), ('am', True), ('interested', True), ('in', True), ('learning', True), ('about', True), ('oregon', True), (\"'s\", True), ('plans', True), ('for', True), ('agricultural', True), ('regulations', True), ('and', True), ('incentives', True), ('which', True), ('will', True), ('help', True), ('modernize', True), ('and', True), ('sustainably', True), ('stabilize', True), ('oregon', True), (\"'s\", True), ('farms', True), (',', True), ('with', True), ('an', True), ('eye', True), ('to', True), ('the', True), ('challenges', True), ('climate', True), ('change', True), ('will', True), ('provide', True), ('.', True), ('where', True), ('could', True), ('i', True), ('learn', True), ('more', True), ('?', True), ('thank', True), ('you', True), (',', True), ('chef', True), ('.', True), ('that', True), ('means', True), ('a', True), ('lot', True), ('.', True), ('i', True), ('know', True), ('you', True), ('have', True), ('been', True), ('through', True), ('plenty', True), ('a', True), ('rough', True), ('time', True), ('lately', True), (',', True), ('too', True), ('.', True), ('i', True), ('have', True), (\"n't\", True), ('forgotten', True), ('.', True), ('i', True), ('just', True), ('stay', True), ('busy', True), ('to', True), ('keep', True), ('my', True), ('mind', True), ('occupied', True), ('.', True), ('hey', True), ('!', True), ('!', True), ('i', True), (\"'m\", True), ('good', True), ('.', True), ('what', True), ('about', True), ('you', True), ('?', True), (':', True), ('-', True), (')', True), ('great', True), ('place', True), (',', True), ('superb', True), ('executive', True), ('director', True), (',', True), ('and', True), ('a', True), ('fabulous', True), ('congressman', True), ('.', True), ('what', True), (\"'s\", True), ('not', True), ('to', True), ('like', True), ('?', True), ('is', True), (\"n't\", True), ('it', True), ('the', True), ('best', True), ('feeling', True), ('!', True), ('now', True), ('you', True), ('just', True), ('have', True), ('to', True), ('keep', True), ('it', True), ('going', True), (';', True), ('-', True), (')', True), ('all', True), ('the', True), ('luck', True), ('in', True), ('the', True), ('world', True), ('bless', True), ('you', True), ('.', True), ('thanks', True), ('!', True), ('!', True), ('i', True), ('love', True), ('your', True), ('blog', True), (',', True), ('super', True), ('visual', True), ('-', True), ('the', True), ('women', True), ('on', True), ('it', True), ('are', True), ('super', True), ('sexy', True), ('and', True), ('fit', True), ('as', True), ('heck', True), ('.', True), ('yum.here', True), (\"'s\", True), ('a', True), ('yoga', True), ('dudes', True), ('blog', True), ('that', True), ('i', True), ('find', True), ('inspiring', True), ('.', True), ('it', True), ('helped', True), ('me', True), ('realize', True), ('i', True), ('could', True), ('be', True), ('one', True), ('of', True), ('those', True), ('guys', True), (':', True), ('http', True), (':', True), ('//yogadudes.tumblr.com/', True), ('yeah', True), ('shelby', True), ('.....', True), ('!', True), ('!', True), ('!', True), ('!', True), ('go', True), ('get', True), ('em', True), ('girl', True), ('!', True), ('!', True), ('!', True), ('outdoor', True), ('stuff', True), ('?', True), ('lol', True), ('!', True), ('i', True), ('swim', True), ('in', True), ('an', True), ('indoor', True), ('pool', True), (',', True), ('run', True), ('mostly', True), ('on', True), ('the', True), ('treadmill', True), ('(', True), ('uk', True), ('weather', True), ('is', True), ('currently', True), ('miserable', True), ('!', True), (')', True), (',', True), ('rockclimb', True), ('indoors', True), ('(', True), ('will', True), ('plan', True), ('to', True), ('go', True), ('outdoors', True), ('soon', True), ('though', True), (')', True), (',', True), ('plank', True), ('and', True), ('deadlift', True), ('in', True), ('my', True), ('living', True), ('room', True), (';', True), (')', True), ('wait', False), (',', False), ('you', False), ('didnt', False), ('hear', False), ('?', False), ('the', False), ('content', False), ('has', False), ('been', False), ('out', False), ('for', False), ('24', False), ('hours', False), ('.', False), ('youre', False), ('supposed', False), ('to', False), ('be', False), ('using', False), ('a', False), ('guide', False), (',', False), ('ya', False), ('nub', False), ('.', False), ('/s', False), ('very', True), ('welcome', True), (',', True), ('keep', True), ('up', True), ('the', True), ('hard', True), ('work', True), ('!', True), ('i', True), ('fully', True), ('agree', True), ('with', True), ('this', True), ('talk', True), ('.', True), ('as', True), ('an', True), ('older', True), ('fysician', True), ('with', True), ('35', True), ('years', True), ('of', True), ('experience', True), ('i', True), ('see', True), ('that', True), ('the', True), ('younger', True), ('generation', True), ('trusts', True), ('the', True), ('technique', True), ('too', True), ('much', True), ('.', True), ('michelle', False), (',', False), ('please', False), ('stop', False), ('talking', False), ('about', False), ('yourself', False), (',', False), ('tell', False), ('us', False), ('about', False), ('what', False), ('you', False), ('and', False), ('the', False), ('president', False), ('will', False), ('do', False), ('for', False), ('us/it/them', False), ('.', False), ('thank', False), ('you', False), ('.', False), ('she', True), ('is', True), ('amazing', True), ('!', True), ('!', True), ('!', True), ('!', True), ('!', True), ('!', True), ('can', True), ('not', True), ('agree', True), ('more', True), ('!', True), ('!', True), ('!', True), ('!', True), ('!', True), ('the', False), ('health', False), ('care', False), ('plan', False), ('has', False), ('to', False), ('go', False), ('.', False), ('i', False), ('do', False), ('not', False), ('need', False), ('or', False), ('want', False), ('government', False), ('dictating', False), ('my', False), ('healthcare', False), ('!', False), ('great', True), ('that', True), ('you', True), ('keep', True), ('going', True), ('to', True), ('see', True), ('how', True), ('we', True), ('live', True), ('in', True), ('this', True), ('district', True), ('.', True), ('thank', True), ('you', True), ('.', True), ('well', False), (',', False), ('the', False), ('us', False), ('authorities', False), ('refused', False), ('to', False), ('allow', False), ('the', False), ('uk', False), ('government', False), ('to', False), ('release', False), ('the', False), ('minutes', False), ('of', False), ('the', False), ('telephone', False), ('calls', False), (',', False), ('didnt', False), ('they', False), ('?', False), ('so', False), ('the', False), ('us', False), ('transparency', False), ('is', False), ('a', False), ('lot', False), ('less', False), ('than', False), ('the', False), ('uk', False), ('bits', False), ('.', False), ('shout', True), ('out', True), ('to', True), ('ms.', True), ('maloney', True), (',', True), ('whom', True), ('the', True), ('president', True), ('mentioned', True), ('first', True), ('on', True), ('his', True), ('t.v', True), ('.', True), ('press', True), ('conference', True), ('!', True), ('busts', True), ('is', True), ('hot', True), ('as', True), ('hell', True), ('i', True), ('would', True), ('give', True), ('my', True), ('left', True), ('nut', True), ('if', True), ('i', True), ('had', True), ('one', True), ('lol', True), ('too', True), ('me', True), ('that', True), ('man', True), ('just', True), ('to', True), ('conversat', True), ('for', True), ('a', True), ('little', True), ('while', True), ('i', True), ('hope', True), ('i', True), ('can', True), ('!', True), ('i', True), ('would', True), ('love', True), ('to', True), ('meet', True), ('you', True), ('!', True), ('doing', True), ('exactly', True), ('the', True), ('same', True), ('thing', True), ('tomorrow', True), ('...', True), ('and', True), ('i', True), (\"'m\", True), ('going', True), ('to', True), ('eat', True), ('the', True), ('entire', True), ('pizza', True), ('all', True), ('by', True), ('myself', True), ('.', True), ('thanks', True), ('seth', True), ('rollins', True), (':', True), ('p', True), ('rep.', False), ('cleaver', False), ('.', False), ('please', False), ('show', False), ('your', False), ('support', False), ('for', False), ('rep.', False), ('john', False), ('lewis', False), ('and', False), ('do', False), ('not', False), ('attend', False), ('the', False), ('inauguration', False), ('ceremony', False), ('on', False), ('the', False), ('20th', False), ('.', False), ('beta', False), ('felt', False), ('so', False), ('much', False), ('more', False), ('floofy', False), ('now', False), ('that', False), ('the', False), ('burst', False), ('glide', False), ('is', False), ('basically', False), ('nonexistent', False), ('.', False), ('thank', True), ('you', True), ('zoostation', True), ('!', True), ('i', True), ('was', True), ('trying', True), ('going', True), ('for', True), ('the', True), ('total', True), ('badass', True), ('.', True), ('i', True), (\"'m\", True), ('glad', True), ('to', True), ('see', True), ('it', True), ('worked', True), ('lol', True), ('thank', True), ('you', True), ('for', True), ('recognizing', True), ('our', True), ('state', True), (\"'s\", True), ('veterans', True), ('.', True), ('are', True), ('you', True), ('kidding', True), ('me', True), ('?', True), ('tedx', True), ('cairo', True), ('?', True), ('in', True), ('english', True), ('?', True), ('that', True), ('familiar', True), ('fade-in', True), ('chord', True), ('and', True), ('applause', True), ('make', True), ('it', True), ('feel', True), ('like', True), ('a', True), ('tedx', True), ('anywhere', True), ('.', True), ('which', True), ('is', True), ('assuredly', True), ('is', True), ('not', True), ('.', True), ('``', True), ('stronger', True), ('than', True), ('the', True), ('people', True), ('in', True), ('power', True), ('.', True), (\"''\", True), ('amen', True), ('.', True), ('we', True), ('pray', True), ('for', True), ('a', True), ('tedx', True), ('tripoli', True), ('.', True), ('i', True), ('like', True), ('the', True), ('idea', True), ('of', True), ('reading', True), ('a', True), ('book', True), ('in', True), ('multiple', True), ('languages', True), ('.', True), ('unfortunately', True), (',', True), ('i', True), ('only', True), ('know', True), ('one', True), ('language', True), ('.', True), ('but', True), ('having', True), ('read', True), ('a', True), ('book', True), ('in', True), ('english', True), (',', True), ('i', True), ('might', True), ('be', True), ('able', True), ('to', True), ('muddle', True), ('through', True), ('one', True), ('in', True), ('french', True), ('.', True), ('worth', True), ('a', True), ('try', True), ('.', True), ('as', True), ('i', True), ('see', True), ('it', True), ('maybe', True), ('it', True), ('has', True), ('to', True), ('do', True), ('with', True), ('some', True), ('videos', True), ('are', True), ('only', True), ('on', True), ('your', True), ('fb', True), ('page', True), ('listed', True), ('under', True), ('montel', True), ('williams', True), ('...', True), ('and', True), ('the', True), ('others', True), ('are', True), ('under', True), ('montelenterprises', True), (\"'s\", True), ('channel', True), ('you', True), ('tube', True), ('.....', True), ('maybe', True), ('this', True), ('is', True), ('the', True), ('problem', True), ('really', True), ('enjoying', True), ('this', True), ('season', True), ('!', True), ('!', True), ('what', True), ('a', True), ('beautifull', True), ('pic', True), ('shaun', True), ('brother', True), ('with', True), ('your', True), ('son', True), ('.', True), ('good', True), ('morning', True), ('lourdes', True), (',', True), ('hope', True), ('your', True), ('birthday', True), ('was', True), ('memorable', True), ('!', True), ('this', False), ('is', False), ('very', False), ('true', False), (',', False), ('its', False), ('kinda', False), ('like', False), ('everyone', False), ('on', False), ('the', False), ('server', False), ('is', False), ('a', False), ('nomad', False), ('.', False), ('they', False), ('just', False), ('keep', False), ('to', False), ('themselves', False), ('and', False), ('wander', False), ('around', False), ('.', False), ('i', True), ('watched', True), ('this', True), ('interview', True), (',', True), ('you', True), ('are', True), ('my', True), ('hero', True), ('.', True), ('love', True), ('this', True), ('amazing', True), (',', True), ('courageous', True), (',', True), ('smart', True), (',', True), ('beautiful', True), (',', True), ('divine', True), ('woman', True), ('.', True), ('god', True), ('bless', True), ('you', True), ('hyeonseo', True), ('lee', True), ('!', True), ('!', True), ('!', True), ('you', True), ('are', True), ('proof', True), ('that', True), ('humanity', True), ('has', True), ('awesomeness', True), ('among', True), ('us', True), ('!', True), ('!', True), ('!', True), ('yea', False), ('104', False), ('is', False), ('where', False), ('i', False), ('start', False), ('melting', False), ('it', False), ('should', False), ('be', False), ('easy', False), ('to', False), ('bomb', False), ('them', False), ('back', False), ('to', False), ('the', False), ('stone', False), ('ages', False), ('-', False), ('they', False), (\"'ve\", False), ('hardly', False), ('left', False), ('.', False), ('that', True), ('bike', True), ('makes', True), ('me', True), ('haywire', True), ('in', True), ('my', True), ('pants', True), ('.....', True), ('haha', True), ('great', True), ('video', True), ('!', True), ('i', True), ('did', True), (\"n't\", True), ('realise', True), ('that', True), ('tito', True), ('ortiz', True), ('had', True), ('a', True), ('brother', True), (':', True), ('d', True), ('would', False), ('part', False), ('of', False), ('those', False), ('plans', False), ('to', False), ('keep', False), ('trump', False), ('out', False), ('of', False), ('any', False), ('security', False), ('details', False), ('?', False), ('i', False), ('hope', False), ('!', False), ('he', False), ('would', False), ('blab', False), ('all', False), ('he', False), ('heard', False), ('.', False), ('budweiser', True), ('clydesdale', True), ('......', True), ('heartwarming', True), ('!', True), ('we', True), ('need', True), ('more', True), ('heartwarming', True), ('in', True), ('today', True), (\"'s\", True), ('world', True), ('!', True), ('daaaawh', True), (',', True), ('thank', True), ('you', True), ('swueeet', True), ('ff', True), ('!', True), ('i', True), ('just', True), ('my', True), ('foot', True), ('now', True), ('giving', True), ('me', True), ('grief', True), ('.', True), ('in', True), ('recovery', True), ('mode', True), ('for', True), ('knee', True), ('.', True), ('i', True), ('ca', True), (\"n't\", True), ('bend', True), ('it', True), ('past', True), ('90', True), ('degrees', True), ('for', True), ('8', True), ('weeks', True), (',', True), ('that', True), ('should', True), ('be', True), ('fun', True), ('!', True), (':', True), (')', True), ('.', True), ('i', True), ('go', True), ('back', True), ('to', True), ('work', True), ('after', True), ('this', True), ('trip', True), (',', True), ('so', True), ('hmmmm', True), ('....', True), ('i', True), ('jus', True), ('have', True), ('to', True), ('try', True), ('why', False), ('not', False), ('try', False), ('to', False), ('follow', False), ('the', False), ('law', False), ('to', False), ('see', False), ('how', False), ('it', False), ('works', False), ('?', False), ('so', False), ('this', False), ('is', False), ('just', False), ('another', False), ('law', False), ('to', False), ('be', False), ('passed', False), ('and', False), ('ignored', False), ('?', False), ('make', False), ('obama', False), ('follow', False), ('the', False), ('law', False), ('as', False), ('written', False), ('100', False), ('%', False), ('or', False), ('seek', False), ('legislative', False), ('remedy', False), ('through', False), ('repeal', False), ('.', False), ('thx', True), ('for', True), ('the', True), ('follow', True), ('and', True), ('welcome', True), ('to', True), ('fito', True), (':', True), (')', True), ('well', True), ('deserved', True), ('.', True), ('so', True), ('thankful', True), ('you', True), ('are', True), ('there', True), ('.', True), (\"'we\", False), ('do', False), (\"n't\", False), ('get', False), ('paid', False), ('to', False), (\"''\", False), ('...', False), ('cops', False), ('think', False), ('if', False), ('there', False), ('is', False), ('any', False), ('danger', False), ('it', False), (\"'s\", False), ('justification', False), ('to', False), ('kill', False), ('.', False), ('if', False), ('their', False), ('only', False), ('skill', False), ('is', False), ('shooting', False), ('the', False), ('public', False), (',', False), ('they', False), ('should', False), (\"n't\", False), ('be', False), ('a', False), ('cop', False), ('.', False), ('there', False), ('is', False), ('a', False), ('mentality', False), ('of', False), ('wanting', False), ('to', False), ('be', False), ('a', False), ('cop', False), (',', False), ('that', False), ('should', False), ('automatically', False), ('eliminate', False), ('them', False), ('from', False), ('consideration', False), ('.', False), ('thanks', True), ('and', True), ('following', True), ('.', True), ('i', True), ('see', True), ('mud', True), ('and', True), ('i', True), (\"'m\", True), ('sold', True), ('.', True), ('=', True), (')', True), ('please', False), ('separate', False), ('your', False), ('self', False), ('from', False), ('la', False), ('malfa', False), ('.', False), ('he', False), ('is', False), ('bad', False), ('for', False), ('the', False), ('north', False), ('state', False), ('...', False), ('hooah', True), ('!', True), ('thank', True), ('you', True), ('for', True), ('your', True), ('acknowledgement', True), (',', True), ('congresswoman', True), ('bonamici', True), ('.', True), ('happy', True), ('returns', True), ('adam', True), ('!', True), ('you', True), ('do', True), ('us', True), ('proud', True), ('.', True), ('.', True), ('.', True), ('thank', True), ('you', True), ('much', True), ('barbs', True), ('!', True), (\"i'ma\", True), ('follow', True), ('this', True), ('one', True), ('like', True), ('a', True), ('shadow', True), ('...', True), (':', True), (')', True), ('you', True), (\"'re\", True), ('my', True), ('rep', True), ('...', True), ('so', True), ('thanks', True), ('for', True), ('being', True), ('anti-sopa', True), ('.', True), ('have', True), ('a', True), ('great', True), ('time', True), ('at', True), ('the', True), ('game', True), ('congresswoman', True), ('jackson', True), ('lee', True), ('.', True), ('be', True), ('blessed', True), ('my', True), ('friend', True), ('!', True), ('mine', True), ('too', True), ('!', True), (';', True), ('-', True), (')', True), ('love', True), ('the', True), ('month', True), ('of', True), ('august', True), ('yay', True), ('..', True), ('a', True), ('breakthrough', True), ('!', True), ('good', True), ('job', True), ('..', True), ('but', True), ('30', True), ('step', True), (',', True), ('seems', True), ('a', True), ('lot', True), ('.', True), ('time', True), ('to', True), ('follow', True), ('apple', True), (\"'s\", True), ('way', True), ('of', True), ('doing', True), ('things', True), (',', True), ('taking', True), ('things', True), ('out', True), ('1', True), ('by', True), ('1', True), (',', True), ('just', True), ('like', True), ('from', True), ('the', True), ('traditional', True), ('computer', True), ('to', True), ('a', True), ('smartphone', True), (':', True), (')', True), (':', True), ('d', True), ('miller', True), ('timer', True), ('is', True), ('always', True), ('a', True), ('good', True), ('time', True), ('!', True), ('thanks', True), ('for', True), ('the', True), ('follow', True), (',', True), ('nice', True), ('to', True), ('meet', True), ('you', True), ('as', True), ('well', True), ('...', True), ('digging', True), ('the', True), ('tats', True), ('btw', True), ('!', True), ('you', True), ('too', True), ('!', True), ('and', True), ('thanks', True), ('for', True), ('all', True), ('the', True), ('props', True), ('too', True), ('!', True), ('(', True), (':', True), ('going', True), ('good', True), (',', True), ('took', True), ('a', True), ('break', True), ('with', True), ('the', True), ('training', True), ('to', True), ('let', True), ('my', True), ('knees', True), ('heal', True), ('up', True), (',', True), ('but', True), ('adding', True), ('running', True), ('back', True), ('to', True), ('my', True), ('workout', True), ('this', True), ('week', True), ('.', True), ('looking', True), ('forward', True), ('to', True), ('doing', True), ('this', True), ('in', True), ('less', True), ('than', True), ('a', True), ('month', True), ('!', True), ('thanks', True), ('for', True), ('the', True), ('follow', True), ('as', True), ('well', True), ('!', True), ('underfunding', False), ('higher', False), ('education', False), ('is', False), ('a', False), ('hidden', False), ('tax', False), ('.', False), ('the', False), ('bill', False), ('still', False), ('has', False), ('to', False), ('be', False), ('paid', False), ('.', False), ('we', False), ('just', False), ('stick', False), ('it', False), ('to', False), ('a', False), ('small', False), ('number', False), ('of', False), ('people', False), ('.', False), ('thanks', True), ('and', True), ('thanks', True), (':', True), (')', True), ('back', True), (',', True), ('thanks', True), ('a', True), ('lot', True), ('for', True), ('the', True), ('encouragement', True), ('!', True), ('!', True), ('(', True), ('sorry', True), ('about', True), ('the', True), ('big', True), ('delay', True), ('though', True), (')', True), (':', True), (')', True), ('theyre', True), ('decent', True), (',', True), ('theyre', True), ('just', True), ('not', True), ('really', True), ('star', True), ('trek', True), ('great', True), ('job', True), ('!', True), ('!', True), ('you', True), ('are', True), ('needed', True), ('in', True), ('washington', True), ('.', True), ('thanks', True), ('for', True), ('representing', True), ('the', True), ('people', True), ('!', True), ('i', True), ('saw', True), ('one', True), ('of', True), ('these', True), ('in', True), ('an', True), ('aquarium', True), ('in', True), ('tokyo', True), ('.', True), ('they', True), ('were', True), ('so', True), ('enormous', True), ('but', True), ('so', True), ('gentile', True), ('.', True), ('they', True), ('were', True), (\"n't\", True), ('very', True), ('exciting', True), ('to', True), ('watch', True), (',', True), ('however', True), ('.', True), ('they', True), ('slept', True), ('most', True), ('of', True), ('the', True), ('time', True), ('we', True), ('were', True), ('there', True), ('!', True), ('it', True), ('was', True), ('astonishing', True), ('.', True), ('wow', False), ('you', False), ('talk', False), ('about', False), ('civil', False), ('rights', False), (',', False), ('yet', False), ('are', False), ('bloomberg', False), (\"'s\", False), ('mouth', False), ('piece', False), ('in', False), ('sponsoring', False), ('a', False), ('bill', False), ('that', False), ('would', False), ('restrict', False), ('what', False), ('people', False), ('would', False), ('allowed', False), ('to', False), ('wear', False), ('?', False), ('tell', False), ('me', False), ('have', False), ('you', False), ('actually', False), ('read', False), ('the', False), ('constitution', False), ('?', False), ('great', True), ('talk', True), ('.', True), ('it', True), ('is', True), ('incredible', True), ('to', True), ('know', True), ('what', True), ('the', True), ('human', True), ('mind', True), ('can', True), ('do', True), ('.', True), ('can', True), ('anybody', True), ('recommend', True), ('good', True), ('books', True), ('on', True), ('the', True), ('topics', True), ('or', True), ('training', True), ('programs', True), ('/', True), ('courses', True), ('one', True), ('can', True), ('take', True), ('?', True), ('thanks', True), (',', True), ('dieter', True), ('mind-blowing', True), ('material', True), (',', True), ('excellently', True), ('delivered', True), ('!', True), ('thank', True), ('you', True), ('haha', True), ('....', True), ('thank-you', True), ('!', True), (':', True), (')', True), ('this', True), ('is', True), ('a', True), ('great', True), ('start', True), ('.', True), ('i', True), ('can', True), ('not', True), ('wait', True), ('to', True), ('see', True), ('what', True), ('you', True), ('show', True), ('us', True), ('next', True), ('.', True), ('things', True), ('happen', True), ('before', True), ('we', True), ('know', True), ('it', True), ('just', True), ('work', True), ('on', True), ('things', True), ('and', True), ('your', True), ('life', True), ('and', True), ('body', True), ('will', True), ('improve', True), ('with', True), ('time', True), ('yes', True), ('i', True), ('have', True), ('the', True), ('same', True), ('.', True), ('i', True), ('can', True), ('put', True), ('a', True), ('sheet', True), ('on', True), ('in', True), ('a', True), ('few', True), ('seconds', True), ('.', True), ('i', True), ('change', True), ('the', True), ('sheet', True), ('regularly', True), ('so', True), ('maybe', True), ('ive', True), ('just', True), ('got', True), ('good', True), ('at', True), ('it', True), ('.', True), ('i', True), ('just', True), ('wanted', True), ('to', True), ('thank', True), ('you', True), ('for', True), ('voting', True), ('no', True), ('on', True), ('hr', True), ('1599.', True), ('even', True), ('though', True), ('it', True), ('passed', True), (',', True), ('80', True), ('%', True), ('of', True), ('americans', True), ('disagree', True), ('with', True), ('it', True), ('.', True), ('you', True), ('represent', True), ('the', True), ('people', True), ('and', True), ('thats', True), ('a', True), ('great', True), ('thing', True), ('your', True), ('vag', True), ('has', True), ('its', True), ('own', True), ('exhibit', True), ('.', True), ('laser', True), ('guarded', True), ('so', True), ('it', True), ('wont', True), ('get', True), ('bombarded', True), ('with', True), ('solicitation', True), ('.', True), ('woot', True), ('awkwafinas', True), ('in', True), ('a', True), ('museum', True), ('this', True), ('calls', True), ('for', True), ('celebration', True), ('we', False), ('can', False), ('all', False), ('try', False), (',', False), ('but', False), ('whores', False), ('are', False), ('as', False), ('infinite', False), ('as', False), ('the', False), ('universe', False), ('is', False), ('big', False), ('.', False), ('most', False), ('will', False), ('get', False), ('away', False), ('.', False), ('he', True), ('described', True), ('his', True), ('different-point', True), ('of', True), ('view', True), ('beautifully', True), ('.', True), ('i', True), ('hope', True), ('to', True), ('see', True), ('more', True), ('talks', True), ('from', True), ('him', True), ('.', True), ('i', True), (\"'d\", True), ('wish', True), ('i', True), ('could', True), ('study', True), ('under', True), ('him', True), ('.', True), ('betty', True), ('white', True), ('i', True), ('love', True), ('her', True), ('we', True), (\"'re\", True), ('honored', True), ('you', True), ('let', True), ('us', True), ('.', True), ('your', True), ('work', True), ('inspires', True), ('many', True), ('feelings', True), ('and', True), ('themes', True), ('most', True), ('dont', True), ('dare', True), ('go', True), ('near', True), ('so', True), ('thank', True), ('you', True), ('.', True), ('ca', True), (\"n't\", True), ('someone', True), ('stop', True), ('that', True), ('train', True), ('!', True), ('!', True), ('!', True), ('of', True), ('course', True), ('!', True), ('that', True), ('b', True), ('*', True), ('*', True), ('*', True), ('*', True), ('weighs', True), ('45', True), ('lbs', True), ('(', True), ('35', True), ('for', True), ('me', True), (')', True), ('--', True), ('always', True), ('include', True), ('!', True), ('very', True), ('creative', True), ('with', True), ('the', True), ('animals', True), ('and', True), ('shapes', True), ('of', True), ('people', True), ('.', True), ('like', True), (',', True), ('how', True), ('he', True), ('used', True), ('them', True), ('.', True), ('the', True), ('story', True), ('was', True), ('good', True), ('.', True), ('hahaha', True), ('why', True), ('thank', True), ('you', True), (',', True), ('sir', True), ('!', True), ('!', True), ('!', True), ('i', True), ('will', True), ('continue', True), ('to', True), ('try', True), ('for', True), ('better', True), (',', True), ('but', True), ('i', True), ('am', True), ('pretty', True), ('pleased', True), ('so', True), ('far', True), ('!', True), ('my', True), ('quads', True), ('are', True), ('starting', True), ('to', True), ('super', True), ('stick', True), ('out', True), ('now', True), ('and', True), ('my', True), ('abs', True), ('are', True), ('starting', True), ('to', True), ('show', True), ('!', True), ('yayyy', True), ('!', True), ('thanks', True), ('for', True), ('this', True), ('talk', True), ('.', True), ('it', True), ('makes', True), ('total', True), ('sense', True), ('...', True), ('i', True), ('encourage', True), ('tedxers', True), ('to', True), ('do', True), ('an', True), ('experiment', True), ('.', True), ('one', True), ('day', True), ('of', True), ('your', True), ('lives', True), (',', True), ('smile', True), ('to', True), ('all', True), ('strangers', True), ('you', True), ('bump', True), ('into', True), ('during', True), ('the', True), ('day', True), (',', True), ('what', True), ('effect', True), ('does', True), ('it', True), ('have', True), ('?', True), ('go', True), ('for', True), ('it', True), ('young', True), ('lady', True), ('and', True), ('i', True), ('know', True), ('you', True), ('did', True), ('your', True), ('best', True), ('on', True), ('all', True), ('of', True), ('them', True), ('congratulations', True), (',', True), ('congresswoman', True), ('fudge', True), ('!', True), ('despite', True), ('all', True), ('the', True), ('comments', True), ('here', True), (',', True), ('i', True), ('found', True), ('thandie', True), (\"'s\", True), ('talk', True), ('insightful', True), (',', True), ('genuine', True), ('and', True), ('heartwarming', True), ('.', True), ('i', True), ('wonder', True), ('if', True), ('she', True), ('is', True), ('a', True), ('buddhist', True), ('?', True), ('thank', True), ('you', True), ('thandie', True), (':', True), (')', True), ('never', False), ('.', False), ('youre', False), ('too', False), ('close', False), ('.', False), ('everyone', False), ('else', False), ('has', False), ('appeal', False), ('because', False), ('theyre', False), ('so', False), ('far', False), ('away', False), ('one', True), ('of', True), ('the', True), ('best', True), ('talks', True), ('i', True), ('found', True), ('in', True), ('ted', True), ('.', True), ('thank', True), ('you', True), ('for', True), ('jill', True), ('&', True), ('ted', True), ('for', True), ('this', True), ('wonderful', True), ('talk', True), (':', True), (')', True), ('wow', True), (',', True), ('this', True), ('brilliant', True), ('woman', True), ('seems', True), ('to', True), ('be', True), ('playing', True), ('with', True), ('a', True), ('new', True), ('toolbox', True), ('as', True), ('if', True), ('it', True), (\"'s\", True), ('kid', True), (\"'s\", True), ('play', True), ('.', True), ('the', True), ('future', True), ('seems', True), ('to', True), ('be', True), ('bright', True), (':', True), ('breed', True), ('any', True), ('material', True), ('in', True), ('your', True), ('kitchen', True), ('...', True), ('growing', True), ('artificial', True), ('organs', True), ('suddenly', True), ('looks', True), ('like', True), ('old-skool', True), ('stuff', True), ('.', True), ('awareness', True), ('will', True), ('keep', True), ('discoveries', True), ('at', True), ('our', True), ('doorstep', True), ('!', True), ('come', True), ('to', True), ('denver', True), ('we', True), ('need', True), ('a', True), ('laugh', True), ('or', True), ('two', True), ('!', True), ('at', True), ('last', True), ('norway', True), ('on', True), ('the', True), ('ted', True), ('map', True), ('!', True), ('so', True), ('proud', True), (':', True), (')', True), ('stop', False), ('gagging', False), ('artistic', False), ('expression', False), ('in', False), ('the', False), ('name', False), ('of', False), ('religion', False), ('!', False), ('thanks', True), ('!', True), ('btw', True), ('your', True), ('dog', True), ('is', True), ('gorgeous', True), ('oh', False), ('.', False), ('oh', False), ('.', False), ('giants', False), ('just', False), ('hit', False), ('a', False), ('home', False), ('run', False), ('.', False), ('they', False), ('told', False), ('us', False), ('not', False), ('to', False), ('flush', False), ('.', False), ('when', False), ('it', False), (\"'s\", False), ('over', False), ('and', False), ('everyone', False), ('flushes', False), ('at', False), ('one', False), ('time', False), ('there', False), ('may', False), ('be', False), ('a', False), ('huge', False), ('wave', False), ('.', False), ('i', True), ('lost', True), ('count', True), ('but', True), ('have', True), ('voted', True), ('a', True), ('ton', True), ('!', True), ('!', True), ('!', True), ('are', False), ('you', False), ('saying', False), ('that', False), ('we', False), (\"'d\", False), ('have', False), ('to', False), ('dig', False), ('up', False), ('the', False), ('roads', False), ('and', False), ('replace', False), ('it', False), ('with', False), ('this', False), ('?', False), ('i', False), ('could', False), ('see', False), ('that', False), ('taking', False), ('a', False), ('very', False), ('long', False), ('time', False), ('.', False), ('or', False), ('can', False), ('one', False), ('use', False), ('this', False), ('for', False), ('specifically', False), ('potholes', False), (',', False), ('on', False), ('a', False), ('as/when', False), ('basis', False), ('?', False), ('or', False), ('can', False), ('one', False), ('use', False), ('this', False), ('as', False), ('an', False), ('overlay', False), ('of', False), ('the', False), ('asphalt', False), ('that', False), (\"'s\", False), ('already', False), ('there', False), ('?', False), ('no', True), ('problem', True), (',', True), ('and', True), ('thank', True), ('you', True), ('.', True), (':', True), ('d', True), ('i', True), ('just', True), ('sent', True), ('a', True), ('friend', True), ('request', True), ('to', True), ('you', True), ('over', True), ('at', True), ('runkeeper', True), (',', True), ('too', True), ('.', True), ('chrissie', True), (',', True), ('you', True), ('never', True), ('stop', True), ('looking', True), ('fantastic', True), ('!', True), ('thank', True), ('you', True), ('dear', True), ('rep.', True), ('martha', True), ('mcsally', True), ('..', True), ('hehe', True), ('...', True), ('how', True), ('are', True), ('you', True), ('darlin', True), ('?', True), ('yeah', False), (',', False), ('i', False), ('think', False), ('i', False), (\"'ve\", False), ('got', False), ('a', False), ('strep', False), ('infection', False), ('going', False), ('.', False), ('started', False), ('a', False), ('101-degree', False), ('fever', False), ('last', False), ('night', False), (',', False), ('lotsa', False), ('aches', False), ('and', False), ('chills', False), ('.', False), ('ibuprofen', False), ('keeps', False), ('the', False), ('fever', False), ('at', False), ('bay', False), (',', False), ('at', False), ('least', False), ('temporarily', False), ('.', False), (':', False), ('(', False), ('exactly', True), ('right', True), (',', True), ('careaga', True), ('.', True), ('this', True), ('is', True), ('as', True), ('pure', True), ('an', True), ('example', True), ('of', True), ('subjunctivism', True), ('as', True), ('i', True), (\"'ve\", True), ('seen', True), ('in', True), ('a', True), ('while', True), (';', True), ('an', True), ('insult', True), ('to', True), ('culture', True), ('and', True), ('a', True), ('crime', True), ('against', True), ('nature', True), ('.', True), ('the', True), ('world', True), ('will', True), ('not', True), ('be', True), ('right', True), ('until', True), ('these', True), ('people', True), ('are', True), ('exposed', True), ('for', True), ('what', True), ('they', True), ('are', True), (';', True), ('intellectual', True), ('criminals', True), ('.', True), ('www.subjunctivism.com', True), ('-', True), ('www.stevegluck.com', True), ('no', True), ('real', True), ('suggestions', True), ('here', True), (',', True), ('but', True), ('good', True), ('job', True), ('on', True), ('being', True), ('able', True), ('to', True), ('analyze', True), ('your', True), ('training', True), ('and', True), ('realize', True), ('when', True), ('you', True), ('need', True), ('to', True), ('make', True), ('adjustments', True), ('.', True), ('a', True), ('lot', True), ('of', True), ('people', True), ('just', True), ('blindly', True), ('follow', True), ('routines', True), ('and', True), ('no', True), ('actual', True), ('thought', True), ('goes', True), ('into', True), ('what', True), ('they', True), (\"'re\", True), ('doing', True), ('.', True), ('thank', True), ('you', True), ('bob', True), ('latta', True), (',', True), ('i', True), ('know', True), ('you', True), ('have', True), ('been', True), ('there', True), ('for', True), ('the', True), ('veterans', True), ('including', True), ('helping', True), ('them', True), ('with', True), ('their', True), ('compensation', True), ('if', True), ('necessary', True), ('.', True), ('i', True), ('second', True), ('these', True), ('statements', True), ('.', True), ('if', False), ('humans', False), ('go', False), ('extinct', False), (',', False), ('it', False), ('wo', False), (\"n't\", False), ('be', False), ('from', False), ('nuclear', False), ('war', False), ('.', False), ('it', False), ('will', False), ('be', False), ('from', False), ('the', False), ('monumental', False), ('screw-ups', False), ('we', False), ('have', False), ('made', False), ('in', False), ('agriculture', False), ('.', False), ('ok', True), (',', True), ('then', True), ('we', True), ('have', True), ('hundreds', True), ('of', True), ('these', True), ('reactors', True), ('buried', True), ('in', True), ('the', True), ('ground', True), ('which', True), ('are', True), ('a', True), ('potential', True), ('risk', True), ('to', True), ('all', True), ('the', True), ('water', True), ('that', True), ('we', True), ('drink', True), ('or', True), ('used', True), ('in', True), ('irrigation', True), ('.', True), ('the', True), ('only', True), ('thing', True), ('we', True), ('need', True), ('to', True), ('buried', True), ('is', True), ('fission', True), ('once', True), ('for', True), ('all', True), ('.', True), ('there', True), ('are', True), ('many', True), ('other', True), ('super', True), ('clear', True), ('alternatives', True), ('and', True), ('cost', True), ('efficient', True), ('.', True), ('@', True), ('6:40', True), ('chimp-in-zees', True), ('.', True), ('haha', True), ('i', True), ('like', True), ('that', True), ('.', True), ('so', True), ('he', True), ('wants', True), ('robots', True), ('that', True), ('think', True), ('for', True), ('us', True), ('like', True), ('hal', True), ('from', True), ('2001', True), ('space', True), ('odyssey', True), ('?', True), ('thanks', True), ('for', True), ('coming', True), ('to', True), ('the', True), ('north', True), ('channel', True), ('last', True), ('night', True), ('.', True), ('i', True), ('had', True), ('2', True), ('community', True), ('members', True), ('show', True), ('up', True), ('today', True), ('thinking', True), ('you', True), ('were', True), ('here', True), ('.', True), ('we', True), ('gave', True), ('them', True), ('the', True), ('info', True), ('and', True), ('sent', True), ('them', True), ('on', True), ('their', True), ('way', True), ('.', True), ('have', True), ('a', True), ('great', True), ('day', True), ('!', True), ('hah', True), (',', True), ('that', True), ('took', True), ('me', True), ('a', True), ('minute', True), ('to', True), ('get', True), ('.', True), ('and', True), ('by', True), ('a', True), ('minute', True), ('i', True), ('mean', True), ('i', True), ('spent', True), ('half', True), ('the', True), ('day', True), ('scratching', True), ('my', True), ('head', True), ('.', True), ('i', True), ('loved', True), ('his', True), ('enthusiasm', True), ('and', True), ('energy', True), ('.', True), ('i', True), ('would', True), ('love', True), ('to', True), ('have', True), ('him', True), ('as', True), ('a', True), ('teacher', True), ('.', True), ('my', True), ('teachers', True), ('dont', True), ('do', True), ('anything', True), ('.', True), ('except', True), ('for', True), ('my', True), ('shop', True), ('teacher', True), (',', True), ('who', True), ('teaches', True), ('electronics', True), ('.', True), ('his', True), ('students', True), ('must', True), ('love', True), ('him', True), ('.', True), ('it', False), ('is', False), ('shameful', False), ('that', False), ('our', False), ('taxes', False), ('are', False), ('funding', False), ('this', False), ('illegal', False), ('land', False), ('theft', False), (',', False), ('this', False), ('illegal', False), ('occupation', False), (',', False), ('this', False), ('apartheid', False), ('...', False), ('https', False), (':', False), ('//www.facebook.com/iyad.burnat/posts/1151447848202910', False), ('jack', True), ('bunyan', True), ('how', True), ('good', True), ('your', True), ('post', True), ('made', True), ('me', True), ('smile', True), ('...', True), ('i', True), ('teach', True), ('jr', True), ('high', True), ('and', True), ('often', True), ('think', True), ('``', True), ('i', True), ('hope', True), ('everyone', True), ('behaves', True), ('today', True), ('.', True), (\"''\", True), ('lol', True), ('!', True), ('what', True), ('a', True), ('pleasure', True), ('to', True), ('meet', True), ('you', True), ('and', True), ('your', True), ('family', True), ('at', True), ('combat', True), ('veterans', True), ('for', True), ('congress', True), ('in', True), ('san', True), ('diego', True), ('sat', True), ('evening', True), ('!', True), ('you', True), (\"'ll\", True), ('be', True), ('a', True), ('great', True), ('asset', True), ('in', True), ('congress', True), ('.', True), ('love', True), ('your', True), ('website', True), ('video', True), ('....', True), ('beautiful', True), ('country', True), ('up', True), ('there', True), ('in', True), ('montana', True), ('.', True), ('thanks', True), ('for', True), ('your', True), ('service', True), ('as', True), ('a', True), ('seal', True), ('and', True), ('i', True), (\"'m\", True), ('praying', True), ('for', True), ('a', True), ('zinke', True), ('victory', True), ('!', True), ('!', True), ('!', True), ('!', True), ('buena', True), ('suerte', True), ('senator', True), ('we', True), (\"'re\", True), ('with', True), ('you', True), ('all', True), ('the', True), ('way', True), ('!', True), ('!', True), ('!', True), ('bkb', False), ('is', False), ('absolutely', False), ('core', False), ('lategame', False), ('on', False), ('medusa', False), ('.', False), ('if', False), ('she', False), ('not', False), ('getting', False), ('it', False), (',', False), ('she', False), ('becomes', False), ('useless', False), ('being', False), ('stunned-hexed-disarmed', False), ('.', False), ('and', False), ('she', False), ('have', False), ('no', False), ('mobility', False), (',', False), ('kiting', False), ('her', False), ('having', False), ('2', False), ('halberds', False), ('is', False), ('quite', False), ('easy', False), ('.', False), ('duh', False), ('...', False), ('ya', False), ('think', False), ('...', False), ('unbelievable', False), ('!', False), ('we', True), ('really', True), ('need', True), ('more', True), ('of', True), ('those', True), ('!', True), (':', True), (')', True), ('have', True), ('safe', True), ('and', True), ('good', True), ('trip', True), ('!', True), ('i', True), ('voted', True), ('this', True), ('morning', True), (',', True), ('colored', True), ('in', True), ('the', True), ('circle', True), ('beside', True), ('your', True), ('name', True), (',', True), ('as', True), ('i', True), ('have', True), ('been', True), ('since', True), ('i', True), ('was', True), ('18', True), ('(', True), ('i', True), (\"'m\", True), ('40', True), (')', True), ('.', True), ('my', True), ('only', True), ('wish', True), ('...', True), ('it', True), ('was', True), ('for', True), ('governor', True), ('!', True), ('that', True), ('was', True), ('truly', True), ('amazing', True), ('and', True), ('specially', True), ('natasha', True), ('was', True), ('a', True), ('rather', True), ('intelligent', True), ('child', True), (',', True), ('might', True), ('have', True), ('helped', True), ('her', True), ('cope', True), ('with', True), ('stuff', True), (',', True), ('makes', True), ('you', True), ('wonder', True), ('what', True), ('is', True), ('the', True), ('source', True), ('of', True), ('confidence', True), ('for', True), ('children', True), ('like', True), ('her', True), (',', True), ('i', True), ('was', True), ('inspired', True), ('to', True), ('get', True), ('out', True), ('of', True), ('the', True), ('rut', True), ('.', True), ('http', True), (':', True), ('//blackopscharlie.com/2012/03/02/poem-livin-large/', True), ('this', True), ('is', True), ('good', True), ('news', True), (',', True), ('now', True), ('i', True), ('am', True), ('going', True), ('to', True), ('go', True), ('find', True), ('lisapayne', True), ('that', True), ('was', True), ('not', True), ('another', True), ('version', True), ('of', True), ('evolution', True), ('as', True), ('many', True), ('think', True), (',', True), ('that', True), ('was', True), ('just', True), ('an', True), ('explanation', True), ('that', True), ('every', True), ('thing', True), ('on', True), ('the', True), ('earth', True), ('has', True), ('to', True), ('stand', True), ('on', True), ('the', True), ('background', True), (',', True), ('we', True), (\"'re\", True), ('not', True), ('the', True), ('center', True), ('of', True), ('the', True), ('earth', True), (',', True), ('we', True), (\"'re\", True), ('its', True), ('creators', True), ('now', True), ('and', True), ('have', True), ('to', True), ('interact', True), ('but', True), ('not', True), ('to', True), ('oppose', True), ('.', True), ('i', True), ('liked', True), ('his', True), ('speech', True), ('.', True), ('to', True), ('be', True), ('alway', True), ('positive', True), ('coffee', True), ('oh', True), ('thats', True), ('so', True), ('green', True), ('arrow', True), ('and', True), ('flash', True), ('stuff', True), ('like', True), ('this', True), ('for', True), ('them', True), ('.', True), ('also', True), ('the', True), ('look', True), ('hal', True), ('has', True), ('on', True), ('his', True), ('life', True), (',', True), ('where', True), ('he', True), ('was', True), ('constantly', True), ('told', True), ('he', True), ('wasnt', True), ('the', True), ('ground', True), ('and', True), ('pound', True), ('style', True), (',', True), ('like', True), ('heavyweight', True), (',', True), ('but', True), ('a', True), ('few', True), ('years', True), ('ago', True), ('.', True), ('~', True), ('dexterbateman', True), ('--', True), ('--', True), ('-', True), ('^^info', True), ('^^|', True), ('^^subreddit', True), ('thank', True), ('you', True), ('for', True), ('following', True), ('back', True), (',', True), ('you', True), ('prompted', True), ('the', True), ('change', True), ('in', True), ('my', True), ('mind', True), ('that', True), ('i', True), ('needed', True), ('.', True), ('thank', True), ('you', True), ('x', True), ('good', True), ('luck', True), ('little', True), ('warrior', True), ('!', True), ('not', True), ('sure', True), ('where', True), ('one', True), ('finds', True), ('a', True), ('butt', True), ('plug', True), ('like', True), ('this', True), (',', True), ('let', True), ('me', True), ('know', True), ('!', True), ('i', True), ('miss', True), ('chatting', True), ('with', True), ('you', True), ('in', True), ('the', True), ('newsroom', True), ('whenever', True), ('you', True), ('popped', True), ('in', True), ('.', True), ('have', True), ('a', True), ('great', True), ('interview', True), ('today', True), ('!', True), ('got', True), ('ta', True), ('have', True), ('bob', True), ('saget', True), ('and', True), ('trent', True), ('reznor', True), ('on', True), ('the', True), ('show', True), ('on', True), ('may', True), ('17th', True), ('.', True), ('you', True), ('know', True), ('why', True), (',', True), ('mr.', True), ('ferguson', True), ('.', True), ('you', True), ('know', True), ('why', True), (';', True), (')', True), ('no', True), ('more', True), ('pop', True), ('top', True), ('in', True), ('my', True), ('flip', True), ('flop', True), ('!', True), ('!', True), ('(', True), ('jimmy', True), ('b', True), (')', True), ('we', True), ('agree', True), ('!', True), ('education', True), ('is', True), ('our', True), ('most', True), ('important', True), ('investment', True), ('in', True), ('this', True), ('country', True), ('!', True), ('things', False), ('will', False), ('never', False), ('be', False), ('any', False), ('different', False), ('with', False), ('someone', False), ('like', False), ('obama', False), ('in', False), ('office', False), ('--', False), ('and', False), ('how', False), ('long', False), ('will', False), ('it', False), ('take', False), ('the', False), ('usa', False), ('to', False), ('recover', False), ('if', False), ('someone', False), ('just', False), ('like', False), ('him', False), ('is', False), ('elected', False), ('.', False), ('wonder', False), ('who', False), ('he', False), ('really', False), ('has', False), ('in', False), ('mind', False), ('?', False), ('you', False), ('can', False), ('bet', False), ('it', False), ('is', False), ('someone', False), ('just', False), ('like', False), ('it', False), ('.', False), ('he', False), ('will', False), ('spring', False), ('them', False), ('on', False), ('us', False), ('soon', False), (',', False), ('i', False), ('expect', False), ('!', False), ('good', True), ('talk', True), (',', True), ('it', True), (\"'s\", True), ('real', True), ('and', True), ('touching', True), ('thank', True), ('god', True), ('for', True), ('henry', True), ('lin', True), ('--', True), ('bright', True), (',', True), ('enthusiastic', True), ('and', True), ('a', True), ('leader', True), ('to', True), ('be', True), ('of', True), ('expanded', True), ('thinking', True), ('and', True), ('galactic', True), ('-', True), ('sized', True), ('inspiration', True), ('!', True), ('the', True), ('only', True), ('good', True), ('season', True), ('of', True), ('ahs', True), ('.', True), ('very', True), ('nice', True), ('!', True), ('i', True), ('got', True), ('my', True), ('daughter', True), ('to', True), ('join', True), ('but', True), ('she', True), ('has', True), ('not', True), ('really', True), ('used', True), ('it', True), ('for', True), ('tracking', True), ('yet', True), ('.', True), ('hooray', True), ('for', True), ('being', True), ('busy', True), ('when', True), ('you', True), ('actually', True), ('want', True), ('to', True), ('be', True), ('.', True), (';', True), (')', True), ('if', True), ('the', True), ('demo', True), (\"'s\", True), ('and', True), ('libbo', True), (\"'s\", True), ('hate', True), ('him', True), ('that', True), ('much', True), ('he', True), ('must', True), ('be', True), ('doing', True), ('something', True), ('right', True), ('!', True), ('gary', True), ('and', True), ('i', True), ('send', True), ('our', True), ('best', True), ('wishes', True), ('!', True), ('!', True), ('congratulations', True), ('al', True), ('.', True), ('you', True), ('deserve', True), ('all', True), ('the', True), ('glory', True), ('tonight', True), ('by', True), ('setting', True), ('the', True), ('standard', True), ('for', True), ('all', True), ('rattlers', True), ('!', True), ('you', True), ('nailed', True), ('it', True), ('blake', True), ('.', True), ('really', True), ('enjoyed', True), ('that', True), ('.', True), ('and', True), ('they', True), ('were', True), ('all', True), ('voted', True), ('in', True), ('by', True), ('us', True), ('americans', True), ('.', True), ('``', True), ('it', True), ('would', True), ('be', True), ('wonderful', True), ('to', True), ('think', True), ('the', True), ('future', True), ('is', True), ('unknown', True), ('and', True), ('sort', True), ('of', True), ('surprising', True), (\"''\", True), ('-', True), ('alan', True), ('rickman', True), ('thank', True), ('you', True), ('for', True), ('the', True), ('follow', True), (',', True), ('happy', True), ('to', True), ('follow', True), ('back', True), ('.', True), ('btw', True), (',', True), ('your', True), ('pp', True), ('is', True), ('pretty', True), (';', True), ('-', True), (')', True), ('dianne', True), (',', True), ('hope', True), ('to', True), ('see', True), ('you', True), ('in', True), ('washington', True), ('in', True), ('march', True), ('.', True), ('we', True), ('(', True), ('credit', True), ('unions', True), (')', True), ('will', True), ('be', True), ('coming', True), ('to', True), ('the', True), ('hill', True), ('.', True), ('she', True), ('`', True), ('s', True), ('a', True), ('fantastic', True), ('person', True), ('and', True), ('a', True), ('shining', True), ('soul', True), ('!', True), ('great', True), ('evelyn', True), ('!', True), ('happy', True), ('to', True), ('follow', True), ('...', True), ('thanks', True), ('for', True), ('the', True), ('follow', True), ('back', True), (':', True), (')', True), ('yes', False), ('.', False), ('$', False), ('26', False), ('an', False), ('hour', False), ('is', False), (\"n't\", False), ('even', False), ('a', False), ('living', False), ('wage', False), ('in', False), ('santa', False), ('bu', False), ('/', False), ('mali', False), ('barbara', False), ('.', False), ('really', False), (',', False), ('on', False), ('a', False), ('serious', False), ('note', False), ('ventura', False), ('county', False), ('is', False), ('expensive', False), ('.', False), ('well', False), ('maybe', False), ('if', False), ('we', False), ('had', False), ('some', False), ('kind', False), ('of', False), ('leadership', False), ('in', False), ('the', False), ('senate', False), ('and', False), ('the', False), ('hite', False), ('house', False), ('something', False), ('might', False), ('get', False), ('done', False), ('.', False), ('i', False), ('am', False), ('happy', False), ('to', False), ('say', False), ('that', False), ('tim', False), (\"'s\", False), ('first', False), ('official', False), ('political', False), ('act', False), ('as', False), ('an', False), ('18', False), ('year', False), ('old', False), ('will', False), ('be', False), ('to', False), ('sign', False), ('your', False), ('nomination', False), ('papers', False), ('on', False), ('april', False), ('20th', False), ('.', False), ('grrrrrreat', True), ('to', True), ('see', True), ('ya', True), ('!', True), ('!', True), ('!', True), ('achievement', True), ('material', True), ('.', True), ('totally', True), ('.', True), ('whats', True), ('more', True), ('enjoyable', True), ('than', True), ('a', True), ('ride', True), ('and', True), ('a', True), ('swim', True), ('anyway', True), ('?', True), ('its', True), ('almost', True), ('a', True), ('vacation', True), ('in', True), ('and', True), ('of', True), ('itself', True), ('.', True), (':', True), (')', True), ('enjoy', True), ('it', True), ('!', True), ('james', True), (',', True), ('i', True), ('ca', True), (\"n't\", True), ('wait', True), ('to', True), ('be', True), ('able', True), ('to', True), ('say', True), ('i', True), ('personally', True), ('can', True), ('vough', True), ('for', True), ('the', True), ('character', True), ('of', True), ('my', True), ('own', True), ('congressman', True), ('!', True), ('god', True), ('will', True), ('bless', True), ('you', True), ('and', True), ('your', True), ('family', True), ('as', True), ('thousands', True), ('of', True), ('us', True), ('lift', True), ('you', True), ('up', True), ('in', True), ('prayer', True), ('!', True), ('but', True), ('you', True), ('already', True), ('run', True), (',', True), ('right', True), ('?', True), ('c25k', True), ('is', True), ('great', True), ('for', True), ('beginner', True), ('runners', True), (',', True), ('you', True), ('might', True), ('be', True), ('more', True), ('motivated', True), ('training', True), ('for', True), ('an', True), ('8k', True), ('.', True), ('http', True), (':', True), ('//running.about.com/od/8kor5miletrainingschedules/a/8k-or-5-mile-training-schedule-for-beginner-runners.htm', True), ('is', True), ('the', True), ('plan', True), ('i', True), ('follow', True), ('he', True), ('is', True), ('so', True), ('clever', True), (';', True), ('great', True), ('presentation', True), ('!', True), ('google', False), ('sun', False), ('tea', False), ('easy', False), ('to', False), ('make', False), ('and', False), ('apparently', False), ('its', False), ('the', False), ('best', False), ('iced', False), ('tea', False), ('to', False), ('make', False), ('.', False), ('nice', True), ('bus', True), ('..........', True), ('it', True), ('should', True), ('be', True), ('able', True), ('to', True), ('make', True), ('the', True), ('trek', True), ('to', True), ('dc', True), ('easily', True), ('...', True), ('awesome', True), ('pics', True), ('!', True), ('bella', True), ('is', True), ('cute', True), ('beautiful', True), ('body', True), ('massal', True), ('short', True), (',', True), ('concise', True), (',', True), ('to', True), ('the', True), ('point', True), ('-', True), ('love', True), ('this', True), ('and', True), ('shall', True), ('send', True), ('it', True), ('to', True), ('my', True), ('elderly', True), ('friends', True), ('(', True), ('with', True), ('internet', True), ('!', True), (')', True), ('.', True), ('thank', True), ('you', True), ('dear', True), ('judy', True), ('.', True), ('now', False), ('the', False), ('question', False), ('is', False), (':', False), ('how', False), ('profitable', False), ('would', False), ('this', False), ('business', False), ('be', False), ('if', False), ('it', False), ('was', False), (\"n't\", False), ('heavily', False), ('subsidized', False), ('and', False), ('what', False), ('businesses', False), ('are', False), ('you', False), ('hurting', False), ('by', False), ('manipulating', False), ('the', False), ('economy', False), ('.', False), ('the', False), ('government', False), ('needs', False), ('to', False), ('get', False), ('out', False), ('of', False), ('the', False), ('business', False), ('of', False), ('picking', False), ('winners', False), ('and', False), ('losers', False), ('and', False), ('let', False), ('the', False), ('individual', False), ('decide', False), ('what', False), ('is', False), ('best', False), ('for', False), ('them', False), ('.', False), ('thanks', True), ('for', True), ('the', True), ('dunlap', True), ('meeting', True), ('.', True), ('hate', True), ('there', True), ('was', True), (\"n't\", True), ('more', True), ('folks', True), ('there', True), ('but', True), ('the', True), ('smaller', True), ('crowd', True), ('made', True), ('it', True), ('more', True), ('personable', True), ('.', True), ('should', True), ('have', True), ('been', True), ('a', True), ('longer', True), ('meeting', True), ('though', True), ('.', True), ('well', False), ('adore', False), ('is', False), ('fucking', False), ('terrible', False), ('so', False), ('why', False), ('wouldnt', False), ('they', False), ('?', False), ('seriously', False), (',', False), ('shes', False), ('a', False), ('dirty', False), ('no', False), ('talent', False), ('nothing', False), ('from', False), ('a', False), ('nothing', False), ('state', False), ('did', False), ('you', False), ('know', False), ('that', False), ('part', False), ('of', False), ('your', False), ('district', False), ('is', False), ('in', False), ('broward', False), ('?', False), ('really', False), ('?', False), ('does', False), ('she', False), ('like', False), ('to', False), ('play', False), ('video', False), ('game', False), ('?', False), ('?', False), ('?', False), ('with', False), ('restricted', False), ('movements', False), ('and', False), ('a', False), ('hundred', False), ('cables', False), ('plugged', False), ('into', False), ('her', False), ('brain', False), ('?', False), ('?', False), ('he', False), (\"'s\", False), ('understimating', False), ('our', False), ('inteligence', False), ('.', False), ('yes', True), ('!', True), ('!', True), ('!', True), ('!', True), ('knock', True), ('em', True), ('out', True), ('!', True), ('!', True), ('!', True), ('wait', True), ('but', True), ('can', True), ('we', True), ('take', True), ('a', True), ('minute', True), ('to', True), ('look', True), ('at', True), ('jared', True), (\"'s\", True), ('hair', True), ('?', True), ('!', True), ('this', False), ('deal', False), ('needs', False), ('to', False), ('be', False), ('a', False), ('no-go', False), ('.', False), ('the', False), ('only', False), ('folks', False), ('who', False), ('will', False), ('benefit', False), ('will', False), ('be', False), ('the', False), ('company', False), ('executives', False), ('.', False), ('yea', False), ('like', False), ('everyone', False), ('leaving', False), ('world', False), ('of', False), ('warcraft', False), ('after', False), ('the', False), ('shitty', False), ('release', False), ('.', False), ('the', True), ('entire', True), ('service', True), ('was', True), ('sooo', True), ('beautiful', True), ('.', True), ('<', True), ('3', True), ('you', True), ('should', True), ('encourage', True), ('the', True), ('senators', True), ('who', True), ('gathered', True), ('for', True), ('an', True), ('all', True), ('nighter', True), ('on', True), ('climate', True), ('change', True), ('to', True), ('put', True), ('on', True), ('tshirts', True), ('and', True), ('shorts', True), ('and', True), ('go', True), ('out', True), ('on', True), ('the', True), ('capitol', True), ('steps', True), ('to', True), ('bask', True), ('in', True), ('that', True), ('weather', True), (':', True), (')', True), ('congrats', True), ('on', True), ('your', True), ('success', True), ('danny', True), ('this', True), ('is', True), ('just', True), ('mind', True), ('blowing', True), ('and', True), ('i', True), ('am', True), ('ever', True), ('so', True), ('grateful', True), ('to', True), ('louie', True), ('schwartzberg', True), ('for', True), ('allowing', True), ('me', True), ('this', True), ('perspective', True), ('!', True), ('thanks', True), ('for', True), ('the', True), ('same', True), ('and', True), ('the', True), ('props', True), ('.', True), ('is', True), ('that', True), ('tengwar', True), ('in', True), ('your', True), ('picture', True), ('?', True), ('lots', True), ('of', True), ('uncertain', True), ('factors', True), ('in', True), ('this', True), (',', True), ('but', True), ('nevertheless', True), ('very', True), ('interesting', True), ('.', True), ('oh', True), ('man', True), (',', True), ('if', True), ('could', True), ('talk', True), ('chapelle', True), ('into', True), ('a', True), ('movie', True), ('or', True), ('a', True), ('show', True), ('the', True), ('world', True), ('would', True), ('be', True), ('a', True), ('better', True), ('place', True), ('.', True), ('3', True), ('of', True), ('you', True), ('with', True), ('you', True), ('&', True), ('yakov', True), ('as', True), ('well', True), (',', True), ('would', True), ('be', True), ('gold', True), ('!', True), ('!', True), ('!', True), ('yea', True), ('it', True), ('does', True), ('sound', True), ('weird', True), ('.', True), ('i', True), ('wish', True), ('awildsketch', True), ('could', True), ('do', True), ('something', True), ('on', True), ('rapeseed', True), ('that', True), ('would', True), ('be', True), ('hilarious', True), ('aw', True), (',', True), ('dang', True), ('...', True), ('your', True), ('171', True), ('was', True), ('my', True), ('motivation', True), ('...', True), ('and', True), ('the', True), ('cause', True), ('of', True), ('my', True), ('doms', True), ('today', True), ('lolz', True), ('thanks', True), ('!', True), ('!', True), ('!', True), ('!', True), ('!', True), ('*', True), ('*', True), ('\\\\\\\\0//', True), ('*', True), ('*', True), ('carpet', False), ('bagging', False), ('troll', False), ('...', False), ('liz', False), ('warren', False), ('does', False), ('not', False), ('represent', False), ('massachusetts', False), ('i', True), ('can', True), ('not', True), ('wait', True), ('for', True), ('this', True), ('.', True), ('my', True), ('heart', True), ('is', True), ('beating', True), ('with', True), ('anticipation', True), ('and', True), ('my', True), ('brain', True), ('is', True), ('yearning', True), ('for', True), ('more', True), ('r', True), ('.', True), ('thanks', True), ('when', True), ('get', True), ('back', True), ('from', True), ('vaca', True), ('.', True), ('i', True), ('think', True), ('trainer', True), ('has', True), ('new', True), ('stuff', True), ('to', True), ('start', True), ('.', True), ('i', True), ('ca', True), (\"n't\", True), ('wait', True), ('to', True), ('see', True), ('what', True), ('it', True), ('is', True), ('.', True), ('thats', False), ('not', False), ('how', False), ('it', False), ('works', False), ('.', False), ('so', True), ('delicious', True), ('and', True), ('looks', True), ('awesome', True), ('!', True), ('i', True), (\"'m\", True), ('literally', True), ('getting', True), ('hungry', True), ('just', True), ('looking', True), ('at', True), ('it', True), ('!', True), ('any', True), ('chance', True), ('we', True), ('could', True), ('get', True), ('pictures', True), ('of', True), ('them', True), ('alone', True), ('in', True), ('a', True), ('different', True), ('setting', True), ('?', True), ('that', False), ('makes', False), ('you', False), ('sound', False), ('like', False), ('the', False), ('asshole', False), ('.', False), ('you', False), ('do', False), ('realise', False), ('you', False), ('can', False), ('be', False), ('attractive', False), ('and', False), ('know', False), ('that', False), ('youre', False), ('attractive', False), ('without', False), ('being', False), ('an', False), ('asshole', False), ('?', False), ('you', True), (\"'re\", True), ('welcome', True), ('!', True), ('thank', True), ('you', True), ('and', True), ('also', True), ('thanks', True), ('for', True), ('the', True), ('prop', True), ('bomb', True), ('.', True), (';', True), (')', True), ('just', True), ('amazing', True), ('!', True), ('!', True), ('!', True), ('!', True), ('!', True), ('!', True), ('!', True), ('!', True), ('!', True), ('thanks', True), ('!', True), ('those', True), ('are', True), ('some', True), ('serious', True), ('workouts', True), (',', True), ('man', True), ('!', True), ('married', True), ('with', True), ('children', True), ('actually', True), ('had', True), ('a', True), ('few', True), ('good', True), ('gags', True), ('of', True), ('it', True), ('.', True), ('i', True), ('think', True), ('seven', True), ('ended', True), ('up', True), ('on', True), ('milk', True), ('cartons', True), ('and', True), ('was', True), ('labeled', True), ('missing', True), ('but', True), ('nobody', True), ('on', True), ('the', True), ('show', True), ('ever', True), ('noticed', True), ('.', True), ('i', True), ('think', True), ('there', True), ('were', True), ('a', True), ('few', True), ('others', True), (',', True), ('but', True), ('i', True), ('like', True), ('they', True), ('way', True), ('they', True), ('poke', True), ('fun', True), ('of', True), ('the', True), ('fact', True), ('that', True), ('he', True), ('just', True), ('disappeared', True), ('.', True), ('there', False), (\"'s\", False), ('lies', False), (',', False), ('damn', False), ('lies', False), (',', False), ('in', False), ('statistics', False), ('.', False), ('zahra', True), ('najarali', True), ('this', True), ('is', True), ('where', True), ('we', True), ('go', True), ('into', True), ('the', True), ('whole', True), ('kabuki', True), ('thing', True), ('!', True), ('lol', True), ('casey', False), ('deserves', False), ('to', False), ('rot', False), (',', False), ('she', False), ('killed', False), ('her', False), ('own', False), ('baby', False), (',', False), ('she', False), ('can', False), ('still', False), ('get', False), ('convicted', False), ('based', False), ('on', False), ('circumstancial', False), ('evidence', False), (',', False), ('they', False), ('put', False), ('scott', False), ('peterson', False), ('away', False), ('based', False), ('on', False), ('that', False), ('and', False), ('he', False), ('gets', False), ('life', False), ('in', False), ('prison', False), ('.', False), ('no', True), ('problem', True), ('!', True), ('anyone', True), ('awesome', True), ('enough', True), ('to', True), ('have', True), ('a', True), ('dalek', True), ('in', True), ('their', True), ('profile', True), ('picture', True), ('is', True), ('someone', True), ('i', True), ('want', True), ('to', True), ('be', True), ('friends', True), ('with', True), ('.', True), ('i', True), ('was', True), ('seriously', True), ('blown', True), ('away', True), ('.', True), ('i', True), ('keep', True), ('feeling', True), ('the', True), ('back', True), ('side', True), ('of', True), ('my', True), ('bottom', True), ('teeth', True), ('in', True), ('amazement', True), ('even', True), ('a', True), ('week', True), ('later', True), ('because', True), ('ive', True), ('never', True), ('known', True), ('what', True), ('multiple', True), ('identifiable', True), ('teeth', True), ('feels', True), ('like', True), ('back', True), ('there', True), ('.', True), ('i', False), ('think', False), ('he', False), ('means', False), ('its', False), ('just', False), ('becoming', False), ('too', False), ('much', False), ('of', False), ('that', False), ('one', False), ('thing', False), (',', False), ('its', False), ('overbearing', False), ('thank', True), ('you', True), ('for', True), ('co-sponsoring', True), ('the', True), ('able', True), ('act', True), ('and', True), ('continuing', True), ('the', True), ('work', True), ('of', True), ('ensuring', True), ('our', True), ('loved', True), ('ones', True), ('with', True), ('disabilities', True), ('are', True), ('given', True), ('the', True), ('opportunity', True), ('to', True), ('be', True), ('full', True), (',', True), ('contributing', True), ('members', True), ('of', True), ('society', True), ('.', True), ('its', True), ('cheaper', True), ('than', True), ('the', True), ('italian', True), ('listing', True), ('your', False), ('voting', False), ('record', False), ('show', False), ('that', False), ('men', False), ('are', False), ('more', False), ('important', False), ('than', False), ('women', False), ('.', False), ('trump', False), ('got', False), ('a', False), ('d+', False), ('you', False), ('mean', False), ('!', False), ('when', True), ('you', True), ('travel', True), ('out', True), ('there', True), (',', True), ('do', True), ('you', True), ('say', True), ('to', True), ('the', True), ('driver', True), (',', True), ('``', True), ('i', True), (\"'d\", True), ('like', True), ('to', True), ('go', True), ('to', True), ('my', True), ('tennis', True), ('center', True), ('?', True), (\"''\", True), ('why', True), ('so', True), ('beautiful', True), ('louisa', True), ('chirico', True), ('well', True), ('if', True), ('you', True), ('listen', True), ('to', True), ('msnbc', True), ('.', True), ('he', True), (\"'s\", True), ('our', True), ('great', True), ('best', True), ('hope', True), ('.', True), ('haha', True), ('.', True), ('they', True), ('still', True), ('have', True), ('tingles', True), ('but', True), ('many', True), ('have', True), ('been', True), ('jumping', True), ('ship', True), ('.', True), ('lol', True), ('something', True), ('for', True), ('fiber', True), ('artists', True), ('and', True), ('mathematicians', True), ('and', True), ('craft', True), ('artists', True), ('and', True), ('....', True)]\n"
     ]
    },
    {
     "data": {
      "text/html": [
       "<div>\n",
       "<style scoped>\n",
       "    .dataframe tbody tr th:only-of-type {\n",
       "        vertical-align: middle;\n",
       "    }\n",
       "\n",
       "    .dataframe tbody tr th {\n",
       "        vertical-align: top;\n",
       "    }\n",
       "\n",
       "    .dataframe thead th {\n",
       "        text-align: right;\n",
       "    }\n",
       "</style>\n",
       "<table border=\"1\" class=\"dataframe\">\n",
       "  <thead>\n",
       "    <tr style=\"text-align: right;\">\n",
       "      <th></th>\n",
       "      <th>Vocabulaire</th>\n",
       "      <th>Freq-positive</th>\n",
       "      <th>Freq-négative</th>\n",
       "    </tr>\n",
       "  </thead>\n",
       "  <tbody>\n",
       "    <tr>\n",
       "      <th>0</th>\n",
       "      <td>happy</td>\n",
       "      <td>2</td>\n",
       "      <td>3</td>\n",
       "    </tr>\n",
       "    <tr>\n",
       "      <th>1</th>\n",
       "      <td>3</td>\n",
       "      <td>4</td>\n",
       "      <td>5</td>\n",
       "    </tr>\n",
       "  </tbody>\n",
       "</table>\n",
       "</div>"
      ],
      "text/plain": [
       "  Vocabulaire  Freq-positive  Freq-négative\n",
       "0       happy              2              3\n",
       "1           3              4              5"
      ]
     },
     "execution_count": 340,
     "metadata": {},
     "output_type": "execute_result"
    }
   ],
   "source": [
    "import pandas as pd\n",
    "corpus = test_data\n",
    "voc = []\n",
    "freq_pos = []\n",
    "freq_neg = []\n",
    "\n",
    "dict = {\n",
    "  \"mot\": \"\",\n",
    "  \"classe\": 0\n",
    "}\n",
    "\n",
    "dictionnaries = []\n",
    "\n",
    "listOfTokens = []\n",
    "\n",
    "# for sentences in corpus[0] :       \n",
    "#     tokenList = nltk.word_tokenize(sentences)\n",
    "#     for token in tokenList :\n",
    "#         listOfTokens.append(token)\n",
    "# voc = list(dict.fromkeys(listOfTokens))\n",
    "# print(len(voc))\n",
    "\n",
    "for i in range(len(corpus[0])) :\n",
    "    tokenList = nltk.word_tokenize(corpus[0][i])\n",
    "    for token in tokenList :\n",
    "        listOfTokens.append(token)\n",
    "        dic = {\"mot\" : token, \"classe\": corpus[1][i]}\n",
    "#         dictionnaries = \n",
    "        dictionnaries.append((token,corpus[1][i]))\n",
    "#     listOfTokens = list(dict.fromkeys(listOfTokens))\n",
    "\n",
    "print(dictionnaries)\n",
    "    \n",
    "# for i in range(len(dictionnaries)):\n",
    "#     dictionnaries = list(dict.fromkeys(dictionnaries))\n",
    "\n",
    "\n",
    "\n",
    "# for i in voc :\n",
    "#     dictionnaries.append(dict = {\"mot\": token , \"classe\": 0})\n",
    "    \n",
    "\n",
    "# for sentences in corpus[1] :\n",
    "    \n",
    "\n",
    "# for sentences in corpus[2] :\n",
    "    \n",
    "    \n",
    "# data = [['happy', 2, 3], [3, 4, 5]]\n",
    "pd.DataFrame(data, columns=[\"Vocabulaire\", \"Freq-positive\", \"Freq-négative\"])"
   ]
  },
  {
   "cell_type": "markdown",
   "metadata": {
    "heading_collapsed": true
   },
   "source": [
    "## 3. Évaluation et discussion"
   ]
  },
  {
   "cell_type": "markdown",
   "metadata": {
    "hidden": true
   },
   "source": [
    "#### a) Pour déterminer la performance de vos modèles, vous devez tester vos modèles de classification sur l’ensemble de test et générer vos résultats pour chaque modèle dans une table avec les métriques suivantes : Accuracy et pour chaque classe, la précision, le rappel et le F1 score. On doit voir cette table générée dans votre notebook avec la liste de vos modèles de la section 2 et leurs performances respectives. "
   ]
  },
  {
   "cell_type": "code",
   "execution_count": 313,
   "metadata": {
    "hidden": true
   },
   "outputs": [
    {
     "ename": "ValueError",
     "evalue": "Found input variables with inconsistent numbers of samples: [18399, 9041]",
     "output_type": "error",
     "traceback": [
      "\u001b[0;31m---------------------------------------------------------------------------\u001b[0m",
      "\u001b[0;31mValueError\u001b[0m                                Traceback (most recent call last)",
      "\u001b[0;32m<ipython-input-313-a70efacf2a71>\u001b[0m in \u001b[0;36m<module>\u001b[0;34m\u001b[0m\n\u001b[0;32m----> 1\u001b[0;31m \u001b[0my_pred_bayes\u001b[0m \u001b[0;34m=\u001b[0m \u001b[0mnaiveBayes\u001b[0m\u001b[0;34m(\u001b[0m\u001b[0mtraining_data\u001b[0m\u001b[0;34m,\u001b[0m \u001b[0mtesting_data\u001b[0m\u001b[0;34m)\u001b[0m\u001b[0;34m\u001b[0m\u001b[0;34m\u001b[0m\u001b[0m\n\u001b[0m\u001b[1;32m      2\u001b[0m \u001b[0;31m# print(classification_report(test_data[1], y_pred_bayes))\u001b[0m\u001b[0;34m\u001b[0m\u001b[0;34m\u001b[0m\u001b[0;34m\u001b[0m\u001b[0m\n",
      "\u001b[0;32m<ipython-input-311-8e2560cbcbad>\u001b[0m in \u001b[0;36mnaiveBayes\u001b[0;34m(train_data, test_data)\u001b[0m\n\u001b[1;32m      3\u001b[0m     \u001b[0mvectors\u001b[0m \u001b[0;34m=\u001b[0m \u001b[0mvectorizer\u001b[0m\u001b[0;34m.\u001b[0m\u001b[0mfit_transform\u001b[0m\u001b[0;34m(\u001b[0m\u001b[0mtrain_data\u001b[0m\u001b[0;34m[\u001b[0m\u001b[0;36m0\u001b[0m\u001b[0;34m]\u001b[0m\u001b[0;34m)\u001b[0m\u001b[0;34m\u001b[0m\u001b[0;34m\u001b[0m\u001b[0m\n\u001b[1;32m      4\u001b[0m     \u001b[0mclf\u001b[0m \u001b[0;34m=\u001b[0m \u001b[0mMultinomialNB\u001b[0m\u001b[0;34m(\u001b[0m\u001b[0malpha\u001b[0m\u001b[0;34m=\u001b[0m\u001b[0;36m0.5\u001b[0m\u001b[0;34m)\u001b[0m\u001b[0;34m\u001b[0m\u001b[0;34m\u001b[0m\u001b[0m\n\u001b[0;32m----> 5\u001b[0;31m     \u001b[0mclf\u001b[0m\u001b[0;34m.\u001b[0m\u001b[0mfit\u001b[0m\u001b[0;34m(\u001b[0m\u001b[0mvectors\u001b[0m\u001b[0;34m,\u001b[0m \u001b[0mtrain_data\u001b[0m\u001b[0;34m[\u001b[0m\u001b[0;36m1\u001b[0m\u001b[0;34m]\u001b[0m\u001b[0;34m)\u001b[0m\u001b[0;34m\u001b[0m\u001b[0;34m\u001b[0m\u001b[0m\n\u001b[0m\u001b[1;32m      6\u001b[0m \u001b[0;34m\u001b[0m\u001b[0m\n\u001b[1;32m      7\u001b[0m     \u001b[0mvectors_test\u001b[0m \u001b[0;34m=\u001b[0m \u001b[0mvectorizer\u001b[0m\u001b[0;34m.\u001b[0m\u001b[0mtransform\u001b[0m\u001b[0;34m(\u001b[0m\u001b[0mtest_data\u001b[0m\u001b[0;34m)\u001b[0m\u001b[0;34m\u001b[0m\u001b[0;34m\u001b[0m\u001b[0m\n",
      "\u001b[0;32m/Applications/anaconda3/lib/python3.8/site-packages/sklearn/naive_bayes.py\u001b[0m in \u001b[0;36mfit\u001b[0;34m(self, X, y, sample_weight)\u001b[0m\n\u001b[1;32m    613\u001b[0m         \u001b[0mself\u001b[0m \u001b[0;34m:\u001b[0m \u001b[0mobject\u001b[0m\u001b[0;34m\u001b[0m\u001b[0;34m\u001b[0m\u001b[0m\n\u001b[1;32m    614\u001b[0m         \"\"\"\n\u001b[0;32m--> 615\u001b[0;31m         \u001b[0mX\u001b[0m\u001b[0;34m,\u001b[0m \u001b[0my\u001b[0m \u001b[0;34m=\u001b[0m \u001b[0mself\u001b[0m\u001b[0;34m.\u001b[0m\u001b[0m_check_X_y\u001b[0m\u001b[0;34m(\u001b[0m\u001b[0mX\u001b[0m\u001b[0;34m,\u001b[0m \u001b[0my\u001b[0m\u001b[0;34m)\u001b[0m\u001b[0;34m\u001b[0m\u001b[0;34m\u001b[0m\u001b[0m\n\u001b[0m\u001b[1;32m    616\u001b[0m         \u001b[0m_\u001b[0m\u001b[0;34m,\u001b[0m \u001b[0mn_features\u001b[0m \u001b[0;34m=\u001b[0m \u001b[0mX\u001b[0m\u001b[0;34m.\u001b[0m\u001b[0mshape\u001b[0m\u001b[0;34m\u001b[0m\u001b[0;34m\u001b[0m\u001b[0m\n\u001b[1;32m    617\u001b[0m         \u001b[0mself\u001b[0m\u001b[0;34m.\u001b[0m\u001b[0mn_features_\u001b[0m \u001b[0;34m=\u001b[0m \u001b[0mn_features\u001b[0m\u001b[0;34m\u001b[0m\u001b[0;34m\u001b[0m\u001b[0m\n",
      "\u001b[0;32m/Applications/anaconda3/lib/python3.8/site-packages/sklearn/naive_bayes.py\u001b[0m in \u001b[0;36m_check_X_y\u001b[0;34m(self, X, y)\u001b[0m\n\u001b[1;32m    478\u001b[0m \u001b[0;34m\u001b[0m\u001b[0m\n\u001b[1;32m    479\u001b[0m     \u001b[0;32mdef\u001b[0m \u001b[0m_check_X_y\u001b[0m\u001b[0;34m(\u001b[0m\u001b[0mself\u001b[0m\u001b[0;34m,\u001b[0m \u001b[0mX\u001b[0m\u001b[0;34m,\u001b[0m \u001b[0my\u001b[0m\u001b[0;34m)\u001b[0m\u001b[0;34m:\u001b[0m\u001b[0;34m\u001b[0m\u001b[0;34m\u001b[0m\u001b[0m\n\u001b[0;32m--> 480\u001b[0;31m         \u001b[0;32mreturn\u001b[0m \u001b[0mself\u001b[0m\u001b[0;34m.\u001b[0m\u001b[0m_validate_data\u001b[0m\u001b[0;34m(\u001b[0m\u001b[0mX\u001b[0m\u001b[0;34m,\u001b[0m \u001b[0my\u001b[0m\u001b[0;34m,\u001b[0m \u001b[0maccept_sparse\u001b[0m\u001b[0;34m=\u001b[0m\u001b[0;34m'csr'\u001b[0m\u001b[0;34m)\u001b[0m\u001b[0;34m\u001b[0m\u001b[0;34m\u001b[0m\u001b[0m\n\u001b[0m\u001b[1;32m    481\u001b[0m \u001b[0;34m\u001b[0m\u001b[0m\n\u001b[1;32m    482\u001b[0m     \u001b[0;32mdef\u001b[0m \u001b[0m_update_class_log_prior\u001b[0m\u001b[0;34m(\u001b[0m\u001b[0mself\u001b[0m\u001b[0;34m,\u001b[0m \u001b[0mclass_prior\u001b[0m\u001b[0;34m=\u001b[0m\u001b[0;32mNone\u001b[0m\u001b[0;34m)\u001b[0m\u001b[0;34m:\u001b[0m\u001b[0;34m\u001b[0m\u001b[0;34m\u001b[0m\u001b[0m\n",
      "\u001b[0;32m/Applications/anaconda3/lib/python3.8/site-packages/sklearn/base.py\u001b[0m in \u001b[0;36m_validate_data\u001b[0;34m(self, X, y, reset, validate_separately, **check_params)\u001b[0m\n\u001b[1;32m    430\u001b[0m                 \u001b[0my\u001b[0m \u001b[0;34m=\u001b[0m \u001b[0mcheck_array\u001b[0m\u001b[0;34m(\u001b[0m\u001b[0my\u001b[0m\u001b[0;34m,\u001b[0m \u001b[0;34m**\u001b[0m\u001b[0mcheck_y_params\u001b[0m\u001b[0;34m)\u001b[0m\u001b[0;34m\u001b[0m\u001b[0;34m\u001b[0m\u001b[0m\n\u001b[1;32m    431\u001b[0m             \u001b[0;32melse\u001b[0m\u001b[0;34m:\u001b[0m\u001b[0;34m\u001b[0m\u001b[0;34m\u001b[0m\u001b[0m\n\u001b[0;32m--> 432\u001b[0;31m                 \u001b[0mX\u001b[0m\u001b[0;34m,\u001b[0m \u001b[0my\u001b[0m \u001b[0;34m=\u001b[0m \u001b[0mcheck_X_y\u001b[0m\u001b[0;34m(\u001b[0m\u001b[0mX\u001b[0m\u001b[0;34m,\u001b[0m \u001b[0my\u001b[0m\u001b[0;34m,\u001b[0m \u001b[0;34m**\u001b[0m\u001b[0mcheck_params\u001b[0m\u001b[0;34m)\u001b[0m\u001b[0;34m\u001b[0m\u001b[0;34m\u001b[0m\u001b[0m\n\u001b[0m\u001b[1;32m    433\u001b[0m             \u001b[0mout\u001b[0m \u001b[0;34m=\u001b[0m \u001b[0mX\u001b[0m\u001b[0;34m,\u001b[0m \u001b[0my\u001b[0m\u001b[0;34m\u001b[0m\u001b[0;34m\u001b[0m\u001b[0m\n\u001b[1;32m    434\u001b[0m \u001b[0;34m\u001b[0m\u001b[0m\n",
      "\u001b[0;32m/Applications/anaconda3/lib/python3.8/site-packages/sklearn/utils/validation.py\u001b[0m in \u001b[0;36minner_f\u001b[0;34m(*args, **kwargs)\u001b[0m\n\u001b[1;32m     71\u001b[0m                           FutureWarning)\n\u001b[1;32m     72\u001b[0m         \u001b[0mkwargs\u001b[0m\u001b[0;34m.\u001b[0m\u001b[0mupdate\u001b[0m\u001b[0;34m(\u001b[0m\u001b[0;34m{\u001b[0m\u001b[0mk\u001b[0m\u001b[0;34m:\u001b[0m \u001b[0marg\u001b[0m \u001b[0;32mfor\u001b[0m \u001b[0mk\u001b[0m\u001b[0;34m,\u001b[0m \u001b[0marg\u001b[0m \u001b[0;32min\u001b[0m \u001b[0mzip\u001b[0m\u001b[0;34m(\u001b[0m\u001b[0msig\u001b[0m\u001b[0;34m.\u001b[0m\u001b[0mparameters\u001b[0m\u001b[0;34m,\u001b[0m \u001b[0margs\u001b[0m\u001b[0;34m)\u001b[0m\u001b[0;34m}\u001b[0m\u001b[0;34m)\u001b[0m\u001b[0;34m\u001b[0m\u001b[0;34m\u001b[0m\u001b[0m\n\u001b[0;32m---> 73\u001b[0;31m         \u001b[0;32mreturn\u001b[0m \u001b[0mf\u001b[0m\u001b[0;34m(\u001b[0m\u001b[0;34m**\u001b[0m\u001b[0mkwargs\u001b[0m\u001b[0;34m)\u001b[0m\u001b[0;34m\u001b[0m\u001b[0;34m\u001b[0m\u001b[0m\n\u001b[0m\u001b[1;32m     74\u001b[0m     \u001b[0;32mreturn\u001b[0m \u001b[0minner_f\u001b[0m\u001b[0;34m\u001b[0m\u001b[0;34m\u001b[0m\u001b[0m\n\u001b[1;32m     75\u001b[0m \u001b[0;34m\u001b[0m\u001b[0m\n",
      "\u001b[0;32m/Applications/anaconda3/lib/python3.8/site-packages/sklearn/utils/validation.py\u001b[0m in \u001b[0;36mcheck_X_y\u001b[0;34m(X, y, accept_sparse, accept_large_sparse, dtype, order, copy, force_all_finite, ensure_2d, allow_nd, multi_output, ensure_min_samples, ensure_min_features, y_numeric, estimator)\u001b[0m\n\u001b[1;32m    811\u001b[0m         \u001b[0my\u001b[0m \u001b[0;34m=\u001b[0m \u001b[0my\u001b[0m\u001b[0;34m.\u001b[0m\u001b[0mastype\u001b[0m\u001b[0;34m(\u001b[0m\u001b[0mnp\u001b[0m\u001b[0;34m.\u001b[0m\u001b[0mfloat64\u001b[0m\u001b[0;34m)\u001b[0m\u001b[0;34m\u001b[0m\u001b[0;34m\u001b[0m\u001b[0m\n\u001b[1;32m    812\u001b[0m \u001b[0;34m\u001b[0m\u001b[0m\n\u001b[0;32m--> 813\u001b[0;31m     \u001b[0mcheck_consistent_length\u001b[0m\u001b[0;34m(\u001b[0m\u001b[0mX\u001b[0m\u001b[0;34m,\u001b[0m \u001b[0my\u001b[0m\u001b[0;34m)\u001b[0m\u001b[0;34m\u001b[0m\u001b[0;34m\u001b[0m\u001b[0m\n\u001b[0m\u001b[1;32m    814\u001b[0m \u001b[0;34m\u001b[0m\u001b[0m\n\u001b[1;32m    815\u001b[0m     \u001b[0;32mreturn\u001b[0m \u001b[0mX\u001b[0m\u001b[0;34m,\u001b[0m \u001b[0my\u001b[0m\u001b[0;34m\u001b[0m\u001b[0;34m\u001b[0m\u001b[0m\n",
      "\u001b[0;32m/Applications/anaconda3/lib/python3.8/site-packages/sklearn/utils/validation.py\u001b[0m in \u001b[0;36mcheck_consistent_length\u001b[0;34m(*arrays)\u001b[0m\n\u001b[1;32m    254\u001b[0m     \u001b[0muniques\u001b[0m \u001b[0;34m=\u001b[0m \u001b[0mnp\u001b[0m\u001b[0;34m.\u001b[0m\u001b[0munique\u001b[0m\u001b[0;34m(\u001b[0m\u001b[0mlengths\u001b[0m\u001b[0;34m)\u001b[0m\u001b[0;34m\u001b[0m\u001b[0;34m\u001b[0m\u001b[0m\n\u001b[1;32m    255\u001b[0m     \u001b[0;32mif\u001b[0m \u001b[0mlen\u001b[0m\u001b[0;34m(\u001b[0m\u001b[0muniques\u001b[0m\u001b[0;34m)\u001b[0m \u001b[0;34m>\u001b[0m \u001b[0;36m1\u001b[0m\u001b[0;34m:\u001b[0m\u001b[0;34m\u001b[0m\u001b[0;34m\u001b[0m\u001b[0m\n\u001b[0;32m--> 256\u001b[0;31m         raise ValueError(\"Found input variables with inconsistent numbers of\"\n\u001b[0m\u001b[1;32m    257\u001b[0m                          \" samples: %r\" % [int(l) for l in lengths])\n\u001b[1;32m    258\u001b[0m \u001b[0;34m\u001b[0m\u001b[0m\n",
      "\u001b[0;31mValueError\u001b[0m: Found input variables with inconsistent numbers of samples: [18399, 9041]"
     ]
    }
   ],
   "source": [
    "y_pred_bayes = naiveBayes(training_data, testing_data)\n",
    "# print(classification_report(test_data[1], y_pred_bayes))"
   ]
  },
  {
   "cell_type": "code",
   "execution_count": 284,
   "metadata": {},
   "outputs": [
    {
     "name": "stdout",
     "output_type": "stream",
     "text": [
      "              precision    recall  f1-score   support\n",
      "\n",
      "       False       0.80      0.53      0.64       254\n",
      "        True       0.86      0.95      0.90       751\n",
      "\n",
      "    accuracy                           0.85      1005\n",
      "   macro avg       0.83      0.74      0.77      1005\n",
      "weighted avg       0.84      0.85      0.84      1005\n",
      "\n"
     ]
    }
   ],
   "source": [
    "y_pred_regression = logisticsRegression(train_data, test_data)\n",
    "print(classification_report(test_data[1], y_pred_regression))"
   ]
  },
  {
   "cell_type": "markdown",
   "metadata": {
    "heading_collapsed": true,
    "hidden": true
   },
   "source": [
    "#### b) Générez un graphique qui représente la performance moyenne (mean accuracy – 10 Fold cross-validation) de vos différents modèles par tranches de 500 textes sur l’ensemble d’entrainement."
   ]
  },
  {
   "cell_type": "code",
   "execution_count": null,
   "metadata": {
    "hidden": true
   },
   "outputs": [],
   "source": []
  },
  {
   "cell_type": "markdown",
   "metadata": {
    "hidden": true
   },
   "source": [
    "#### c) Que se passe-t-il lorsque le paramètre de régularisation de la régression logisque (C) est augmenté ?"
   ]
  },
  {
   "cell_type": "code",
   "execution_count": null,
   "metadata": {
    "hidden": true
   },
   "outputs": [],
   "source": []
  },
  {
   "cell_type": "markdown",
   "metadata": {},
   "source": [
    "## 4. Analyse et discussion"
   ]
  },
  {
   "cell_type": "markdown",
   "metadata": {},
   "source": [
    "#### a) En considérant les deux types de représentations, répondez aux question suivantes en reportant la question dans le notebook et en inscrivant votre réponse:"
   ]
  },
  {
   "cell_type": "markdown",
   "metadata": {},
   "source": [
    "#### b) Quel est l’impact de l’annotation de la négation ?"
   ]
  },
  {
   "cell_type": "code",
   "execution_count": null,
   "metadata": {},
   "outputs": [],
   "source": []
  },
  {
   "cell_type": "markdown",
   "metadata": {},
   "source": [
    "#### c) La suppression des stopwords est-elle une bonne idée pour l’analyse de sentiments ?"
   ]
  },
  {
   "cell_type": "code",
   "execution_count": null,
   "metadata": {},
   "outputs": [],
   "source": []
  },
  {
   "cell_type": "markdown",
   "metadata": {},
   "source": [
    "#### d) Le stemming et/ou la lemmatisation sont-ils souhaitables dans le cadre de l’analyse de sentiments ?"
   ]
  },
  {
   "cell_type": "code",
   "execution_count": null,
   "metadata": {},
   "outputs": [],
   "source": []
  },
  {
   "cell_type": "markdown",
   "metadata": {},
   "source": [
    "## 5. Contribution"
   ]
  },
  {
   "cell_type": "markdown",
   "metadata": {},
   "source": [
    "Complétez la section en haut du notebook indiquant la contribution de chaque membre de l’équipe en indiquant ce qui a été effectué par chaque membre et le pourcentage d’effort du membre dans le TP. "
   ]
  },
  {
   "cell_type": "code",
   "execution_count": null,
   "metadata": {},
   "outputs": [],
   "source": []
  },
  {
   "cell_type": "code",
   "execution_count": null,
   "metadata": {},
   "outputs": [],
   "source": []
  }
 ],
 "metadata": {
  "kernelspec": {
   "display_name": "Python 3",
   "language": "python",
   "name": "python3"
  },
  "language_info": {
   "codemirror_mode": {
    "name": "ipython",
    "version": 3
   },
   "file_extension": ".py",
   "mimetype": "text/x-python",
   "name": "python",
   "nbconvert_exporter": "python",
   "pygments_lexer": "ipython3",
   "version": "3.8.3"
  }
 },
 "nbformat": 4,
 "nbformat_minor": 4
}
