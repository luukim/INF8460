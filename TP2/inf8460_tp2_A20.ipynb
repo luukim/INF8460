{
 "cells": [
  {
   "cell_type": "markdown",
   "metadata": {
    "id": "XYaltRsowqfU"
   },
   "source": [
    "## École Polytechnique de Montréal\n",
    "## Département Génie Informatique et Génie Logiciel\n",
    "\n",
    "## INF8460 – Traitement automatique de la langue naturelle - TP2"
   ]
  },
  {
   "cell_type": "markdown",
   "metadata": {
    "id": "92idNN-XwvMP"
   },
   "source": [
    "## Objectifs d'apprentissage: \n",
    "\n",
    "•\tExplorer les modèles d’espace vectoriel (vector space models) comme représentations distribuées de la sémantique des mots \n",
    "•\tImplémenter la fréquence de co-occurrence et la PPMI\n",
    "•\tComprendre différentes mesures de distance entre vecteurs de mots \n",
    "•\tExplorer l’intérêt de la réduction de dimensionnalité \n",
    "\n"
   ]
  },
  {
   "cell_type": "markdown",
   "metadata": {
    "id": "wEoOfK-Rw3zT"
   },
   "source": [
    "## Équipe et contributions \n",
    "Veuillez indiquer la contribution effective de chaque membre de l'équipe en pourcentage et en indiquant les modules ou questions sur lesquelles chaque membre a travaillé"
   ]
  },
  {
   "cell_type": "markdown",
   "metadata": {
    "id": "a0mJOdtlw4xC"
   },
   "source": [
    "Luu Thien-Kim: x% (détail)\n",
    "\n",
    "Nom Étudiant 2: x% (détail)\n",
    "\n",
    "Nom Étudiant 3: x% (détail)"
   ]
  },
  {
   "cell_type": "markdown",
   "metadata": {
    "id": "qu3pnt6mPiNZ"
   },
   "source": [
    "\n",
    "\n",
    "## Support de google Colab\n",
    "\n"
   ]
  },
  {
   "cell_type": "code",
   "execution_count": 81,
   "metadata": {
    "id": "x-U9ANA6ZV27",
    "tags": []
   },
   "outputs": [],
   "source": [
    "# !wget http://ai.stanford.edu/~amaas/data/sentiment/aclImdb_v1.tar.gz\n",
    "# !wget https://staff.fnwi.uva.nl/e.bruni/resources/MEN.tar.gz"
   ]
  },
  {
   "cell_type": "code",
   "execution_count": 82,
   "metadata": {
    "id": "mVrz-1_uZApz",
    "tags": []
   },
   "outputs": [],
   "source": [
    "# ! tar -xzf aclImdb_v1.tar.gz\n",
    "# ! tar -xzf MEN.tar.gz\n",
    "# ! mkdir -p vsm"
   ]
  },
  {
   "cell_type": "code",
   "execution_count": 83,
   "metadata": {
    "colab": {
     "base_uri": "https://localhost:8080/",
     "height": 102
    },
    "id": "rK102dx5Poti",
    "outputId": "35afe599-60b2-4bfd-d5da-debb0d73bb5c"
   },
   "outputs": [
    {
     "name": "stderr",
     "output_type": "stream",
     "text": [
      "[nltk_data] Downloading package stopwords to\n",
      "[nltk_data]     /Users/mouradyounes/nltk_data...\n",
      "[nltk_data]   Package stopwords is already up-to-date!\n",
      "[nltk_data] Downloading package punkt to\n",
      "[nltk_data]     /Users/mouradyounes/nltk_data...\n",
      "[nltk_data]   Package punkt is already up-to-date!\n"
     ]
    },
    {
     "data": {
      "text/plain": [
       "True"
      ]
     },
     "execution_count": 83,
     "metadata": {},
     "output_type": "execute_result"
    }
   ],
   "source": [
    "import nltk\n",
    "nltk.download('stopwords')\n",
    "nltk.download('punkt')"
   ]
  },
  {
   "cell_type": "markdown",
   "metadata": {
    "id": "TewW7eDjPbjs"
   },
   "source": [
    "## Librairies externes"
   ]
  },
  {
   "cell_type": "code",
   "execution_count": 84,
   "metadata": {
    "id": "kClu3RY7YFfv"
   },
   "outputs": [],
   "source": [
    "from collections import Counter, defaultdict\n",
    "from itertools import chain\n",
    "import csv\n",
    "import itertools\n",
    "import numpy as np\n",
    "import os\n",
    "import pandas as pd\n",
    "\n",
    "from nltk.corpus import stopwords as all_stopwords\n",
    "from nltk import word_tokenize\n",
    "\n",
    "from scipy.stats import spearmanr\n",
    "from scipy.spatial.distance import euclidean, cosine\n",
    "from IPython.display import display\n",
    "from sklearn.decomposition import TruncatedSVD"
   ]
  },
  {
   "cell_type": "markdown",
   "metadata": {
    "id": "7oRJolmeRlxW"
   },
   "source": [
    "## Valeurs globales"
   ]
  },
  {
   "cell_type": "code",
   "execution_count": 85,
   "metadata": {
    "id": "QqfHWnRoRlFY"
   },
   "outputs": [],
   "source": [
    "DIRNAME_ACL =  os.path.join(os.getcwd(), \"aclImdb\")\n",
    "DIRNAME_MEN =  os.path.join(os.getcwd(), \"MEN\")\n",
    "DIRNAME_VSM =  os.path.join(os.getcwd(), \"vsm\")"
   ]
  },
  {
   "cell_type": "markdown",
   "metadata": {
    "heading_collapsed": true,
    "id": "hGQ15KsihAOp"
   },
   "source": [
    "## 1. Prétraitement (20 points)\n",
    "\n",
    "**a)**\tLe jeu de données est séparé en deux répertoires `train/`et `test`, chacun contenant eux-mêmes deux sous-répertoires `pos/` et `neg/` pour les revues positives et négatives. Un fichier `readme` décrit plus précisément les données. Commencez par lire ces données, en gardant séparées les données d'entraînement et de test. La fonction doit mettre les mots en minuscules,  supprimer les stopwords (vous devez utiliser ceux de NLTK) et afficher le nombre total de phrases d’entrainement,  le nombre total de phrases d’entrainement positives et négatives et le nombre total de phrases de test avec le nombre total de phrases de test positives et négatives ;"
   ]
  },
  {
   "cell_type": "code",
   "execution_count": 86,
   "metadata": {
    "id": "U25ZTtBGO39i"
   },
   "outputs": [],
   "source": [
    "import os\n",
    "all_stopwords.words(\"english\")\n",
    "stopwords_english = set(all_stopwords.words(\"english\"))\n",
    "\n",
    "TRAIN_POS_DIRECTORY = DIRNAME_ACL + '/train/pos'\n",
    "TRAIN_NEG_DIRECTORY = DIRNAME_ACL + '/train/neg'\n",
    "TEST_POS_DIRECTORY = DIRNAME_ACL + '/test/pos'\n",
    "TEST_NEG_DIRECTORY = DIRNAME_ACL + '/test/neg'\n",
    "\n",
    "tokenizer = nltk.RegexpTokenizer(r\"\\w+\") #enlève toutes les ponctuations des phrases\n",
    "\n",
    "#List[List[]] telle que [[tokens du texte 1], [tokens du texte 2], ...]\n",
    "trainingSet = [] \n",
    "testingSet = []"
   ]
  },
  {
   "cell_type": "code",
   "execution_count": 87,
   "metadata": {
    "hidden": true,
    "id": "5Lk9pYtUKWvf"
   },
   "outputs": [],
   "source": [
    "def getInfo() :\n",
    "    train_pos_files = os.listdir(TRAIN_POS_DIRECTORY)\n",
    "    train_neg_files = os.listdir(TRAIN_NEG_DIRECTORY)\n",
    "    test_pos_files = os.listdir(TEST_POS_DIRECTORY)\n",
    "    test_neg_files = os.listdir(TEST_NEG_DIRECTORY)\n",
    "    \n",
    "    files = [train_pos_files, train_neg_files, test_pos_files, test_neg_files]\n",
    "    \n",
    "    training_sentences_nb = 0\n",
    "    training_sentences_pos_nb = 0\n",
    "    training_sentences_neg_nb = 0\n",
    "\n",
    "    testing_sentences_nb = 0\n",
    "    testing_sentences_pos_nb = 0\n",
    "    testing_sentences_neg_nb = 0\n",
    "    \n",
    "    for listOfFiles in files :\n",
    "        directory = \"\"\n",
    "        if listOfFiles == train_pos_files :\n",
    "            directory = TRAIN_POS_DIRECTORY\n",
    "        elif listOfFiles == train_neg_files :\n",
    "            directory = TRAIN_NEG_DIRECTORY\n",
    "        elif listOfFiles == test_pos_files :\n",
    "            directory = TEST_POS_DIRECTORY\n",
    "        elif listOfFiles == test_neg_files :\n",
    "            directory = TEST_NEG_DIRECTORY\n",
    "            \n",
    "        for file in listOfFiles:\n",
    "            with open(directory + '/' + file, \"r\") as f:\n",
    "                data = list(f)[0].lower()       \n",
    "                tokens = [token for token in tokenizer.tokenize(data) if token not in stopwords_english] #enlève toutes les ponctuations des phrases\n",
    "                data = [token for token in nltk.word_tokenize(data) if token not in stopwords_english]\n",
    "                data = ' '.join(data)\n",
    "                \n",
    "                if \"train\" in directory :\n",
    "                    trainingSet.append(tokens)\n",
    "                    if \"pos\" in directory : \n",
    "                        training_sentences_pos_nb += len(nltk.sent_tokenize(data))\n",
    "                    elif \"neg\" in directory :\n",
    "                        training_sentences_neg_nb += len(nltk.sent_tokenize(data))\n",
    "                    \n",
    "                elif \"test\" in directory :\n",
    "                    testingSet.append(tokens)\n",
    "                    if \"pos\" in directory : \n",
    "                        testing_sentences_pos_nb += len(nltk.sent_tokenize(data))\n",
    "                    elif \"neg\" in directory :\n",
    "                        testing_sentences_neg_nb += len(nltk.sent_tokenize(data))\n",
    "            \n",
    "    training_sentences_nb = training_sentences_pos_nb + training_sentences_neg_nb\n",
    "    testing_sentences_nb = testing_sentences_pos_nb + testing_sentences_neg_nb\n",
    "    \n",
    "    print(\"nombre total de phrases d’entrainement : \", training_sentences_nb)\n",
    "    print(\"nombre total de phrases d’entrainement positives : \", training_sentences_pos_nb)\n",
    "    print(\"nombre total de phrases d’entrainement négatives : \", training_sentences_neg_nb)        \n",
    "    \n",
    "    print(\"nombre total de phrases de test : \", testing_sentences_nb)\n",
    "    print(\"nombre total de phrases de test positives : \", testing_sentences_pos_nb)\n",
    "    print(\"nombre total de phrases de test négatives : \", testing_sentences_neg_nb)     \n",
    "    \n",
    "#     return training_sentences_nb, training_sentences_pos_nb, training_sentences_neg_nb, testing_sentences_nb, testing_sentences_pos_nb, testing_sentences_neg_nb"
   ]
  },
  {
   "cell_type": "code",
   "execution_count": 88,
   "metadata": {
    "id": "QyrcQloEO8Hj"
   },
   "outputs": [
    {
     "name": "stdout",
     "output_type": "stream",
     "text": [
      "nombre total de phrases d’entrainement :  316801\n",
      "nombre total de phrases d’entrainement positives :  153934\n",
      "nombre total de phrases d’entrainement négatives :  162867\n",
      "nombre total de phrases de test :  310594\n",
      "nombre total de phrases de test positives :  150268\n",
      "nombre total de phrases de test négatives :  160326\n"
     ]
    }
   ],
   "source": [
    "getInfo()"
   ]
  },
  {
   "cell_type": "markdown",
   "metadata": {
    "hidden": true,
    "id": "_tVXpVcSh9eY"
   },
   "source": [
    "**a)**\tCréez la fonction `build_voc()` qui extrait les unigrammes de l’ensemble d’entraînement et conserve ceux qui ont une fréquence d’occurrence d'au moins 5 et imprime le nombre de mots dans le vocabulaire. Sauvegardez-le dans un fichier `vocab.txt` (un mot par ligne) dans le répertoire aclImdb."
   ]
  },
  {
   "cell_type": "code",
   "execution_count": 89,
   "metadata": {
    "hidden": true,
    "id": "9IVMVY3Qhx3L"
   },
   "outputs": [],
   "source": [
    "def build_voc(corpus, unk_cutoff=5):\n",
    "    count = 0\n",
    "    dict_ = {}\n",
    "    \n",
    "    for tokens in trainingSet :\n",
    "        for token in tokens :\n",
    "            if token not in dict_ :\n",
    "                dict_[token] = 0\n",
    "            dict_[token] += 1\n",
    "            \n",
    "    newFilePath = DIRNAME_ACL + '/vocab.txt'\n",
    "    with open(newFilePath, \"w\") as f: \n",
    "        for key in dict_ :\n",
    "            if dict_[key] >= unk_cutoff :\n",
    "                count += 1\n",
    "                f.write(key + \"\\n\")\n",
    "                \n",
    "    print(count)"
   ]
  },
  {
   "cell_type": "code",
   "execution_count": 90,
   "metadata": {
    "colab": {
     "base_uri": "https://localhost:8080/",
     "height": 1000
    },
    "id": "NDR95Q5PaBGQ",
    "outputId": "d12400de-2d7d-41ac-fa99-7a28f9f660e0"
   },
   "outputs": [
    {
     "name": "stdout",
     "output_type": "stream",
     "text": [
      "28962\n"
     ]
    }
   ],
   "source": [
    "build_voc(trainingSet)"
   ]
  },
  {
   "cell_type": "markdown",
   "metadata": {
    "heading_collapsed": true,
    "id": "oEIUW6EpnvQV"
   },
   "source": [
    "## 2. Matrices de co-occurence (30 points)\n",
    "\n",
    "Pour les matrices de cette section, vous pourrez utiliser [des array `numpy`](https://docs.scipy.org/doc/numpy/reference/arrays.ndarray.html) ou des DataFrame [`pandas`](https://pandas.pydata.org/pandas-docs/stable/). \n",
    "\n",
    "Ressources utiles :  le [*quickstart tutorial*](https://numpy.org/devdocs/user/quickstart.html) de numpy et le guide [10 minutes to pandas](https://pandas.pydata.org/pandas-docs/stable/getting_started/10min.html)."
   ]
  },
  {
   "cell_type": "markdown",
   "metadata": {
    "hidden": true,
    "id": "fadNCxBcnyeT"
   },
   "source": [
    "**a)** A partir des textes du corpus d’entrainement (neg/pos), vous devez construire une matrice de co-occurrence mot × mot M(w,w) qui contient les 5000 unigrammes les plus fréquents sous forme de **cadre panda**. Le contexte de co-occurrence est une fenêtre de +/-5 mots autour du mot cible. Le poids est la fréquence de co-occurrence simple. Sauvegardez votre matrice dans un fichier tp2_mat5.csv dans le répertoire vsm.\n",
    "\n",
    "Attention, le mot lui même de doit pas être compté dans sa co-occurence. Exemple : \n",
    "Corpus: [ \"I go to school every day by bus\", \"i go to theatre every night by bus\"]\n",
    "\n",
    "Co-occurence(\"every\", fenetre=2) = [ (to, 2), (by, 2), (school, 1), (day, 1), (theatre, 1), (night, 1), (bus, 0), (every, 0), (go, 0). (i,0) ]"
   ]
  },
  {
   "cell_type": "code",
   "execution_count": 91,
   "metadata": {
    "hidden": true,
    "id": "Y-diwyiPno2k"
   },
   "outputs": [],
   "source": [
    "import re\n",
    "output_path = \"vsm\""
   ]
  },
  {
   "cell_type": "code",
   "execution_count": 92,
   "metadata": {},
   "outputs": [
    {
     "name": "stdout",
     "output_type": "stream",
     "text": [
      "Successfully created the directory tp2_mat5.csv \n",
      "132.90903186798096\n"
     ]
    },
    {
     "data": {
      "text/html": [
       "<div>\n",
       "<style scoped>\n",
       "    .dataframe tbody tr th:only-of-type {\n",
       "        vertical-align: middle;\n",
       "    }\n",
       "\n",
       "    .dataframe tbody tr th {\n",
       "        vertical-align: top;\n",
       "    }\n",
       "\n",
       "    .dataframe thead th {\n",
       "        text-align: right;\n",
       "    }\n",
       "</style>\n",
       "<table border=\"1\" class=\"dataframe\">\n",
       "  <thead>\n",
       "    <tr style=\"text-align: right;\">\n",
       "      <th></th>\n",
       "      <th>movie</th>\n",
       "      <th>gets</th>\n",
       "      <th>respect</th>\n",
       "      <th>sure</th>\n",
       "      <th>lot</th>\n",
       "      <th>memorable</th>\n",
       "      <th>quotes</th>\n",
       "      <th>listed</th>\n",
       "      <th>gem</th>\n",
       "      <th>imagine</th>\n",
       "      <th>...</th>\n",
       "      <th>macarthur</th>\n",
       "      <th>uwe</th>\n",
       "      <th>boll</th>\n",
       "      <th>seagal</th>\n",
       "      <th>porno</th>\n",
       "      <th>zizek</th>\n",
       "      <th>rambo</th>\n",
       "      <th>damme</th>\n",
       "      <th>prom</th>\n",
       "      <th>drivel</th>\n",
       "    </tr>\n",
       "    <tr>\n",
       "      <th>0</th>\n",
       "      <th></th>\n",
       "      <th></th>\n",
       "      <th></th>\n",
       "      <th></th>\n",
       "      <th></th>\n",
       "      <th></th>\n",
       "      <th></th>\n",
       "      <th></th>\n",
       "      <th></th>\n",
       "      <th></th>\n",
       "      <th></th>\n",
       "      <th></th>\n",
       "      <th></th>\n",
       "      <th></th>\n",
       "      <th></th>\n",
       "      <th></th>\n",
       "      <th></th>\n",
       "      <th></th>\n",
       "      <th></th>\n",
       "      <th></th>\n",
       "      <th></th>\n",
       "    </tr>\n",
       "  </thead>\n",
       "  <tbody>\n",
       "    <tr>\n",
       "      <th>movie</th>\n",
       "      <td>0.0</td>\n",
       "      <td>353.0</td>\n",
       "      <td>71.0</td>\n",
       "      <td>493.0</td>\n",
       "      <td>763.0</td>\n",
       "      <td>80.0</td>\n",
       "      <td>14.0</td>\n",
       "      <td>24.0</td>\n",
       "      <td>64.0</td>\n",
       "      <td>117.0</td>\n",
       "      <td>...</td>\n",
       "      <td>4.0</td>\n",
       "      <td>19.0</td>\n",
       "      <td>22.0</td>\n",
       "      <td>26.0</td>\n",
       "      <td>23.0</td>\n",
       "      <td>7.0</td>\n",
       "      <td>10.0</td>\n",
       "      <td>9.0</td>\n",
       "      <td>10.0</td>\n",
       "      <td>13.0</td>\n",
       "    </tr>\n",
       "    <tr>\n",
       "      <th>gets</th>\n",
       "      <td>353.0</td>\n",
       "      <td>0.0</td>\n",
       "      <td>7.0</td>\n",
       "      <td>23.0</td>\n",
       "      <td>46.0</td>\n",
       "      <td>7.0</td>\n",
       "      <td>1.0</td>\n",
       "      <td>1.0</td>\n",
       "      <td>0.0</td>\n",
       "      <td>7.0</td>\n",
       "      <td>...</td>\n",
       "      <td>1.0</td>\n",
       "      <td>0.0</td>\n",
       "      <td>1.0</td>\n",
       "      <td>1.0</td>\n",
       "      <td>2.0</td>\n",
       "      <td>1.0</td>\n",
       "      <td>3.0</td>\n",
       "      <td>3.0</td>\n",
       "      <td>2.0</td>\n",
       "      <td>1.0</td>\n",
       "    </tr>\n",
       "    <tr>\n",
       "      <th>respect</th>\n",
       "      <td>71.0</td>\n",
       "      <td>7.0</td>\n",
       "      <td>0.0</td>\n",
       "      <td>2.0</td>\n",
       "      <td>15.0</td>\n",
       "      <td>2.0</td>\n",
       "      <td>1.0</td>\n",
       "      <td>1.0</td>\n",
       "      <td>0.0</td>\n",
       "      <td>1.0</td>\n",
       "      <td>...</td>\n",
       "      <td>0.0</td>\n",
       "      <td>0.0</td>\n",
       "      <td>0.0</td>\n",
       "      <td>1.0</td>\n",
       "      <td>0.0</td>\n",
       "      <td>0.0</td>\n",
       "      <td>0.0</td>\n",
       "      <td>0.0</td>\n",
       "      <td>0.0</td>\n",
       "      <td>1.0</td>\n",
       "    </tr>\n",
       "    <tr>\n",
       "      <th>sure</th>\n",
       "      <td>493.0</td>\n",
       "      <td>23.0</td>\n",
       "      <td>2.0</td>\n",
       "      <td>0.0</td>\n",
       "      <td>65.0</td>\n",
       "      <td>7.0</td>\n",
       "      <td>3.0</td>\n",
       "      <td>4.0</td>\n",
       "      <td>5.0</td>\n",
       "      <td>9.0</td>\n",
       "      <td>...</td>\n",
       "      <td>0.0</td>\n",
       "      <td>0.0</td>\n",
       "      <td>1.0</td>\n",
       "      <td>2.0</td>\n",
       "      <td>1.0</td>\n",
       "      <td>1.0</td>\n",
       "      <td>2.0</td>\n",
       "      <td>0.0</td>\n",
       "      <td>0.0</td>\n",
       "      <td>1.0</td>\n",
       "    </tr>\n",
       "    <tr>\n",
       "      <th>lot</th>\n",
       "      <td>763.0</td>\n",
       "      <td>46.0</td>\n",
       "      <td>15.0</td>\n",
       "      <td>65.0</td>\n",
       "      <td>0.0</td>\n",
       "      <td>4.0</td>\n",
       "      <td>3.0</td>\n",
       "      <td>2.0</td>\n",
       "      <td>2.0</td>\n",
       "      <td>14.0</td>\n",
       "      <td>...</td>\n",
       "      <td>0.0</td>\n",
       "      <td>2.0</td>\n",
       "      <td>1.0</td>\n",
       "      <td>3.0</td>\n",
       "      <td>0.0</td>\n",
       "      <td>2.0</td>\n",
       "      <td>1.0</td>\n",
       "      <td>0.0</td>\n",
       "      <td>1.0</td>\n",
       "      <td>1.0</td>\n",
       "    </tr>\n",
       "    <tr>\n",
       "      <th>...</th>\n",
       "      <td>...</td>\n",
       "      <td>...</td>\n",
       "      <td>...</td>\n",
       "      <td>...</td>\n",
       "      <td>...</td>\n",
       "      <td>...</td>\n",
       "      <td>...</td>\n",
       "      <td>...</td>\n",
       "      <td>...</td>\n",
       "      <td>...</td>\n",
       "      <td>...</td>\n",
       "      <td>...</td>\n",
       "      <td>...</td>\n",
       "      <td>...</td>\n",
       "      <td>...</td>\n",
       "      <td>...</td>\n",
       "      <td>...</td>\n",
       "      <td>...</td>\n",
       "      <td>...</td>\n",
       "      <td>...</td>\n",
       "      <td>...</td>\n",
       "    </tr>\n",
       "    <tr>\n",
       "      <th>zizek</th>\n",
       "      <td>7.0</td>\n",
       "      <td>1.0</td>\n",
       "      <td>0.0</td>\n",
       "      <td>1.0</td>\n",
       "      <td>2.0</td>\n",
       "      <td>0.0</td>\n",
       "      <td>0.0</td>\n",
       "      <td>0.0</td>\n",
       "      <td>0.0</td>\n",
       "      <td>0.0</td>\n",
       "      <td>...</td>\n",
       "      <td>0.0</td>\n",
       "      <td>0.0</td>\n",
       "      <td>0.0</td>\n",
       "      <td>0.0</td>\n",
       "      <td>0.0</td>\n",
       "      <td>0.0</td>\n",
       "      <td>0.0</td>\n",
       "      <td>0.0</td>\n",
       "      <td>0.0</td>\n",
       "      <td>0.0</td>\n",
       "    </tr>\n",
       "    <tr>\n",
       "      <th>rambo</th>\n",
       "      <td>10.0</td>\n",
       "      <td>3.0</td>\n",
       "      <td>0.0</td>\n",
       "      <td>2.0</td>\n",
       "      <td>1.0</td>\n",
       "      <td>0.0</td>\n",
       "      <td>0.0</td>\n",
       "      <td>0.0</td>\n",
       "      <td>0.0</td>\n",
       "      <td>0.0</td>\n",
       "      <td>...</td>\n",
       "      <td>0.0</td>\n",
       "      <td>0.0</td>\n",
       "      <td>0.0</td>\n",
       "      <td>0.0</td>\n",
       "      <td>0.0</td>\n",
       "      <td>0.0</td>\n",
       "      <td>0.0</td>\n",
       "      <td>0.0</td>\n",
       "      <td>0.0</td>\n",
       "      <td>0.0</td>\n",
       "    </tr>\n",
       "    <tr>\n",
       "      <th>damme</th>\n",
       "      <td>9.0</td>\n",
       "      <td>3.0</td>\n",
       "      <td>0.0</td>\n",
       "      <td>0.0</td>\n",
       "      <td>0.0</td>\n",
       "      <td>0.0</td>\n",
       "      <td>0.0</td>\n",
       "      <td>0.0</td>\n",
       "      <td>0.0</td>\n",
       "      <td>0.0</td>\n",
       "      <td>...</td>\n",
       "      <td>0.0</td>\n",
       "      <td>0.0</td>\n",
       "      <td>0.0</td>\n",
       "      <td>3.0</td>\n",
       "      <td>0.0</td>\n",
       "      <td>0.0</td>\n",
       "      <td>0.0</td>\n",
       "      <td>0.0</td>\n",
       "      <td>0.0</td>\n",
       "      <td>0.0</td>\n",
       "    </tr>\n",
       "    <tr>\n",
       "      <th>prom</th>\n",
       "      <td>10.0</td>\n",
       "      <td>2.0</td>\n",
       "      <td>0.0</td>\n",
       "      <td>0.0</td>\n",
       "      <td>1.0</td>\n",
       "      <td>1.0</td>\n",
       "      <td>0.0</td>\n",
       "      <td>0.0</td>\n",
       "      <td>0.0</td>\n",
       "      <td>0.0</td>\n",
       "      <td>...</td>\n",
       "      <td>0.0</td>\n",
       "      <td>0.0</td>\n",
       "      <td>0.0</td>\n",
       "      <td>0.0</td>\n",
       "      <td>0.0</td>\n",
       "      <td>0.0</td>\n",
       "      <td>0.0</td>\n",
       "      <td>0.0</td>\n",
       "      <td>0.0</td>\n",
       "      <td>0.0</td>\n",
       "    </tr>\n",
       "    <tr>\n",
       "      <th>drivel</th>\n",
       "      <td>13.0</td>\n",
       "      <td>1.0</td>\n",
       "      <td>1.0</td>\n",
       "      <td>1.0</td>\n",
       "      <td>1.0</td>\n",
       "      <td>0.0</td>\n",
       "      <td>0.0</td>\n",
       "      <td>0.0</td>\n",
       "      <td>0.0</td>\n",
       "      <td>0.0</td>\n",
       "      <td>...</td>\n",
       "      <td>0.0</td>\n",
       "      <td>0.0</td>\n",
       "      <td>0.0</td>\n",
       "      <td>0.0</td>\n",
       "      <td>0.0</td>\n",
       "      <td>0.0</td>\n",
       "      <td>0.0</td>\n",
       "      <td>0.0</td>\n",
       "      <td>0.0</td>\n",
       "      <td>0.0</td>\n",
       "    </tr>\n",
       "  </tbody>\n",
       "</table>\n",
       "<p>5000 rows × 5000 columns</p>\n",
       "</div>"
      ],
      "text/plain": [
       "         movie   gets  respect   sure    lot  memorable  quotes  listed   gem  \\\n",
       "0                                                                               \n",
       "movie      0.0  353.0     71.0  493.0  763.0       80.0    14.0    24.0  64.0   \n",
       "gets     353.0    0.0      7.0   23.0   46.0        7.0     1.0     1.0   0.0   \n",
       "respect   71.0    7.0      0.0    2.0   15.0        2.0     1.0     1.0   0.0   \n",
       "sure     493.0   23.0      2.0    0.0   65.0        7.0     3.0     4.0   5.0   \n",
       "lot      763.0   46.0     15.0   65.0    0.0        4.0     3.0     2.0   2.0   \n",
       "...        ...    ...      ...    ...    ...        ...     ...     ...   ...   \n",
       "zizek      7.0    1.0      0.0    1.0    2.0        0.0     0.0     0.0   0.0   \n",
       "rambo     10.0    3.0      0.0    2.0    1.0        0.0     0.0     0.0   0.0   \n",
       "damme      9.0    3.0      0.0    0.0    0.0        0.0     0.0     0.0   0.0   \n",
       "prom      10.0    2.0      0.0    0.0    1.0        1.0     0.0     0.0   0.0   \n",
       "drivel    13.0    1.0      1.0    1.0    1.0        0.0     0.0     0.0   0.0   \n",
       "\n",
       "         imagine  ...  macarthur   uwe  boll  seagal  porno  zizek  rambo  \\\n",
       "0                 ...                                                       \n",
       "movie      117.0  ...        4.0  19.0  22.0    26.0   23.0    7.0   10.0   \n",
       "gets         7.0  ...        1.0   0.0   1.0     1.0    2.0    1.0    3.0   \n",
       "respect      1.0  ...        0.0   0.0   0.0     1.0    0.0    0.0    0.0   \n",
       "sure         9.0  ...        0.0   0.0   1.0     2.0    1.0    1.0    2.0   \n",
       "lot         14.0  ...        0.0   2.0   1.0     3.0    0.0    2.0    1.0   \n",
       "...          ...  ...        ...   ...   ...     ...    ...    ...    ...   \n",
       "zizek        0.0  ...        0.0   0.0   0.0     0.0    0.0    0.0    0.0   \n",
       "rambo        0.0  ...        0.0   0.0   0.0     0.0    0.0    0.0    0.0   \n",
       "damme        0.0  ...        0.0   0.0   0.0     3.0    0.0    0.0    0.0   \n",
       "prom         0.0  ...        0.0   0.0   0.0     0.0    0.0    0.0    0.0   \n",
       "drivel       0.0  ...        0.0   0.0   0.0     0.0    0.0    0.0    0.0   \n",
       "\n",
       "         damme  prom  drivel  \n",
       "0                             \n",
       "movie      9.0  10.0    13.0  \n",
       "gets       3.0   2.0     1.0  \n",
       "respect    0.0   0.0     1.0  \n",
       "sure       0.0   0.0     1.0  \n",
       "lot        0.0   1.0     1.0  \n",
       "...        ...   ...     ...  \n",
       "zizek      0.0   0.0     0.0  \n",
       "rambo      0.0   0.0     0.0  \n",
       "damme      0.0   0.0     0.0  \n",
       "prom       0.0   0.0     0.0  \n",
       "drivel     0.0   0.0     0.0  \n",
       "\n",
       "[5000 rows x 5000 columns]"
      ]
     },
     "execution_count": 92,
     "metadata": {},
     "output_type": "execute_result"
    }
   ],
   "source": [
    "def buildMatrix(trainingSet) :\n",
    "    dict_ = {}\n",
    "    words = []\n",
    "    path=\"tp2_mat5.csv\"\n",
    "\n",
    "    for tokens in trainingSet :\n",
    "        for token in tokens :\n",
    "            if token not in dict_ :\n",
    "                dict_[token] = {}\n",
    "            words.append(token)\n",
    "\n",
    "        for i in range(len(tokens)) :\n",
    "            frame = [i-5, i-4, i-3, i-2, i-1, i+1, i+2, i+3, i+4, i+5]\n",
    "            temp = frame.copy()\n",
    "            for j in range(len(frame)) :\n",
    "                if frame[j] < 0 or frame[j] > len(tokens)-1 :\n",
    "                    temp.remove(frame[j])\n",
    "            frame = temp\n",
    "\n",
    "            neighbouring_tokens_dict = dict_[tokens[i]]\n",
    "\n",
    "            for index in frame :\n",
    "                if tokens[i] == tokens[index]:\n",
    "                    continue\n",
    "                if tokens[index] not in neighbouring_tokens_dict :\n",
    "                    neighbouring_tokens_dict[tokens[index]] = 0\n",
    "                neighbouring_tokens_dict[tokens[index]] += 1\n",
    "\n",
    "    c = Counter(words)\n",
    "    words_to_display = c.most_common(5000)\n",
    "    \n",
    "    w = []\n",
    "    for word in words_to_display :\n",
    "        w.append(word[0])\n",
    "\n",
    "    d = dict_.copy()\n",
    "\n",
    "    for key in dict_ :\n",
    "        if key not in w :\n",
    "            d.pop(key)\n",
    "\n",
    "    vector = [(k, v) for k, v in d.items()]\n",
    "\n",
    "    df1 = pd.DataFrame(vector)\n",
    "    df2 = pd.json_normalize(df1[1])\n",
    "\n",
    "    df2 = df2[df1[0]].fillna(0).set_index(df1[0])\n",
    "    \n",
    "    if not os.path.isdir(output_path) : #create \"output\" directory if it does not exist\n",
    "        try:\n",
    "            os.mkdir(output_path) \n",
    "        except OSError:\n",
    "            print (\"Creation of the directory %s failed\" % path)\n",
    "        else:\n",
    "            print (\"Successfully created the directory %s \" % path)\n",
    "            \n",
    "    df2.to_csv(output_path + \"/\" + path)    \n",
    "    return df2\n",
    "\n",
    "import time\n",
    "\n",
    "start = time.time()\n",
    "Mww = buildMatrix(trainingSet)\n",
    "end = time.time()\n",
    "print(end - start)\n",
    "Mww"
   ]
  },
  {
   "cell_type": "code",
   "execution_count": 93,
   "metadata": {},
   "outputs": [],
   "source": [
    "def getVoc():\n",
    "    voc = []\n",
    "    voc_path = DIRNAME_ACL + '/vocab.txt'\n",
    "    with open(voc_path, \"r\") as f: \n",
    "        data = list(f)\n",
    "        for word in data:\n",
    "            voc.append(word.strip('\\n'))\n",
    "        \n",
    "    return voc\n",
    "    "
   ]
  },
  {
   "cell_type": "code",
   "execution_count": 94,
   "metadata": {},
   "outputs": [],
   "source": [
    "vocabulary = getVoc()"
   ]
  },
  {
   "cell_type": "markdown",
   "metadata": {
    "hidden": true,
    "id": "-vzXMLl3rEBl"
   },
   "source": [
    "**b)** Calculez maintenant une matrice de cooccurrence mais en ajustant les fréquences basées sur la proximité du mot cible par exemple en les multipliant par 1/𝑑 où d est la distance en jetons (mots) de la cible. Sauvegardez votre matrice (toujours sous forme de cadre panda) dans un fichier tp2_mat5_scaled.csv dans le répertoire vsm."
   ]
  },
  {
   "cell_type": "code",
   "execution_count": null,
   "metadata": {},
   "outputs": [],
   "source": [
    "def build_distance_matrix(trainingSet) :\n",
    "    dict_ = {}\n",
    "    words = []\n",
    "    path = \"tp2_mat5_scaled.csv\"\n",
    "\n",
    "    for tokens in trainingSet :\n",
    "        for token in tokens :\n",
    "            if token not in dict_ :\n",
    "                dict_[token] = {}\n",
    "            words.append(token)\n",
    "\n",
    "        for i in range(len(tokens)) :\n",
    "            frame = [i-5, i-4, i-3, i-2, i-1, i+1, i+2, i+3, i+4, i+5]\n",
    "            tempFrame = frame.copy()\n",
    "            for j in range(len(frame)) :\n",
    "                if frame[j] < 0 or frame[j] > len(tokens)-1 :\n",
    "                    tempFrame.remove(frame[j])\n",
    "            frame = tempFrame\n",
    "\n",
    "            neighbouring_tokens_dict = dict_[tokens[i]]\n",
    "            for k,index in enumerate(frame):\n",
    "                if tokens[i] == tokens[index]:\n",
    "                    continue\n",
    "                if tokens[index] not in neighbouring_tokens_dict :\n",
    "                    neighbouring_tokens_dict[tokens[index]] = 0\n",
    "                neighbouring_tokens_dict[tokens[index]] += 1 + 1/abs(tokens.index(tokens[i]) - tokens.index(tokens[index]))\n",
    "\n",
    "    c = Counter(words)\n",
    "    words_to_display = c.most_common(5000)\n",
    "    \n",
    "    w = []\n",
    "    for word in words_to_display :\n",
    "        w.append(word[0])\n",
    "\n",
    "    d = dict_.copy()\n",
    "\n",
    "    for key in dict_ :\n",
    "        if key not in w :\n",
    "            d.pop(key)\n",
    "\n",
    "    vector = [(k, v) for k, v in d.items()]\n",
    "\n",
    "    df1 = pd.DataFrame(vector)\n",
    "    df2 = pd.json_normalize(df1[1])\n",
    "\n",
    "    df2 = df2[df1[0]].fillna(0).set_index(df1[0])\n",
    "    \n",
    "    if not os.path.isdir(output_path) : #create \"output\" directory if it does not exist\n",
    "        try:\n",
    "            os.mkdir(output_path) \n",
    "        except OSError:\n",
    "            print (\"Creation of the directory %s failed\" % path)\n",
    "        else:\n",
    "            print (\"Successfully created the directory %s \" % path)\n",
    "            \n",
    "    df2.to_csv(output_path + \"/\" + path)   \n",
    "    return df2\n",
    "\n",
    "import time\n",
    "\n",
    "start = time.time()\n",
    "Mww_scaled = build_distance_matrix(trainingSet)\n",
    "end = time.time()\n",
    "print(end - start)\n",
    "Mww_scaled"
   ]
  },
  {
   "cell_type": "markdown",
   "metadata": {
    "hidden": true,
    "id": "osW2EZ5utFsf"
   },
   "source": [
    "**c)**\tVous devez créer une fonction `pmi` qui prend le cadre panda de la matrice $M(w,w)$ et un paramètre boolean flag qui est à True lorsque l'on désire calculer PPMI et à False quand on veut calculer PMI. La fonction transforme la matrice en entrée en une matrice $M’(w,w)$ avec les valeurs PMI ou PPMI selon la valeur du paramètre booléen. La fonction retourne le nouveau cadre panda correspondant. "
   ]
  },
  {
   "cell_type": "markdown",
   "metadata": {
    "hidden": true,
    "id": "lksK36hntUHP"
   },
   "source": [
    "Pour une matrice  $X_{m \\times n}$:\n",
    "\n",
    "\n",
    "$$\\textbf{colsum}(X, j) = \\sum_{i=1}^{m}X_{ij}$$\n",
    "\n",
    "$$\\textbf{sum}(X) = \\sum_{i=1}^{m}\\sum_{j=1}^{n} X_{ij}$$\n",
    "\n",
    "$$\\textbf{expected}(X, i, j) = \n",
    "\\frac{\n",
    "  \\textbf{rowsum}(X, i) \\cdot \\textbf{colsum}(X, j)\n",
    "}{\n",
    "  \\textbf{sum}(X)\n",
    "}$$\n",
    "\n",
    "\n",
    "$$\\textbf{pmi}(X, i, j) = \\log\\left(\\frac{X_{ij}}{\\textbf{expected}(X, i, j)}\\right)$$\n",
    "\n",
    "$$\\textbf{ppmi}(X, i, j) = \n",
    "\\begin{cases}\n",
    "\\textbf{pmi}(X, i, j) & \\textrm{if } \\textbf{pmi}(X, i, j) > 0 \\\\\n",
    "0 & \\textrm{otherwise}\n",
    "\\end{cases}$$\n"
   ]
  },
  {
   "cell_type": "code",
   "execution_count": null,
   "metadata": {
    "hidden": true,
    "id": "OgkN4mw6r19a"
   },
   "outputs": [],
   "source": [
    "import math\n",
    "\n",
    "def pmi(df, flag=True):\n",
    "    totalSum = 0\n",
    "    colsum = []\n",
    "    for column in df:\n",
    "        columnSum = df[column].sum()\n",
    "        totalSum += columnSum\n",
    "        colsum.append (columnSum)\n",
    "\n",
    "    rowsum = []\n",
    "    for row in df.sum(axis=1):\n",
    "        rowsum.append(row)\n",
    "    \n",
    "    expected = []\n",
    "    for row in rowsum:\n",
    "        eachRow = []\n",
    "        for col in colsum:\n",
    "            eachRow.append((row*col)/totalSum)\n",
    "        expected.append(eachRow)\n",
    "    \n",
    "    expected = np.array(expected)\n",
    "    dfArray = np.array(df.to_numpy())\n",
    "    dfArray = np.array(dfArray ,dtype = float)\n",
    "    valueInLog = np.divide(dfArray, expected, out=np.zeros_like(expected), where=dfArray!=0)\n",
    "    pmi = np.log2(valueInLog, out=np.zeros_like(valueInLog), where=valueInLog!=0)\n",
    "    \n",
    "    if flag:\n",
    "        pmi[pmi < 0] = 0\n",
    "    \n",
    "    return pd.DataFrame(pmi, index = df.index, columns = df.columns)"
   ]
  },
  {
   "cell_type": "code",
   "execution_count": null,
   "metadata": {
    "scrolled": true
   },
   "outputs": [],
   "source": [
    "start = time.time()\n",
    "ppmi_matrix = pmi(Mww)\n",
    "pmi_matrix = pmi(Mww, False)\n",
    "\n",
    "end = time.time()\n",
    "print(end - start)\n",
    "ppmi_matrix"
   ]
  },
  {
   "cell_type": "markdown",
   "metadata": {
    "hidden": true,
    "id": "U_KI11vmty0c"
   },
   "source": [
    "**d)** Créer les matrice PMIs et PPMIs en vous basant sur les deux matrices que vous avez déjà créée\tSauvegardez vos matrices dans un fichier tp2_mat5<\\_scaled>_{pmi|ppmi}.csv toujours dans le répertoire vsm. \n",
    "\n",
    "(votre nom de fichier doit contenir \"_scaled\" s'il est formé à partir Mww_scaled et \"pmi\" si le flag est false \"ppmi\" sinon) "
   ]
  },
  {
   "cell_type": "code",
   "execution_count": null,
   "metadata": {
    "hidden": true,
    "id": "ML-oJwAgt0X4"
   },
   "outputs": [],
   "source": []
  },
  {
   "cell_type": "markdown",
   "metadata": {
    "heading_collapsed": true,
    "id": "QwGaKZyZ8h36"
   },
   "source": [
    "## 3. Test de PPMI (20 points)\n",
    "\n",
    "Pour le test des matrices de cooccurrences, nous allons comparer deux mesures de distance entre deux vecteurs, la distance euclidienne et la distance cosinus provenant du module [scipy.spatial.distance](https://docs.scipy.org/doc/scipy/reference/spatial.distance.html)\n",
    "\n",
    "**Distance Euclidienne**\n",
    "\n",
    "La distance euclidienne entre deux vecteurs $u$ et $v$ de dimension $n$ est\n",
    "\n",
    "$$\\textbf{euclidean}(u, v) = \n",
    "\\sqrt{\\sum_{i=1}^{n}|u_{i} - v_{i}|^{2}}$$\n",
    "\n",
    "En deux dimensions, cela correspond à la longueur de la ligne droite entre deux points.\n",
    "\n",
    "**Distance Cosinus**\n",
    "\n",
    "\n",
    "La distance cosinus entre deux vecteurs $u$ et $v$ de dimension $n$ s'écrit :\n",
    "\n",
    "$$\\textbf{cosine}(u, v) = \n",
    "1 - \\frac{\\sum_{i=1}^{n} u_{i} \\cdot v_{i}}{\\|u\\|_{2} \\cdot \\|v\\|_{2}}$$\n",
    "\n",
    "Le terme de droite dans la soustraction mesure l'angle entre $u$ et $v$; on l'appelle la *similarité cosinus* entre $u$ et $v$.\n",
    "\n",
    "\\\\\n",
    "\n",
    "**a)**\tImplémentez la fonction voisins(mot, pd, distance) qui prend un mot en entrée et une métrique de distance et qui retourne les n mots les plus similaires selon la mesure. Pour un mot w, elle ordonne tous les mots du vocabulaire en fonction de leur distance de w en utilisant la métrique de distance distance (par défaut: cosine)sur le vsm pd. Les mesures de distance à tester sont : la distance Euclidienne et la distance cosinus implantées ci-dessus."
   ]
  },
  {
   "cell_type": "code",
   "execution_count": null,
   "metadata": {
    "hidden": true,
    "id": "y6WzHmQ08eNG"
   },
   "outputs": [],
   "source": [
    "def voisins(word, df, distfunc, n):\n",
    "    distances = words = {}\n",
    "    similary_words = []\n",
    "    if(word not in vocabulary): \n",
    "        return \"The word is not in list\"\n",
    "    else:\n",
    "        for i,w in enumerate(df.values):\n",
    "            if distfunc == 'euclidean':\n",
    "                distances[vocabulary[i]] = euclidean(df.values[vocabulary.index(word)],w)\n",
    "            elif distfunc == 'cosine':\n",
    "                distances[vocabulary[i]] = cosine(df.values[vocabulary.index(word)],w)\n",
    "\n",
    "        common_words = Counter(words).most_common(n) # Si c des tuples recup que le mot \n",
    "        for w in common_words:\n",
    "            similary_words.append(w[0])\n",
    "        \n",
    "    return similary_words "
   ]
  },
  {
   "cell_type": "markdown",
   "metadata": {
    "hidden": true,
    "id": "ulI3R22m-AQq"
   },
   "source": [
    "**b)** En utilisant le cadre panda associé aux matrices Mww et Mww scaled, trouvez les 5 mots les plus similaires au mot « beautiful » et affichez-les, pour chacune des deux distances."
   ]
  },
  {
   "cell_type": "code",
   "execution_count": null,
   "metadata": {
    "hidden": true,
    "id": "7YqjqTYNMOQv",
    "scrolled": true
   },
   "outputs": [],
   "source": [
    "print(\"EN UTILISANT LA MATRICE MOT PAR MOT : \\n \")\n",
    "print(\"Les 5 mots les plus similaires à beautiful en utilisant la distance euclidienne sont :\") \n",
    "print(voisins('beautiful', Mww , 'euclidean', 5))\n",
    "print(\"\\n\")\n",
    "print(\"Les 5 mots les plus similaires à beautiful en utilisant la distance cosinus sont : \")\n",
    "print(voisins('beautiful', Mww , 'cosine', 5))\n",
    "print(\"\\n \\n\")\n",
    "\n",
    "print(\"EN UTILISANT LA MATRICE MOT PAR MOT NORMALISÉE : \\n \")\n",
    "print(\"Les 5 mots les plus similaires à beautiful en utilisant la distance euclidienne sont : \") \n",
    "print(voisins('beautiful', Mww_scaled, 'euclidean', 5))\n",
    "print(\"\\n\")\n",
    "print(\"Les 5 mots les plus similaires à beautiful en utilisant la distance cosinus sont : \")\n",
    "print(voisins('beautiful', Mww_scaled, 'cosine', 5))"
   ]
  },
  {
   "cell_type": "markdown",
   "metadata": {
    "hidden": true,
    "id": "0_yvpfqIBL1a"
   },
   "source": [
    "**c)** En utilisant les cadres panda associés aux matrices PMIs, trouvez les 5 mots les plus similaires au mot « beautiful » et affichez-les, pour chacune des deux distances."
   ]
  },
  {
   "cell_type": "code",
   "execution_count": null,
   "metadata": {
    "hidden": true,
    "id": "EHL_A0uEMPzO"
   },
   "outputs": [],
   "source": [
    "print(\"EN UTILISANT LA MATRICE PMI : \\n\")\n",
    "print(\"Les 5 mots les plus similaires à beautiful en utilisant la distance euclidienne sont : \") \n",
    "print(voisins('beautiful', pmi_matrix , 'euclidean', 5))\n",
    "print(\"\\n\")\n",
    "print(\"Les 5 mots les plus similaires à beautiful en utilisant la distance cosinus sont : \")\n",
    "print(voisins('beautiful', pmi_matrix , 'cosine', 5))"
   ]
  },
  {
   "cell_type": "markdown",
   "metadata": {
    "hidden": true,
    "id": "nW9kJOsUBSFf"
   },
   "source": [
    "**d)** En utilisant les cadres panda associés aux matrices PPMIs, trouvez les 5 mots les plus similaires au mot\n",
    "« beautiful » et affichez-les, pour chacune des deux distances. "
   ]
  },
  {
   "cell_type": "code",
   "execution_count": null,
   "metadata": {
    "hidden": true,
    "id": "oBb5xv9PMQ9y",
    "scrolled": true
   },
   "outputs": [],
   "source": [
    "print(\"EN UTILISANT LA MATRICE PPMI : \\n\")\n",
    "print(\"Les 5 mots les plus similaires à beautiful en utilisant la distance euclidienne sont : \") \n",
    "print(voisins('beautiful', ppmi_matrix , 'euclidean', 5))\n",
    "print(\"\\n\")\n",
    "print(\"Les 5 mots les plus similaires à beautiful en utilisant la distance cosinus sont : \")\n",
    "print(voisins('beautiful', ppmi_matrix, 'cosine', 5))"
   ]
  },
  {
   "cell_type": "markdown",
   "metadata": {
    "hidden": true,
    "id": "B-Q3RfJXzdF8"
   },
   "source": [
    "**e)** Que constatez-vous entre la différence de performance de la distance euclidienne et la distance cosinus ? Que constatez-vous entre les différents types de matrices de cooccurrence ?"
   ]
  },
  {
   "cell_type": "code",
   "execution_count": null,
   "metadata": {},
   "outputs": [],
   "source": []
  },
  {
   "cell_type": "markdown",
   "metadata": {
    "hidden": true,
    "id": "DcgcU9OtBg5-"
   },
   "source": []
  },
  {
   "cell_type": "markdown",
   "metadata": {
    "heading_collapsed": true,
    "id": "q_COF24sBi5N"
   },
   "source": [
    "## 4.\tRéduction de dimensionnalité (20 points)\n",
    "\n",
    "**a)** Ecrivez une fonction lsa qui prend en entrée un cadre panda pd (qui contient votre matrice / vsm) et un paramètre K (qui indique le nombre de dimensions finales), et qui applique LSA avec ce paramètre k sur la matrice et retourne le vsm réduit sous forme de cadre panda."
   ]
  },
  {
   "cell_type": "code",
   "execution_count": null,
   "metadata": {
    "hidden": true,
    "id": "T6EjxKAQAvFw"
   },
   "outputs": [],
   "source": [
    "def lsa(df, k=100):\n",
    "\n",
    "    A = np.array(df)\n",
    "    T, s, D = np.linalg.svd(A)\n",
    "    S = np.diag(s)\n",
    "    # select\n",
    "    S = S[:, :k]\n",
    "    D = D[:k, :]\n",
    "    # reconstruct\n",
    "    B = T.dot(S.dot(D))\n",
    "    # transform\n",
    "    M = T.dot(S)\n",
    "    return pd.DataFrame(M)\n",
    "    "
   ]
  },
  {
   "cell_type": "markdown",
   "metadata": {
    "hidden": true,
    "id": "pZDhlR2ZBwag"
   },
   "source": [
    "**b)** Exécutez lsa sur les cadres panda associés à vos matrices Mww et Mww_scaled avec une dimension k=100"
   ]
  },
  {
   "cell_type": "code",
   "execution_count": null,
   "metadata": {
    "hidden": true,
    "id": "4Fh1yGAQBvsg"
   },
   "outputs": [],
   "source": [
    "Mww_lsa = lsa(Mww) \n",
    "Mww_lsa"
   ]
  },
  {
   "cell_type": "code",
   "execution_count": null,
   "metadata": {},
   "outputs": [],
   "source": [
    "Mww_scaled_lsa = lsa(Mww_scaled) \n",
    "Mww_scaled_lsa"
   ]
  },
  {
   "cell_type": "markdown",
   "metadata": {
    "hidden": true,
    "id": "0IQvZbddB4Zp"
   },
   "source": [
    "**c)** En utilisant les matrices de co-occurrence (de base et scalés) réduites avec LSA, trouvez les 5 mots les plus similaires au mot « beautiful » selon la distance cosinus et affichez-les."
   ]
  },
  {
   "cell_type": "code",
   "execution_count": null,
   "metadata": {
    "hidden": true,
    "id": "4BPts630Mw3t"
   },
   "outputs": [],
   "source": []
  },
  {
   "cell_type": "markdown",
   "metadata": {
    "hidden": true,
    "id": "y_wxbYFPCCCN"
   },
   "source": [
    "d) En utilisant les matrices PMIs et PPMIs réduites avec lsa, trouvez les 5 mots les plus similaires au mot « beautiful » selon la distance cosinus et affichez-les"
   ]
  },
  {
   "cell_type": "code",
   "execution_count": null,
   "metadata": {
    "hidden": true,
    "id": "QqgCh0WNM1Jl"
   },
   "outputs": [],
   "source": [
    "ppmi_lsa = lsa(ppmi_matrix)\n",
    "ppmi_lsa"
   ]
  },
  {
   "cell_type": "code",
   "execution_count": null,
   "metadata": {},
   "outputs": [],
   "source": [
    "pmi_lsa = lsa(pmi_matrix)\n",
    "pmi_lsa"
   ]
  },
  {
   "cell_type": "markdown",
   "metadata": {
    "hidden": true,
    "id": "Qfwq16JtCSFy"
   },
   "source": [
    "**e)** En utilisant sklearn.decomposition.TruncatedSVD, créez les matrices réduites à partir des mêmes matrices que celles de la question précédentes (la matrice pmi et la matrice pmi_scaled) Puis tester ces nouvelles matrices LSA pour trouver les 5 mots les plus similaires au mot « beautiful » \n",
    "\n",
    "Ici aussi, nous voulons aussi obtenir des matrices de dimension k=100"
   ]
  },
  {
   "cell_type": "code",
   "execution_count": null,
   "metadata": {
    "hidden": true,
    "id": "Mj-aOpSSM2_O"
   },
   "outputs": [],
   "source": [
    "def lsa(df, k=100):\n",
    "    svd = TruncatedSVD(n_components=k, n_iter=7, random_state=42)\n",
    "    data = svd.fit_transform(df.to_numpy())\n",
    "#     i = df.head().index\n",
    "#     c = df.columns\n",
    "#     df1 = pd.DataFrame(data, index=i, columns=c)\n",
    "    df1 = pd.DataFrame(data)\n",
    "    \n",
    "#     df2 = pd.json_normalize(df1[1])\n",
    "#     df2 = df2[df1[0]].fillna(0).set_index(df1[0])\n",
    "    \n",
    "    return df1\n",
    "\n"
   ]
  },
  {
   "cell_type": "code",
   "execution_count": null,
   "metadata": {},
   "outputs": [],
   "source": [
    "ppmi_lsa = lsa(ppmi_matrix)\n",
    "ppmi_lsa"
   ]
  },
  {
   "cell_type": "code",
   "execution_count": null,
   "metadata": {},
   "outputs": [],
   "source": [
    "pmi_lsa = lsa(pmi_matrix)\n",
    "pmi_lsa"
   ]
  },
  {
   "cell_type": "markdown",
   "metadata": {
    "hidden": true,
    "id": "9i7di2PRCTnh"
   },
   "source": [
    "f) Commentez vos résultats"
   ]
  },
  {
   "cell_type": "markdown",
   "metadata": {
    "hidden": true,
    "id": "ubED1oiwNJpm"
   },
   "source": []
  },
  {
   "cell_type": "markdown",
   "metadata": {
    "heading_collapsed": true,
    "id": "K3avEFcPG0-e"
   },
   "source": [
    "## 5. Évaluation (10 points)\n",
    "\n",
    "Il est temps d’évaluer l’intérêt de nos modèles de vecteurs. Nous allons pour cela utiliser un ensemble de données de similarité de mots (relatedness) The MEN Test Collection, qui se trouve dans le répertoire test. L’ensemble de données contient une paire de mots avec un score de similarité attribué par des humains. En d’autres termes, une ligne (un exemple) de l’ensemble de données est de la forme : \\<mot_1> \\<mot_2> \\<score>.\n",
    "\n",
    "Pour aligner les distances obtenues avec vos métriques, ce score est converti en nombre réel négatif par la fonction read_test_dataset que vous avez dans le squelette du TP.\n",
    "\n",
    "La métrique d’évaluation est le coefficient de corrélation de Spearman 𝜌 entre les scores humains et vos distances (voir https://en.wikipedia.org/wiki/Spearman%27s_rank_correlation_coefficient). \n",
    "\n",
    "Nous allons maintenant évaluer les différents vsm obtenus sur l'ensemble de données: MEN_dataset.\n"
   ]
  },
  {
   "cell_type": "markdown",
   "metadata": {
    "hidden": true,
    "id": "7j5LjMlav4pQ"
   },
   "source": [
    "#### Fonctions pour lire le jeu de données MEN"
   ]
  },
  {
   "cell_type": "code",
   "execution_count": null,
   "metadata": {
    "hidden": true,
    "id": "NodeMtrwGw0O"
   },
   "outputs": [],
   "source": [
    "def read_test_dataset(\n",
    "        src_filename,\n",
    "        delimiter=','):\n",
    "    with open(src_filename) as f:\n",
    "        reader = csv.reader(f, delimiter=delimiter)\n",
    "        for row in reader:\n",
    "            w1 = row[0].strip().lower()\n",
    "            w2 = row[1].strip().lower()\n",
    "            score = row[2]\n",
    "            score = -float(score)\n",
    "            yield (w1, w2, score)"
   ]
  },
  {
   "cell_type": "code",
   "execution_count": null,
   "metadata": {
    "hidden": true,
    "id": "sTmkM5EDG-pA"
   },
   "outputs": [],
   "source": [
    "# Retourne un itérable sur le jeu de données MEN\n",
    "def men_dataset():\n",
    "    src_filename = os.path.join(\n",
    "        DIRNAME_MEN, 'MEN_dataset_natural_form_full')\n",
    "    return read_test_dataset(\n",
    "        src_filename, delimiter=' ')"
   ]
  },
  {
   "cell_type": "code",
   "execution_count": null,
   "metadata": {
    "hidden": true,
    "id": "uPd__Q4NHUlp"
   },
   "outputs": [],
   "source": [
    "def evaluate(ds, df, distfunc=cosine):\n",
    "    \"\"\"\n",
    "    ds : iterator\n",
    "       retourne des tuples (word1, word2, score).\n",
    "\n",
    "    df : pd.DataFrame\n",
    "        le modèle vsm à évaluer\n",
    "\n",
    "    distfunc : la mesure de distance entre vecteurs\n",
    "  \n",
    "    Retour: le coefficient de correlation de Spearman entre les scores de l'ensemble de données de test \n",
    "    et celui du modele vsm qui se présente sous la forme d'un cadre Panda pd avec les colonnes\n",
    "    ['word1', 'word2', 'score', 'distance'].\n",
    "    \"\"\"\n",
    "    data = []\n",
    "    for w1, w2, score in ds():\n",
    "        d = {'word1': w1, 'word2': w2,'score': score}\n",
    "        if w1 not in df.index or w2 not in df.index:\n",
    "            continue\n",
    "        else:\n",
    "            w1 = df.loc[w1]\n",
    "            w2 = df.loc[w2] \n",
    "        d['distance'] = distfunc(w1, w2)\n",
    "        data.append(d)\n",
    "\n",
    "    data = pd.DataFrame(data)\n",
    "    rho, pvalue = spearmanr(data['score'].values, b=data['distance'].values)\n",
    "    return rho, data"
   ]
  },
  {
   "cell_type": "markdown",
   "metadata": {
    "hidden": true,
    "id": "MBrTrq8BHdLs"
   },
   "source": [
    "**a)**\tTestez chacun de vos modèles vsm (Matrice de base, matrice scalée, les PMIs et PPMIs et toutes les matrices LSA (de base, scalée, pmi, ppmi) en appelant la fonction evaluate avec les deux mesure de distance (euclidienne et cosinus) et affichez vos résultats dans une seule table."
   ]
  },
  {
   "cell_type": "code",
   "execution_count": null,
   "metadata": {
    "hidden": true,
    "id": "UL5s4dT4QiX_"
   },
   "outputs": [],
   "source": []
  },
  {
   "cell_type": "markdown",
   "metadata": {
    "hidden": true,
    "id": "JjJwYKsTKXCR"
   },
   "source": [
    "**b)**\tCommentez vos résultats d'évaluation"
   ]
  },
  {
   "cell_type": "markdown",
   "metadata": {
    "hidden": true,
    "id": "-ZQhdrxFQjsb"
   },
   "source": []
  }
 ],
 "metadata": {
  "colab": {
   "collapsed_sections": [],
   "name": "inf8460_tp2_A20.ipynb",
   "provenance": [],
   "toc_visible": true
  },
  "hide_input": false,
  "kernelspec": {
   "display_name": "Python 3",
   "language": "python",
   "name": "python3"
  },
  "language_info": {
   "codemirror_mode": {
    "name": "ipython",
    "version": 3
   },
   "file_extension": ".py",
   "mimetype": "text/x-python",
   "name": "python",
   "nbconvert_exporter": "python",
   "pygments_lexer": "ipython3",
   "version": "3.8.3"
  }
 },
 "nbformat": 4,
 "nbformat_minor": 1
}
