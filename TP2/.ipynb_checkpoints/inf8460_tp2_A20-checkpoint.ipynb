{
 "cells": [
  {
   "cell_type": "markdown",
   "metadata": {
    "colab_type": "text",
    "id": "XYaltRsowqfU"
   },
   "source": [
    "## École Polytechnique de Montréal\n",
    "## Département Génie Informatique et Génie Logiciel\n",
    "\n",
    "## INF8460 – Traitement automatique de la langue naturelle - TP2"
   ]
  },
  {
   "cell_type": "markdown",
   "metadata": {
    "colab_type": "text",
    "id": "92idNN-XwvMP"
   },
   "source": [
    "## Objectifs d'apprentissage: \n",
    "\n",
    "•\tExplorer les modèles d’espace vectoriel (vector space models) comme représentations distribuées de la sémantique des mots \n",
    "•\tImplémenter la fréquence de co-occurrence et la PPMI\n",
    "•\tComprendre différentes mesures de distance entre vecteurs de mots \n",
    "•\tExplorer l’intérêt de la réduction de dimensionnalité \n",
    "\n"
   ]
  },
  {
   "cell_type": "markdown",
   "metadata": {
    "colab_type": "text",
    "id": "wEoOfK-Rw3zT"
   },
   "source": [
    "## Équipe et contributions \n",
    "Veuillez indiquer la contribution effective de chaque membre de l'équipe en pourcentage et en indiquant les modules ou questions sur lesquelles chaque membre a travaillé"
   ]
  },
  {
   "cell_type": "markdown",
   "metadata": {
    "colab_type": "text",
    "id": "a0mJOdtlw4xC"
   },
   "source": [
    "Luu Thien-Kim: x% (détail)\n",
    "\n",
    "Nom Étudiant 2: x% (détail)\n",
    "\n",
    "Nom Étudiant 3: x% (détail)"
   ]
  },
  {
   "cell_type": "markdown",
   "metadata": {
    "colab_type": "text",
    "id": "qu3pnt6mPiNZ"
   },
   "source": [
    "\n",
    "\n",
    "## Support de google Colab\n",
    "\n"
   ]
  },
  {
   "cell_type": "code",
   "execution_count": 9,
   "metadata": {
    "colab": {},
    "colab_type": "code",
    "id": "x-U9ANA6ZV27",
    "tags": []
   },
   "outputs": [],
   "source": [
    "# !wget http://ai.stanford.edu/~amaas/data/sentiment/aclImdb_v1.tar.gz\n",
    "# !wget https://staff.fnwi.uva.nl/e.bruni/resources/MEN.tar.gz"
   ]
  },
  {
   "cell_type": "code",
   "execution_count": 10,
   "metadata": {
    "colab": {},
    "colab_type": "code",
    "id": "mVrz-1_uZApz",
    "tags": []
   },
   "outputs": [],
   "source": [
    "# ! tar -xzf aclImdb_v1.tar.gz\n",
    "# ! tar -xzf MEN.tar.gz\n",
    "# ! mkdir -p vsm"
   ]
  },
  {
   "cell_type": "code",
   "execution_count": 11,
   "metadata": {
    "colab": {
     "base_uri": "https://localhost:8080/",
     "height": 102
    },
    "colab_type": "code",
    "id": "rK102dx5Poti",
    "outputId": "d80b8e7a-6582-4be0-939d-2638fa2bc1a7"
   },
   "outputs": [
    {
     "name": "stderr",
     "output_type": "stream",
     "text": [
      "[nltk_data] Downloading package stopwords to\n",
      "[nltk_data]     /Users/mouradyounes/nltk_data...\n",
      "[nltk_data]   Package stopwords is already up-to-date!\n",
      "[nltk_data] Downloading package punkt to\n",
      "[nltk_data]     /Users/mouradyounes/nltk_data...\n",
      "[nltk_data]   Package punkt is already up-to-date!\n"
     ]
    },
    {
     "data": {
      "text/plain": [
       "True"
      ]
     },
     "execution_count": 11,
     "metadata": {},
     "output_type": "execute_result"
    }
   ],
   "source": [
    "import nltk\n",
    "nltk.download('stopwords')\n",
    "nltk.download('punkt')"
   ]
  },
  {
   "cell_type": "markdown",
   "metadata": {
    "colab_type": "text",
    "id": "TewW7eDjPbjs"
   },
   "source": [
    "## Librairies externes"
   ]
  },
  {
   "cell_type": "code",
   "execution_count": 12,
   "metadata": {
    "colab": {},
    "colab_type": "code",
    "id": "kClu3RY7YFfv"
   },
   "outputs": [],
   "source": [
    "from collections import Counter, defaultdict\n",
    "from itertools import chain\n",
    "import csv\n",
    "import itertools\n",
    "import numpy as np\n",
    "import os\n",
    "import pandas as pd\n",
    "\n",
    "from nltk.corpus import stopwords as all_stopwords\n",
    "from nltk import word_tokenize\n",
    "\n",
    "from scipy.stats import spearmanr\n",
    "from scipy.spatial.distance import euclidean, cosine\n",
    "from IPython.display import display\n",
    "from sklearn.decomposition import TruncatedSVD"
   ]
  },
  {
   "cell_type": "markdown",
   "metadata": {
    "colab_type": "text",
    "id": "7oRJolmeRlxW"
   },
   "source": [
    "## Valeurs globales"
   ]
  },
  {
   "cell_type": "code",
   "execution_count": 13,
   "metadata": {
    "colab": {},
    "colab_type": "code",
    "id": "QqfHWnRoRlFY"
   },
   "outputs": [],
   "source": [
    "DIRNAME_ACL =  os.path.join(os.getcwd(), \"aclImdb\")\n",
    "DIRNAME_MEN =  os.path.join(os.getcwd(), \"MEN\")\n",
    "DIRNAME_VSM =  os.path.join(os.getcwd(), \"vsm\")"
   ]
  },
  {
   "cell_type": "markdown",
   "metadata": {
    "colab_type": "text",
    "heading_collapsed": true,
    "id": "hGQ15KsihAOp"
   },
   "source": [
    "## 1. Prétraitement (20 points)\n",
    "\n",
    "**a)**\tLe jeu de données est séparé en deux répertoires `train/`et `test`, chacun contenant eux-mêmes deux sous-répertoires `pos/` et `neg/` pour les revues positives et négatives. Un fichier `readme` décrit plus précisément les données. Commencez par lire ces données, en gardant séparées les données d'entraînement et de test. La fonction doit mettre les mots en minuscules,  supprimer les stopwords (vous devez utiliser ceux de NLTK) et afficher le nombre total de phrases d’entrainement,  le nombre total de phrases d’entrainement positives et négatives et le nombre total de phrases de test avec le nombre total de phrases de test positives et négatives ;"
   ]
  },
  {
   "cell_type": "code",
   "execution_count": 14,
   "metadata": {
    "colab": {},
    "colab_type": "code",
    "id": "U25ZTtBGO39i"
   },
   "outputs": [],
   "source": [
    "import os\n",
    "all_stopwords.words(\"english\")\n",
    "stopwords_english = set(all_stopwords.words(\"english\"))\n",
    "\n",
    "TRAIN_POS_DIRECTORY = DIRNAME_ACL + '/train/pos'\n",
    "TRAIN_NEG_DIRECTORY = DIRNAME_ACL + '/train/neg'\n",
    "TEST_POS_DIRECTORY = DIRNAME_ACL + '/test/pos'\n",
    "TEST_NEG_DIRECTORY = DIRNAME_ACL + '/test/neg'\n",
    "\n",
    "#List[List[]] telle que : [train_pos, train_neg] -> trainData[0][0] : \"texte\"\n",
    "trainData = [] \n",
    "testData = [] \n",
    "\n",
    "#List[] telle que : [\"texte1\", \"texte2\", ...] -> train_pos[0] : \"texte\"\n",
    "train_pos = []\n",
    "train_neg = []\n",
    "test_pos = []\n",
    "test_neg = []"
   ]
  },
  {
   "cell_type": "code",
   "execution_count": 15,
   "metadata": {
    "colab": {},
    "colab_type": "code",
    "hidden": true,
    "id": "5Lk9pYtUKWvf"
   },
   "outputs": [],
   "source": [
    "def getInfo() :\n",
    "    train_pos_files = os.listdir(TRAIN_POS_DIRECTORY)\n",
    "    train_neg_files = os.listdir(TRAIN_NEG_DIRECTORY)\n",
    "    test_pos_files = os.listdir(TEST_POS_DIRECTORY)\n",
    "    test_neg_files = os.listdir(TEST_NEG_DIRECTORY)\n",
    "    \n",
    "    files = [train_pos_files, train_neg_files, test_pos_files, test_neg_files]\n",
    "    \n",
    "    training_sentences_nb = 0\n",
    "    training_sentences_pos_nb = 0\n",
    "    training_sentences_neg_nb = 0\n",
    "\n",
    "    testing_sentences_nb = 0\n",
    "    testing_sentences_pos_nb = 0\n",
    "    testing_sentences_neg_nb = 0\n",
    "    \n",
    "    for listOfFiles in files :\n",
    "        directory = \"\"\n",
    "        if listOfFiles == train_pos_files :\n",
    "            directory = TRAIN_POS_DIRECTORY\n",
    "        elif listOfFiles == train_neg_files :\n",
    "            directory = TRAIN_NEG_DIRECTORY\n",
    "        elif listOfFiles == test_pos_files :\n",
    "            directory = TEST_POS_DIRECTORY\n",
    "        elif listOfFiles == test_neg_files :\n",
    "            directory = TEST_NEG_DIRECTORY\n",
    "            \n",
    "        for file in listOfFiles:\n",
    "            with open(directory + '/' + file, \"r\") as f:\n",
    "                data = list(f)\n",
    "                data = data[0]\n",
    "                data = data.lower()\n",
    "                data = [token for token in nltk.word_tokenize(data) if token not in stopwords_english]\n",
    "                data = ' '.join(data)\n",
    "                \n",
    "                if \"train\" in directory :\n",
    "                    if \"pos\" in directory : \n",
    "                        train_pos.append(data)\n",
    "                        training_sentences_pos_nb += len(nltk.sent_tokenize(data))\n",
    "                    elif \"neg\" in directory :\n",
    "                        train_neg.append(data)\n",
    "                        training_sentences_neg_nb += len(nltk.sent_tokenize(data))\n",
    "                    \n",
    "                elif \"test\" in directory :\n",
    "                    if \"pos\" in directory : \n",
    "                        test_pos.append(data)\n",
    "                        testing_sentences_pos_nb += len(nltk.sent_tokenize(data))\n",
    "                    elif \"neg\" in directory :\n",
    "                        test_neg.append(data)\n",
    "                        testing_sentences_neg_nb += len(nltk.sent_tokenize(data))\n",
    "            \n",
    "            \n",
    "            trainData.append(train_pos)\n",
    "            trainData.append(train_neg)\n",
    "            testData.append(test_pos)\n",
    "            testData.append(test_neg)\n",
    "            \n",
    "    training_sentences_nb = training_sentences_pos_nb + training_sentences_neg_nb\n",
    "    testing_sentences_nb = testing_sentences_pos_nb + testing_sentences_neg_nb\n",
    "    \n",
    "    print(\"nombre total de phrases d’entrainement : \", training_sentences_nb)\n",
    "    print(\"nombre total de phrases d’entrainement positives : \", training_sentences_pos_nb)\n",
    "    print(\"nombre total de phrases d’entrainement négatives : \", training_sentences_neg_nb)        \n",
    "    \n",
    "    print(\"nombre total de phrases de test : \", testing_sentences_nb)\n",
    "    print(\"nombre total de phrases de test positives : \", testing_sentences_pos_nb)\n",
    "    print(\"nombre total de phrases de test négatives : \", testing_sentences_neg_nb)     \n",
    "    \n",
    "#     return training_sentences_nb, training_sentences_pos_nb, training_sentences_neg_nb, testing_sentences_nb, testing_sentences_pos_nb, testing_sentences_neg_nb"
   ]
  },
  {
   "cell_type": "code",
   "execution_count": 16,
   "metadata": {
    "colab": {
     "base_uri": "https://localhost:8080/",
     "height": 119
    },
    "colab_type": "code",
    "id": "QyrcQloEO8Hj",
    "outputId": "bb2d1fda-8766-48c1-c87b-f9157fa56940"
   },
   "outputs": [],
   "source": [
    "#getInfo()"
   ]
  },
  {
   "cell_type": "markdown",
   "metadata": {
    "colab_type": "text",
    "hidden": true,
    "id": "_tVXpVcSh9eY"
   },
   "source": [
    "**a)**\tCréez la fonction `build_voc()` qui extrait les unigrammes de l’ensemble d’entraînement et conserve ceux qui ont une fréquence d’occurrence d'au moins 5 et imprime le nombre de mots dans le vocabulaire. Sauvegardez-le dans un fichier `vocab.txt` (un mot par ligne) dans le répertoire aclImdb."
   ]
  },
  {
   "cell_type": "code",
   "execution_count": 17,
   "metadata": {
    "colab": {},
    "colab_type": "code",
    "hidden": true,
    "id": "9IVMVY3Qhx3L"
   },
   "outputs": [],
   "source": [
    "def build_voc(corpus, unk_cutoff=5):\n",
    "    voc = []\n",
    "    for texts in trainData :\n",
    "        for text in texts :\n",
    "            tokens = nltk.word_tokenize(text)\n",
    "            count = Counter(tokens)\n",
    "            v = count.most_common(unk_cutoff)\n",
    "            # for unigramme in v :\n",
    "            #     # print(unigramme)\n",
    "            #     voc.append(unigramme)\n",
    "                \n",
    "    print(len(voc))    \n",
    "#     print(len(trainData))\n",
    "#     return voc"
   ]
  },
  {
   "cell_type": "code",
   "execution_count": 18,
   "metadata": {
    "colab": {
     "base_uri": "https://localhost:8080/",
     "height": 307
    },
    "colab_type": "code",
    "id": "NDR95Q5PaBGQ",
    "outputId": "7ce0df6a-9f92-4b4e-8ade-8e42747d3015"
   },
   "outputs": [],
   "source": [
    "# build_voc(trainData)"
   ]
  },
  {
   "cell_type": "markdown",
   "metadata": {
    "colab_type": "text",
    "heading_collapsed": true,
    "id": "oEIUW6EpnvQV"
   },
   "source": [
    "## 2. Matrices de co-occurence (30 points)\n",
    "\n",
    "Pour les matrices de cette section, vous pourrez utiliser [des array `numpy`](https://docs.scipy.org/doc/numpy/reference/arrays.ndarray.html) ou des DataFrame [`pandas`](https://pandas.pydata.org/pandas-docs/stable/). \n",
    "\n",
    "Ressources utiles :  le [*quickstart tutorial*](https://numpy.org/devdocs/user/quickstart.html) de numpy et le guide [10 minutes to pandas](https://pandas.pydata.org/pandas-docs/stable/getting_started/10min.html)."
   ]
  },
  {
   "cell_type": "markdown",
   "metadata": {
    "colab_type": "text",
    "hidden": true,
    "id": "fadNCxBcnyeT"
   },
   "source": [
    "**a)** A partir des textes du corpus d’entrainement (neg/pos), vous devez construire une matrice de co-occurrence mot × mot M(w,w) qui contient les 5000 unigrammes les plus fréquents sous forme de **cadre panda**. Le contexte de co-occurrence est une fenêtre de +/-5 mots autour du mot cible. Le poids est la fréquence de co-occurrence simple. Sauvegardez votre matrice dans un fichier tp2_mat5.csv dans le répertoire vsm.\n",
    "\n",
    "Attention, le mot lui même de doit pas être compté dans sa co-occurence. Exemple : \n",
    "Corpus: [ \"I go to school every day by bus\", \"i go to theatre every night by bus\"]\n",
    "\n",
    "Co-occurence(\"every\", fenetre=2) = [ (to, 2), (by, 2), (school, 1), (day, 1), (theatre, 1), (night, 1), (bus, 0), (every, 0), (go, 0). (i,0) ]"
   ]
  },
  {
   "cell_type": "code",
   "execution_count": 255,
   "metadata": {
    "colab": {},
    "colab_type": "code",
    "hidden": true,
    "id": "Y-diwyiPno2k"
   },
   "outputs": [],
   "source": [
    "import re\n",
    "import math\n",
    "corpus = [ \"I go to school every day by bus\", \"i go to theatre every night by bus\"]\n"
   ]
  },
  {
   "cell_type": "code",
   "execution_count": 256,
   "metadata": {
    "colab": {},
    "colab_type": "code",
    "id": "CCO7dRtea48T"
   },
   "outputs": [],
   "source": [
    "def find_vocab(X):\n",
    "    vocab = []\n",
    "    for tokens in X:\n",
    "        words = tokens.split(\" \")\n",
    "        for token in words:\n",
    "            if token not in vocab:\n",
    "                vocab.append(token)\n",
    "    return vocab"
   ]
  },
  {
   "cell_type": "code",
   "execution_count": 257,
   "metadata": {
    "colab": {},
    "colab_type": "code",
    "id": "BIKQzrkNa5ql"
   },
   "outputs": [],
   "source": [
    "def search(text,specificWord):\n",
    "    m = re.search(r'(\\w+ ){0,5}'+specificWord+'( \\w+){0,5}', text)\n",
    "    words = m.group(0).split(\" \")\n",
    "    return words"
   ]
  },
  {
   "cell_type": "code",
   "execution_count": 258,
   "metadata": {},
   "outputs": [],
   "source": [
    "def OccurenceOfProxWords(vector):\n",
    "    for i, first in enumerate(vector):\n",
    "        for second in vector:\n",
    "            if first[0] == second[0] and first != second:\n",
    "                vector[i] = (first[0], first[1] + second[1])\n",
    "                vector.remove(second)\n",
    "       \n",
    "    for i, element in enumerate(vector):\n",
    "        counts = Counter(element[1])\n",
    "        vector[i] = (element[0], dict(counts))\n",
    "    return vector"
   ]
  },
  {
   "cell_type": "code",
   "execution_count": 274,
   "metadata": {
    "colab": {},
    "colab_type": "code",
    "id": "cbbLxxioa8lh"
   },
   "outputs": [],
   "source": [
    "def build_matrix(corpus):\n",
    "\n",
    "    vector = []\n",
    "    for phrases in corpus:\n",
    "        words = phrases.split(\" \")\n",
    "        for token in words:\n",
    "            wordProx = search(phrases, token)\n",
    "            wordProx.remove(token)\n",
    "            surrounding_words = (token,wordProx)\n",
    "            vector.append(surrounding_words)\n",
    "          \n",
    "    vector = OccurenceOfProxWords(vector)\n",
    "    df1 = pd.DataFrame(vector)\n",
    "    df2 = pd.json_normalize(df1[1])\n",
    "    \n",
    "    result = pd.concat([df1, df2], axis=1).drop(1, axis=1).fillna(0)\n",
    "    print(result)"
   ]
  },
  {
   "cell_type": "code",
   "execution_count": 275,
   "metadata": {
    "colab": {
     "base_uri": "https://localhost:8080/",
     "height": 54
    },
    "colab_type": "code",
    "id": "PR0kNHsca_WH",
    "outputId": "9be4446e-751d-4b26-8ee3-ad8203bfc38b"
   },
   "outputs": [
    {
     "name": "stdout",
     "output_type": "stream",
     "text": [
      "          0   go   to  school  every  day    I   by    i  theatre  night  bus\n",
      "0         I  1.0  1.0     1.0    1.0  1.0  0.0  0.0  0.0      0.0    0.0  0.0\n",
      "1        go  0.0  2.0     1.0    2.0  1.0  1.0  2.0  1.0      1.0    1.0  0.0\n",
      "2        to  2.0  0.0     1.0    2.0  1.0  1.0  2.0  1.0      1.0    1.0  2.0\n",
      "3    school  1.0  1.0     0.0    1.0  1.0  1.0  1.0  0.0      0.0    0.0  1.0\n",
      "4     every  2.0  2.0     1.0    0.0  1.0  1.0  2.0  1.0      1.0    1.0  2.0\n",
      "5       day  1.0  1.0     1.0    1.0  0.0  1.0  1.0  0.0      0.0    0.0  1.0\n",
      "6        by  2.0  2.0     1.0    2.0  1.0  0.0  0.0  0.0      1.0    1.0  2.0\n",
      "7       bus  0.0  2.0     1.0    2.0  1.0  0.0  2.0  0.0      1.0    1.0  0.0\n",
      "8         i  1.0  1.0     0.0    1.0  0.0  0.0  0.0  0.0      1.0    1.0  0.0\n",
      "9   theatre  1.0  1.0     0.0    1.0  0.0  0.0  1.0  1.0      0.0    1.0  1.0\n",
      "10    night  1.0  1.0     0.0    1.0  0.0  0.0  1.0  1.0      1.0    0.0  1.0\n"
     ]
    }
   ],
   "source": [
    "build_matrix(corpus)"
   ]
  },
  {
   "cell_type": "markdown",
   "metadata": {
    "colab_type": "text",
    "hidden": true,
    "id": "-vzXMLl3rEBl"
   },
   "source": [
    "**b)** Calculez maintenant une matrice de cooccurrence mais en ajustant les fréquences basées sur la proximité du mot cible par exemple en les multipliant par 1/𝑑 où d est la distance en jetons (mots) de la cible. Sauvegardez votre matrice (toujours sous forme de cadre panda) dans un fichier tp2_mat5_scaled.csv dans le répertoire vsm."
   ]
  },
  {
   "cell_type": "code",
   "execution_count": 310,
   "metadata": {},
   "outputs": [],
   "source": [
    "def distance(words, specificWord):\n",
    "    distance = []\n",
    "    for word in words:\n",
    "        if word != specificWord:\n",
    "            distance.append(abs(words.index(specificWord) - words.index(word)))\n",
    "    return distance"
   ]
  },
  {
   "cell_type": "code",
   "execution_count": 321,
   "metadata": {
    "colab": {},
    "colab_type": "code",
    "hidden": true,
    "id": "QJMjavEYxAiB"
   },
   "outputs": [],
   "source": [
    "def build_distance_matrix(corpus):\n",
    "    vector = []\n",
    "    distanceOfWords = []\n",
    "    for phrases in corpus:\n",
    "        words = phrases.split(\" \")\n",
    "        for token in words:\n",
    "            wordProx = search(phrases, token)\n",
    "            distanceOfWords.append(distance(wordProx, token))\n",
    "            wordProx.remove(token)\n",
    "            surrounding_words = (token,wordProx)\n",
    "            vector.append(surrounding_words)\n",
    "            \n",
    "    vector = OccurenceOfProxWords(vector)\n",
    "    print(len(vector))\n",
    "    print(len(distanceOfWords))\n",
    "    for i, element in enumerate(vector):\n",
    "        for j, word in enumerate(element[1]):\n",
    "            print(element[1][word]*(1/distanceOfWords[i][j]))\n",
    "\n",
    "    df1 = pd.DataFrame(vector)\n",
    "    df2 = pd.json_normalize(df1[1])\n",
    "    \n",
    "    result = pd.concat([df1, df2], axis=1).drop(1, axis=1).fillna(0)\n",
    "    print(result)"
   ]
  },
  {
   "cell_type": "code",
   "execution_count": 322,
   "metadata": {},
   "outputs": [
    {
     "name": "stdout",
     "output_type": "stream",
     "text": [
      "11\n",
      "16\n",
      "1.0\n",
      "0.5\n",
      "0.3333333333333333\n",
      "0.25\n",
      "0.2\n",
      "1.0\n",
      "2.0\n",
      "0.5\n",
      "0.6666666666666666\n",
      "0.25\n",
      "0.4\n"
     ]
    },
    {
     "ename": "IndexError",
     "evalue": "list index out of range",
     "output_type": "error",
     "traceback": [
      "\u001b[0;31m---------------------------------------------------------------------------\u001b[0m",
      "\u001b[0;31mIndexError\u001b[0m                                Traceback (most recent call last)",
      "\u001b[0;32m<ipython-input-322-a9d33877d443>\u001b[0m in \u001b[0;36m<module>\u001b[0;34m\u001b[0m\n\u001b[0;32m----> 1\u001b[0;31m \u001b[0mbuild_distance_matrix\u001b[0m\u001b[0;34m(\u001b[0m\u001b[0mcorpus\u001b[0m\u001b[0;34m)\u001b[0m\u001b[0;34m\u001b[0m\u001b[0;34m\u001b[0m\u001b[0m\n\u001b[0m",
      "\u001b[0;32m<ipython-input-321-ee5ab0815114>\u001b[0m in \u001b[0;36mbuild_distance_matrix\u001b[0;34m(corpus)\u001b[0m\n\u001b[1;32m     16\u001b[0m     \u001b[0;32mfor\u001b[0m \u001b[0mi\u001b[0m\u001b[0;34m,\u001b[0m \u001b[0melement\u001b[0m \u001b[0;32min\u001b[0m \u001b[0menumerate\u001b[0m\u001b[0;34m(\u001b[0m\u001b[0mvector\u001b[0m\u001b[0;34m)\u001b[0m\u001b[0;34m:\u001b[0m\u001b[0;34m\u001b[0m\u001b[0;34m\u001b[0m\u001b[0m\n\u001b[1;32m     17\u001b[0m         \u001b[0;32mfor\u001b[0m \u001b[0mj\u001b[0m\u001b[0;34m,\u001b[0m \u001b[0mword\u001b[0m \u001b[0;32min\u001b[0m \u001b[0menumerate\u001b[0m\u001b[0;34m(\u001b[0m\u001b[0melement\u001b[0m\u001b[0;34m[\u001b[0m\u001b[0;36m1\u001b[0m\u001b[0;34m]\u001b[0m\u001b[0;34m)\u001b[0m\u001b[0;34m:\u001b[0m\u001b[0;34m\u001b[0m\u001b[0;34m\u001b[0m\u001b[0m\n\u001b[0;32m---> 18\u001b[0;31m             \u001b[0mprint\u001b[0m\u001b[0;34m(\u001b[0m\u001b[0melement\u001b[0m\u001b[0;34m[\u001b[0m\u001b[0;36m1\u001b[0m\u001b[0;34m]\u001b[0m\u001b[0;34m[\u001b[0m\u001b[0mword\u001b[0m\u001b[0;34m]\u001b[0m\u001b[0;34m*\u001b[0m\u001b[0;34m(\u001b[0m\u001b[0;36m1\u001b[0m\u001b[0;34m/\u001b[0m\u001b[0mdistanceOfWords\u001b[0m\u001b[0;34m[\u001b[0m\u001b[0mi\u001b[0m\u001b[0;34m]\u001b[0m\u001b[0;34m[\u001b[0m\u001b[0mj\u001b[0m\u001b[0;34m]\u001b[0m\u001b[0;34m)\u001b[0m\u001b[0;34m)\u001b[0m\u001b[0;34m\u001b[0m\u001b[0;34m\u001b[0m\u001b[0m\n\u001b[0m\u001b[1;32m     19\u001b[0m \u001b[0;34m\u001b[0m\u001b[0m\n\u001b[1;32m     20\u001b[0m     \u001b[0mdf1\u001b[0m \u001b[0;34m=\u001b[0m \u001b[0mpd\u001b[0m\u001b[0;34m.\u001b[0m\u001b[0mDataFrame\u001b[0m\u001b[0;34m(\u001b[0m\u001b[0mvector\u001b[0m\u001b[0;34m)\u001b[0m\u001b[0;34m\u001b[0m\u001b[0;34m\u001b[0m\u001b[0m\n",
      "\u001b[0;31mIndexError\u001b[0m: list index out of range"
     ]
    }
   ],
   "source": [
    "build_distance_matrix(corpus)"
   ]
  },
  {
   "cell_type": "markdown",
   "metadata": {
    "colab_type": "text",
    "hidden": true,
    "id": "osW2EZ5utFsf"
   },
   "source": [
    "**c)**\tVous devez créer une fonction `pmi` qui prend le cadre panda de la matrice $M(w,w)$ et un paramètre boolean flag qui est à True lorsque l'on désire calculer PPMI et à False quand on veut calculer PMI. La fonction transforme la matrice en entrée en une matrice $M’(w,w)$ avec les valeurs PMI ou PPMI selon la valeur du paramètre booléen. La fonction retourne le nouveau cadre panda correspondant. "
   ]
  },
  {
   "cell_type": "markdown",
   "metadata": {
    "colab_type": "text",
    "hidden": true,
    "id": "lksK36hntUHP"
   },
   "source": [
    "Pour une matrice  $X_{m \\times n}$:\n",
    "\n",
    "\n",
    "$$\\textbf{colsum}(X, j) = \\sum_{i=1}^{m}X_{ij}$$\n",
    "\n",
    "$$\\textbf{sum}(X) = \\sum_{i=1}^{m}\\sum_{j=1}^{n} X_{ij}$$\n",
    "\n",
    "$$\\textbf{expected}(X, i, j) = \n",
    "\\frac{\n",
    "  \\textbf{rowsum}(X, i) \\cdot \\textbf{colsum}(X, j)\n",
    "}{\n",
    "  \\textbf{sum}(X)\n",
    "}$$\n",
    "\n",
    "\n",
    "$$\\textbf{pmi}(X, i, j) = \\log\\left(\\frac{X_{ij}}{\\textbf{expected}(X, i, j)}\\right)$$\n",
    "\n",
    "$$\\textbf{ppmi}(X, i, j) = \n",
    "\\begin{cases}\n",
    "\\textbf{pmi}(X, i, j) & \\textrm{if } \\textbf{pmi}(X, i, j) > 0 \\\\\n",
    "0 & \\textrm{otherwise}\n",
    "\\end{cases}$$\n"
   ]
  },
  {
   "cell_type": "code",
   "execution_count": 24,
   "metadata": {
    "colab": {},
    "colab_type": "code",
    "hidden": true,
    "id": "OgkN4mw6r19a"
   },
   "outputs": [
    {
     "ename": "SyntaxError",
     "evalue": "unexpected EOF while parsing (<ipython-input-24-759cfae2fc10>, line 1)",
     "output_type": "error",
     "traceback": [
      "\u001b[0;36m  File \u001b[0;32m\"<ipython-input-24-759cfae2fc10>\"\u001b[0;36m, line \u001b[0;32m1\u001b[0m\n\u001b[0;31m    def pmi(df, flag=True):\u001b[0m\n\u001b[0m                           ^\u001b[0m\n\u001b[0;31mSyntaxError\u001b[0m\u001b[0;31m:\u001b[0m unexpected EOF while parsing\n"
     ]
    }
   ],
   "source": [
    "def pmi(df, flag=True):"
   ]
  },
  {
   "cell_type": "markdown",
   "metadata": {
    "colab_type": "text",
    "hidden": true,
    "id": "U_KI11vmty0c"
   },
   "source": [
    "**d)** Créer les matrice PMIs et PPMIs en vous basant sur les deux matrices que vous avez déjà créée\tSauvegardez vos matrices dans un fichier tp2_mat5<\\_scaled>_{pmi|ppmi}.csv toujours dans le répertoire vsm. \n",
    "\n",
    "(votre nom de fichier doit contenir \"_scaled\" s'il est formé à partir Mww_scaled et \"pmi\" si le flag est false \"ppmi\" sinon) "
   ]
  },
  {
   "cell_type": "code",
   "execution_count": null,
   "metadata": {
    "colab": {},
    "colab_type": "code",
    "hidden": true,
    "id": "ML-oJwAgt0X4"
   },
   "outputs": [],
   "source": []
  },
  {
   "cell_type": "markdown",
   "metadata": {
    "colab_type": "text",
    "heading_collapsed": true,
    "id": "QwGaKZyZ8h36"
   },
   "source": [
    "## 3. Test de PPMI (20 points)\n",
    "\n",
    "Pour le test des matrices de cooccurrences, nous allons comparer deux mesures de distance entre deux vecteurs, la distance euclidienne et la distance cosinus provenant du module [scipy.spatial.distance](https://docs.scipy.org/doc/scipy/reference/spatial.distance.html)\n",
    "\n",
    "**Distance Euclidienne**\n",
    "\n",
    "La distance euclidienne entre deux vecteurs $u$ et $v$ de dimension $n$ est\n",
    "\n",
    "$$\\textbf{euclidean}(u, v) = \n",
    "\\sqrt{\\sum_{i=1}^{n}|u_{i} - v_{i}|^{2}}$$\n",
    "\n",
    "En deux dimensions, cela correspond à la longueur de la ligne droite entre deux points.\n",
    "\n",
    "**Distance Cosinus**\n",
    "\n",
    "\n",
    "La distance cosinus entre deux vecteurs $u$ et $v$ de dimension $n$ s'écrit :\n",
    "\n",
    "$$\\textbf{cosine}(u, v) = \n",
    "1 - \\frac{\\sum_{i=1}^{n} u_{i} \\cdot v_{i}}{\\|u\\|_{2} \\cdot \\|v\\|_{2}}$$\n",
    "\n",
    "Le terme de droite dans la soustraction mesure l'angle entre $u$ et $v$; on l'appelle la *similarité cosinus* entre $u$ et $v$.\n",
    "\n",
    "\\\\\n",
    "\n",
    "**a)**\tImplémentez la fonction voisins(mot, pd, distance) qui prend un mot en entrée et une métrique de distance et qui retourne les n mots les plus similaires selon la mesure. Pour un mot w, elle ordonne tous les mots du vocabulaire en fonction de leur distance de w en utilisant la métrique de distance distance (par défaut: cosine)sur le vsm pd. Les mesures de distance à tester sont : la distance Euclidienne et la distance cosinus implantées ci-dessus."
   ]
  },
  {
   "cell_type": "code",
   "execution_count": null,
   "metadata": {
    "colab": {},
    "colab_type": "code",
    "hidden": true,
    "id": "y6WzHmQ08eNG"
   },
   "outputs": [],
   "source": [
    "# def voisins(word, df, distfunc, n):\n",
    "#     position_word = VOCABULAIRE.index(word) #Trouver la position du mot dans le voc \n",
    "#     distance = 0\n",
    "#     words = []\n",
    "#     similary_words = []\n",
    "#     for # parcourir la matrice\n",
    "#         if distfunc == 'euclidean':\n",
    "#             distance = distance.euclidean(df,word)\n",
    "#         elif distfunc == 'cosinus':\n",
    "#             distance = distance.cosine(df,word)\n",
    "        \n",
    "#     common_words = Counter(words).most_common(n) # Si c des tuples recup que le mot \n",
    "#     for w in common_words:\n",
    "#         similary_words.append(w[0])\n",
    "        \n",
    "#     return similary_words "
   ]
  },
  {
   "cell_type": "markdown",
   "metadata": {
    "colab_type": "text",
    "hidden": true,
    "id": "ulI3R22m-AQq"
   },
   "source": [
    "**b)** En utilisant le cadre panda associé aux matrices Mww et Mww scaled, trouvez les 5 mots les plus similaires au mot « beautiful » et affichez-les, pour chacune des deux distances."
   ]
  },
  {
   "cell_type": "code",
   "execution_count": null,
   "metadata": {
    "colab": {},
    "colab_type": "code",
    "hidden": true,
    "id": "7YqjqTYNMOQv"
   },
   "outputs": [],
   "source": [
    "# print(\"Les 5 mots les plus similaires à beautiful en utilisant la distance euclidienne est : \")\n",
    "# print(voisins('beautiful', SVM , 'euclidean', 5))\n",
    "# print(\"Les 5 mots les plus similaires à beautiful en utilisant la distance cosinus est : \")\n",
    "# print(voisins('beautiful',SVM , 'cosine', 5))"
   ]
  },
  {
   "cell_type": "markdown",
   "metadata": {
    "colab_type": "text",
    "hidden": true,
    "id": "0_yvpfqIBL1a"
   },
   "source": [
    "**c)** En utilisant les cadres panda associés aux matrices PMIs, trouvez les 5 mots les plus similaires au mot « beautiful » et affichez-les, pour chacune des deux distances."
   ]
  },
  {
   "cell_type": "code",
   "execution_count": null,
   "metadata": {
    "colab": {},
    "colab_type": "code",
    "hidden": true,
    "id": "EHL_A0uEMPzO"
   },
   "outputs": [],
   "source": []
  },
  {
   "cell_type": "markdown",
   "metadata": {
    "colab_type": "text",
    "hidden": true,
    "id": "nW9kJOsUBSFf"
   },
   "source": [
    "**d)** En utilisant les cadres panda associés aux matrices PPMIs, trouvez les 5 mots les plus similaires au mot\n",
    "« beautiful » et affichez-les, pour chacune des deux distances. "
   ]
  },
  {
   "cell_type": "code",
   "execution_count": null,
   "metadata": {
    "colab": {},
    "colab_type": "code",
    "hidden": true,
    "id": "oBb5xv9PMQ9y"
   },
   "outputs": [],
   "source": []
  },
  {
   "cell_type": "markdown",
   "metadata": {
    "colab_type": "text",
    "hidden": true,
    "id": "B-Q3RfJXzdF8"
   },
   "source": [
    "**e)** Que constatez-vous entre la différence de performance de la distance euclidienne et la distance cosinus ? Que constatez-vous entre les différents types de matrices de cooccurrence ?"
   ]
  },
  {
   "cell_type": "markdown",
   "metadata": {
    "colab_type": "text",
    "hidden": true,
    "id": "DcgcU9OtBg5-"
   },
   "source": []
  },
  {
   "cell_type": "markdown",
   "metadata": {
    "colab_type": "text",
    "heading_collapsed": true,
    "id": "q_COF24sBi5N"
   },
   "source": [
    "## 4.\tRéduction de dimensionnalité (20 points)\n",
    "\n",
    "**a)** Ecrivez une fonction lsa qui prend en entrée un cadre panda pd (qui contient votre matrice / vsm) et un paramètre K (qui indique le nombre de dimensions finales), et qui applique LSA avec ce paramètre k sur la matrice et retourne le vsm réduit sous forme de cadre panda."
   ]
  },
  {
   "cell_type": "code",
   "execution_count": null,
   "metadata": {
    "colab": {},
    "colab_type": "code",
    "hidden": true,
    "id": "T6EjxKAQAvFw"
   },
   "outputs": [],
   "source": [
    "def lsa(df, k=100):"
   ]
  },
  {
   "cell_type": "markdown",
   "metadata": {
    "colab_type": "text",
    "hidden": true,
    "id": "pZDhlR2ZBwag"
   },
   "source": [
    "**b)** Exécutez lsa sur les cadres panda associés à vos matrices Mww et Mww_scaled avec une dimension k=100"
   ]
  },
  {
   "cell_type": "code",
   "execution_count": null,
   "metadata": {
    "colab": {},
    "colab_type": "code",
    "hidden": true,
    "id": "4Fh1yGAQBvsg"
   },
   "outputs": [],
   "source": []
  },
  {
   "cell_type": "markdown",
   "metadata": {
    "colab_type": "text",
    "hidden": true,
    "id": "0IQvZbddB4Zp"
   },
   "source": [
    "**c)** En utilisant les matrices de co-occurrence (de base et scalés) réduites avec LSA, trouvez les 5 mots les plus similaires au mot « beautiful » selon la distance cosinus et affichez-les."
   ]
  },
  {
   "cell_type": "code",
   "execution_count": null,
   "metadata": {
    "colab": {},
    "colab_type": "code",
    "hidden": true,
    "id": "4BPts630Mw3t"
   },
   "outputs": [],
   "source": []
  },
  {
   "cell_type": "markdown",
   "metadata": {
    "colab_type": "text",
    "hidden": true,
    "id": "y_wxbYFPCCCN"
   },
   "source": [
    "d) En utilisant les matrices PMIs et PPMIs réduites avec lsa, trouvez les 5 mots les plus similaires au mot « beautiful » selon la distance cosinus et affichez-les"
   ]
  },
  {
   "cell_type": "code",
   "execution_count": null,
   "metadata": {
    "colab": {},
    "colab_type": "code",
    "hidden": true,
    "id": "QqgCh0WNM1Jl"
   },
   "outputs": [],
   "source": []
  },
  {
   "cell_type": "markdown",
   "metadata": {
    "colab_type": "text",
    "hidden": true,
    "id": "Qfwq16JtCSFy"
   },
   "source": [
    "**e)** En utilisant sklearn.decomposition.TruncatedSVD, créez les matrices réduites à partir des mêmes matrices que celles de la question précédentes (la matrice pmi et la matrice pmi_scaled) Puis tester ces nouvelles matrices LSA pour trouver les 5 mots les plus similaires au mot « beautiful » \n",
    "\n",
    "Ici aussi, nous voulons aussi obtenir des matrices de dimension k=100"
   ]
  },
  {
   "cell_type": "code",
   "execution_count": null,
   "metadata": {
    "colab": {},
    "colab_type": "code",
    "hidden": true,
    "id": "Mj-aOpSSM2_O"
   },
   "outputs": [],
   "source": []
  },
  {
   "cell_type": "markdown",
   "metadata": {
    "colab_type": "text",
    "hidden": true,
    "id": "9i7di2PRCTnh"
   },
   "source": [
    "f) Commentez vos résultats"
   ]
  },
  {
   "cell_type": "markdown",
   "metadata": {
    "colab_type": "text",
    "hidden": true,
    "id": "ubED1oiwNJpm"
   },
   "source": []
  },
  {
   "cell_type": "markdown",
   "metadata": {
    "colab_type": "text",
    "heading_collapsed": true,
    "id": "K3avEFcPG0-e"
   },
   "source": [
    "## 5. Évaluation (10 points)\n",
    "\n",
    "Il est temps d’évaluer l’intérêt de nos modèles de vecteurs. Nous allons pour cela utiliser un ensemble de données de similarité de mots (relatedness) The MEN Test Collection, qui se trouve dans le répertoire test. L’ensemble de données contient une paire de mots avec un score de similarité attribué par des humains. En d’autres termes, une ligne (un exemple) de l’ensemble de données est de la forme : \\<mot_1> \\<mot_2> \\<score>.\n",
    "\n",
    "Pour aligner les distances obtenues avec vos métriques, ce score est converti en nombre réel négatif par la fonction read_test_dataset que vous avez dans le squelette du TP.\n",
    "\n",
    "La métrique d’évaluation est le coefficient de corrélation de Spearman 𝜌 entre les scores humains et vos distances (voir https://en.wikipedia.org/wiki/Spearman%27s_rank_correlation_coefficient). \n",
    "\n",
    "Nous allons maintenant évaluer les différents vsm obtenus sur l'ensemble de données: MEN_dataset.\n"
   ]
  },
  {
   "cell_type": "markdown",
   "metadata": {
    "colab_type": "text",
    "hidden": true,
    "id": "7j5LjMlav4pQ"
   },
   "source": [
    "#### Fonctions pour lire le jeu de données MEN"
   ]
  },
  {
   "cell_type": "code",
   "execution_count": null,
   "metadata": {
    "colab": {},
    "colab_type": "code",
    "hidden": true,
    "id": "NodeMtrwGw0O"
   },
   "outputs": [],
   "source": [
    "def read_test_dataset(\n",
    "        src_filename,\n",
    "        delimiter=','):\n",
    "    with open(src_filename) as f:\n",
    "        reader = csv.reader(f, delimiter=delimiter)\n",
    "        for row in reader:\n",
    "            w1 = row[0].strip().lower()\n",
    "            w2 = row[1].strip().lower()\n",
    "            score = row[2]\n",
    "            score = -float(score)\n",
    "            yield (w1, w2, score)"
   ]
  },
  {
   "cell_type": "code",
   "execution_count": null,
   "metadata": {
    "colab": {},
    "colab_type": "code",
    "hidden": true,
    "id": "sTmkM5EDG-pA"
   },
   "outputs": [],
   "source": [
    "# Retourne un itérable sur le jeu de données MEN\n",
    "def men_dataset():\n",
    "    src_filename = os.path.join(\n",
    "        DIRNAME_MEN, 'MEN_dataset_natural_form_full')\n",
    "    return read_test_dataset(\n",
    "        src_filename, delimiter=' ')"
   ]
  },
  {
   "cell_type": "code",
   "execution_count": null,
   "metadata": {
    "colab": {},
    "colab_type": "code",
    "hidden": true,
    "id": "uPd__Q4NHUlp"
   },
   "outputs": [],
   "source": [
    "def evaluate(ds, df, distfunc=cosine):\n",
    "    \"\"\"\n",
    "    ds : iterator\n",
    "       retourne des tuples (word1, word2, score).\n",
    "\n",
    "    df : pd.DataFrame\n",
    "        le modèle vsm à évaluer\n",
    "\n",
    "    distfunc : la mesure de distance entre vecteurs\n",
    "  \n",
    "    Retour: le coefficient de correlation de Spearman entre les scores de l'ensemble de données de test \n",
    "    et celui du modele vsm qui se présente sous la forme d'un cadre Panda pd avec les colonnes\n",
    "    ['word1', 'word2', 'score', 'distance'].\n",
    "    \"\"\"\n",
    "    data = []\n",
    "    for w1, w2, score in ds():\n",
    "        d = {'word1': w1, 'word2': w2,'score': score}\n",
    "        if w1 not in df.index or w2 not in df.index:\n",
    "            continue\n",
    "        else:\n",
    "            w1 = df.loc[w1]\n",
    "            w2 = df.loc[w2] \n",
    "        d['distance'] = distfunc(w1, w2)\n",
    "        data.append(d)\n",
    "\n",
    "    data = pd.DataFrame(data)\n",
    "    rho, pvalue = spearmanr(data['score'].values, b=data['distance'].values)\n",
    "    return rho, data"
   ]
  },
  {
   "cell_type": "markdown",
   "metadata": {
    "colab_type": "text",
    "hidden": true,
    "id": "MBrTrq8BHdLs"
   },
   "source": [
    "**a)**\tTestez chacun de vos modèles vsm (Matrice de base, matrice scalée, les PMIs et PPMIs et toutes les matrices LSA (de base, scalée, pmi, ppmi) en appelant la fonction evaluate avec les deux mesure de distance (euclidienne et cosinus) et affichez vos résultats dans une seule table."
   ]
  },
  {
   "cell_type": "code",
   "execution_count": null,
   "metadata": {
    "colab": {},
    "colab_type": "code",
    "hidden": true,
    "id": "UL5s4dT4QiX_"
   },
   "outputs": [],
   "source": []
  },
  {
   "cell_type": "markdown",
   "metadata": {
    "colab_type": "text",
    "hidden": true,
    "id": "JjJwYKsTKXCR"
   },
   "source": [
    "**b)**\tCommentez vos résultats d'évaluation"
   ]
  },
  {
   "cell_type": "markdown",
   "metadata": {
    "colab_type": "text",
    "hidden": true,
    "id": "-ZQhdrxFQjsb"
   },
   "source": []
  }
 ],
 "metadata": {
  "colab": {
   "collapsed_sections": [],
   "name": "inf8460_tp2_A20.ipynb",
   "provenance": [],
   "toc_visible": true
  },
  "hide_input": false,
  "kernelspec": {
   "display_name": "Python 3",
   "language": "python",
   "name": "python3"
  },
  "language_info": {
   "codemirror_mode": {
    "name": "ipython",
    "version": 3
   },
   "file_extension": ".py",
   "mimetype": "text/x-python",
   "name": "python",
   "nbconvert_exporter": "python",
   "pygments_lexer": "ipython3",
   "version": "3.8.3"
  }
 },
 "nbformat": 4,
 "nbformat_minor": 1
}
